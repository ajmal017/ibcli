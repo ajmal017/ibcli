{
 "metadata": {
  "language_info": {
   "codemirror_mode": {
    "name": "ipython",
    "version": 3
   },
   "file_extension": ".py",
   "mimetype": "text/x-python",
   "name": "python",
   "nbconvert_exporter": "python",
   "pygments_lexer": "ipython3",
   "version": "3.6.10-final"
  },
  "orig_nbformat": 2,
  "kernelspec": {
   "name": "python_defaultSpec_1599682293007",
   "display_name": "Python 3.6.10 64-bit"
  }
 },
 "nbformat": 4,
 "nbformat_minor": 2,
 "cells": [
  {
   "cell_type": "code",
   "execution_count": 2,
   "metadata": {},
   "outputs": [
    {
     "output_type": "execute_result",
     "data": {
      "text/plain": "<IB connected to 127.0.0.1:7497 clientId=12>"
     },
     "metadata": {},
     "execution_count": 2
    }
   ],
   "source": [
    "from ib_insync import *\n",
    "util.startLoop()\n",
    "\n",
    "ib = IB()\n",
    "ib.connect('127.0.0.1', 7497, clientId=12, readonly=True)\n"
   ]
  },
  {
   "cell_type": "code",
   "execution_count": 7,
   "metadata": {},
   "outputs": [],
   "source": [
    "contract = Stock('INTC', 'SMART', 'USD')"
   ]
  },
  {
   "cell_type": "code",
   "execution_count": null,
   "metadata": {},
   "outputs": [],
   "source": []
  },
  {
   "cell_type": "code",
   "execution_count": 10,
   "metadata": {},
   "outputs": [],
   "source": [
    "ticker = ib.reqMktData(contract, '258')"
   ]
  },
  {
   "cell_type": "code",
   "execution_count": null,
   "metadata": {},
   "outputs": [],
   "source": []
  },
  {
   "cell_type": "code",
   "execution_count": null,
   "metadata": {},
   "outputs": [],
   "source": []
  },
  {
   "cell_type": "code",
   "execution_count": 12,
   "metadata": {
    "tags": []
   },
   "outputs": [
    {
     "output_type": "stream",
     "name": "stdout",
     "text": "Ticker(contract=Stock(symbol='INTC', exchange='SMART', currency='USD'), time=datetime.datetime(2020, 9, 10, 7, 15, 4, 765538, tzinfo=datetime.timezone.utc), bid=-1.0, bidSize=0, ask=-1.0, askSize=0, close=49.62, halted=0.0, dividends=Dividends(past12Months=1.305, next12Months=1.32, nextDate=datetime.date(2020, 11, 5), nextAmount=0.33), fundamentalRatios=FundamentalRatios(TTMNPMGN=29.9677, NLOW=43.63, ACFSHR=7.125866, ALTCL=nan, TTMPRCFPS=5.87262, TTMCFSHR=8.14276, ASFCF=72, AEPSNORM=4.78243, TTMRECTURN=11.54819, AATCA=31239, QCSHPS=6.06983, TTMFCF=16341, LATESTADATE='2020-06-27', APTMGNPCT=33.43014, IAD=1.32, TTMNIAC=23661, EV_Cur=220546.2, QATCA=44390, PR2TANBK=4.64691, TTMFCFSHR=3.75655, NPRICE=48.91, ASICF=1808, REVTRENDGR=5.19341, QSCEX=-3408, PRICE2BK=2.53645, ALSTD=nan, AOTLO=33145, TTMPAYRAT=23.63383, QPR2REV=10.54411, TTMREVCHG=12.1743, TTMROAPCT=16.70397, QTOTCE=82010, APENORM=10.22702, QLTCL=22481, QSFCF=-97, TTMROIPCT=19.62656, DIVGRPCT=6.60536, QOTLO=11157, TTMEPSCHG=27.29331, YIELD=2.698835, TTMREVPS=18.15057, TTMEBT=27336, ADIV5YAVG=1.1075, Frac52Wk=0.2087329, NHIG=69.29, ASCEX=-16213, QTA=152539, TTMGROSMGN=57.87601, QTL=70529, AFPRD=765, QCURRATIO=1.97456, TTMREV=78955, TTMINVTURN=3.76553, QCASH=25815, QLSTD=0, TTMOPMGN=32.90355, TTMPR2REV=2.63459, QSICF=-7202, TTMNIPEREM=213546.9, EPSCHNGYR=28.97374, TTMPRFCFPS=12.72959, TTMPTMGN=34.62225, AREVPS=16.08875, AEBTNORM=24451, ASOPI=22035, NetDebt_I=12532, PRYTDPCTR=-20.75776, TTMEBITD=38119, AFEEPSNTM=4.299, EPSTRENDGR=15.24368, QTOTD2EQ=46.75893, QSOPI=5697, QBVPS=19.28286, YLD5YAVG=2.46945, PR13WKPCT=-21.88741, PR52WKPCT=-3.438667, AROAPCT=15.91609, QTOTLTD=36093, TTMEPSXCLX=5.43545, QPRCFPS=28.47293396311394, QTANBVPS=10.52528, AROIPCT=18.66363, QEBIT=5706, QEBITDA=8769, MKTCAP=208014.2, TTMINTCOV=nan, TTMROEPCT=30.10229, TTMREVPERE=712590.3, AEPSXCLXOR=4.705567, QFPRD=-1700, REVCHNGYR=19.52742, AFPSS=-12826, CURRENCY='USD', EV2EBITDA_Cur=25.15067, PEEXCLXOR=8.99834, QQUICKRATI=1.5756, ASINN=nan, QFPSS=9, BETA=0.74105, ANIACNORM=21391.83, PR1WKPCT=-3.701518, QLTD2EQ=44.01049, QSINN=nan, PR4WKPCT=1.494089, AEBIT=22525), ticks=[TickData(time=datetime.datetime(2020, 9, 10, 7, 15, 4, 765538, tzinfo=datetime.timezone.utc), tickType=49, price=0.0, size=0)])\n"
    }
   ],
   "source": [
    "print(ticker)"
   ]
  },
  {
   "cell_type": "code",
   "execution_count": 18,
   "metadata": {},
   "outputs": [],
   "source": [
    "ib.disconnect()"
   ]
  },
  {
   "cell_type": "code",
   "execution_count": null,
   "metadata": {},
   "outputs": [],
   "source": []
  },
  {
   "cell_type": "code",
   "execution_count": null,
   "metadata": {},
   "outputs": [],
   "source": []
  },
  {
   "cell_type": "code",
   "execution_count": null,
   "metadata": {},
   "outputs": [],
   "source": []
  },
  {
   "cell_type": "code",
   "execution_count": null,
   "metadata": {},
   "outputs": [],
   "source": []
  }
 ]
}