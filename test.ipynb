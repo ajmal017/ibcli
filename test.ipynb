{
 "metadata": {
  "language_info": {
   "codemirror_mode": {
    "name": "ipython",
    "version": 3
   },
   "file_extension": ".py",
   "mimetype": "text/x-python",
   "name": "python",
   "nbconvert_exporter": "python",
   "pygments_lexer": "ipython3",
   "version": "3.6.10-final"
  },
  "orig_nbformat": 2,
  "kernelspec": {
   "name": "python_defaultSpec_1599553869382",
   "display_name": "Python 3.6.10 64-bit"
  }
 },
 "nbformat": 4,
 "nbformat_minor": 2,
 "cells": [
  {
   "cell_type": "code",
   "execution_count": 14,
   "metadata": {
    "tags": []
   },
   "outputs": [
    {
     "output_type": "execute_result",
     "data": {
      "text/plain": "               open     high      low    close  volume     average  barCount\ndate                                                                        \n2019-11-20   66.390   66.515   65.105   65.800  163789   65.832000     26379\n2019-11-21   65.995   66.000   65.295   65.505  134099   65.612750     22693\n2019-11-22   65.640   65.795   65.210   65.445  122566   65.488375     19103\n2019-11-25   65.660   66.610   65.630   66.595  100115   66.247500     15538\n2019-11-26   66.735   66.755   65.910   66.075  124665   66.502000     18500\n...             ...      ...      ...      ...     ...         ...       ...\n2020-08-31  127.620  131.000  126.350  129.040  342620  128.775000    158777\n2020-09-01  132.790  134.800  130.550  134.180  237007  132.800500    109647\n2020-09-02  137.510  137.980  127.000  131.400  323487  132.160500    169248\n2020-09-03  126.940  128.840  120.500  120.880  406548  123.838000    208929\n2020-09-04  120.140  123.690  110.890  120.960  582811  117.955000    323139\n\n[200 rows x 7 columns]",
      "text/html": "<div>\n<style scoped>\n    .dataframe tbody tr th:only-of-type {\n        vertical-align: middle;\n    }\n\n    .dataframe tbody tr th {\n        vertical-align: top;\n    }\n\n    .dataframe thead th {\n        text-align: right;\n    }\n</style>\n<table border=\"1\" class=\"dataframe\">\n  <thead>\n    <tr style=\"text-align: right;\">\n      <th></th>\n      <th>open</th>\n      <th>high</th>\n      <th>low</th>\n      <th>close</th>\n      <th>volume</th>\n      <th>average</th>\n      <th>barCount</th>\n    </tr>\n    <tr>\n      <th>date</th>\n      <th></th>\n      <th></th>\n      <th></th>\n      <th></th>\n      <th></th>\n      <th></th>\n      <th></th>\n    </tr>\n  </thead>\n  <tbody>\n    <tr>\n      <th>2019-11-20</th>\n      <td>66.390</td>\n      <td>66.515</td>\n      <td>65.105</td>\n      <td>65.800</td>\n      <td>163789</td>\n      <td>65.832000</td>\n      <td>26379</td>\n    </tr>\n    <tr>\n      <th>2019-11-21</th>\n      <td>65.995</td>\n      <td>66.000</td>\n      <td>65.295</td>\n      <td>65.505</td>\n      <td>134099</td>\n      <td>65.612750</td>\n      <td>22693</td>\n    </tr>\n    <tr>\n      <th>2019-11-22</th>\n      <td>65.640</td>\n      <td>65.795</td>\n      <td>65.210</td>\n      <td>65.445</td>\n      <td>122566</td>\n      <td>65.488375</td>\n      <td>19103</td>\n    </tr>\n    <tr>\n      <th>2019-11-25</th>\n      <td>65.660</td>\n      <td>66.610</td>\n      <td>65.630</td>\n      <td>66.595</td>\n      <td>100115</td>\n      <td>66.247500</td>\n      <td>15538</td>\n    </tr>\n    <tr>\n      <th>2019-11-26</th>\n      <td>66.735</td>\n      <td>66.755</td>\n      <td>65.910</td>\n      <td>66.075</td>\n      <td>124665</td>\n      <td>66.502000</td>\n      <td>18500</td>\n    </tr>\n    <tr>\n      <th>...</th>\n      <td>...</td>\n      <td>...</td>\n      <td>...</td>\n      <td>...</td>\n      <td>...</td>\n      <td>...</td>\n      <td>...</td>\n    </tr>\n    <tr>\n      <th>2020-08-31</th>\n      <td>127.620</td>\n      <td>131.000</td>\n      <td>126.350</td>\n      <td>129.040</td>\n      <td>342620</td>\n      <td>128.775000</td>\n      <td>158777</td>\n    </tr>\n    <tr>\n      <th>2020-09-01</th>\n      <td>132.790</td>\n      <td>134.800</td>\n      <td>130.550</td>\n      <td>134.180</td>\n      <td>237007</td>\n      <td>132.800500</td>\n      <td>109647</td>\n    </tr>\n    <tr>\n      <th>2020-09-02</th>\n      <td>137.510</td>\n      <td>137.980</td>\n      <td>127.000</td>\n      <td>131.400</td>\n      <td>323487</td>\n      <td>132.160500</td>\n      <td>169248</td>\n    </tr>\n    <tr>\n      <th>2020-09-03</th>\n      <td>126.940</td>\n      <td>128.840</td>\n      <td>120.500</td>\n      <td>120.880</td>\n      <td>406548</td>\n      <td>123.838000</td>\n      <td>208929</td>\n    </tr>\n    <tr>\n      <th>2020-09-04</th>\n      <td>120.140</td>\n      <td>123.690</td>\n      <td>110.890</td>\n      <td>120.960</td>\n      <td>582811</td>\n      <td>117.955000</td>\n      <td>323139</td>\n    </tr>\n  </tbody>\n</table>\n<p>200 rows × 7 columns</p>\n</div>"
     },
     "metadata": {},
     "execution_count": 14
    }
   ],
   "source": [
    "import pandas as pd\n",
    "\n",
    "df = pd.read_csv('AAPL_OHLC.csv', index_col=0)\n",
    "\n",
    "df\n"
   ]
  },
  {
   "cell_type": "code",
   "execution_count": null,
   "metadata": {},
   "outputs": [],
   "source": []
  }
 ]
}