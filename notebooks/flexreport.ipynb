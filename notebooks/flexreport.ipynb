{
 "cells": [
  {
   "cell_type": "markdown",
   "metadata": {},
   "source": [
    "# Basics\n",
    "\n",
    "Let's first take a look at what's inside the ``ib_insync`` package:"
   ]
  },
  {
   "cell_type": "code",
   "execution_count": 2,
   "metadata": {
    "tags": []
   },
   "outputs": [],
   "source": [
    "from ib_insync import *\n",
    "import click\n",
    "import logging\n",
    "import os.path\n",
    "from os import path\n",
    "from datetime import datetime\n",
    "import time\n",
    "import calendar\n",
    "\n",
    "import pandas as pd\n",
    "import numpy as np\n",
    "\n",
    "r = FlexReport()\n",
    "r.load('../report.xml')"
   ]
  },
  {
   "cell_type": "code",
   "execution_count": 5,
   "metadata": {},
   "outputs": [],
   "source": [
    "df = r.df('Trade')"
   ]
  },
  {
   "cell_type": "code",
   "execution_count": 6,
   "metadata": {},
   "outputs": [
    {
     "output_type": "execute_result",
     "data": {
      "text/plain": "    accountId acctAlias model currency  fxRateToBase assetCategory  \\\n0    U3966401                      USD       0.84900           STK   \n1    U3966401                      USD       0.85180           STK   \n2    U3966401                      USD       0.83998           STK   \n3    U3966401                      USD       0.84352           STK   \n4    U3966401                      USD       0.84773           STK   \n..        ...       ...   ...      ...           ...           ...   \n351  U3966401                      USD       0.84288           OPT   \n352  U3966401                      USD       0.84951           OPT   \n353  U3966401                      USD       0.85761           OPT   \n354  U3966401                      USD       0.84951           OPT   \n355  U3966401                      USD       0.84457           OPT   \n\n                    symbol                 description      conid  \\\n0                     AAPL                   APPLE INC     265598   \n1                     AAPL                   APPLE INC     265598   \n2                     AAPL                   APPLE INC     265598   \n3                     AAPL                   APPLE INC     265598   \n4                      ADS  ALLIANCE DATA SYSTEMS CORP   12362013   \n..                     ...                         ...        ...   \n351  XOM   200911P00038000          XOM 11SEP20 38.0 P  437350001   \n352  XOM   200925C00037500          XOM 25SEP20 37.5 C  438573770   \n353  XOM   200925C00037500          XOM 25SEP20 37.5 C  438573770   \n354  XOM   200925P00035000          XOM 25SEP20 35.0 P  438773554   \n355  XOM   201009C00041000          XOM 09OCT20 41.0 C  442345125   \n\n       securityID  ... holdingPeriodDateTime whenRealized whenReopened  \\\n0    US0378331005  ...                                                   \n1    US0378331005  ...                                                   \n2    US0378331005  ...                                                   \n3    US0378331005  ...                                                   \n4    US0185811082  ...                                                   \n..            ...  ...                   ...          ...          ...   \n351                ...                                                   \n352                ...                                                   \n353                ...                                                   \n354                ...                                                   \n355                ...                                                   \n\n    levelOfDetail changeInPrice changeInQuantity orderType traderID  \\\n0       EXECUTION             0                0       LMT            \n1       EXECUTION             0                0       LMT            \n2       EXECUTION             0                0       LMT            \n3       EXECUTION             0                0       LMT            \n4       EXECUTION             0                0                      \n..            ...           ...              ...       ...      ...   \n351     EXECUTION             0                0                      \n352     EXECUTION             0                0       LMT            \n353     EXECUTION             0                0       LMT            \n354     EXECUTION             0                0       LMT            \n355     EXECUTION             0                0       LMT            \n\n    isAPIOrder  accruedInt  \n0            N           0  \n1            N           0  \n2            N           0  \n3            N           0  \n4            N           0  \n..         ...         ...  \n351          N           0  \n352          N           0  \n353          N           0  \n354          N           0  \n355          N           0  \n\n[356 rows x 72 columns]",
      "text/html": "<div>\n<style scoped>\n    .dataframe tbody tr th:only-of-type {\n        vertical-align: middle;\n    }\n\n    .dataframe tbody tr th {\n        vertical-align: top;\n    }\n\n    .dataframe thead th {\n        text-align: right;\n    }\n</style>\n<table border=\"1\" class=\"dataframe\">\n  <thead>\n    <tr style=\"text-align: right;\">\n      <th></th>\n      <th>accountId</th>\n      <th>acctAlias</th>\n      <th>model</th>\n      <th>currency</th>\n      <th>fxRateToBase</th>\n      <th>assetCategory</th>\n      <th>symbol</th>\n      <th>description</th>\n      <th>conid</th>\n      <th>securityID</th>\n      <th>...</th>\n      <th>holdingPeriodDateTime</th>\n      <th>whenRealized</th>\n      <th>whenReopened</th>\n      <th>levelOfDetail</th>\n      <th>changeInPrice</th>\n      <th>changeInQuantity</th>\n      <th>orderType</th>\n      <th>traderID</th>\n      <th>isAPIOrder</th>\n      <th>accruedInt</th>\n    </tr>\n  </thead>\n  <tbody>\n    <tr>\n      <th>0</th>\n      <td>U3966401</td>\n      <td></td>\n      <td></td>\n      <td>USD</td>\n      <td>0.84900</td>\n      <td>STK</td>\n      <td>AAPL</td>\n      <td>APPLE INC</td>\n      <td>265598</td>\n      <td>US0378331005</td>\n      <td>...</td>\n      <td></td>\n      <td></td>\n      <td></td>\n      <td>EXECUTION</td>\n      <td>0</td>\n      <td>0</td>\n      <td>LMT</td>\n      <td></td>\n      <td>N</td>\n      <td>0</td>\n    </tr>\n    <tr>\n      <th>1</th>\n      <td>U3966401</td>\n      <td></td>\n      <td></td>\n      <td>USD</td>\n      <td>0.85180</td>\n      <td>STK</td>\n      <td>AAPL</td>\n      <td>APPLE INC</td>\n      <td>265598</td>\n      <td>US0378331005</td>\n      <td>...</td>\n      <td></td>\n      <td></td>\n      <td></td>\n      <td>EXECUTION</td>\n      <td>0</td>\n      <td>0</td>\n      <td>LMT</td>\n      <td></td>\n      <td>N</td>\n      <td>0</td>\n    </tr>\n    <tr>\n      <th>2</th>\n      <td>U3966401</td>\n      <td></td>\n      <td></td>\n      <td>USD</td>\n      <td>0.83998</td>\n      <td>STK</td>\n      <td>AAPL</td>\n      <td>APPLE INC</td>\n      <td>265598</td>\n      <td>US0378331005</td>\n      <td>...</td>\n      <td></td>\n      <td></td>\n      <td></td>\n      <td>EXECUTION</td>\n      <td>0</td>\n      <td>0</td>\n      <td>LMT</td>\n      <td></td>\n      <td>N</td>\n      <td>0</td>\n    </tr>\n    <tr>\n      <th>3</th>\n      <td>U3966401</td>\n      <td></td>\n      <td></td>\n      <td>USD</td>\n      <td>0.84352</td>\n      <td>STK</td>\n      <td>AAPL</td>\n      <td>APPLE INC</td>\n      <td>265598</td>\n      <td>US0378331005</td>\n      <td>...</td>\n      <td></td>\n      <td></td>\n      <td></td>\n      <td>EXECUTION</td>\n      <td>0</td>\n      <td>0</td>\n      <td>LMT</td>\n      <td></td>\n      <td>N</td>\n      <td>0</td>\n    </tr>\n    <tr>\n      <th>4</th>\n      <td>U3966401</td>\n      <td></td>\n      <td></td>\n      <td>USD</td>\n      <td>0.84773</td>\n      <td>STK</td>\n      <td>ADS</td>\n      <td>ALLIANCE DATA SYSTEMS CORP</td>\n      <td>12362013</td>\n      <td>US0185811082</td>\n      <td>...</td>\n      <td></td>\n      <td></td>\n      <td></td>\n      <td>EXECUTION</td>\n      <td>0</td>\n      <td>0</td>\n      <td></td>\n      <td></td>\n      <td>N</td>\n      <td>0</td>\n    </tr>\n    <tr>\n      <th>...</th>\n      <td>...</td>\n      <td>...</td>\n      <td>...</td>\n      <td>...</td>\n      <td>...</td>\n      <td>...</td>\n      <td>...</td>\n      <td>...</td>\n      <td>...</td>\n      <td>...</td>\n      <td>...</td>\n      <td>...</td>\n      <td>...</td>\n      <td>...</td>\n      <td>...</td>\n      <td>...</td>\n      <td>...</td>\n      <td>...</td>\n      <td>...</td>\n      <td>...</td>\n      <td>...</td>\n    </tr>\n    <tr>\n      <th>351</th>\n      <td>U3966401</td>\n      <td></td>\n      <td></td>\n      <td>USD</td>\n      <td>0.84288</td>\n      <td>OPT</td>\n      <td>XOM   200911P00038000</td>\n      <td>XOM 11SEP20 38.0 P</td>\n      <td>437350001</td>\n      <td></td>\n      <td>...</td>\n      <td></td>\n      <td></td>\n      <td></td>\n      <td>EXECUTION</td>\n      <td>0</td>\n      <td>0</td>\n      <td></td>\n      <td></td>\n      <td>N</td>\n      <td>0</td>\n    </tr>\n    <tr>\n      <th>352</th>\n      <td>U3966401</td>\n      <td></td>\n      <td></td>\n      <td>USD</td>\n      <td>0.84951</td>\n      <td>OPT</td>\n      <td>XOM   200925C00037500</td>\n      <td>XOM 25SEP20 37.5 C</td>\n      <td>438573770</td>\n      <td></td>\n      <td>...</td>\n      <td></td>\n      <td></td>\n      <td></td>\n      <td>EXECUTION</td>\n      <td>0</td>\n      <td>0</td>\n      <td>LMT</td>\n      <td></td>\n      <td>N</td>\n      <td>0</td>\n    </tr>\n    <tr>\n      <th>353</th>\n      <td>U3966401</td>\n      <td></td>\n      <td></td>\n      <td>USD</td>\n      <td>0.85761</td>\n      <td>OPT</td>\n      <td>XOM   200925C00037500</td>\n      <td>XOM 25SEP20 37.5 C</td>\n      <td>438573770</td>\n      <td></td>\n      <td>...</td>\n      <td></td>\n      <td></td>\n      <td></td>\n      <td>EXECUTION</td>\n      <td>0</td>\n      <td>0</td>\n      <td>LMT</td>\n      <td></td>\n      <td>N</td>\n      <td>0</td>\n    </tr>\n    <tr>\n      <th>354</th>\n      <td>U3966401</td>\n      <td></td>\n      <td></td>\n      <td>USD</td>\n      <td>0.84951</td>\n      <td>OPT</td>\n      <td>XOM   200925P00035000</td>\n      <td>XOM 25SEP20 35.0 P</td>\n      <td>438773554</td>\n      <td></td>\n      <td>...</td>\n      <td></td>\n      <td></td>\n      <td></td>\n      <td>EXECUTION</td>\n      <td>0</td>\n      <td>0</td>\n      <td>LMT</td>\n      <td></td>\n      <td>N</td>\n      <td>0</td>\n    </tr>\n    <tr>\n      <th>355</th>\n      <td>U3966401</td>\n      <td></td>\n      <td></td>\n      <td>USD</td>\n      <td>0.84457</td>\n      <td>OPT</td>\n      <td>XOM   201009C00041000</td>\n      <td>XOM 09OCT20 41.0 C</td>\n      <td>442345125</td>\n      <td></td>\n      <td>...</td>\n      <td></td>\n      <td></td>\n      <td></td>\n      <td>EXECUTION</td>\n      <td>0</td>\n      <td>0</td>\n      <td>LMT</td>\n      <td></td>\n      <td>N</td>\n      <td>0</td>\n    </tr>\n  </tbody>\n</table>\n<p>356 rows × 72 columns</p>\n</div>"
     },
     "metadata": {},
     "execution_count": 6
    }
   ],
   "source": [
    "df"
   ]
  },
  {
   "cell_type": "code",
   "execution_count": 7,
   "metadata": {},
   "outputs": [
    {
     "output_type": "execute_result",
     "data": {
      "text/plain": "accountId            object\nacctAlias            object\nmodel                object\ncurrency             object\nfxRateToBase        float64\n                     ...   \nchangeInQuantity      int64\norderType            object\ntraderID             object\nisAPIOrder           object\naccruedInt            int64\nLength: 72, dtype: object"
     },
     "metadata": {},
     "execution_count": 7
    }
   ],
   "source": [
    "df.dtypes"
   ]
  },
  {
   "cell_type": "code",
   "execution_count": 12,
   "metadata": {
    "tags": []
   },
   "outputs": [
    {
     "output_type": "stream",
     "name": "stdout",
     "text": "<class 'pandas.core.frame.DataFrame'>\nRangeIndex: 356 entries, 0 to 355\nData columns (total 72 columns):\n #   Column                     Non-Null Count  Dtype  \n---  ------                     --------------  -----  \n 0   accountId                  356 non-null    object \n 1   acctAlias                  356 non-null    object \n 2   model                      356 non-null    object \n 3   currency                   356 non-null    object \n 4   fxRateToBase               356 non-null    float64\n 5   assetCategory              356 non-null    object \n 6   symbol                     356 non-null    object \n 7   description                356 non-null    object \n 8   conid                      356 non-null    int64  \n 9   securityID                 356 non-null    object \n 10  securityIDType             356 non-null    object \n 11  cusip                      356 non-null    object \n 12  isin                       356 non-null    object \n 13  listingExchange            356 non-null    object \n 14  underlyingConid            356 non-null    object \n 15  underlyingSymbol           356 non-null    object \n 16  underlyingSecurityID       356 non-null    object \n 17  underlyingListingExchange  356 non-null    object \n 18  issuer                     356 non-null    object \n 19  multiplier                 356 non-null    int64  \n 20  strike                     356 non-null    object \n 21  expiry                     356 non-null    object \n 22  tradeID                    356 non-null    int64  \n 23  putCall                    356 non-null    object \n 24  reportDate                 356 non-null    object \n 25  principalAdjustFactor      356 non-null    object \n 26  dateTime                   356 non-null    object \n 27  tradeDate                  356 non-null    object \n 28  settleDateTarget           356 non-null    object \n 29  transactionType            356 non-null    object \n 30  exchange                   356 non-null    object \n 31  quantity                   356 non-null    int64  \n 32  tradePrice                 356 non-null    float64\n 33  tradeMoney                 356 non-null    float64\n 34  proceeds                   356 non-null    float64\n 35  taxes                      356 non-null    int64  \n 36  ibCommission               356 non-null    float64\n 37  ibCommissionCurrency       356 non-null    object \n 38  netCash                    356 non-null    float64\n 39  closePrice                 356 non-null    float64\n 40  openCloseIndicator         356 non-null    object \n 41  notes                      356 non-null    object \n 42  cost                       356 non-null    float64\n 43  fifoPnlRealized            356 non-null    float64\n 44  fxPnl                      356 non-null    int64  \n 45  mtmPnl                     356 non-null    float64\n 46  origTradePrice             356 non-null    int64  \n 47  origTradeDate              356 non-null    object \n 48  origTradeID                356 non-null    object \n 49  origOrderID                356 non-null    int64  \n 50  clearingFirmID             356 non-null    object \n 51  transactionID              356 non-null    int64  \n 52  buySell                    356 non-null    object \n 53  ibOrderID                  356 non-null    int64  \n 54  ibExecID                   356 non-null    object \n 55  brokerageOrderID           356 non-null    object \n 56  orderReference             356 non-null    object \n 57  volatilityOrderLink        356 non-null    object \n 58  exchOrderId                356 non-null    object \n 59  extExecID                  356 non-null    object \n 60  orderTime                  356 non-null    object \n 61  openDateTime               356 non-null    object \n 62  holdingPeriodDateTime      356 non-null    object \n 63  whenRealized               356 non-null    object \n 64  whenReopened               356 non-null    object \n 65  levelOfDetail              356 non-null    object \n 66  changeInPrice              356 non-null    int64  \n 67  changeInQuantity           356 non-null    int64  \n 68  orderType                  356 non-null    object \n 69  traderID                   356 non-null    object \n 70  isAPIOrder                 356 non-null    object \n 71  accruedInt                 356 non-null    int64  \ndtypes: float64(10), int64(13), object(49)\nmemory usage: 200.4+ KB\n"
    }
   ],
   "source": [
    "pd.set_option('display.max_rows', 999)\n",
    "pd.set_option('precision', 2)\n",
    "df.info()"
   ]
  },
  {
   "cell_type": "code",
   "execution_count": null,
   "metadata": {},
   "outputs": [],
   "source": []
  }
 ],
 "metadata": {
  "kernelspec": {
   "display_name": "Python 3",
   "language": "python",
   "name": "python3"
  },
  "language_info": {
   "codemirror_mode": {
    "name": "ipython",
    "version": 3
   },
   "file_extension": ".py",
   "mimetype": "text/x-python",
   "name": "python",
   "nbconvert_exporter": "python",
   "pygments_lexer": "ipython3",
   "version": "3.6.10-final"
  }
 },
 "nbformat": 4,
 "nbformat_minor": 4
}