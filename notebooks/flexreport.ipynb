{
 "cells": [
  {
   "cell_type": "markdown",
   "metadata": {},
   "source": [
    "# Basics\n",
    "\n",
    "Let's first take a look at what's inside the ``ib_insync`` package:"
   ]
  },
  {
   "cell_type": "code",
   "execution_count": 1,
   "metadata": {
    "tags": []
   },
   "outputs": [],
   "source": [
    "from ib_insync import *\n",
    "import click\n",
    "import logging\n",
    "import os.path\n",
    "from os import path\n",
    "from datetime import datetime\n",
    "import time\n",
    "import calendar\n",
    "\n",
    "import pandas as pd\n",
    "import numpy as np\n",
    "\n",
    "r = FlexReport()\n",
    "r.load('../report.xml')"
   ]
  },
  {
   "cell_type": "code",
   "execution_count": 5,
   "metadata": {},
   "outputs": [
    {
     "output_type": "execute_result",
     "data": {
      "text/plain": "{'FlexQueryResponse',\n 'FlexStatement',\n 'FlexStatements',\n 'OpenPosition',\n 'OptionEAE',\n 'Trade'}"
     },
     "metadata": {},
     "execution_count": 5
    }
   ],
   "source": [
    "r.topics()"
   ]
  },
  {
   "cell_type": "code",
   "execution_count": 9,
   "metadata": {},
   "outputs": [],
   "source": [
    "df = r.df('OpenPosition')"
   ]
  },
  {
   "cell_type": "code",
   "execution_count": 10,
   "metadata": {},
   "outputs": [
    {
     "output_type": "execute_result",
     "data": {
      "text/plain": "   accountId acctAlias model currency  fxRateToBase assetCategory  \\\n0   U3966401                      USD       0.85977           STK   \n1   U3966401                      USD       0.85977           STK   \n2   U3966401                      USD       0.85977           STK   \n3   U3966401                      USD       0.85977           STK   \n4   U3966401                      USD       0.85977           STK   \n5   U3966401                      USD       0.85977           STK   \n6   U3966401                      USD       0.85977           STK   \n7   U3966401                      USD       0.85977           OPT   \n8   U3966401                      USD       0.85977           OPT   \n9   U3966401                      USD       0.85977           OPT   \n10  U3966401                      USD       0.85977           OPT   \n11  U3966401                      USD       0.85977           OPT   \n12  U3966401                      USD       0.85977           OPT   \n13  U3966401                      USD       0.85977           OPT   \n14  U3966401                      USD       0.85977           OPT   \n15  U3966401                      USD       0.85977           OPT   \n\n                   symbol                   description      conid  \\\n0                   BRK B   BERKSHIRE HATHAWAY INC-CL B   72063691   \n1                    CSCO             CISCO SYSTEMS INC     268084   \n2                    INTC                    INTEL CORP     270639   \n3                     JPM           JPMORGAN CHASE & CO    1520593   \n4                     WBA  WALGREENS BOOTS ALLIANCE INC  178634687   \n5                     WFC              WELLS FARGO & CO      10375   \n6                     XOM              EXXON MOBIL CORP      13977   \n7   CSCO  201009C00042000           CSCO 09OCT20 42.0 C  442214785   \n8   IBM   200925P00121000           IBM 25SEP20 121.0 P  438466264   \n9   IBM   201002C00121000           IBM 02OCT20 121.0 C  439457463   \n10  INTC  201009C00053000           INTC 09OCT20 53.0 C  442257635   \n11  INTC  201016C00053000           INTC 16OCT20 53.0 C  446420665   \n12  JPM   201002C00098000            JPM 02OCT20 98.0 C  439461967   \n13  WFC   201002C00025000            WFC 02OCT20 25.0 C  439541965   \n14  XOM   201002P00034000            XOM 02OCT20 34.0 P  442345065   \n15  XOM   201009C00041000            XOM 09OCT20 41.0 C  442345125   \n\n      securityID  ... fifoPnlUnrealized   side levelOfDetail openDateTime  \\\n0   US0846707026  ...         10.240000   Long       SUMMARY                \n1   US17275R1023  ...       -304.076949   Long       SUMMARY                \n2   US4581401001  ...       -621.000000   Long       SUMMARY                \n3   US46625H1005  ...       -383.660607   Long       SUMMARY                \n4   US9314271084  ...       -139.388300   Long       SUMMARY                \n5   US9497461015  ...       -175.182683   Long       SUMMARY                \n6   US30231G1022  ...       -899.739866   Long       SUMMARY                \n7                 ...         14.373780  Short       SUMMARY                \n8                 ...       -116.787767  Short       SUMMARY                \n9                 ...          0.212565  Short       SUMMARY                \n10                ...         21.373426  Short       SUMMARY                \n11                ...         13.213228  Short       SUMMARY                \n12                ...         42.172498  Short       SUMMARY                \n13                ...         37.977140  Short       SUMMARY                \n14                ...         -4.136772  Short       SUMMARY                \n15                ...         12.003824  Short       SUMMARY                \n\n   holdingPeriodDateTime vestingDate code originatingOrderID  \\\n0                                                              \n1                                                              \n2                                                              \n3                                                              \n4                                                              \n5                                                              \n6                                                              \n7                                                              \n8                                                              \n9                                                              \n10                                                             \n11                                                             \n12                                                             \n13                                                             \n14                                                             \n15                                                             \n\n   originatingTransactionID  accruedInt  \n0                                        \n1                                        \n2                                        \n3                                        \n4                                        \n5                                        \n6                                        \n7                                        \n8                                        \n9                                        \n10                                       \n11                                       \n12                                       \n13                                       \n14                                       \n15                                       \n\n[16 rows x 42 columns]",
      "text/html": "<div>\n<style scoped>\n    .dataframe tbody tr th:only-of-type {\n        vertical-align: middle;\n    }\n\n    .dataframe tbody tr th {\n        vertical-align: top;\n    }\n\n    .dataframe thead th {\n        text-align: right;\n    }\n</style>\n<table border=\"1\" class=\"dataframe\">\n  <thead>\n    <tr style=\"text-align: right;\">\n      <th></th>\n      <th>accountId</th>\n      <th>acctAlias</th>\n      <th>model</th>\n      <th>currency</th>\n      <th>fxRateToBase</th>\n      <th>assetCategory</th>\n      <th>symbol</th>\n      <th>description</th>\n      <th>conid</th>\n      <th>securityID</th>\n      <th>...</th>\n      <th>fifoPnlUnrealized</th>\n      <th>side</th>\n      <th>levelOfDetail</th>\n      <th>openDateTime</th>\n      <th>holdingPeriodDateTime</th>\n      <th>vestingDate</th>\n      <th>code</th>\n      <th>originatingOrderID</th>\n      <th>originatingTransactionID</th>\n      <th>accruedInt</th>\n    </tr>\n  </thead>\n  <tbody>\n    <tr>\n      <th>0</th>\n      <td>U3966401</td>\n      <td></td>\n      <td></td>\n      <td>USD</td>\n      <td>0.85977</td>\n      <td>STK</td>\n      <td>BRK B</td>\n      <td>BERKSHIRE HATHAWAY INC-CL B</td>\n      <td>72063691</td>\n      <td>US0846707026</td>\n      <td>...</td>\n      <td>10.240000</td>\n      <td>Long</td>\n      <td>SUMMARY</td>\n      <td></td>\n      <td></td>\n      <td></td>\n      <td></td>\n      <td></td>\n      <td></td>\n      <td></td>\n    </tr>\n    <tr>\n      <th>1</th>\n      <td>U3966401</td>\n      <td></td>\n      <td></td>\n      <td>USD</td>\n      <td>0.85977</td>\n      <td>STK</td>\n      <td>CSCO</td>\n      <td>CISCO SYSTEMS INC</td>\n      <td>268084</td>\n      <td>US17275R1023</td>\n      <td>...</td>\n      <td>-304.076949</td>\n      <td>Long</td>\n      <td>SUMMARY</td>\n      <td></td>\n      <td></td>\n      <td></td>\n      <td></td>\n      <td></td>\n      <td></td>\n      <td></td>\n    </tr>\n    <tr>\n      <th>2</th>\n      <td>U3966401</td>\n      <td></td>\n      <td></td>\n      <td>USD</td>\n      <td>0.85977</td>\n      <td>STK</td>\n      <td>INTC</td>\n      <td>INTEL CORP</td>\n      <td>270639</td>\n      <td>US4581401001</td>\n      <td>...</td>\n      <td>-621.000000</td>\n      <td>Long</td>\n      <td>SUMMARY</td>\n      <td></td>\n      <td></td>\n      <td></td>\n      <td></td>\n      <td></td>\n      <td></td>\n      <td></td>\n    </tr>\n    <tr>\n      <th>3</th>\n      <td>U3966401</td>\n      <td></td>\n      <td></td>\n      <td>USD</td>\n      <td>0.85977</td>\n      <td>STK</td>\n      <td>JPM</td>\n      <td>JPMORGAN CHASE &amp; CO</td>\n      <td>1520593</td>\n      <td>US46625H1005</td>\n      <td>...</td>\n      <td>-383.660607</td>\n      <td>Long</td>\n      <td>SUMMARY</td>\n      <td></td>\n      <td></td>\n      <td></td>\n      <td></td>\n      <td></td>\n      <td></td>\n      <td></td>\n    </tr>\n    <tr>\n      <th>4</th>\n      <td>U3966401</td>\n      <td></td>\n      <td></td>\n      <td>USD</td>\n      <td>0.85977</td>\n      <td>STK</td>\n      <td>WBA</td>\n      <td>WALGREENS BOOTS ALLIANCE INC</td>\n      <td>178634687</td>\n      <td>US9314271084</td>\n      <td>...</td>\n      <td>-139.388300</td>\n      <td>Long</td>\n      <td>SUMMARY</td>\n      <td></td>\n      <td></td>\n      <td></td>\n      <td></td>\n      <td></td>\n      <td></td>\n      <td></td>\n    </tr>\n    <tr>\n      <th>5</th>\n      <td>U3966401</td>\n      <td></td>\n      <td></td>\n      <td>USD</td>\n      <td>0.85977</td>\n      <td>STK</td>\n      <td>WFC</td>\n      <td>WELLS FARGO &amp; CO</td>\n      <td>10375</td>\n      <td>US9497461015</td>\n      <td>...</td>\n      <td>-175.182683</td>\n      <td>Long</td>\n      <td>SUMMARY</td>\n      <td></td>\n      <td></td>\n      <td></td>\n      <td></td>\n      <td></td>\n      <td></td>\n      <td></td>\n    </tr>\n    <tr>\n      <th>6</th>\n      <td>U3966401</td>\n      <td></td>\n      <td></td>\n      <td>USD</td>\n      <td>0.85977</td>\n      <td>STK</td>\n      <td>XOM</td>\n      <td>EXXON MOBIL CORP</td>\n      <td>13977</td>\n      <td>US30231G1022</td>\n      <td>...</td>\n      <td>-899.739866</td>\n      <td>Long</td>\n      <td>SUMMARY</td>\n      <td></td>\n      <td></td>\n      <td></td>\n      <td></td>\n      <td></td>\n      <td></td>\n      <td></td>\n    </tr>\n    <tr>\n      <th>7</th>\n      <td>U3966401</td>\n      <td></td>\n      <td></td>\n      <td>USD</td>\n      <td>0.85977</td>\n      <td>OPT</td>\n      <td>CSCO  201009C00042000</td>\n      <td>CSCO 09OCT20 42.0 C</td>\n      <td>442214785</td>\n      <td></td>\n      <td>...</td>\n      <td>14.373780</td>\n      <td>Short</td>\n      <td>SUMMARY</td>\n      <td></td>\n      <td></td>\n      <td></td>\n      <td></td>\n      <td></td>\n      <td></td>\n      <td></td>\n    </tr>\n    <tr>\n      <th>8</th>\n      <td>U3966401</td>\n      <td></td>\n      <td></td>\n      <td>USD</td>\n      <td>0.85977</td>\n      <td>OPT</td>\n      <td>IBM   200925P00121000</td>\n      <td>IBM 25SEP20 121.0 P</td>\n      <td>438466264</td>\n      <td></td>\n      <td>...</td>\n      <td>-116.787767</td>\n      <td>Short</td>\n      <td>SUMMARY</td>\n      <td></td>\n      <td></td>\n      <td></td>\n      <td></td>\n      <td></td>\n      <td></td>\n      <td></td>\n    </tr>\n    <tr>\n      <th>9</th>\n      <td>U3966401</td>\n      <td></td>\n      <td></td>\n      <td>USD</td>\n      <td>0.85977</td>\n      <td>OPT</td>\n      <td>IBM   201002C00121000</td>\n      <td>IBM 02OCT20 121.0 C</td>\n      <td>439457463</td>\n      <td></td>\n      <td>...</td>\n      <td>0.212565</td>\n      <td>Short</td>\n      <td>SUMMARY</td>\n      <td></td>\n      <td></td>\n      <td></td>\n      <td></td>\n      <td></td>\n      <td></td>\n      <td></td>\n    </tr>\n    <tr>\n      <th>10</th>\n      <td>U3966401</td>\n      <td></td>\n      <td></td>\n      <td>USD</td>\n      <td>0.85977</td>\n      <td>OPT</td>\n      <td>INTC  201009C00053000</td>\n      <td>INTC 09OCT20 53.0 C</td>\n      <td>442257635</td>\n      <td></td>\n      <td>...</td>\n      <td>21.373426</td>\n      <td>Short</td>\n      <td>SUMMARY</td>\n      <td></td>\n      <td></td>\n      <td></td>\n      <td></td>\n      <td></td>\n      <td></td>\n      <td></td>\n    </tr>\n    <tr>\n      <th>11</th>\n      <td>U3966401</td>\n      <td></td>\n      <td></td>\n      <td>USD</td>\n      <td>0.85977</td>\n      <td>OPT</td>\n      <td>INTC  201016C00053000</td>\n      <td>INTC 16OCT20 53.0 C</td>\n      <td>446420665</td>\n      <td></td>\n      <td>...</td>\n      <td>13.213228</td>\n      <td>Short</td>\n      <td>SUMMARY</td>\n      <td></td>\n      <td></td>\n      <td></td>\n      <td></td>\n      <td></td>\n      <td></td>\n      <td></td>\n    </tr>\n    <tr>\n      <th>12</th>\n      <td>U3966401</td>\n      <td></td>\n      <td></td>\n      <td>USD</td>\n      <td>0.85977</td>\n      <td>OPT</td>\n      <td>JPM   201002C00098000</td>\n      <td>JPM 02OCT20 98.0 C</td>\n      <td>439461967</td>\n      <td></td>\n      <td>...</td>\n      <td>42.172498</td>\n      <td>Short</td>\n      <td>SUMMARY</td>\n      <td></td>\n      <td></td>\n      <td></td>\n      <td></td>\n      <td></td>\n      <td></td>\n      <td></td>\n    </tr>\n    <tr>\n      <th>13</th>\n      <td>U3966401</td>\n      <td></td>\n      <td></td>\n      <td>USD</td>\n      <td>0.85977</td>\n      <td>OPT</td>\n      <td>WFC   201002C00025000</td>\n      <td>WFC 02OCT20 25.0 C</td>\n      <td>439541965</td>\n      <td></td>\n      <td>...</td>\n      <td>37.977140</td>\n      <td>Short</td>\n      <td>SUMMARY</td>\n      <td></td>\n      <td></td>\n      <td></td>\n      <td></td>\n      <td></td>\n      <td></td>\n      <td></td>\n    </tr>\n    <tr>\n      <th>14</th>\n      <td>U3966401</td>\n      <td></td>\n      <td></td>\n      <td>USD</td>\n      <td>0.85977</td>\n      <td>OPT</td>\n      <td>XOM   201002P00034000</td>\n      <td>XOM 02OCT20 34.0 P</td>\n      <td>442345065</td>\n      <td></td>\n      <td>...</td>\n      <td>-4.136772</td>\n      <td>Short</td>\n      <td>SUMMARY</td>\n      <td></td>\n      <td></td>\n      <td></td>\n      <td></td>\n      <td></td>\n      <td></td>\n      <td></td>\n    </tr>\n    <tr>\n      <th>15</th>\n      <td>U3966401</td>\n      <td></td>\n      <td></td>\n      <td>USD</td>\n      <td>0.85977</td>\n      <td>OPT</td>\n      <td>XOM   201009C00041000</td>\n      <td>XOM 09OCT20 41.0 C</td>\n      <td>442345125</td>\n      <td></td>\n      <td>...</td>\n      <td>12.003824</td>\n      <td>Short</td>\n      <td>SUMMARY</td>\n      <td></td>\n      <td></td>\n      <td></td>\n      <td></td>\n      <td></td>\n      <td></td>\n      <td></td>\n    </tr>\n  </tbody>\n</table>\n<p>16 rows × 42 columns</p>\n</div>"
     },
     "metadata": {},
     "execution_count": 10
    }
   ],
   "source": [
    "df"
   ]
  },
  {
   "cell_type": "code",
   "execution_count": 7,
   "metadata": {},
   "outputs": [
    {
     "output_type": "execute_result",
     "data": {
      "text/plain": "accountId            object\nacctAlias            object\nmodel                object\ncurrency             object\nfxRateToBase        float64\n                     ...   \nchangeInQuantity      int64\norderType            object\ntraderID             object\nisAPIOrder           object\naccruedInt            int64\nLength: 72, dtype: object"
     },
     "metadata": {},
     "execution_count": 7
    }
   ],
   "source": [
    "df.dtypes"
   ]
  },
  {
   "cell_type": "code",
   "execution_count": 12,
   "metadata": {
    "tags": []
   },
   "outputs": [
    {
     "output_type": "stream",
     "name": "stdout",
     "text": "<class 'pandas.core.frame.DataFrame'>\nRangeIndex: 356 entries, 0 to 355\nData columns (total 72 columns):\n #   Column                     Non-Null Count  Dtype  \n---  ------                     --------------  -----  \n 0   accountId                  356 non-null    object \n 1   acctAlias                  356 non-null    object \n 2   model                      356 non-null    object \n 3   currency                   356 non-null    object \n 4   fxRateToBase               356 non-null    float64\n 5   assetCategory              356 non-null    object \n 6   symbol                     356 non-null    object \n 7   description                356 non-null    object \n 8   conid                      356 non-null    int64  \n 9   securityID                 356 non-null    object \n 10  securityIDType             356 non-null    object \n 11  cusip                      356 non-null    object \n 12  isin                       356 non-null    object \n 13  listingExchange            356 non-null    object \n 14  underlyingConid            356 non-null    object \n 15  underlyingSymbol           356 non-null    object \n 16  underlyingSecurityID       356 non-null    object \n 17  underlyingListingExchange  356 non-null    object \n 18  issuer                     356 non-null    object \n 19  multiplier                 356 non-null    int64  \n 20  strike                     356 non-null    object \n 21  expiry                     356 non-null    object \n 22  tradeID                    356 non-null    int64  \n 23  putCall                    356 non-null    object \n 24  reportDate                 356 non-null    object \n 25  principalAdjustFactor      356 non-null    object \n 26  dateTime                   356 non-null    object \n 27  tradeDate                  356 non-null    object \n 28  settleDateTarget           356 non-null    object \n 29  transactionType            356 non-null    object \n 30  exchange                   356 non-null    object \n 31  quantity                   356 non-null    int64  \n 32  tradePrice                 356 non-null    float64\n 33  tradeMoney                 356 non-null    float64\n 34  proceeds                   356 non-null    float64\n 35  taxes                      356 non-null    int64  \n 36  ibCommission               356 non-null    float64\n 37  ibCommissionCurrency       356 non-null    object \n 38  netCash                    356 non-null    float64\n 39  closePrice                 356 non-null    float64\n 40  openCloseIndicator         356 non-null    object \n 41  notes                      356 non-null    object \n 42  cost                       356 non-null    float64\n 43  fifoPnlRealized            356 non-null    float64\n 44  fxPnl                      356 non-null    int64  \n 45  mtmPnl                     356 non-null    float64\n 46  origTradePrice             356 non-null    int64  \n 47  origTradeDate              356 non-null    object \n 48  origTradeID                356 non-null    object \n 49  origOrderID                356 non-null    int64  \n 50  clearingFirmID             356 non-null    object \n 51  transactionID              356 non-null    int64  \n 52  buySell                    356 non-null    object \n 53  ibOrderID                  356 non-null    int64  \n 54  ibExecID                   356 non-null    object \n 55  brokerageOrderID           356 non-null    object \n 56  orderReference             356 non-null    object \n 57  volatilityOrderLink        356 non-null    object \n 58  exchOrderId                356 non-null    object \n 59  extExecID                  356 non-null    object \n 60  orderTime                  356 non-null    object \n 61  openDateTime               356 non-null    object \n 62  holdingPeriodDateTime      356 non-null    object \n 63  whenRealized               356 non-null    object \n 64  whenReopened               356 non-null    object \n 65  levelOfDetail              356 non-null    object \n 66  changeInPrice              356 non-null    int64  \n 67  changeInQuantity           356 non-null    int64  \n 68  orderType                  356 non-null    object \n 69  traderID                   356 non-null    object \n 70  isAPIOrder                 356 non-null    object \n 71  accruedInt                 356 non-null    int64  \ndtypes: float64(10), int64(13), object(49)\nmemory usage: 200.4+ KB\n"
    }
   ],
   "source": [
    "pd.set_option('display.max_rows', 999)\n",
    "pd.set_option('precision', 2)\n",
    "df.info()"
   ]
  },
  {
   "cell_type": "code",
   "execution_count": null,
   "metadata": {},
   "outputs": [],
   "source": []
  }
 ],
 "metadata": {
  "kernelspec": {
   "display_name": "Python 3",
   "language": "python",
   "name": "python3"
  },
  "language_info": {
   "codemirror_mode": {
    "name": "ipython",
    "version": 3
   },
   "file_extension": ".py",
   "mimetype": "text/x-python",
   "name": "python",
   "nbconvert_exporter": "python",
   "pygments_lexer": "ipython3",
   "version": "3.8.5-final"
  }
 },
 "nbformat": 4,
 "nbformat_minor": 4
}