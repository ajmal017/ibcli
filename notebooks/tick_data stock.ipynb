{
 "cells": [
  {
   "cell_type": "markdown",
   "metadata": {},
   "source": [
    "# Tick data\n",
    "\n",
    "For optimum results this notebook should be run during the Forex trading session."
   ]
  },
  {
   "cell_type": "code",
   "execution_count": 2,
   "metadata": {},
   "outputs": [
    {
     "output_type": "execute_result",
     "data": {
      "text/plain": "<IB connected to 127.0.0.1:7497 clientId=15>"
     },
     "metadata": {},
     "execution_count": 2
    }
   ],
   "source": [
    "from ib_insync import *\n",
    "util.startLoop()\n",
    "\n",
    "ib = IB()\n",
    "ib.connect('127.0.0.1', 7497, clientId=15, readonly=True)"
   ]
  },
  {
   "cell_type": "code",
   "execution_count": 43,
   "metadata": {
    "tags": []
   },
   "outputs": [
    {
     "output_type": "execute_result",
     "data": {
      "text/plain": "{'contract': Stock(conId=270639, symbol='INTC', exchange='SMART', primaryExchange='NASDAQ', currency='USD', localSymbol='INTC', tradingClass='NMS'),\n 'time': datetime.datetime(2020, 9, 22, 15, 26, 5, 970989, tzinfo=datetime.timezone.utc),\n 'marketDataType': 1,\n 'bid': 49.54,\n 'bidSize': 23,\n 'ask': 49.55,\n 'askSize': 111,\n 'last': 49.54,\n 'lastSize': 1,\n 'prevBid': nan,\n 'prevBidSize': 15,\n 'prevAsk': nan,\n 'prevAskSize': 113,\n 'prevLast': nan,\n 'prevLastSize': nan,\n 'volume': 76756,\n 'open': 49.9,\n 'high': 50.21,\n 'low': 49.51,\n 'close': 49.72,\n 'vwap': nan,\n 'low13week': nan,\n 'high13week': nan,\n 'low26week': nan,\n 'high26week': nan,\n 'low52week': nan,\n 'high52week': nan,\n 'bidYield': nan,\n 'askYield': nan,\n 'lastYield': nan,\n 'markPrice': nan,\n 'halted': 0.0,\n 'rtHistVolatility': nan,\n 'rtVolume': nan,\n 'rtTradeVolume': nan,\n 'avVolume': nan,\n 'tradeCount': nan,\n 'tradeRate': nan,\n 'volumeRate': nan,\n 'shortableShares': nan,\n 'indexFuturePremium': nan,\n 'futuresOpenInterest': nan,\n 'putOpenInterest': 1070711,\n 'callOpenInterest': 1254020,\n 'putVolume': 8555,\n 'callVolume': 21460,\n 'avOptionVolume': 179523,\n 'histVolatility': 0.2621672663910096,\n 'impliedVolatility': 0.38555076479186706,\n 'dividends': Dividends(past12Months=1.305, next12Months=1.32, nextDate=datetime.date(2020, 11, 5), nextAmount=0.33),\n 'fundamentalRatios': FundamentalRatios(TTMNPMGN=29.9677, NLOW=43.63, ACFSHR=7.125866, ALTCL=nan, TTMPRCFPS=5.96988, TTMCFSHR=8.14276, ASFCF=72, AEPSNORM=4.78243, TTMRECTURN=11.54819, AATCA=31239, QCSHPS=6.06983, TTMFCF=16341, LATESTADATE='2020-06-27', APTMGNPCT=33.43014, IAD=1.32, TTMNIAC=23661, EV_Cur=223991.2, QATCA=44390, PR2TANBK=4.72387, TTMFCFSHR=3.75655, NPRICE=49.72, ASICF=1808, REVTRENDGR=5.19341, QSCEX=-3408, PRICE2BK=2.57846, ALSTD=nan, AOTLO=33145, TTMPAYRAT=23.63383, QPR2REV=10.71873, TTMREVCHG=12.1743, TTMROAPCT=16.70397, QTOTCE=82010, APENORM=10.39639, QLTCL=22481, QSFCF=-97, TTMROIPCT=19.62656, DIVGRPCT=6.60536, QOTLO=11157, TTMEPSCHG=27.29331, YIELD=2.654867, TTMREVPS=18.15057, TTMEBT=27336, ADIV5YAVG=1.1075, Frac52Wk=0.2435949, NHIG=69.29, ASCEX=-16213, QTA=152539, TTMGROSMGN=57.87601, QTL=70529, AFPRD=765, QCURRATIO=1.97456, TTMREV=78955, TTMINVTURN=3.76553, QCASH=25815, QLSTD=0, TTMOPMGN=32.90355, TTMPR2REV=2.67822, QSICF=-7202, TTMNIPEREM=213546.9, EPSCHNGYR=28.97374, TTMPRFCFPS=12.94041, TTMPTMGN=34.62225, AREVPS=16.08875, AEBTNORM=24451, ASOPI=22035, NetDebt_I=12532, PRYTDPCTR=-18.19871, TTMEBITD=38119, AFEEPSNTM=4.296, EPSTRENDGR=15.24368, QTOTD2EQ=46.75893, QSOPI=5697, QBVPS=19.28286, YLD5YAVG=2.46945, PR13WKPCT=-16.6955, PR52WKPCT=-0.06529515, AROAPCT=15.91609, QTOTLTD=36093, TTMEPSXCLX=5.43545, QPRCFPS=28.47293396311394, QTANBVPS=10.52528, AROIPCT=18.66363, QEBIT=5706, QEBITDA=8769, MKTCAP=211459.2, TTMINTCOV=nan, TTMROEPCT=30.10229, TTMREVPERE=712590.3, AEPSXCLXOR=4.705567, QFPRD=-1700, REVCHNGYR=19.52742, AFPSS=-12826, CURRENCY='USD', EV2EBITDA_Cur=25.54352, PEEXCLXOR=9.14736, QQUICKRATI=1.5756, ASINN=nan, QFPSS=9, BETA=0.73091, ANIACNORM=21391.83, PR1WKPCT=0.6274061, QLTD2EQ=44.01049, QSINN=nan, PR4WKPCT=1.180305, AEBIT=22525),\n 'ticks': [TickData(time=datetime.datetime(2020, 9, 22, 15, 26, 5, 970989, tzinfo=datetime.timezone.utc), tickType=0, price=49.54, size=23),\n  TickData(time=datetime.datetime(2020, 9, 22, 15, 26, 5, 970989, tzinfo=datetime.timezone.utc), tickType=3, price=49.55, size=111)],\n 'tickByTicks': [],\n 'domBids': [],\n 'domAsks': [],\n 'domTicks': [],\n 'bidGreeks': None,\n 'askGreeks': None,\n 'lastGreeks': None,\n 'modelGreeks': None,\n 'auctionVolume': nan,\n 'auctionPrice': nan,\n 'auctionImbalance': nan}"
     },
     "metadata": {},
     "execution_count": 43
    }
   ],
   "source": [
    "contract = Stock('INTC', 'SMART', 'USD')\n",
    "ib.qualifyContracts(contract)\n",
    "ib.reqMarketDataType(1)\n",
    "ib.reqMktData(contract, '100,101,104,105,106,258,456', False, False)\n",
    "\n",
    "ticker = ib.ticker(contract)\n",
    "\n",
    "ib.sleep(1)\n",
    "\n",
    "ticker.dict()"
   ]
  },
  {
   "cell_type": "code",
   "execution_count": 4,
   "metadata": {},
   "outputs": [
    {
     "output_type": "execute_result",
     "data": {
      "text/plain": "Ticker(contract=Stock(conId=270639, symbol='INTC', exchange='SMART', primaryExchange='NASDAQ', currency='USD', localSymbol='INTC', tradingClass='NMS'), time=datetime.datetime(2020, 9, 22, 9, 8, 32, 707607, tzinfo=datetime.timezone.utc), bid=49.84, bidSize=4, ask=49.93, askSize=1, last=49.85, lastSize=1, volume=43, close=49.72, halted=0.0, ticks=[TickData(time=datetime.datetime(2020, 9, 22, 9, 8, 32, 707607, tzinfo=datetime.timezone.utc), tickType=1, price=49.84, size=4), TickData(time=datetime.datetime(2020, 9, 22, 9, 8, 32, 707607, tzinfo=datetime.timezone.utc), tickType=2, price=49.93, size=1), TickData(time=datetime.datetime(2020, 9, 22, 9, 8, 32, 707607, tzinfo=datetime.timezone.utc), tickType=4, price=49.85, size=1), TickData(time=datetime.datetime(2020, 9, 22, 9, 8, 32, 707607, tzinfo=datetime.timezone.utc), tickType=5, price=49.85, size=1), TickData(time=datetime.datetime(2020, 9, 22, 9, 8, 32, 707607, tzinfo=datetime.timezone.utc), tickType=8, price=-1.0, size=43), TickData(time=datetime.datetime(2020, 9, 22, 9, 8, 32, 707607, tzinfo=datetime.timezone.utc), tickType=9, price=49.72, size=0), TickData(time=datetime.datetime(2020, 9, 22, 9, 8, 32, 707607, tzinfo=datetime.timezone.utc), tickType=49, price=0.0, size=0)])"
     },
     "metadata": {},
     "execution_count": 4
    }
   ],
   "source": []
  },
  {
   "cell_type": "markdown",
   "metadata": {},
   "source": [
    "The price of Forex ticks is always nan. To get a midpoint price use ``midpoint()`` or ``marketPrice()``.\n",
    "\n",
    "The tickers are kept live updated, try this a few times to see if the price changes:"
   ]
  },
  {
   "cell_type": "code",
   "execution_count": 7,
   "metadata": {},
   "outputs": [
    {
     "output_type": "execute_result",
     "data": {
      "text/plain": "nan"
     },
     "metadata": {},
     "execution_count": 7
    }
   ],
   "source": [
    "ticker.avOptionVolume"
   ]
  },
  {
   "cell_type": "markdown",
   "metadata": {},
   "source": [
    "The following cell will start a 30 second loop that prints a live updated ticker table.\n",
    "It is updated on every ticker change."
   ]
  },
  {
   "cell_type": "code",
   "execution_count": 7,
   "metadata": {},
   "outputs": [
    {
     "output_type": "display_data",
     "data": {
      "text/plain": "        bidSize      bid      ask  askSize     high      low    close\nEURUSD  1000000  1.17385  1.17386  2000000  1.17735    1.172   1.1772\nUSDJPY  3000000   104.56  104.563  2100000  104.755  104.465   104.65\nGBPUSD  2000000  1.28159  1.28165  2500000  1.28385  1.27125   1.2816\nUSDCHF  1000000  0.91624  0.91625  1000000  0.91735  0.91415  0.91455\nUSDCAD  4000000  1.33115  1.33121  2000000   1.3346  1.32975   1.3305\nAUDUSD  1000000  0.72069  0.72071  4000000   0.7235   0.7178   0.7223",
      "text/html": "<div>\n<style scoped>\n    .dataframe tbody tr th:only-of-type {\n        vertical-align: middle;\n    }\n\n    .dataframe tbody tr th {\n        vertical-align: top;\n    }\n\n    .dataframe thead th {\n        text-align: right;\n    }\n</style>\n<table border=\"1\" class=\"dataframe\">\n  <thead>\n    <tr style=\"text-align: right;\">\n      <th></th>\n      <th>bidSize</th>\n      <th>bid</th>\n      <th>ask</th>\n      <th>askSize</th>\n      <th>high</th>\n      <th>low</th>\n      <th>close</th>\n    </tr>\n  </thead>\n  <tbody>\n    <tr>\n      <th>EURUSD</th>\n      <td>1000000</td>\n      <td>1.17385</td>\n      <td>1.17386</td>\n      <td>2000000</td>\n      <td>1.17735</td>\n      <td>1.172</td>\n      <td>1.1772</td>\n    </tr>\n    <tr>\n      <th>USDJPY</th>\n      <td>3000000</td>\n      <td>104.56</td>\n      <td>104.563</td>\n      <td>2100000</td>\n      <td>104.755</td>\n      <td>104.465</td>\n      <td>104.65</td>\n    </tr>\n    <tr>\n      <th>GBPUSD</th>\n      <td>2000000</td>\n      <td>1.28159</td>\n      <td>1.28165</td>\n      <td>2500000</td>\n      <td>1.28385</td>\n      <td>1.27125</td>\n      <td>1.2816</td>\n    </tr>\n    <tr>\n      <th>USDCHF</th>\n      <td>1000000</td>\n      <td>0.91624</td>\n      <td>0.91625</td>\n      <td>1000000</td>\n      <td>0.91735</td>\n      <td>0.91415</td>\n      <td>0.91455</td>\n    </tr>\n    <tr>\n      <th>USDCAD</th>\n      <td>4000000</td>\n      <td>1.33115</td>\n      <td>1.33121</td>\n      <td>2000000</td>\n      <td>1.3346</td>\n      <td>1.32975</td>\n      <td>1.3305</td>\n    </tr>\n    <tr>\n      <th>AUDUSD</th>\n      <td>1000000</td>\n      <td>0.72069</td>\n      <td>0.72071</td>\n      <td>4000000</td>\n      <td>0.7235</td>\n      <td>0.7178</td>\n      <td>0.7223</td>\n    </tr>\n  </tbody>\n</table>\n</div>"
     },
     "metadata": {}
    }
   ],
   "source": [
    "from IPython.display import display, clear_output\n",
    "import pandas as pd\n",
    "\n",
    "df = pd.DataFrame(\n",
    "    index=[c.pair() for c in contracts],\n",
    "    columns=['bidSize', 'bid', 'ask', 'askSize', 'high', 'low', 'close'])\n",
    "\n",
    "def onPendingTickers(tickers):\n",
    "    for t in tickers:\n",
    "        df.loc[t.contract.pair()] = (\n",
    "            t.bidSize, t.bid, t.ask, t.askSize, t.high, t.low, t.close)\n",
    "        clear_output(wait=True)\n",
    "    display(df)        \n",
    "\n",
    "ib.pendingTickersEvent += onPendingTickers\n",
    "ib.sleep(30)\n",
    "ib.pendingTickersEvent -= onPendingTickers"
   ]
  },
  {
   "cell_type": "markdown",
   "metadata": {},
   "source": [
    "New tick data is available in the 'ticks' attribute of the pending tickers.\n",
    "The tick data will be cleared before the next update."
   ]
  },
  {
   "cell_type": "markdown",
   "metadata": {},
   "source": [
    "To stop the live tick subscriptions:"
   ]
  },
  {
   "cell_type": "code",
   "execution_count": 8,
   "metadata": {},
   "outputs": [],
   "source": [
    "for contract in contracts:\n",
    "    ib.cancelMktData(contract)"
   ]
  },
  {
   "cell_type": "markdown",
   "metadata": {},
   "source": [
    "### Tick by Tick data ###\n",
    "\n",
    "The ticks in the previous section are time-sampled by IB in order to cut on bandwidth. So with ``reqMktdData`` not every tick from the exchanges is sent. The promise of ``reqTickByTickData`` is to send every tick, just how it appears in the TWS Time & Sales window. This functionality is severly nerfed by a total of just three simultaneous subscriptions, where bid-ask ticks and sale ticks also use up a subscription each.\n",
    "\n",
    "The tick-by-tick updates are available from ``ticker.tickByTicks`` and are signalled by ``ib.pendingTickersEvent`` or ``ticker.updateEvent``."
   ]
  },
  {
   "cell_type": "code",
   "execution_count": 9,
   "metadata": {
    "tags": []
   },
   "outputs": [
    {
     "output_type": "stream",
     "name": "stdout",
     "text": "Ticker(contract=Forex('EURUSD', conId=12087792, exchange='IDEALPRO', localSymbol='EUR.USD', tradingClass='EUR.USD'), time=datetime.datetime(2020, 9, 22, 8, 50, 53, 46078, tzinfo=datetime.timezone.utc), bid=1.17402, bidSize=1000000, ask=1.17403, askSize=6000000, prevBid=1.17399, prevBidSize=2000000, prevAsk=1.17401, prevAskSize=3000000, high=1.17735, low=1.172, close=1.1772, tickByTicks=[TickByTickBidAsk(time=datetime.datetime(2020, 9, 22, 8, 50, 53, 46078, tzinfo=datetime.timezone.utc), bidPrice=1.17402, askPrice=1.17403, bidSize=1000000, askSize=6000000, tickAttribBidAsk=TickAttribBidAsk(bidPastLow=False, askPastHigh=False))])\n"
    }
   ],
   "source": [
    "ticker = ib.reqTickByTickData(eurusd, 'BidAsk')\n",
    "ib.sleep(2)\n",
    "print(ticker)\n",
    "\n",
    "ib.cancelTickByTickData(ticker.contract, 'BidAsk')"
   ]
  },
  {
   "cell_type": "markdown",
   "metadata": {},
   "source": [
    "### Historical tick data\n",
    "\n",
    "Historical tick data can be fetched with a maximum of 1000 ticks at a time. Either the start time or the end time must be given, and one of them must remain empty:"
   ]
  },
  {
   "cell_type": "code",
   "execution_count": 10,
   "metadata": {},
   "outputs": [
    {
     "output_type": "execute_result",
     "data": {
      "text/plain": "HistoricalTickBidAsk(time=datetime.datetime(2020, 9, 22, 8, 50, 56, tzinfo=datetime.timezone.utc), tickAttribBidAsk=TickAttribBidAsk(bidPastLow=False, askPastHigh=False), priceBid=1.17391, priceAsk=1.17392, sizeBid=4000000, sizeAsk=1000000)"
     },
     "metadata": {},
     "execution_count": 10
    }
   ],
   "source": [
    "import datetime\n",
    "\n",
    "start = ''\n",
    "end = datetime.datetime.now()\n",
    "ticks = ib.reqHistoricalTicks(eurusd, start, end, 1000, 'BID_ASK', useRth=False)\n",
    "\n",
    "ticks[-1]"
   ]
  },
  {
   "cell_type": "code",
   "execution_count": 10,
   "metadata": {},
   "outputs": [],
   "source": [
    "ib.disconnect()"
   ]
  }
 ],
 "metadata": {
  "kernelspec": {
   "display_name": "Python 3",
   "language": "python",
   "name": "python3"
  },
  "language_info": {
   "codemirror_mode": {
    "name": "ipython",
    "version": 3
   },
   "file_extension": ".py",
   "mimetype": "text/x-python",
   "name": "python",
   "nbconvert_exporter": "python",
   "pygments_lexer": "ipython3",
   "version": "3.6.10-final"
  }
 },
 "nbformat": 4,
 "nbformat_minor": 4
}