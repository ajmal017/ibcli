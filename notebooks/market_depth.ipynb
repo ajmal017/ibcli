{
 "cells": [
  {
   "cell_type": "markdown",
   "metadata": {},
   "source": [
    "Market depth (order book)\n",
    "=============="
   ]
  },
  {
   "cell_type": "code",
   "execution_count": 1,
   "metadata": {},
   "outputs": [
    {
     "output_type": "execute_result",
     "data": {
      "text/plain": "<IB connected to 127.0.0.1:7497 clientId=16>"
     },
     "metadata": {},
     "execution_count": 1
    }
   ],
   "source": [
    "from ib_insync import *\n",
    "util.startLoop()\n",
    "\n",
    "ib = IB()\n",
    "ib.connect('127.0.0.1', 7497, clientId=16, readonly=True)"
   ]
  },
  {
   "cell_type": "markdown",
   "metadata": {},
   "source": [
    "To get a list of all exchanges that support market depth data and display the first five:"
   ]
  },
  {
   "cell_type": "code",
   "execution_count": 7,
   "metadata": {},
   "outputs": [
    {
     "output_type": "execute_result",
     "data": {
      "text/plain": "istingExch='', serviceDataType='Deep', aggGroup=2147483647),\n DepthMktDataDescription(exchange='NSE', secType='STK', listingExch='', serviceDataType='Deep', aggGroup=2147483647),\n DepthMktDataDescription(exchange='PRA', secType='STK', listingExch='', serviceDataType='Deep', aggGroup=2147483647),\n DepthMktDataDescription(exchange='DTB', secType='FUT', listingExch='', serviceDataType='Deep', aggGroup=2147483647),\n DepthMktDataDescription(exchange='GLOBEX', secType='FUT', listingExch='', serviceDataType='Deep', aggGroup=2147483647),\n DepthMktDataDescription(exchange='CHIXCH', secType='STK', listingExch='', serviceDataType='Deep', aggGroup=2147483647),\n DepthMktDataDescription(exchange='TGHEDE', secType='STK', listingExch='', serviceDataType='Deep', aggGroup=2147483647),\n DepthMktDataDescription(exchange='EUREXCBL', secType='FUT', listingExch='', serviceDataType='Deep', aggGroup=2147483647),\n DepthMktDataDescription(exchange='AQS', secType='SLB', listingExch='', serviceDataType='Deep', aggGroup=2147483647),\n DepthMktDataDescription(exchange='TSEJ', secType='STK', listingExch='', serviceDataType='Deep', aggGroup=2147483647),\n DepthMktDataDescription(exchange='VIRTX', secType='STK', listingExch='', serviceDataType='Deep', aggGroup=2147483647),\n DepthMktDataDescription(exchange='BATEPL', secType='STK', listingExch='', serviceDataType='Deep', aggGroup=2147483647),\n DepthMktDataDescription(exchange='HKFE', secType='OPT', listingExch='', serviceDataType='Deep', aggGroup=2147483647),\n DepthMktDataDescription(exchange='ICEEU', secType='FUT', listingExch='', serviceDataType='Deep', aggGroup=2147483647),\n DepthMktDataDescription(exchange='BVL', secType='STK', listingExch='', serviceDataType='Deep', aggGroup=2147483647),\n DepthMktDataDescription(exchange='BMF', secType='FOP', listingExch='', serviceDataType='Deep', aggGroup=2147483647),\n DepthMktDataDescription(exchange='CHIXUK', secType='STK', listingExch='', serviceDataType='Deep', aggGroup=2147483647),\n DepthMktDataDescription(exchange='ISLAND', secType='STK', listingExch='', serviceDataType='Deep', aggGroup=2147483647),\n DepthMktDataDescription(exchange='DXEDE', secType='STK', listingExch='', serviceDataType='Deep', aggGroup=2147483647),\n DepthMktDataDescription(exchange='BATEDE', secType='STK', listingExch='', serviceDataType='Deep', aggGroup=2147483647),\n DepthMktDataDescription(exchange='SBF', secType='IOPT', listingExch='', serviceDataType='Deep', aggGroup=2147483647),\n DepthMktDataDescription(exchange='SGXCME', secType='FUT', listingExch='', serviceDataType='Deep', aggGroup=2147483647),\n DepthMktDataDescription(exchange='BATEES', secType='STK', listingExch='', serviceDataType='Deep', aggGroup=2147483647),\n DepthMktDataDescription(exchange='SMART', secType='CMDTY', listingExch='', serviceDataType='Deep', aggGroup=14),\n DepthMktDataDescription(exchange='SMART', secType='STK', listingExch='PINK', serviceDataType='AggDeep', aggGroup=1),\n DepthMktDataDescription(exchange='ICEEU', secType='FOP', listingExch='', serviceDataType='Deep', aggGroup=2147483647),\n DepthMktDataDescription(exchange='DXEFI', secType='STK', listingExch='', serviceDataType='Deep', aggGroup=2147483647),\n DepthMktDataDescription(exchange='PSE', secType='OPT', listingExch='', serviceDataType='Deep', aggGroup=2147483647),\n DepthMktDataDescription(exchange='FTA', secType='OPT', listingExch='', serviceDataType='Deep', aggGroup=2147483647),\n DepthMktDataDescription(exchange='FTA', secType='FUT', listingExch='', serviceDataType='Deep', aggGroup=2147483647),\n DepthMktDataDescription(exchange='TOM', secType='FUT', listingExch='', serviceDataType='Deep', aggGroup=2147483647),\n DepthMktDataDescription(exchange='CFECRYPTO', secType='BAG', listingExch='', serviceDataType='Deep', aggGroup=2147483647),\n DepthMktDataDescription(exchange='ARCA', secType='WAR', listingExch='', serviceDataType='Deep', aggGroup=2147483647),\n DepthMktDataDescription(exchange='NYBOT', secType='FOP', listingExch='', serviceDataType='Deep', aggGroup=2147483647),\n DepthMktDataDescription(exchange='BEX', secType='WAR', listingExch='', serviceDataType='Deep', aggGroup=2147483647),\n DepthMktDataDescription(exchange='OSE.JPN', secType='BAG', listingExch='', serviceDataType='Deep', aggGroup=2147483647),\n DepthMktDataDescription(exchange='NYSELIFFE', secType='FUT', listingExch='', serviceDataType='Deep', aggGroup=2147483647),\n DepthMktDataDescription(exchange='WSE', secType='STK', listingExch='', serviceDataType='Deep', aggGroup=2147483647),\n DepthMktDataDescription(exchange='VENTURE', secType='WAR', listingExch='', serviceDataType='Deep', aggGroup=2147483647),\n DepthMktDataDescription(exchange='SMART', secType='BILL', listingExch='', serviceDataType='Deep', aggGroup=12),\n DepthMktDataDescription(exchange='SEHK', secType='IOPT', listingExch='', serviceDataType='Deep', aggGroup=2147483647),\n DepthMktDataDescription(exchange='CHIXIT', secType='STK', listingExch='', serviceDataType='Deep', aggGroup=2147483647),\n DepthMktDataDescription(exchange='ENEXT.BE', secType='IOPT', listingExch='', serviceDataType='Deep', aggGroup=2147483647),\n DepthMktDataDescription(exchange='AEB', secType='STK', listingExch='', serviceDataType='Deep', aggGroup=2147483647),\n DepthMktDataDescription(exchange='CMECRYPTO', secType='FUT', listingExch='', serviceDataType='Deep', aggGroup=2147483647),\n DepthMktDataDescription(exchange='ICECRYPTO', secType='BAG', listingExch='', serviceDataType='Deep', aggGroup=2147483647),\n DepthMktDataDescription(exchange='HKFE', secType='FUT', listingExch='', serviceDataType='Deep', aggGroup=2147483647),\n DepthMktDataDescription(exchange='ICEEU', secType='OPT', listingExch='', serviceDataType='Deep', aggGroup=2147483647),\n DepthMktDataDescription(exchange='SEHK', secType='IOPT', listingExch='', serviceDataType='DeepX', aggGroup=2147483647),\n DepthMktDataDescription(exchange='OMC', secType='FUT', listingExch='', serviceDataType='Deep', aggGroup=2147483647),\n DepthMktDataDescription(exchange='TRQXFI', secType='STK', listingExch='', serviceDataType='Deep', aggGroup=2147483647),\n DepthMktDataDescription(exchange='MERCURY', secType='BAG', listingExch='', serviceDataType='Deep', aggGroup=2147483647),\n DepthMktDataDescription(exchange='N.TALLINN', secType='STK', listingExch='', serviceDataType='Deep', aggGroup=2147483647),\n DepthMktDataDescription(exchange='MEFFRV', secType='FUT', listingExch='', serviceDataType='Deep', aggGroup=2147483647),\n DepthMktDataDescription(exchange='NYBOT', secType='FUT', listingExch='', serviceDataType='Deep', aggGroup=2147483647),\n DepthMktDataDescription(exchange='TGHEPL', secType='STK', listingExch='', serviceDataType='Deep', aggGroup=2147483647),\n DepthMktDataDescription(exchange='IEX', secType='WAR', listingExch='', serviceDataType='Deep', aggGroup=2147483647),\n DepthMktDataDescription(exchange='CFETAS', secType='FUT', listingExch='', serviceDataType='Deep', aggGroup=2147483647),\n DepthMktDataDescription(exchange='TSEJ', secType='FUT', listingExch='', serviceDataType='Deep', aggGroup=2147483647),\n DepthMktDataDescription(exchange='TRQXDK', secType='STK', listingExch='', serviceDataType='Deep', aggGroup=2147483647),\n DepthMktDataDescription(exchange='SEHKNTL', secType='STK', listingExch='', serviceDataType='Deep', aggGroup=2147483647),\n DepthMktDataDescription(exchange='DXEPL', secType='STK', listingExch='', serviceDataType='Deep', aggGroup=2147483647),\n DepthMktDataDescription(exchange='BATECH', secType='STK', listingExch='', serviceDataType='Deep', aggGroup=2147483647),\n DepthMktDataDescription(exchange='GLOBEX', secType='FOP', listingExch='', serviceDataType='Deep', aggGroup=2147483647),\n DepthMktDataDescription(exchange='SEHK', secType='BOND', listingExch='', serviceDataType='Deep', aggGroup=2147483647),\n DepthMktDataDescription(exchange='MONEP', secType='FUT', listingExch='', serviceDataType='Deep', aggGroup=2147483647),\n DepthMktDataDescription(exchange='BATS', secType='WAR', listingExch='', serviceDataType='Deep', aggGroup=2147483647),\n DepthMktDataDescription(exchange='VENTURE', secType='STK', listingExch='', serviceDataType='Deep', aggGroup=2147483647),\n DepthMktDataDescription(exchange='N.VILNIUS', secType='STK', listingExch='', serviceDataType='Deep', aggGroup=2147483647),\n DepthMktDataDescription(exchange='DXEES', secType='STK', listingExch='', serviceDataType='Deep', aggGroup=2147483647),\n DepthMktDataDescription(exchange='CFE', secType='BAG', listingExch='', serviceDataType='Deep', aggGroup=2147483647),\n DepthMktDataDescription(exchange='SEHKSZSE', secType='STK', listingExch='', serviceDataType='Deep', aggGroup=2147483647),\n DepthMktDataDescription(exchange='TRQXHU', secType='STK', listingExch='', serviceDataType='Deep', aggGroup=2147483647),\n DepthMktDataDescription(exchange='ISLAND', secType='WAR', listingExch='', serviceDataType='Deep2', aggGroup=2147483647),\n DepthMktDataDescription(exchange='KSE', secType='FUT', listingExch='', serviceDataType='Deep', aggGroup=2147483647),\n DepthMktDataDescription(exchange='ZERO', secType='STK', listingExch='', serviceDataType='Deep', aggGroup=2147483647),\n DepthMktDataDescription(exchange='NYMEX', secType='FOP', listingExch='', serviceDataType='Deep', aggGroup=2147483647),\n DepthMktDataDescription(exchange='ONE', secType='BAG', listingExch='', serviceDataType='Deep', aggGroup=2147483647),\n DepthMktDataDescription(exchange='PUREMATCH', secType='STK', listingExch='', serviceDataType='Deep', aggGroup=2147483647),\n DepthMktDataDescription(exchange='OCXBETS', secType='BAG', listingExch='', serviceDataType='Deep', aggGroup=2147483647),\n DepthMktDataDescription(exchange='ASX', secType='FUT', listingExch='', serviceDataType='Deep', aggGroup=2147483647),\n DepthMktDataDescription(exchange='SOFFEX', secType='OPT', listingExch='', serviceDataType='Deep', aggGroup=2147483647),\n DepthMktDataDescription(exchange='OMXNO', secType='STK', listingExch='', serviceDataType='Deep', aggGroup=2147483647),\n DepthMktDataDescription(exchange='TRQXIT', secType='STK', listingExch='', serviceDataType='Deep', aggGroup=2147483647),\n DepthMktDataDescription(exchange='BATS', secType='STK', listingExch='', serviceDataType='Deep', aggGroup=2147483647),\n DepthMktDataDescription(exchange='BUX', secType='STK', listingExch='', serviceDataType='Deep', aggGroup=2147483647),\n DepthMktDataDescription(exchange='CFECRYPTO', secType='FUT', listingExch='', serviceDataType='Deep', aggGroup=2147483647),\n DepthMktDataDescription(exchange='LSEIOB1', secType='STK', listingExch='', serviceDataType='Deep', aggGroup=2147483647),\n DepthMktDataDescription(exchange='ASX', secType='BOND', listingExch='', serviceDataType='Deep', aggGroup=2147483647),\n DepthMktDataDescription(exchange='ISLAND', secType='STK', listingExch='', serviceDataType='Deep2', aggGroup=2147483647),\n DepthMktDataDescription(exchange='SMART', secType='STK', listingExch='OTCBB', serviceDataType='AggDeep', aggGroup=1),\n DepthMktDataDescription(exchange='OMXNO', secType='OPT', listingExch='', serviceDataType='Deep', aggGroup=2147483647),\n DepthMktDataDescription(exchange='TOMSBOND', secType='BOND', listingExch='', serviceDataType='Deep', aggGroup=2147483647),\n DepthMktDataDescription(exchange='LTSE', secType='WAR', listingExch='', serviceDataType='Deep', aggGroup=2147483647),\n DepthMktDataDescription(exchange='ECBOT', secType='FUT', listingExch='', serviceDataType='Deep', aggGroup=2147483647),\n DepthMktDataDescription(exchange='PINK', secType='WAR', listingExch='', serviceDataType='Deep', aggGroup=2147483647),\n DepthMktDataDescription(exchange='NASDAQOM', secType='OPT', listingExch='', serviceDataType='Deep', aggGroup=2147483647),\n DepthMktDataDescription(exchange='SNFE', secType='FOP', listingExch='', serviceDataType='Deep', aggGroup=2147483647),\n DepthMktDataDescription(exchange='HEX', secType='STK', listingExch='', serviceDataType='Deep', aggGroup=2147483647),\n DepthMktDataDescription(exchange='BATEUK', secType='STK', listingExch='', serviceDataType='Deep', aggGroup=2147483647),\n DepthMktDataDescription(exchange='LSE', secType='STK', listingExch='', serviceDataType='Deep', aggGroup=2147483647),\n DepthMktDataDescription(exchange='OTOB', secType='FUT', listingExch='', serviceDataType='Deep', aggGroup=2147483647),\n DepthMktDataDescription(exchange='TRQXSE', secType='STK', listingExch='', serviceDataType='Deep', aggGroup=2147483647),\n DepthMktDataDescription(exchange='ASX', secType='OPT', listingExch='', serviceDataType='Deep', aggGroup=2147483647),\n DepthMktDataDescription(exchange='SBF', secType='STK', listingExch='', serviceDataType='Deep', aggGroup=2147483647),\n DepthMktDataDescription(exchange='SEHK', secType='WAR', listingExch='', serviceDataType='Deep', aggGroup=2147483647),\n DepthMktDataDescription(exchange='SEHK', secType='BOND', listingExch='', serviceDataType='DeepX', aggGroup=2147483647),\n DepthMktDataDescription(exchange='IEX', secType='STK', listingExch='', serviceDataType='Deep', aggGroup=2147483647),\n DepthMktDataDescription(exchange='TGHEEN', secType='STK', listingExch='', serviceDataType='Deep', aggGroup=2147483647),\n DepthMktDataDescription(exchange='BEX', secType='STK', listingExch='', serviceDataType='Deep', aggGroup=2147483647),\n DepthMktDataDescription(exchange='CMECRYPTO', secType='BAG', listingExch='', serviceDataType='Deep', aggGroup=2147483647),\n DepthMktDataDescription(exchange='ARCAEDGE', secType='WAR', listingExch='', serviceDataType='Deep', aggGroup=2147483647),\n DepthMktDataDescription(exchange='BATEIT', secType='STK', listingExch='', serviceDataType='Deep', aggGroup=2147483647),\n DepthMktDataDescription(exchange='VSE', secType='STK', listingExch='', serviceDataType='Deep', aggGroup=2147483647),\n DepthMktDataDescription(exchange='BATEHU', secType='STK', listingExch='', serviceDataType='Deep', aggGroup=2147483647),\n DepthMktDataDescription(exchange='ONE', secType='FUT', listingExch='', serviceDataType='Deep', aggGroup=2147483647),\n DepthMktDataDescription(exchange='AMEX', secType='BAG', listingExch='', serviceDataType='Deep', aggGroup=2147483647),\n DepthMktDataDescription(exchange='IPE', secType='FUT', listingExch='', serviceDataType='Deep', aggGroup=2147483647),\n DepthMktDataDescription(exchange='OMS', secType='FUT', listingExch='', serviceDataType='Deep', aggGroup=2147483647),\n DepthMktDataDescription(exchange='EUREXUK', secType='OPT', listingExch='', serviceDataType='Deep', aggGroup=2147483647),\n DepthMktDataDescription(exchange='OSE.JPN', secType='OPT', listingExch='', serviceDataType='Deep', aggGroup=2147483647),\n DepthMktDataDescription(exchange='ASX', secType='STK', listingExch='', serviceDataType='Deep', aggGroup=2147483647),\n DepthMktDataDescription(exchange='SNFE', secType='FUT', listingExch='', serviceDataType='Deep', aggGroup=2147483647),\n DepthMktDataDescription(exchange='EURONEXT', secType='BOND', listingExch='', serviceDataType='Deep', aggGroup=2147483647),\n DepthMktDataDescription(exchange='OSE.JPN', secType='FOP', listingExch='', serviceDataType='Deep', aggGroup=2147483647),\n DepthMktDataDescription(exchange='TAIFEX', secType='FUT', listingExch='', serviceDataType='Deep', aggGroup=2147483647),\n DepthMktDataDescription(exchange='MEFFRV', secType='OPT', listingExch='', serviceDataType='Deep', aggGroup=2147483647),\n DepthMktDataDescription(exchange='OCXBETS', secType='FUT', listingExch='', serviceDataType='Deep', aggGroup=2147483647),\n DepthMktDataDescription(exchange='PREBORROW', secType='SLB', listingExch='', serviceDataType='Deep', aggGroup=2147483647),\n DepthMktDataDescription(exchange='CMECRYPTO', secType='IND', listingExch='', serviceDataType='Deep', aggGroup=2147483647),\n DepthMktDataDescription(exchange='BOVESPA', secType='OPT', listingExch='', serviceDataType='Deep', aggGroup=2147483647),\n DepthMktDataDescription(exchange='SEHK', secType='STK', listingExch='', serviceDataType='DeepX', aggGroup=2147483647),\n DepthMktDataDescription(exchange='CHINEXT', secType='STK', listingExch='', serviceDataType='Deep', aggGroup=2147483647),\n DepthMktDataDescription(exchange='AQS_P', secType='SLB', listingExch='', serviceDataType='Deep', aggGroup=2147483647),\n DepthMktDataDescription(exchange='ISLAND', secType='WAR', listingExch='', serviceDataType='Deep', aggGroup=2147483647),\n DepthMktDataDescription(exchange='TSEJ', secType='BAG', listingExch='', serviceDataType='Deep', aggGroup=2147483647),\n DepthMktDataDescription(exchange='CHIXAT', secType='STK', listingExch='', serviceDataType='Deep', aggGroup=2147483647),\n DepthMktDataDescription(exchange='ARCAEDGE', secType='STK', listingExch='', serviceDataType='Deep', aggGroup=2147483647),\n DepthMktDataDescription(exchange='BOX', secType='OPT', listingExch='', serviceDataType='Deep', aggGroup=2147483647),\n DepthMktDataDescription(exchange='CFECRYPTO', secType='IND', listingExch='', serviceDataType='Deep', aggGroup=2147483647),\n DepthMktDataDescription(exchange='TRQXAT', secType='STK', listingExch='', serviceDataType='Deep', aggGroup=2147483647),\n DepthMktDataDescription(exchange='ICEUS', secType='FUT', listingExch='', serviceDataType='Deep', aggGroup=2147483647),\n DepthMktDataDescription(exchange='BM', secType='STK', listingExch='', serviceDataType='Deep', aggGroup=2147483647),\n DepthMktDataDescription(exchange='LSEIOB2', secType='STK', listingExch='', serviceDataType='Deep', aggGroup=2147483647),\n DepthMktDataDescription(exchange='SMART', secType='BOND', listingExch='', serviceDataType='Deep', aggGroup=7),\n DepthMktDataDescription(exchange='OMXNO', secType='IND', listingExch='', serviceDataType='Deep', aggGroup=2147483647),\n DepthMktDataDescription(exchange='CHIXPL', secType='STK', listingExch='', serviceDataType='Deep', aggGroup=2147483647),\n DepthMktDataDescription(exchange='TRQXNO', secType='STK', listingExch='', serviceDataType='Deep', aggGroup=2147483647),\n DepthMktDataDescription(exchange='SFB', secType='STK', listingExch='', serviceDataType='Deep', aggGroup=2147483647),\n DepthMktDataDescription(exchange='OSE', secType='STK', listingExch='', serviceDataType='Deep', aggGroup=2147483647),\n DepthMktDataDescription(exchange='LTSE', secType='STK', listingExch='', serviceDataType='Deep', aggGroup=2147483647),\n DepthMktDataDescription(exchange='DXESE', secType='STK', listingExch='', serviceDataType='Deep', aggGroup=2147483647),\n DepthMktDataDescription(exchange='CHIXDE', secType='STK', listingExch='', serviceDataType='Deep', aggGroup=2147483647),\n DepthMktDataDescription(exchange='IBIS', secType='STK', listingExch='', serviceDataType='Deep', aggGroup=2147483647),\n DepthMktDataDescription(exchange='NYSE', secType='STK', listingExch='', serviceDataType='Deep', aggGroup=2147483647),\n DepthMktDataDescription(exchange='EDXNO', secType='FUT', listingExch='', serviceDataType='Deep', aggGroup=2147483647),\n DepthMktDataDescription(exchange='PINK', secType='STK', listingExch='', serviceDataType='Deep', aggGroup=2147483647),\n DepthMktDataDescription(exchange='BATEFI', secType='STK', listingExch='', serviceDataType='Deep', aggGroup=2147483647),\n DepthMktDataDescription(exchange='PSE', secType='BAG', listingExch='', serviceDataType='Deep', aggGroup=2147483647),\n DepthMktDataDescription(exchange='TGHESE', secType='STK', listingExch='', serviceDataType='Deep', aggGroup=2147483647),\n DepthMktDataDescription(exchange='EBS', secType='STK', listingExch='', serviceDataType='Deep', aggGroup=2147483647),\n DepthMktDataDescription(exchange='GEMINI', secType='BAG', listingExch='', serviceDataType='Deep', aggGroup=2147483647),\n DepthMktDataDescription(exchange='TRQXES', secType='STK', listingExch='', serviceDataType='Deep', aggGroup=2147483647),\n DepthMktDataDescription(exchange='CPH', secType='STK', listingExch='', serviceDataType='Deep', aggGroup=2147483647),\n DepthMktDataDescription(exchange='CDE', secType='OPT', listingExch='', serviceDataType='Deep', aggGroup=2147483647),\n DepthMktDataDescription(exchange='ISE', secType='BAG', listingExch='', serviceDataType='Deep', aggGroup=2147483647),\n DepthMktDataDescription(exchange='TRQXIR', secType='STK', listingExch='', serviceDataType='Deep', aggGroup=2147483647)]"
     },
     "metadata": {},
     "execution_count": 7
    }
   ],
   "source": [
    "l = ib.reqMktDepthExchanges()\n",
    "l"
   ]
  },
  {
   "cell_type": "markdown",
   "metadata": {},
   "source": [
    "Let's subscribe to market depth data for EURUSD:"
   ]
  },
  {
   "cell_type": "code",
   "execution_count": 8,
   "metadata": {},
   "outputs": [],
   "source": [
    "contract = Forex('EURUSD')\n",
    "ib.qualifyContracts(contract)\n",
    "ticker = ib.reqMktDepth(contract)"
   ]
  },
  {
   "cell_type": "markdown",
   "metadata": {},
   "source": [
    "To see a live order book, an event handler for ticker updates is made that displays a dynamically updated dataframe:"
   ]
  },
  {
   "cell_type": "code",
   "execution_count": 9,
   "metadata": {},
   "outputs": [
    {
     "output_type": "display_data",
     "data": {
      "text/plain": "    bidSize bidPrice askPrice  askSize\n0  11500000  1.18236  1.18238  2000000\n1   7500000  1.18235  1.18239   500000\n2   5000000  1.18234   1.1824  4500000\n3   3500000  1.18233  1.18241  7500000\n4   7000000  1.18231  1.18242  1000000",
      "text/html": "<div>\n<style scoped>\n    .dataframe tbody tr th:only-of-type {\n        vertical-align: middle;\n    }\n\n    .dataframe tbody tr th {\n        vertical-align: top;\n    }\n\n    .dataframe thead th {\n        text-align: right;\n    }\n</style>\n<table border=\"1\" class=\"dataframe\">\n  <thead>\n    <tr style=\"text-align: right;\">\n      <th></th>\n      <th>bidSize</th>\n      <th>bidPrice</th>\n      <th>askPrice</th>\n      <th>askSize</th>\n    </tr>\n  </thead>\n  <tbody>\n    <tr>\n      <th>0</th>\n      <td>11500000</td>\n      <td>1.18236</td>\n      <td>1.18238</td>\n      <td>2000000</td>\n    </tr>\n    <tr>\n      <th>1</th>\n      <td>7500000</td>\n      <td>1.18235</td>\n      <td>1.18239</td>\n      <td>500000</td>\n    </tr>\n    <tr>\n      <th>2</th>\n      <td>5000000</td>\n      <td>1.18234</td>\n      <td>1.1824</td>\n      <td>4500000</td>\n    </tr>\n    <tr>\n      <th>3</th>\n      <td>3500000</td>\n      <td>1.18233</td>\n      <td>1.18241</td>\n      <td>7500000</td>\n    </tr>\n    <tr>\n      <th>4</th>\n      <td>7000000</td>\n      <td>1.18231</td>\n      <td>1.18242</td>\n      <td>1000000</td>\n    </tr>\n  </tbody>\n</table>\n</div>"
     },
     "metadata": {}
    }
   ],
   "source": [
    "from IPython.display import display, clear_output\n",
    "import pandas as pd\n",
    "\n",
    "df = pd.DataFrame(index=range(5),\n",
    "        columns='bidSize bidPrice askPrice askSize'.split())\n",
    "\n",
    "def onTickerUpdate(ticker):\n",
    "    bids = ticker.domBids\n",
    "    for i in range(5):\n",
    "        df.iloc[i, 0] = bids[i].size if i < len(bids) else 0\n",
    "        df.iloc[i, 1] = bids[i].price if i < len(bids) else 0\n",
    "    asks = ticker.domAsks\n",
    "    for i in range(5):\n",
    "        df.iloc[i, 2] = asks[i].price if i < len(asks) else 0\n",
    "        df.iloc[i, 3] = asks[i].size if i < len(asks) else 0\n",
    "    clear_output(wait=True)\n",
    "    display(df)\n",
    "\n",
    "ticker.updateEvent += onTickerUpdate\n",
    "\n",
    "IB.sleep(15);"
   ]
  },
  {
   "cell_type": "markdown",
   "metadata": {},
   "source": [
    "Stop the market depth subscription:"
   ]
  },
  {
   "cell_type": "code",
   "execution_count": 10,
   "metadata": {},
   "outputs": [],
   "source": [
    "ib.cancelMktDepth(contract)"
   ]
  },
  {
   "cell_type": "code",
   "execution_count": 11,
   "metadata": {},
   "outputs": [],
   "source": [
    "ib.disconnect()"
   ]
  },
  {
   "cell_type": "code",
   "execution_count": null,
   "metadata": {},
   "outputs": [],
   "source": []
  }
 ],
 "metadata": {
  "kernelspec": {
   "display_name": "Python 3",
   "language": "python",
   "name": "python3"
  },
  "language_info": {
   "codemirror_mode": {
    "name": "ipython",
    "version": 3
   },
   "file_extension": ".py",
   "mimetype": "text/x-python",
   "name": "python",
   "nbconvert_exporter": "python",
   "pygments_lexer": "ipython3",
   "version": "3.6.10-final"
  }
 },
 "nbformat": 4,
 "nbformat_minor": 4
}