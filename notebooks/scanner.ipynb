{
 "metadata": {
  "language_info": {
   "codemirror_mode": {
    "name": "ipython",
    "version": 3
   },
   "file_extension": ".py",
   "mimetype": "text/x-python",
   "name": "python",
   "nbconvert_exporter": "python",
   "pygments_lexer": "ipython3",
   "version": "3.6.10-final"
  },
  "orig_nbformat": 2,
  "kernelspec": {
   "name": "python_defaultSpec_1600694799110",
   "display_name": "Python 3.6.10 64-bit ('.pyenv': pyenv)"
  }
 },
 "nbformat": 4,
 "nbformat_minor": 2,
 "cells": [
  {
   "cell_type": "code",
   "execution_count": 3,
   "metadata": {
    "tags": []
   },
   "outputs": [
    {
     "output_type": "execute_result",
     "data": {
      "text/plain": "<IB connected to 127.0.0.1:7497 clientId=18>"
     },
     "metadata": {},
     "execution_count": 3
    }
   ],
   "source": [
    "from ib_insync import *\n",
    "util.startLoop()  \n",
    "\n",
    "ib = IB()\n",
    "ib.connect('127.0.0.1', 7497, clientId=18,readonly=True)\n"
   ]
  },
  {
   "cell_type": "code",
   "execution_count": 28,
   "metadata": {
    "tags": []
   },
   "outputs": [
    {
     "output_type": "stream",
     "name": "stdout",
     "text": "50 results, first one:\nScanData(rank=0, contractDetails=ContractDetails(contract=Contract(secType='STK', conId=291813470, symbol='ZOM', exchange='SMART', currency='USD', localSymbol='ZOM', tradingClass='ZOM'), marketName='ZOM', minTick=0.0, orderTypes='', validExchanges='', priceMagnifier=0, underConId=0, longName='', contractMonth='', industry='', category='', subcategory='', timeZoneId='', tradingHours='', liquidHours='', evRule='', evMultiplier=0, mdSizeMultiplier=0, aggGroup=0, underSymbol='', underSecType='', marketRuleIds='', secIdList=[], realExpirationDate='', lastTradeTime='', stockType='', cusip='', ratings='', descAppend='', bondType='', couponType='', callable=False, putable=False, coupon=0, convertible=False, maturity='', issueDate='', nextOptionDate='', nextOptionType='', nextOptionPartial=False, notes=''), distance='', benchmark='', projection='', legsStr='')\n"
    }
   ],
   "source": [
    "sub = ScannerSubscription(\n",
    "    instrument='STK', \n",
    "    locationCode='STK.US.MAJOR', \n",
    "    scanCode='TOP_PERC_GAIN')\n",
    "\n",
    "scanData = ib.reqScannerData(sub)\n",
    "\n",
    "print(f'{len(scanData)} results, first one:')\n",
    "print(scanData[0])\n"
   ]
  },
  {
   "cell_type": "code",
   "execution_count": 29,
   "metadata": {
    "tags": []
   },
   "outputs": [
    {
     "output_type": "stream",
     "name": "stdout",
     "text": "['ZOM', 'AMPE', 'NTN', 'NES', 'ONTX', 'CUB', 'HGEN', 'ACST', 'MDNA', 'VRME', 'JFKKR', 'TRCH', 'CRMD', 'JFKKU', 'CELG RT', 'ESP', 'NRGD', 'JFK', 'CBAT', 'NEOS', 'HIBS', 'BNKD', 'PIC U', 'RNDB', 'GHSI', 'ENTX', 'JE', 'GRU', 'PIC', 'IEFN', 'IOR', 'IZEA', 'DRIP', 'JE PRA', 'CRDF', 'EPV', 'SRTY', 'KIQ', 'TZA', 'NCTY', 'NRT', 'CFMS', 'AVDL', 'ZCMD', 'DPHC', 'GNUS', 'GECC', 'ITRN', 'SVT', 'KFS']\nError 162, reqId 18: Historical Market Data Service error message:API scanner subscription cancelled: 18\n"
    }
   ],
   "source": [
    "sub.belowPrice = 100\n",
    "scanData = ib.reqScannerData(sub)\n",
    "\n",
    "symbols = [sd.contractDetails.contract.symbol for sd in scanData]\n",
    "print(symbols)\n"
   ]
  },
  {
   "cell_type": "code",
   "execution_count": 6,
   "metadata": {
    "tags": []
   },
   "outputs": [
    {
     "output_type": "stream",
     "name": "stdout",
     "text": "2025056 bytes\n"
    }
   ],
   "source": [
    "xml = ib.reqScannerParameters()\n",
    "\n",
    "print(len(xml), 'bytes')\n"
   ]
  },
  {
   "cell_type": "code",
   "execution_count": 12,
   "metadata": {
    "tags": [
     "outputPrepend"
    ]
   },
   "outputs": [
    {
     "output_type": "stream",
     "name": "stdout",
     "text": "Pct_FixedBelow', 'etfPct_at_MtyAbove', 'etfPct_at_MtyBelow', 'etfMoodyRatingAbove', 'etfMoodyRatingBelow', 'etfSPRatingAbove', 'etfSPRatingBelow', 'prevYrETFFYBVPerShareAbove', 'prevYrETFFYBVPerShareBelow', 'prevYrETFFYDividendYieldAbove', 'prevYrETFFYDividendYieldBelow', 'prevYrETFFYDPSAbove', 'prevYrETFFYDPSBelow', 'prevYrETFFYEPSAbove', 'prevYrETFFYEPSBelow', 'prevYrETFFYEPSGrowthAbove', 'prevYrETFFYEPSGrowthBelow', 'prevYrETFFYNetMarginAbove', 'prevYrETFFYNetMarginBelow', 'prevYrETFFYPriceToBookValueAbove', 'prevYrETFFYPriceToBookValueBelow', 'prevYrETFFYPriceToCashFlowAbove', 'prevYrETFFYPriceToCashFlowBelow', 'prevYrETFFYPriceToEarningsAbove', 'prevYrETFFYPriceToEarningsBelow', 'prevYrETFFYPriceToGrowthAbove', 'prevYrETFFYPriceToGrowthBelow', 'prevYrETFFYPriceToSalesAbove', 'prevYrETFFYPriceToSalesBelow', 'prevYrETFFYRoEAbove', 'prevYrETFFYRoEBelow', 'prevYrETFFYSPSAbove', 'prevYrETFFYSPSBelow', 'prevYrETFFYSPSGrowthAbove', 'prevYrETFFYSPSGrowthBelow', 'currYrETFFYBVPerShareAbove', 'currYrETFFYBVPerShareBelow', 'currYrETFFYDividendYieldAbove', 'currYrETFFYDividendYieldBelow', 'currYrETFFYDPSAbove', 'currYrETFFYDPSBelow', 'currYrETFFYEPSAbove', 'currYrETFFYEPSBelow', 'currYrETFFYEPSGrowthAbove', 'currYrETFFYEPSGrowthBelow', 'currYrETFFYNetMarginAbove', 'currYrETFFYNetMarginBelow', 'currYrETFFYPriceToBookValueAbove', 'currYrETFFYPriceToBookValueBelow', 'currYrETFFYPriceToCashFlowAbove', 'currYrETFFYPriceToCashFlowBelow', 'currYrETFFYPriceToEarningsAbove', 'currYrETFFYPriceToEarningsBelow', 'currYrETFFYPriceToGrowthAbove', 'currYrETFFYPriceToGrowthBelow', 'currYrETFFYPriceToSalesAbove', 'currYrETFFYPriceToSalesBelow', 'currYrETFFYRoEAbove', 'currYrETFFYRoEBelow', 'currYrETFFYSPSAbove', 'currYrETFFYSPSBelow', 'currYrETFFYSPSGrowthAbove', 'currYrETFFYSPSGrowthBelow', 'nextYrETFFYBVPerShareAbove', 'nextYrETFFYBVPerShareBelow', 'nextYrETFFYDividendYieldAbove', 'nextYrETFFYDividendYieldBelow', 'nextYrETFFYDPSAbove', 'nextYrETFFYDPSBelow', 'nextYrETFFYEPSAbove', 'nextYrETFFYEPSBelow', 'nextYrETFFYEPSGrowthAbove', 'nextYrETFFYEPSGrowthBelow', 'nextYrETFFYNetMarginAbove', 'nextYrETFFYNetMarginBelow', 'nextYrETFFYPriceToBookValueAbove', 'nextYrETFFYPriceToBookValueBelow', 'nextYrETFFYPriceToCashFlowAbove', 'nextYrETFFYPriceToCashFlowBelow', 'nextYrETFFYPriceToEarningsAbove', 'nextYrETFFYPriceToEarningsBelow', 'nextYrETFFYPriceToGrowthAbove', 'nextYrETFFYPriceToGrowthBelow', 'nextYrETFFYPriceToSalesAbove', 'nextYrETFFYPriceToSalesBelow', 'nextYrETFFYRoEAbove', 'nextYrETFFYRoEBelow', 'nextYrETFFYSPSAbove', 'nextYrETFFYSPSBelow', 'nextYrETFFYSPSGrowthAbove', 'nextYrETFFYSPSGrowthBelow', 'btOptObj', 'btOptVendor', 'btNotional', 'btLeverageLong', 'btLeverageShort', 'btIndex', 'researchProviderIs', 'btLongPosTopBottom', 'btLongPosRank', 'btShortPosTopBottom', 'btShortPosRank', 'btWeight', 'Rebalance', 'btRebalanceFrequency', 'btTestPeriod', 'btBenchmark', 'sort_weights', 'ford_researchAbove', 'ford_researchBelow', 'street_ratingsAbove', 'street_ratingsBelow', 'valuengineAbove', 'valuengineBelow', 'sadif_analyticsAbove', 'sadif_analyticsBelow', 'market_edgeAbove', 'market_edgeBelow', 'validea_guruAbove', 'validea_guruBelow', 'market_graderAbove', 'market_graderBelow', 'argusAbove', 'argusBelow', 'morningstarAbove', 'morningstarBelow', 'constructs_researchAbove', 'constructs_researchBelow', 'zacksAbove', 'zacksBelow', 'shortInterestChgAbove', 'shortInterestChgBelow', 'shortOutstandingRatioAbove', 'shortOutstandingRatioBelow', 'reutEPSChgPct_TTMAbove', 'reutEPSChgPct_TTMBelow', 'reutPENorm_MRYAbove', 'reutPENorm_MRYBelow', 'reutPayoutRatioPct_TTMAbove', 'reutPayoutRatioPct_TTMBelow', 'reutRev_TTMAbove', 'reutRev_TTMBelow', 'reutEBT_TTMAbove', 'reutEBT_TTMBelow', 'reutTotDebtTotEquityRatio_MRQ_Above', 'reutTotDebtTotEquityRatio_MRQ_Below', 'reutRevChgPct_TTMAbove', 'reutRevChgPct_TTMBelow', 'reutPrice2CashFlowPerShare_TTMAbove', 'reutPrice2CashFlowPerShare_TTMBelow', 'reutCurrentRatio_MRQAbove', 'reutCurrentRatio_MRQBelow', 'reutLongTermDebt2Equity_MRQAbove', 'reutLongTermDebt2Equity_MRQBelow', 'reutNetIncomeAvlble2Common_TTMAbove', 'reutNetIncomeAvlble2Common_TTMBelow', 'reutNetProfitMarginPct_TTMAbove', 'reutNetProfitMarginPct_TTMBelow', 'reutRevChgPctAbove', 'reutRevChgPctBelow', 'reutPrice2SalesRatio_TTMAbove', 'reutPrice2SalesRatio_TTMBelow', 'reutGrossMargin_TTMAbove', 'reutGrossMargin_TTMBelow', 'reutEBTNorm_MRYAbove', 'reutEBTNorm_MRYBelow', 'reutNetIncomeAvlble2CommonNorm_MRYAbove', 'reutNetIncomeAvlble2CommonNorm_MRYBelow', 'reutReturnOnAvgAssetsPct_TTMAbove', 'reutReturnOnAvgAssetsPct_TTMBelow', 'reutReturnOnInvestmentPct_TTMAbove', 'reutReturnOnInvestmentPct_TTMBelow', 'reutOperatingMargin_TTMAbove', 'reutOperatingMargin_TTMBelow', 'reutEPSChgPctAbove', 'reutEPSChgPctBelow', 'reutPretaxMarginPct_MRYAbove', 'reutPretaxMarginPct_MRYBelow', 'reutEBITD_TTMAbove', 'reutEBITD_TTMBelow', 'ibPriceYTDPctAbove', 'ibPriceYTDPctBelow', 'ibFrac52wkAbove', 'ibFrac52wkBelow', 'reutPretaxMargin_TTMAbove', 'reutPretaxMargin_TTMBelow', 'reutFreeCashFlow_TTMAbove', 'reutFreeCashFlow_TTMBelow', 'reutNetDebtIAbove', 'reutNetDebtIBelow', 'reutBetaAbove', 'reutBetaBelow', 'ibPriceYTDPctR_Above', 'ibPriceYTDPctR_Below', 'reutEnterpriseValueCurAbove', 'reutEnterpriseValueCurBelow', 'curEMA20Above', 'curEMA20Below', 'curEMA50Above', 'curEMA50Below', 'curEMA100Above', 'curEMA100Below', 'curEMA200Above', 'curEMA200Below', 'lastVsEMAChangeRatio20Above', 'lastVsEMAChangeRatio20Below', 'lastVsEMAChangeRatio50Above', 'lastVsEMAChangeRatio50Below', 'lastVsEMAChangeRatio100Above', 'lastVsEMAChangeRatio100Below', 'lastVsEMAChangeRatio200Above', 'lastVsEMAChangeRatio200Below', 'curMACDAbove', 'curMACDBelow', 'curMACDSignalAbove', 'curMACDSignalBelow', 'curMACDDistAbove', 'curMACDDistBelow', 'curPPOAbove', 'curPPOBelow', 'curPPOSignalAbove', 'curPPOSignalBelow', 'curPPODistAbove', 'curPPODistBelow', 'reutCurrentAssets_MRQAbove', 'reutCurrentAssets_MRQBelow', 'reutCurrentAssets_MRYAbove', 'reutCurrentAssets_MRYBelow', 'reutCashFlowPerShare_MRYAbove', 'reutCashFlowPerShare_MRYBelow', 'reutEBIT_MRQAbove', 'reutEBIT_MRQBelow', 'reutEBIT_MRYAbove', 'reutEBIT_MRYBelow', 'reutEPS_MRYAbove', 'reutEPS_MRYBelow', 'reutIssuanceOfDebt_MRQAbove', 'reutIssuanceOfDebt_MRQBelow', 'reutIssuanceOfDebt_MRYAbove', 'reutIssuanceOfDebt_MRYBelow', 'reutIssuanceOfStock_MRQAbove', 'reutIssuanceOfStock_MRQBelow', 'reutIssuanceOfStock_MRYAbove', 'reutIssuanceOfStock_MRYBelow', 'reutShortTermDebt_MRQAbove', 'reutShortTermDebt_MRQBelow', 'reutShortTermDebt_MRYAbove', 'reutShortTermDebt_MRYBelow', 'reutCurrentLiabilities_MRQAbove', 'reutCurrentLiabilities_MRQBelow', 'reutCurrentLiabilities_MRYAbove', 'reutCurrentLiabilities_MRYBelow', 'reutCashFromOperating_MRQAbove', 'reutCashFromOperating_MRQBelow', 'reutCashFromOperating_MRYAbove', 'reutCashFromOperating_MRYBelow', 'reutRevenuePerShare_MRYAbove', 'reutRevenuePerShare_MRYBelow', 'reutReturnOnAvgAssetsPct_MRYAbove', 'reutReturnOnAvgAssetsPct_MRYBelow', 'reutReturnOnInvestmentPct_MRYAbove', 'reutReturnOnInvestmentPct_MRYBelow', 'reutCapitalExpenditures_MRQAbove', 'reutCapitalExpenditures_MRQBelow', 'reutCapitalExpenditures_MRYAbove', 'reutCapitalExpenditures_MRYBelow', 'reutCashFromFinancing_MRQAbove', 'reutCashFromFinancing_MRQBelow', 'reutCashFromFinancing_MRYAbove', 'reutCashFromFinancing_MRYBelow', 'reutCashFromInvesting_MRQAbove', 'reutCashFromInvesting_MRQBelow', 'reutCashFromInvesting_MRYAbove', 'reutCashFromInvesting_MRYBelow', 'reutInterestExpense_MRQAbove', 'reutInterestExpense_MRQBelow', 'reutInterestExpense_MRYAbove', 'reutInterestExpense_MRYBelow', 'reutOperatingIncome_MRQAbove', 'reutOperatingIncome_MRQBelow', 'reutOperatingIncome_MRYAbove', 'reutOperatingIncome_MRYBelow', 'reutEnterpriseValueToEBITDAAbove', 'reutEnterpriseValueToEBITDABelow', 'ibPrice1WKPctAbove', 'ibPrice1WKPctBelow', 'ibPrice4WKPctAbove', 'ibPrice4WKPctBelow', 'ibPrice13WKPctAbove', 'ibPrice13WKPctBelow', 'ibPrice52WKPctAbove', 'ibPrice52WKPctBelow', 'reutYieldAbove', 'reutYieldBelow', 'reutCash_MRQAbove', 'reutCash_MRQBelow', 'reutEBITDA_MRQAbove', 'reutEBITDA_MRQBelow', 'reutPrice2SalesRatio_MRQAbove', 'reutPrice2SalesRatio_MRQBelow', 'reutPrice2CashFlowPerShare_MRQAbove', 'reutPrice2CashFlowPerShare_MRQBelow', 'reutTotalAssets_MRQAbove', 'reutTotalAssets_MRQBelow', 'reutTotalLiabilities_MRQAbove', 'reutTotalLiabilities_MRQBelow', 'reutTotalCommonEquity_MRQAbove', 'reutTotalCommonEquity_MRQBelow', 'reutTotalLongTermDebt_MRQAbove', 'reutTotalLongTermDebt_MRQBelow', 'reutBookValueTanPerShare_MRQAbove', 'reutBookValueTanPerShare_MRQBelow', 'reutCashFlowPerShare_TTMAbove', 'reutCashFlowPerShare_TTMBelow', 'reutEPS_TTMAbove', 'reutEPS_TTMBelow', 'reutRev2Share_TTMAbove', 'reutRev2Share_TTMBelow', 'sharesOutstandingAbove', 'sharesOutstandingBelow', 'esgScoreAbove', 'esgScoreBelow', 'esgCombinedScoreAbove', 'esgCombinedScoreBelow', 'esgControversiesScoreAbove', 'esgControversiesScoreBelow', 'esgResourceUseScoreAbove', 'esgResourceUseScoreBelow', 'esgEmissionsScoreAbove', 'esgEmissionsScoreBelow', 'esgEnvInvScoreAbove', 'esgEnvInvScoreBelow', 'esgWorkforceScoreAbove', 'esgWorkforceScoreBelow', 'esgHrScoreAbove', 'esgHrScoreBelow', 'esgCommunityScoreAbove', 'esgCommunityScoreBelow', 'esgProdRespScoreAbove', 'esgProdRespScoreBelow', 'esgManagementScoreAbove', 'esgManagementScoreBelow', 'esgShareholdersScoreAbove', 'esgShareholdersScoreBelow', 'esgStrategyScoreAbove', 'esgStrategyScoreBelow', 'esgEnvPillarScoreAbove', 'esgEnvPillarScoreBelow', 'esgSocialPillarScoreAbove', 'esgSocialPillarScoreBelow', 'esgCorpGovPillarScoreAbove', 'esgCorpGovPillarScoreBelow', 'ivRank13wAbove', 'ivRank13wBelow', 'ivRank26wAbove', 'ivRank26wBelow', 'ivRank52wAbove', 'ivRank52wBelow', 'ivPercntl13wAbove', 'ivPercntl13wBelow', 'ivPercntl26wAbove', 'ivPercntl26wBelow', 'ivPercntl52wAbove', 'ivPercntl52wBelow', 'hvRank13wAbove', 'hvRank13wBelow', 'HVRank26wAbove', 'HVRank26wBelow', 'HVRank52wAbove', 'HVRank52wBelow', 'HVPercntl13wAbove', 'HVPercntl13wBelow', 'HVPercntl26wAbove', 'HVPercntl26wBelow', 'HVPercntl52wAbove', 'HVPercntl52wBelow', 'mfTotalReturnScoreOverallAbove', 'mfTotalReturnScoreOverallBelow', 'mfConsistentReturnScoreOverallAbove', 'mfConsistentReturnScoreOverallBelow', 'mfPreservationScoreOverallAbove', 'mfPreservationScoreOverallBelow', 'mfTaxEfficiencyScoreOverallAbove', 'mfTaxEfficiencyScoreOverallBelow', 'mfExpenseScoreOverallAbove', 'mfExpenseScoreOverallBelow', 'mfTotalReturnScore3yrAbove', 'mfTotalReturnScore3yrBelow', 'mfConsistentReturnScore3yrAbove', 'mfConsistentReturnScore3yrBelow', 'mfPreservationScore3yrAbove', 'mfPreservationScore3yrBelow', 'mfTaxEfficiencyScore3yrAbove', 'mfTaxEfficiencyScore3yrBelow', 'mfExpenseScore3yrAbove', 'mfExpenseScore3yrBelow', 'mfTotalReturnScore5yrAbove', 'mfTotalReturnScore5yrBelow', 'mfConsistentReturnScore5yrAbove', 'mfConsistentReturnScore5yrBelow', 'mfPreservationScore5yrAbove', 'mfPreservationScore5yrBelow', 'mfTaxEfficiencyScore5yrAbove', 'mfTaxEfficiencyScore5yrBelow', 'mfExpenseScore5yrAbove', 'mfExpenseScore5yrBelow', 'mfTotalReturnScore10yrAbove', 'mfTotalReturnScore10yrBelow', 'mfConsistentReturnScore10yrAbove', 'mfConsistentReturnScore10yrBelow', 'mfPreservationScore10yrAbove', 'mfPreservationScore10yrBelow', 'mfTaxEfficiencyScore10yrAbove', 'mfTaxEfficiencyScore10yrBelow', 'mfExpenseScore10yrAbove', 'mfExpenseScore10yrBelow', 'mfDistributionYield1yrValueAbove', 'mfDistributionYield1yrValueBelow', 'mfPercentageGrowthCumulativeValueAbove', 'mfPercentageGrowthCumulativeValueBelow', 'mfAnnualizedPerformance3yrValueAbove', 'mfAnnualizedPerformance3yrValueBelow', 'mfAnnualizedPerformance5yrValueAbove', 'mfAnnualizedPerformance5yrValueBelow', 'mfAnnualizedPerformance10yrValueAbove', 'mfAnnualizedPerformance10yrValueBelow', 'mfPriceChangeValueAbove', 'mfPriceChangeValueBelow', 'mfYieldValueAbove', 'mfYieldValueBelow', 'mfProjectedYieldValueAbove', 'mfProjectedYieldValueBelow', 'mfPctChangeAbove', 'mfPctChangeBelow', 'mfAdjustedRSquared1yrAbove', 'mfAdjustedRSquared1yrBelow', 'mfAlpha1yrAbove', 'mfAlpha1yrBelow', 'mfAverageLoss1yrAbove', 'mfAverageLoss1yrBelow', 'mfAverageReturn1yrAbove', 'mfAverageReturn1yrBelow', 'mfBearBeta1yrAbove', 'mfBearBeta1yrBelow', 'mfBeta1yrAbove', 'mfBeta1yrBelow', 'mfBullBeta1yrAbove', 'mfBullBeta1yrBelow', 'mfCovariance1yrAbove', 'mfCovariance1yrBelow', 'mfCorrelation1yrAbove', 'mfCorrelation1yrBelow', 'mfDownsideDeviationPopulation1yrAbove', 'mfDownsideDeviationPopulation1yrBelow', 'mfInformationRatio1yrAbove', 'mfInformationRatio1yrBelow', 'mfMaxGain1yrAbove', 'mfMaxGain1yrBelow', 'mfMaxLoss1yrAbove', 'mfMaxLoss1yrBelow', 'mfMaximumDrawdown1yrAbove', 'mfMaximumDrawdown1yrBelow', 'mfPositivePeriods1yrAbove', 'mfPositivePeriods1yrBelow', 'mfRSquared1yrAbove', 'mfRSquared1yrBelow', 'mfReturnRiskRatio1yrAbove', 'mfReturnRiskRatio1yrBelow', 'mfSRRI1yrAbove', 'mfSRRI1yrBelow', 'mfSemiDeviation1yrAbove', 'mfSemiDeviation1yrBelow', 'mfSemiVariance1yrAbove', 'mfSemiVariance1yrBelow', 'mfSharpeRatio1yrAbove', 'mfSharpeRatio1yrBelow', 'mfSortino1yrAbove', 'mfSortino1yrBelow', 'mfStandardDeviation1yrAbove', 'mfStandardDeviation1yrBelow', 'mfTrackingError1yrAbove', 'mfTrackingError1yrBelow', 'mfTreynorRatio1yrAbove', 'mfTreynorRatio1yrBelow', 'mfValueAtRiskNormal1yrAbove', 'mfValueAtRiskNormal1yrBelow', 'mfValueAtRiskNormalETL1yrAbove', 'mfValueAtRiskNormalETL1yrBelow', 'mfValueAtRiskQuantile1yrAbove', 'mfValueAtRiskQuantile1yrBelow', 'mfValueAtRiskQuantileETL1yrAbove', 'mfValueAtRiskQuantileETL1yrBelow', 'mfVariance1yrAbove', 'mfVariance1yrBelow', 'mfNumberOfSecuritiesAbove', 'mfNumberOfSecuritiesBelow', 'mfDividendPayoutRatioAbove', 'mfDividendPayoutRatioBelow', 'mfDividendPayoutRatio5yrAbove', 'mfDividendPayoutRatio5yrBelow', 'mfDividendPerShare1yrAbove', 'mfDividendPerShare1yrBelow', 'mfDividendPerShare3yrAbove', 'mfDividendPerShare3yrBelow', 'mfPrice2DividendAbove', 'mfPrice2DividendBelow', 'mfDividendYieldWAvgAbove', 'mfDividendYieldWAvgBelow', 'mfEBIT2InterestAbove', 'mfEBIT2InterestBelow', 'mfMktCapAvgLatestAbove', 'mfMktCapAvgLatestBelow', 'mfOperCashFlowGrowthRate3yrAbove', 'mfOperCashFlowGrowthRate3yrBelow', 'mfSalesGrowth1yrAbove', 'mfSalesGrowth1yrBelow', 'mfSalesGrowth3yrAbove', 'mfSalesGrowth3yrBelow', 'mfSalesGrowth5yrAbove', 'mfSalesGrowth5yrBelow', 'mfLatestPrice2EarningsRatioAbove', 'mfLatestPrice2EarningsRatioBelow', 'mfLatestPrice2BookRatioAbove', 'mfLatestPrice2BookRatioBelow', 'mfLatestPrice2SalesRatioAbove', 'mfLatestPrice2SalesRatioBelow', 'mfLatestReturnOnEquityWAvgAbove', 'mfLatestReturnOnEquityWAvgBelow', 'mfLatestSalesPerShareGrowth3yrAbove', 'mfLatestSalesPerShareGrowth3yrBelow', 'mfLTDebt2ShareholdersEquityAbove', 'mfLTDebt2ShareholdersEquityBelow', 'mfEPSGrowth1yrAbove', 'mfEPSGrowth1yrBelow', 'mfEPSGrowth3yrAbove', 'mfEPSGrowth3yrBelow', 'mfEPSGrowth5yrAbove', 'mfEPSGrowth5yrBelow', 'mfPrice2EarningsRatioAbove', 'mfPrice2EarningsRatioBelow', 'mfPrice2BookRatioAbove', 'mfPrice2BookRatioBelow', 'mfPrice2SalesRatioAbove', 'mfPrice2SalesRatioBelow', 'mfReturnOnAssets1yrAbove', 'mfReturnOnAssets1yrBelow', 'mfReturnOnAssets3yrAbove', 'mfReturnOnAssets3yrBelow', 'mfReturnOnEquity1yrAbove', 'mfReturnOnEquity1yrBelow', 'mfReturnOnEquity3yrAbove', 'mfReturnOnEquity3yrBelow', 'mfReturnOnInvestment1yrAbove', 'mfReturnOnInvestment1yrBelow', 'mfReturnOnInvestment3yrAbove', 'mfReturnOnInvestment3yrBelow', 'mfSales2TotalAssetsAbove', 'mfSales2TotalAssetsBelow', 'mfSalesPerShareGrowth1yrAbove', 'mfSalesPerShareGrowth1yrBelow', 'mfSalesPerShareGrowth3yrAbove', 'mfSalesPerShareGrowth3yrBelow', 'mfTotalAssets2TotalEquityAbove', 'mfTotalAssets2TotalEquityBelow', 'mfTotalDebt2TotalCapitalAbove', 'mfTotalDebt2TotalCapitalBelow', 'mfTotalDebt2TotalEquityAbove', 'mfTotalDebt2TotalEquityBelow', 'mfPrice2CashAbove', 'mfPrice2CashBelow', 'mfRelativeStrengthAbove', 'mfRelativeStrengthBelow', 'mfReturnOnCapitalAbove', 'mfReturnOnCapitalBelow', 'mfReturnOnCapital3yrAbove', 'mfReturnOnCapital3yrBelow', 'mfLatestCompositeZScoreAbove', 'mfLatestCompositeZScoreBelow', 'mfLatestPrice2EarningsZScoreAbove', 'mfLatestPrice2EarningsZScoreBelow', 'mfLatestPrice2BookZScoreAbove', 'mfLatestPrice2BookZScoreBelow', 'mfLatestPrice2SalesZScoreAbove', 'mfLatestPrice2SalesZScoreBelow', 'mfLatestSPSGrowthZScoreAbove', 'mfLatestSPSGrowthZScoreBelow', 'mfAverageFinalCompositeZScoreAbove', 'mfAverageFinalCompositeZScoreBelow', 'mfWeightedFinalCompositeZScoreAbove', 'mfWeightedFinalCompositeZScoreBelow', 'mfDividendYieldZScoreAbove', 'mfDividendYieldZScoreBelow', 'mfReturnOnEquityZScoreAbove', 'mfReturnOnEquityZScoreBelow', 'mfYieldToMaturityAbove', 'mfYieldToMaturityBelow', 'mfNominalMaturityAbove', 'mfNominalMaturityBelow', 'mfEffectiveMaturityAbove', 'mfEffectiveMaturityBelow', 'mfAverageCouponAbove', 'mfAverageCouponBelow', 'mfCalculatedAverageQualityAbove', 'mfCalculatedAverageQualityBelow', 'bidAskPriceType', 'seperatorType', 'seperatorTypeSym', 'bidAskPriceType', 'seperatorType', 'seperatorTypeSym', 'bidAskPriceType', 'seperatorType', 'seperatorTypeSym', 'bidAskPriceType', 'seperatorType', 'seperatorTypeSym', 'bidAskPriceType', 'seperatorType', 'seperatorTypeSym', 'bidAskPriceType', 'seperatorType', 'seperatorTypeSym', 'btFilteringCriteria', 'reutEBTNorm_MRYAbove', 'reutEBTNorm_MRYBelow', 'reutNetIncomeAvlble2CommonNorm_MRYAbove', 'reutNetIncomeAvlble2CommonNorm_MRYBelow', 'reutPENorm_MRYAbove', 'reutPENorm_MRYBelow', 'reutPretaxMarginPct_MRYAbove', 'reutPretaxMarginPct_MRYBelow', 'avgAnalystTarget2PriceRatioAbove', 'avgAnalystTarget2PriceRatioBelow', 'avgPriceTargetAbove', 'avgPriceTargetBelow', 'avgRatingAbove', 'avgRatingBelow', 'reutEPSChgPctAbove', 'reutEPSChgPctBelow', 'histDividendFrdYieldAbove', 'histDividendFrdYieldBelow', 'reutLongTermDebt2Equity_MRQAbove', 'reutLongTermDebt2Equity_MRQBelow', 'reutPrice2SalesRatio_TTMAbove', 'reutPrice2SalesRatio_TTMBelow', 'reutReturnOnInvestmentPct_TTMAbove', 'reutReturnOnInvestmentPct_TTMBelow', 'ibFrac52wkAbove', 'ibFrac52wkBelow', 'ihInsiderOfFloatPercAbove', 'ihInsiderOfFloatPercBelow', 'ihNumSharesInsiderAbove', 'ihNumSharesInsiderBelow', 'iiNumSharesInstitutionalAbove', 'iiNumSharesInstitutionalBelow', 'numPriceTargetsAbove', 'numPriceTargetsBelow', 'numRatingsAbove', 'numRatingsBelow', 'minPeRatio', 'maxPeRatio', 'minPrice2TanBk', 'maxPrice2TanBk', 'minPrice2Bk', 'maxPrice2Bk', 'reutCurrentRatio_MRQAbove', 'reutCurrentRatio_MRQBelow', 'minQuickRatio', 'maxQuickRatio', 'reutRevChgPctAbove', 'reutRevChgPctBelow', 'reutEPSChgPct_TTMAbove', 'reutEPSChgPct_TTMBelow', 'reutEBITD_TTMAbove', 'reutEBITD_TTMBelow', 'reutEBT_TTMAbove', 'reutEBT_TTMBelow', 'reutGrossMargin_TTMAbove', 'reutGrossMargin_TTMBelow', 'reutNetIncomeAvlble2Common_TTMAbove', 'reutNetIncomeAvlble2Common_TTMBelow', 'reutNetProfitMarginPct_TTMAbove', 'reutNetProfitMarginPct_TTMBelow', 'reutOperatingMargin_TTMAbove', 'reutOperatingMargin_TTMBelow', 'reutPayoutRatioPct_TTMAbove', 'reutPayoutRatioPct_TTMBelow', 'reutPrice2CashFlowPerShare_TTMAbove', 'reutPrice2CashFlowPerShare_TTMBelow', 'reutRev_TTMAbove', 'reutRev_TTMBelow', 'reutRevChgPct_TTMAbove', 'reutRevChgPct_TTMBelow', 'reutReturnOnAvgAssetsPct_TTMAbove', 'reutReturnOnAvgAssetsPct_TTMBelow', 'minRetnOnEq', 'maxRetnOnEq', 'ibPriceYTDPctAbove', 'ibPriceYTDPctBelow', 'reutPretaxMargin_TTMAbove', 'reutPretaxMargin_TTMBelow', 'reutFreeCashFlow_TTMAbove', 'reutFreeCashFlow_TTMBelow', 'reutNetDebtIAbove', 'reutNetDebtIBelow', 'shortInterestChgAbove', 'shortInterestChgBelow', 'shortOutstandingRatioAbove', 'shortOutstandingRatioBelow', 'argusAbove', 'argusBelow', 'ford_researchAbove', 'ford_researchBelow', 'market_edgeAbove', 'market_edgeBelow', 'market_graderAbove', 'market_graderBelow', 'morningstarAbove', 'morningstarBelow', 'constructs_researchAbove', 'constructs_researchBelow', 'sadif_analyticsAbove', 'sadif_analyticsBelow', 'street_ratingsAbove', 'street_ratingsBelow', 'validea_guruAbove', 'validea_guruBelow', 'valuengineAbove', 'valuengineBelow', 'zacksAbove', 'zacksBelow', 'marketCapAbove1e6', 'marketCapBelow1e6', 'reutEnterpriseValueCurAbove']\n"
    }
   ],
   "source": [
    "path = 'scanner_parameters.xml'\n",
    "with open(path, 'w') as f:\n",
    "    f.write(xml)\n",
    "import xml.etree.ElementTree as ET\n",
    "tree = ET.fromstring(xml)\n",
    "\n",
    "# find all tags that are available for filtering\n",
    "tags = [elem.text for elem in tree.findall('.//AbstractField/code')]\n",
    "print(len(tags), 'tags, showing first 100:')\n",
    "print(tags[:1000])\n"
   ]
  },
  {
   "cell_type": "code",
   "execution_count": 13,
   "metadata": {
    "tags": []
   },
   "outputs": [
    {
     "output_type": "stream",
     "name": "stdout",
     "text": "762 scan codes, showing the ones starting with \"TOP\":\n['TOP_PERC_GAIN', 'TOP_PERC_LOSE', 'TOP_TRADE_COUNT', 'TOP_TRADE_RATE', 'TOP_PRICE_RANGE', 'TOP_VOLUME_RATE', 'TOP_OPEN_PERC_GAIN', 'TOP_OPEN_PERC_LOSE', 'TOP_AFTER_HOURS_PERC_GAIN', 'TOP_AFTER_HOURS_PERC_LOSE', 'TOP_OPT_IMP_VOLAT_GAIN', 'TOP_OPT_IMP_VOLAT_LOSE', 'TOP_STOCK_BUY_IMBALANCE_ADV_RATIO', 'TOP_STOCK_SELL_IMBALANCE_ADV_RATIO', 'TOP_STOCK_BUY_REG_IMBALANCE_ADV_RATIO', 'TOP_STOCK_SELL_REG_IMBALANCE_ADV_RATIO', 'TOP_PERC_GAIN', 'TOP_PERC_LOSE', 'TOP_TRADE_RATE', 'TOP_PERC_GAIN']\n"
    }
   ],
   "source": [
    "scanCodes = [e.text for e in tree.findall('.//scanCode')]\n",
    "\n",
    "print(len(scanCodes), 'scan codes, showing the ones starting with \"TOP\":')\n",
    "print([sc for sc in scanCodes if sc.startswith('TOP')])\n"
   ]
  },
  {
   "cell_type": "code",
   "execution_count": 14,
   "metadata": {
    "tags": []
   },
   "outputs": [
    {
     "output_type": "stream",
     "name": "stdout",
     "text": "{'BOND.GOVT', 'STOCK.ME', 'IND.EU', 'PORTSTK', 'BOND.CD', 'ETF.FI.US', 'IND.HK', 'STOCK.EU', 'SLB.US', 'NATCOMB', 'BOND', 'SSF.EU', 'WAR.EU', 'Global', 'FUT.US', 'STOCK.NA', 'BOND.GOVT.NON-US', 'STK', 'SSF.NA', 'FUT.EU', 'SSF.US', 'SSF.HK', 'BOND.AGNCY', 'STOCK.HK', 'FUND.ALL', 'FUT.HK', 'FUT.NA', 'ETF.EQ.US', 'BOND.MUNI', 'IND.US'}\n"
    }
   ],
   "source": [
    "instrumentTypes = set(e.text for e in tree.findall('.//Instrument/type'))\n",
    "print(instrumentTypes)\n"
   ]
  },
  {
   "cell_type": "code",
   "execution_count": 15,
   "metadata": {
    "tags": []
   },
   "outputs": [
    {
     "output_type": "stream",
     "name": "stdout",
     "text": "['STK.US', 'STK.US.MAJOR', 'STK.NYSE', 'STK.AMEX', 'STK.ARCA', 'STK.NASDAQ', 'STK.NASDAQ.NMS', 'STK.NASDAQ.SCM', 'STK.BATS', 'STK.US.MINOR', 'STK.PINK', 'STK.OTCBB', 'ETF.EQ.US', 'ETF.EQ.US.MAJOR', 'ETF.EQ.ARCA', 'ETF.EQ.NASDAQ.NMS', 'ETF.EQ.BATS', 'ETF.FI.US', 'ETF.FI.US.MAJOR', 'ETF.FI.ARCA', 'ETF.FI.NASDAQ.NMS', 'ETF.FI.BATS', 'FUT.US', 'FUT.GLOBEX', 'FUT.ECBOT', 'FUT.IPE', 'FUT.NYBOT', 'FUT.NYMEX', 'FUT.NYSELIFFE', 'FUT.CFE', 'FUT.CFECRYPTO', 'FUT.CMECRYPTO', 'FUT.ICECRYPTO', 'IND.US', 'SSF.US', 'SSF.ONE', 'BOND.WW', 'BOND.US', 'BOND.EU.EURONEXT', 'BOND.CD.US', 'BOND.AGNCY.US', 'BOND.GOVT.US', 'BOND.MUNI.US', 'BOND.GOVT.NON-US', 'BOND.GOVT.US.NON-US', 'BOND.GOVT.EU.EURONEXT', 'BOND.GOVT.HK.SEHK', 'SLB.PREBORROW', 'FUND.ALL', 'FUND.US', 'FUND.NON-US', 'STK.NA', 'STK.NA.CANADA', 'STK.NA.TSE', 'STK.NA.VENTURE', 'STK.NA.MEXI', 'FUT.NA', 'FUT.NA.CDE', 'FUT.NA.MEXDER', 'SSF.NA', 'SSF.NA.MEXDER', 'STK.EU', 'STK.EU.VSE', 'STK.EU.SBF', 'STK.EU.IBIS', 'STK.EU.IBIS-XETRA', 'STK.EU.IBIS-EUSTARS', 'STK.EU.IBIS-USSTARS', 'STK.EU.IBIS-ETF', 'STK.EU.IBIS-NEWX', 'STK.EU.BVME', 'STK.EU.AEB', 'STK.EU.BM', 'STK.EU.SFB', 'STK.EU.SWISS', 'STK.EU.VIRTX', 'STK.EU.EBS', 'STK.EU.LSE', 'STK.EU.OTHER', 'STK.EU.PRA', 'STK.EU.CPH', 'STK.EU.HEX', 'STK.EU.OSE', 'STK.EU.BVL', 'STK.EU.MOEX', 'FUT.EU', 'FUT.EU.BELFOX', 'FUT.EU.DTB', 'FUT.EU.FTA', 'FUT.EU.EDXNO', 'FUT.EU.IDEM', 'FUT.EU.UK', 'FUT.EU.ICEEU', 'FUT.EU.LMEOTC', 'FUT.EU.MEFFRV', 'FUT.EU.MONEP', 'FUT.EU.OMS', 'FUT.EU.SOFFEX', 'IND.EU', 'IND.EU.BELFOX', 'IND.EU.DTB', 'IND.EU.FTA', 'IND.EU.ICEEU', 'IND.EU.MONEP', 'SSF.EU', 'SSF.EU.DTB', 'SSF.EU.EDXNO', 'SSF.EU.IDEM', 'SSF.EU.ICEEU', 'SSF.EU.MEFFRV', 'SSF.EU.OMS', 'SSF.EU.SOFFEX', 'WAR.EU.ALL', 'STK.ME', 'STK.ME.TASE', 'STK.HK', 'STK.HK.TSE_JPN', 'STK.HK.SEHK', 'STK.HK.SEHKNTL', 'STK.HK.SEHKSZSE', 'STK.HK.ASX', 'STK.HK.NSE', 'STK.HK.SGX', 'FUT.HK', 'FUT.HK.HKFE', 'FUT.HK.KSE', 'FUT.HK.NSE', 'FUT.HK.OSE_JPN', 'FUT.HK.SGX', 'FUT.HK.SNFE', 'IND.HK', 'IND.HK.HKFE', 'IND.HK.KSE', 'IND.HK.NSE', 'IND.HK.OSE_JPN', 'IND.HK.SGX', 'IND.HK.SNFE', 'SSF.HK', 'SSF.HK.HKFE', 'SSF.HK.KSE', 'SSF.HK.NSE', 'SSF.HK.SGX', 'NATCOMB', 'NATCOMB.OPT.US', 'NATCOMB.OPT.AMEX', 'NATCOMB.OPT.CBOE', 'NATCOMB.OPT.ISE', 'NATCOMB.OPT.PHLX', 'NATCOMB.OPT.PSE', 'NATCOMB.GLOBEX', 'BACKTEST']\n"
    }
   ],
   "source": [
    "locationCodes = [e.text for e in tree.findall('.//locationCode')]\n",
    "print(locationCodes)\n"
   ]
  },
  {
   "cell_type": "code",
   "execution_count": null,
   "metadata": {},
   "outputs": [],
   "source": []
  }
 ]
}