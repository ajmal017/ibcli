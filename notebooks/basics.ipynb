{
 "cells": [
  {
   "cell_type": "markdown",
   "metadata": {},
   "source": [
    "# Basics\n",
    "\n",
    "Let's first take a look at what's inside the ``ib_insync`` package:"
   ]
  },
  {
   "cell_type": "code",
   "execution_count": 1,
   "metadata": {
    "tags": []
   },
   "outputs": [
    {
     "output_type": "stream",
     "name": "stdout",
     "text": "['util', 'Event', 'SoftDollarTier', 'PriceIncrement', 'Execution', 'CommissionReport', 'BarList', 'BarDataList', 'RealTimeBarList', 'BarData', 'RealTimeBar', 'HistogramData', 'NewsProvider', 'DepthMktDataDescription', 'ScannerSubscription', 'ScanDataList', 'FundamentalRatios', 'ExecutionFilter', 'PnL', 'PnLSingle', 'AccountValue', 'TickData', 'TickByTickAllLast', 'TickByTickBidAsk', 'TickByTickMidPoint', 'HistoricalTick', 'HistoricalTickBidAsk', 'HistoricalTickLast', 'TickAttrib', 'TickAttribBidAsk', 'TickAttribLast', 'MktDepthData', 'DOMLevel', 'TradeLogEntry', 'FamilyCode', 'SmartComponent', 'PortfolioItem', 'Position', 'Fill', 'OptionComputation', 'OptionChain', 'Dividends', 'NewsArticle', 'HistoricalNews', 'NewsTick', 'NewsBulletin', 'ConnectionStats', 'Contract', 'Stock', 'Option', 'Future', 'ContFuture', 'Forex', 'Index', 'CFD', 'Commodity', 'Bond', 'FuturesOption', 'MutualFund', 'Warrant', 'Bag', 'TagValue', 'ComboLeg', 'DeltaNeutralContract', 'ContractDetails', 'ContractDescription', 'ScanData', 'Trade', 'Order', 'OrderStatus', 'OrderState', 'OrderComboLeg', 'LimitOrder', 'MarketOrder', 'StopOrder', 'StopLimitOrder', 'BracketOrder', 'OrderCondition', 'ExecutionCondition', 'MarginCondition', 'TimeCondition', 'PriceCondition', 'PercentChangeCondition', 'VolumeCondition', 'Ticker', 'IB', 'Client', 'Wrapper', 'FlexReport', 'FlexError', 'IBC', 'IBController', 'Watchdog']\n"
    }
   ],
   "source": [
    "import ib_insync\n",
    "print(ib_insync.__all__)\n",
    "import pandas as pd"
   ]
  },
  {
   "cell_type": "markdown",
   "metadata": {},
   "source": [
    "### Importing\n",
    "The following two lines are used at the top of all notebooks. The first line imports everything and the second\n",
    "starts an event loop to keep the notebook live updated:"
   ]
  },
  {
   "cell_type": "code",
   "execution_count": 2,
   "metadata": {},
   "outputs": [],
   "source": [
    "from ib_insync import *\n",
    "util.startLoop()"
   ]
  },
  {
   "cell_type": "markdown",
   "metadata": {},
   "source": [
    "*Note that startLoop() only works in notebooks, not in regular Python programs.*"
   ]
  },
  {
   "cell_type": "markdown",
   "metadata": {},
   "source": [
    "### Connecting\n",
    "The main player of the whole package is the \"IB\" class. Let's create an IB instance and connect to a running TWS/IBG application:"
   ]
  },
  {
   "cell_type": "code",
   "execution_count": 3,
   "metadata": {
    "scrolled": true
   },
   "outputs": [
    {
     "output_type": "execute_result",
     "data": {
      "text/plain": "<IB connected to 127.0.0.1:7497 clientId=10>"
     },
     "metadata": {},
     "execution_count": 3
    }
   ],
   "source": [
    "ib = IB()\n",
    "ib.connect('127.0.0.1', 7497, clientId=10, readonly=True)"
   ]
  },
  {
   "cell_type": "markdown",
   "metadata": {},
   "source": [
    "If the connection failed, then verify that the application has the API port enabled and double-check the hostname and port. For IB Gateway the default port is 4002. Make sure the clientId is not already in use.\n",
    "\n",
    "If the connection succeeded, then ib will be synchronized with TWS/IBG. The \"current state\" is now available via methods such as ib.positions(), ib.trades(), ib.openTrades(), ib.accountValues() or ib.tickers(). Let's list the current positions:"
   ]
  },
  {
   "cell_type": "code",
   "execution_count": 4,
   "metadata": {},
   "outputs": [
    {
     "output_type": "execute_result",
     "data": {
      "text/plain": "[Position(account='U3966401', contract=Option(conId=446420665, symbol='INTC', lastTradeDateOrContractMonth='20201016', strike=53.0, right='C', multiplier='100', currency='USD', localSymbol='INTC  201016C00053000', tradingClass='INTC'), position=-1.0, avgCost=43.2132),\n Position(account='U3966401', contract=Stock(conId=270639, symbol='INTC', exchange='NASDAQ', currency='USD', localSymbol='INTC', tradingClass='NMS'), position=200.0, avgCost=53.045),\n Position(account='U3966401', contract=Option(conId=438573770, symbol='XOM', lastTradeDateOrContractMonth='20200925', strike=37.5, right='C', multiplier='100', currency='USD', localSymbol='XOM   200925C00037500', tradingClass='XOM'), position=-1.0, avgCost=18.2138),\n Position(account='U3966401', contract=Stock(conId=268084, symbol='CSCO', exchange='NASDAQ', currency='USD', localSymbol='CSCO', tradingClass='NMS'), position=100.0, avgCost=42.0),\n Position(account='U3966401', contract=Option(conId=438466264, symbol='IBM', lastTradeDateOrContractMonth='20200925', strike=121.0, right='P', multiplier='100', currency='USD', localSymbol='IBM   200925P00121000', tradingClass='IBM'), position=-1.0, avgCost=88.2122),\n Position(account='U3966401', contract=Option(conId=442345125, symbol='XOM', lastTradeDateOrContractMonth='20201009', strike=41.0, right='C', multiplier='100', currency='USD', localSymbol='XOM   201009C00041000', tradingClass='XOM'), position=-1.0, avgCost=16.2138),\n Position(account='U3966401', contract=Option(conId=439541965, symbol='WFC', lastTradeDateOrContractMonth='20201002', strike=25.0, right='C', multiplier='100', currency='USD', localSymbol='WFC   201002C00025000', tradingClass='WFC'), position=-2.0, avgCost=27.98855),\n Position(account='U3966401', contract=Option(conId=442257635, symbol='INTC', lastTradeDateOrContractMonth='20201009', strike=53.0, right='C', multiplier='100', currency='USD', localSymbol='INTC  201009C00053000', tradingClass='INTC'), position=-1.0, avgCost=33.9134),\n Position(account='U3966401', contract=Option(conId=439461967, symbol='JPM', lastTradeDateOrContractMonth='20201002', strike=98.0, right='C', multiplier='100', currency='USD', localSymbol='JPM   201002C00098000', tradingClass='JPM'), position=-1.0, avgCost=75.9225),\n Position(account='U3966401', contract=Stock(conId=72063691, symbol='BRK B', exchange='NYSE', currency='USD', localSymbol='BRK B', tradingClass='BRK B'), position=1.0, avgCost=200.21),\n Position(account='U3966401', contract=Stock(conId=10375, symbol='WFC', exchange='NYSE', currency='USD', localSymbol='WFC', tradingClass='WFC'), position=200.0, avgCost=24.75),\n Position(account='U3966401', contract=Stock(conId=1520593, symbol='JPM', exchange='NYSE', currency='USD', localSymbol='JPM', tradingClass='JPM'), position=100.0, avgCost=104.0),\n Position(account='U3966401', contract=Option(conId=438773554, symbol='XOM', lastTradeDateOrContractMonth='20200925', strike=35.0, right='P', multiplier='100', currency='USD', localSymbol='XOM   200925P00035000', tradingClass='XOM'), position=-1.0, avgCost=25.9136),\n Position(account='U3966401', contract=Stock(conId=178634687, symbol='WBA', exchange='NASDAQ', currency='USD', localSymbol='WBA', tradingClass='NMS'), position=100.0, avgCost=36.823883),\n Position(account='U3966401', contract=Option(conId=442214785, symbol='CSCO', lastTradeDateOrContractMonth='20201009', strike=42.0, right='C', multiplier='100', currency='USD', localSymbol='CSCO  201009C00042000', tradingClass='CSCO'), position=-1.0, avgCost=17.9238),\n Position(account='U3966401', contract=Stock(conId=13977, symbol='XOM', exchange='NYSE', currency='USD', localSymbol='XOM', tradingClass='XOM'), position=200.0, avgCost=41.0)]"
     },
     "metadata": {},
     "execution_count": 4
    }
   ],
   "source": [
    "ib.positions()"
   ]
  },
  {
   "cell_type": "code",
   "execution_count": 6,
   "metadata": {},
   "outputs": [
    {
     "output_type": "execute_result",
     "data": {
      "text/plain": "                                             contract  position  marketPrice  \\\n0   Stock(conId=72063691, symbol='BRK B', right='0...       1.0   213.899994   \n1   Stock(conId=268084, symbol='CSCO', right='0', ...     100.0    39.299999   \n2   Option(conId=442214785, symbol='CSCO', lastTra...      -1.0     0.093317   \n3   Option(conId=438466264, symbol='IBM', lastTrad...      -1.0     1.536562   \n4   Stock(conId=270639, symbol='INTC', right='0', ...     200.0    49.830002   \n5   Option(conId=442257635, symbol='INTC', lastTra...      -1.0     0.238415   \n6   Option(conId=446420665, symbol='INTC', lastTra...      -1.0     0.422266   \n7   Stock(conId=1520593, symbol='JPM', right='0', ...     100.0    94.180000   \n8   Option(conId=439461967, symbol='JPM', lastTrad...      -1.0     0.840491   \n9   Stock(conId=178634687, symbol='WBA', right='0'...     100.0    35.750000   \n10  Stock(conId=10375, symbol='WFC', right='0', pr...     200.0    23.670000   \n11  Option(conId=439541965, symbol='WFC', lastTrad...      -2.0     0.214282   \n12  Stock(conId=13977, symbol='XOM', right='0', pr...     200.0    35.619999   \n13  Option(conId=438773554, symbol='XOM', lastTrad...      -1.0     0.309306   \n14  Option(conId=438573770, symbol='XOM', lastTrad...      -1.0     0.063701   \n15  Option(conId=442345125, symbol='XOM', lastTrad...      -1.0     0.092814   \n\n    marketValue  averageCost  unrealizedPNL  realizedPNL   account  \n0        213.90   200.210000          13.69          0.0  U3966401  \n1       3930.00    42.000000        -270.00          0.0  U3966401  \n2         -9.33    17.923800           8.59          0.0  U3966401  \n3       -153.66    88.212200         -65.44          0.0  U3966401  \n4       9966.00    53.045000        -643.00          0.0  U3966401  \n5        -23.84    33.913400          10.07          0.0  U3966401  \n6        -42.23    43.213200           0.99          0.0  U3966401  \n7       9418.00   104.000000        -982.00          0.0  U3966401  \n8        -84.05    75.922500          -8.13          0.0  U3966401  \n9       3575.00    36.823883        -107.39          0.0  U3966401  \n10      4734.00    24.750000        -216.00          0.0  U3966401  \n11       -42.86    27.988550          13.12          0.0  U3966401  \n12      7124.00    41.000000       -1076.00          0.0  U3966401  \n13       -30.93    25.913600          -5.02          0.0  U3966401  \n14        -6.37    18.213800          11.84          0.0  U3966401  \n15        -9.28    16.213800           6.93          0.0  U3966401  ",
      "text/html": "<div>\n<style scoped>\n    .dataframe tbody tr th:only-of-type {\n        vertical-align: middle;\n    }\n\n    .dataframe tbody tr th {\n        vertical-align: top;\n    }\n\n    .dataframe thead th {\n        text-align: right;\n    }\n</style>\n<table border=\"1\" class=\"dataframe\">\n  <thead>\n    <tr style=\"text-align: right;\">\n      <th></th>\n      <th>contract</th>\n      <th>position</th>\n      <th>marketPrice</th>\n      <th>marketValue</th>\n      <th>averageCost</th>\n      <th>unrealizedPNL</th>\n      <th>realizedPNL</th>\n      <th>account</th>\n    </tr>\n  </thead>\n  <tbody>\n    <tr>\n      <th>0</th>\n      <td>Stock(conId=72063691, symbol='BRK B', right='0...</td>\n      <td>1.0</td>\n      <td>213.899994</td>\n      <td>213.90</td>\n      <td>200.210000</td>\n      <td>13.69</td>\n      <td>0.0</td>\n      <td>U3966401</td>\n    </tr>\n    <tr>\n      <th>1</th>\n      <td>Stock(conId=268084, symbol='CSCO', right='0', ...</td>\n      <td>100.0</td>\n      <td>39.299999</td>\n      <td>3930.00</td>\n      <td>42.000000</td>\n      <td>-270.00</td>\n      <td>0.0</td>\n      <td>U3966401</td>\n    </tr>\n    <tr>\n      <th>2</th>\n      <td>Option(conId=442214785, symbol='CSCO', lastTra...</td>\n      <td>-1.0</td>\n      <td>0.093317</td>\n      <td>-9.33</td>\n      <td>17.923800</td>\n      <td>8.59</td>\n      <td>0.0</td>\n      <td>U3966401</td>\n    </tr>\n    <tr>\n      <th>3</th>\n      <td>Option(conId=438466264, symbol='IBM', lastTrad...</td>\n      <td>-1.0</td>\n      <td>1.536562</td>\n      <td>-153.66</td>\n      <td>88.212200</td>\n      <td>-65.44</td>\n      <td>0.0</td>\n      <td>U3966401</td>\n    </tr>\n    <tr>\n      <th>4</th>\n      <td>Stock(conId=270639, symbol='INTC', right='0', ...</td>\n      <td>200.0</td>\n      <td>49.830002</td>\n      <td>9966.00</td>\n      <td>53.045000</td>\n      <td>-643.00</td>\n      <td>0.0</td>\n      <td>U3966401</td>\n    </tr>\n    <tr>\n      <th>5</th>\n      <td>Option(conId=442257635, symbol='INTC', lastTra...</td>\n      <td>-1.0</td>\n      <td>0.238415</td>\n      <td>-23.84</td>\n      <td>33.913400</td>\n      <td>10.07</td>\n      <td>0.0</td>\n      <td>U3966401</td>\n    </tr>\n    <tr>\n      <th>6</th>\n      <td>Option(conId=446420665, symbol='INTC', lastTra...</td>\n      <td>-1.0</td>\n      <td>0.422266</td>\n      <td>-42.23</td>\n      <td>43.213200</td>\n      <td>0.99</td>\n      <td>0.0</td>\n      <td>U3966401</td>\n    </tr>\n    <tr>\n      <th>7</th>\n      <td>Stock(conId=1520593, symbol='JPM', right='0', ...</td>\n      <td>100.0</td>\n      <td>94.180000</td>\n      <td>9418.00</td>\n      <td>104.000000</td>\n      <td>-982.00</td>\n      <td>0.0</td>\n      <td>U3966401</td>\n    </tr>\n    <tr>\n      <th>8</th>\n      <td>Option(conId=439461967, symbol='JPM', lastTrad...</td>\n      <td>-1.0</td>\n      <td>0.840491</td>\n      <td>-84.05</td>\n      <td>75.922500</td>\n      <td>-8.13</td>\n      <td>0.0</td>\n      <td>U3966401</td>\n    </tr>\n    <tr>\n      <th>9</th>\n      <td>Stock(conId=178634687, symbol='WBA', right='0'...</td>\n      <td>100.0</td>\n      <td>35.750000</td>\n      <td>3575.00</td>\n      <td>36.823883</td>\n      <td>-107.39</td>\n      <td>0.0</td>\n      <td>U3966401</td>\n    </tr>\n    <tr>\n      <th>10</th>\n      <td>Stock(conId=10375, symbol='WFC', right='0', pr...</td>\n      <td>200.0</td>\n      <td>23.670000</td>\n      <td>4734.00</td>\n      <td>24.750000</td>\n      <td>-216.00</td>\n      <td>0.0</td>\n      <td>U3966401</td>\n    </tr>\n    <tr>\n      <th>11</th>\n      <td>Option(conId=439541965, symbol='WFC', lastTrad...</td>\n      <td>-2.0</td>\n      <td>0.214282</td>\n      <td>-42.86</td>\n      <td>27.988550</td>\n      <td>13.12</td>\n      <td>0.0</td>\n      <td>U3966401</td>\n    </tr>\n    <tr>\n      <th>12</th>\n      <td>Stock(conId=13977, symbol='XOM', right='0', pr...</td>\n      <td>200.0</td>\n      <td>35.619999</td>\n      <td>7124.00</td>\n      <td>41.000000</td>\n      <td>-1076.00</td>\n      <td>0.0</td>\n      <td>U3966401</td>\n    </tr>\n    <tr>\n      <th>13</th>\n      <td>Option(conId=438773554, symbol='XOM', lastTrad...</td>\n      <td>-1.0</td>\n      <td>0.309306</td>\n      <td>-30.93</td>\n      <td>25.913600</td>\n      <td>-5.02</td>\n      <td>0.0</td>\n      <td>U3966401</td>\n    </tr>\n    <tr>\n      <th>14</th>\n      <td>Option(conId=438573770, symbol='XOM', lastTrad...</td>\n      <td>-1.0</td>\n      <td>0.063701</td>\n      <td>-6.37</td>\n      <td>18.213800</td>\n      <td>11.84</td>\n      <td>0.0</td>\n      <td>U3966401</td>\n    </tr>\n    <tr>\n      <th>15</th>\n      <td>Option(conId=442345125, symbol='XOM', lastTrad...</td>\n      <td>-1.0</td>\n      <td>0.092814</td>\n      <td>-9.28</td>\n      <td>16.213800</td>\n      <td>6.93</td>\n      <td>0.0</td>\n      <td>U3966401</td>\n    </tr>\n  </tbody>\n</table>\n</div>"
     },
     "metadata": {},
     "execution_count": 6
    }
   ],
   "source": [
    "util.df(ib.portfolio())\n",
    "\n"
   ]
  },
  {
   "cell_type": "markdown",
   "metadata": {},
   "source": [
    "Or filter the account values to get the liquidation value:"
   ]
  },
  {
   "cell_type": "code",
   "execution_count": 5,
   "metadata": {},
   "outputs": [
    {
     "output_type": "execute_result",
     "data": {
      "text/plain": "[AccountValue(account='U3966401', tag='NetLiquidationByCurrency', value='67434.3434', currency='BASE', modelCode='')]"
     },
     "metadata": {},
     "execution_count": 5
    }
   ],
   "source": [
    "[v for v in ib.accountValues() if v.tag == 'NetLiquidationByCurrency' and v.currency == 'BASE']"
   ]
  },
  {
   "cell_type": "markdown",
   "metadata": {},
   "source": [
    "The \"current state\" will automatically be kept in sync with TWS/IBG. So an order fill will be added as soon as it is reported, or account values will be updated as soon as they change in TWS."
   ]
  },
  {
   "cell_type": "markdown",
   "metadata": {},
   "source": [
    "### Contracts\n",
    "\n",
    "Contracts can be specified in different ways:\n",
    "* The ibapi way, by creating an empty Contract object and setting its attributes one by one;\n",
    "* By using Contract and giving the attributes as keyword argument;\n",
    "* By using the specialized Stock, Option, Future, Forex, Index, CFD, Commodity,\n",
    "  Bond, FuturesOption, MutualFund or Warrant contracts.\n",
    "\n",
    "Some examples:"
   ]
  },
  {
   "cell_type": "code",
   "execution_count": 7,
   "metadata": {},
   "outputs": [],
   "source": [
    "Contract(conId=270639)\n",
    "Stock('AMD', 'SMART', 'USD')\n",
    "Stock('INTC', 'SMART', 'USD', primaryExchange='NASDAQ')\n",
    "Forex('EURUSD')\n",
    "CFD('IBUS30')\n",
    "Future('ES', '20180921', 'GLOBEX')\n",
    "Option('SPY', '20170721', 240, 'C', 'SMART')\n",
    "Bond(secIdType='ISIN', secId='US03076KAA60');"
   ]
  },
  {
   "cell_type": "markdown",
   "metadata": {},
   "source": [
    "### Sending a request\n",
    "\n",
    "The IB class has nearly all request methods that the IB API offers. The methods that return a result will block until finished and then return the result. Take for example reqContractDetails:"
   ]
  },
  {
   "cell_type": "code",
   "execution_count": 9,
   "metadata": {},
   "outputs": [],
   "source": [
    "contract = Stock('TSLA', 'SMART', 'USD')\n",
    "details=ib.reqContractDetails(contract)"
   ]
  },
  {
   "cell_type": "code",
   "execution_count": 24,
   "metadata": {},
   "outputs": [
    {
     "output_type": "execute_result",
     "data": {
      "text/plain": "[ContractDetails(contract=Contract(secType='STK', conId=76792991, symbol='TSLA', exchange='SMART', primaryExchange='NASDAQ', currency='USD', localSymbol='TSLA', tradingClass='NMS'), marketName='NMS', minTick=0.01, orderTypes='ACTIVETIM,AD,ADJUST,ALERT,ALGO,ALLOC,AON,AVGCOST,BASKET,BENCHPX,CASHQTY,COND,CONDORDER,DARKONLY,DARKPOLL,DAY,DEACT,DEACTDIS,DEACTEOD,DIS,GAT,GTC,GTD,GTT,HID,IBKRATS,ICE,IMB,IOC,LIT,LMT,LOC,MIDPX,MIT,MKT,MOC,MTL,NGCOMB,NODARK,NONALGO,OCA,OPG,OPGREROUT,PEGBENCH,POSTONLY,PREOPGRTH,PRICECHK,REL,RPI,RTH,SCALE,SCALEODD,SCALERST,SIZECHK,SNAPMID,SNAPMKT,SNAPREL,STP,STPLMT,SWEEP,TRAIL,TRAILLIT,TRAILLMT,TRAILMIT,WHATIF', validExchanges='SMART,AMEX,NYSE,CBOE,PHLX,ISE,CHX,ARCA,ISLAND,DRCTEDGE,BEX,BATS,EDGEA,CSFBALGO,JEFFALGO,BYX,IEX,EDGX,FOXRIVER,TPLUS1,NYSENAT,LTSE,PSX', priceMagnifier=1, underConId=0, longName='TESLA INC', contractMonth='', industry='Consumer, Cyclical', category='Auto Manufacturers', subcategory='Auto-Cars/Light Trucks', timeZoneId='EST (Östliche Normalzeit)', tradingHours='20200910:0400-20200910:2000;20200911:0400-20200911:2000;20200912:CLOSED;20200913:CLOSED;20200914:0400-20200914:2000;20200915:0400-20200915:2000', liquidHours='20200910:0930-20200910:1600;20200911:0930-20200911:1600;20200912:CLOSED;20200913:CLOSED;20200914:0930-20200914:1600;20200915:0930-20200915:1600', evRule='', evMultiplier=0, mdSizeMultiplier=100, aggGroup=1, underSymbol='', underSecType='', marketRuleIds='26,26,26,26,26,26,26,26,26,26,26,26,26,26,26,26,26,26,26,26,26,26,26', secIdList=[], realExpirationDate='', lastTradeTime='', stockType='COMMON', cusip='', ratings='', descAppend='', bondType='', couponType='', callable=False, putable=False, coupon=0, convertible=False, maturity='', issueDate='', nextOptionDate='', nextOptionType='', nextOptionPartial=False, notes='')]"
     },
     "metadata": {},
     "execution_count": 24
    }
   ],
   "source": [
    "details"
   ]
  },
  {
   "cell_type": "markdown",
   "metadata": {},
   "source": [
    "### Current state vs request\n",
    "\n",
    "Doing a request involves network traffic going up and down and can take considerable time. The current state on the other hand is always immediately available. So it is preferable to use the current state methods over requests. For example, use ``ib.openOrders()`` in preference over ``ib.reqOpenOrders()``, or ``ib.positions()`` over ``ib.reqPositions()``, etc:"
   ]
  },
  {
   "cell_type": "code",
   "execution_count": 32,
   "metadata": {
    "tags": []
   },
   "outputs": [
    {
     "output_type": "stream",
     "name": "stdout",
     "text": "CPU times: user 15 µs, sys: 1 µs, total: 16 µs\nWall time: 21.9 µs\n"
    },
    {
     "output_type": "execute_result",
     "data": {
      "text/plain": "[Position(account='U3966401', contract=Option(conId=437350001, symbol='XOM', lastTradeDateOrContractMonth='20200911', strike=38.0, right='P', multiplier='100', currency='USD', localSymbol='XOM   200911P00038000', tradingClass='XOM'), position=-1.0, avgCost=37.9133),\n Position(account='U3966401', contract=Stock(conId=270639, symbol='INTC', exchange='NASDAQ', currency='USD', localSymbol='INTC', tradingClass='NMS'), position=200.0, avgCost=53.045),\n Position(account='U3966401', contract=Option(conId=437256362, symbol='JPM', lastTradeDateOrContractMonth='20200911', strike=104.0, right='C', multiplier='100', currency='USD', localSymbol='JPM   200911C00104000', tradingClass='JPM'), position=-1.0, avgCost=200.2098),\n Position(account='U3966401', contract=Option(conId=437493806, symbol='GILD', lastTradeDateOrContractMonth='20200911', strike=65.0, right='P', multiplier='100', currency='USD', localSymbol='GILD  200911P00065000', tradingClass='GILD'), position=-1.0, avgCost=43.2132),\n Position(account='U3966401', contract=Stock(conId=72063691, symbol='BRK B', exchange='NYSE', currency='USD', localSymbol='BRK B', tradingClass='BRK B'), position=1.0, avgCost=200.21),\n Position(account='U3966401', contract=Option(conId=400349659, symbol='MNST', lastTradeDateOrContractMonth='20200918', strike=85.0, right='C', multiplier='100', currency='USD', localSymbol='MNST  200918C00085000', tradingClass='MNST'), position=1.0, avgCost=109.2438),\n Position(account='U3966401', contract=Stock(conId=10375, symbol='WFC', exchange='NYSE', currency='USD', localSymbol='WFC', tradingClass='WFC'), position=200.0, avgCost=24.75),\n Position(account='U3966401', contract=Stock(conId=1520593, symbol='JPM', exchange='NYSE', currency='USD', localSymbol='JPM', tradingClass='JPM'), position=100.0, avgCost=104.0),\n Position(account='U3966401', contract=Option(conId=437218187, symbol='CSCO', lastTradeDateOrContractMonth='20200911', strike=42.0, right='P', multiplier='100', currency='USD', localSymbol='CSCO  200911P00042000', tradingClass='CSCO'), position=-1.0, avgCost=50.9231),\n Position(account='U3966401', contract=Option(conId=437340445, symbol='WFC', lastTradeDateOrContractMonth='20200911', strike=25.5, right='C', multiplier='100', currency='USD', localSymbol='WFC   200911C00025500', tradingClass='WFC'), position=-2.0, avgCost=24.68365),\n Position(account='U3966401', contract=Option(conId=437333190, symbol='WDC', lastTradeDateOrContractMonth='20200911', strike=37.0, right='P', multiplier='100', currency='USD', localSymbol='WDC   200911P00037000', tradingClass='WDC'), position=-1.0, avgCost=47.2131),\n Position(account='U3966401', contract=Stock(conId=13977, symbol='XOM', exchange='NYSE', currency='USD', localSymbol='XOM', tradingClass='XOM'), position=100.0, avgCost=44.0),\n Position(account='U3966401', contract=Option(conId=437281485, symbol='RTX', lastTradeDateOrContractMonth='20200911', strike=60.0, right='P', multiplier='100', currency='USD', localSymbol='RTX   200911P00060000', tradingClass='RTX'), position=-1.0, avgCost=65.9227)]"
     },
     "metadata": {},
     "execution_count": 32
    }
   ],
   "source": [
    "%time l = ib.positions()\n",
    "ib.positions()"
   ]
  },
  {
   "cell_type": "code",
   "execution_count": null,
   "metadata": {},
   "outputs": [],
   "source": []
  },
  {
   "cell_type": "code",
   "execution_count": 28,
   "metadata": {
    "tags": []
   },
   "outputs": [
    {
     "output_type": "stream",
     "name": "stderr",
     "text": "2020-09-10 09:31:00,841 ib_insync.wrapper INFO position: Position(account='U3966401', contract=Option(conId=437350001, symbol='XOM', lastTradeDateOrContractMonth='20200911', strike=38.0, right='P', multiplier='100', currency='USD', localSymbol='XOM   200911P00038000', tradingClass='XOM'), position=-1.0, avgCost=37.9133)\n2020-09-10 09:31:00,842 ib_insync.wrapper INFO position: Position(account='U3966401', contract=Stock(conId=270639, symbol='INTC', exchange='NASDAQ', currency='USD', localSymbol='INTC', tradingClass='NMS'), position=200.0, avgCost=53.045)\n2020-09-10 09:31:00,843 ib_insync.wrapper INFO position: Position(account='U3966401', contract=Option(conId=437256362, symbol='JPM', lastTradeDateOrContractMonth='20200911', strike=104.0, right='C', multiplier='100', currency='USD', localSymbol='JPM   200911C00104000', tradingClass='JPM'), position=-1.0, avgCost=200.2098)\n2020-09-10 09:31:00,844 ib_insync.wrapper INFO position: Position(account='U3966401', contract=Option(conId=437493806, symbol='GILD', lastTradeDateOrContractMonth='20200911', strike=65.0, right='P', multiplier='100', currency='USD', localSymbol='GILD  200911P00065000', tradingClass='GILD'), position=-1.0, avgCost=43.2132)\n2020-09-10 09:31:00,846 ib_insync.wrapper INFO position: Position(account='U3966401', contract=Stock(conId=72063691, symbol='BRK B', exchange='NYSE', currency='USD', localSymbol='BRK B', tradingClass='BRK B'), position=1.0, avgCost=200.21)\n2020-09-10 09:31:00,847 ib_insync.wrapper INFO position: Position(account='U3966401', contract=Option(conId=400349659, symbol='MNST', lastTradeDateOrContractMonth='20200918', strike=85.0, right='C', multiplier='100', currency='USD', localSymbol='MNST  200918C00085000', tradingClass='MNST'), position=1.0, avgCost=109.2438)\n2020-09-10 09:31:00,848 ib_insync.wrapper INFO position: Position(account='U3966401', contract=Stock(conId=10375, symbol='WFC', exchange='NYSE', currency='USD', localSymbol='WFC', tradingClass='WFC'), position=200.0, avgCost=24.75)\n2020-09-10 09:31:00,849 ib_insync.wrapper INFO position: Position(account='U3966401', contract=Stock(conId=1520593, symbol='JPM', exchange='NYSE', currency='USD', localSymbol='JPM', tradingClass='JPM'), position=100.0, avgCost=104.0)\n2020-09-10 09:31:00,850 ib_insync.wrapper INFO position: Position(account='U3966401', contract=Option(conId=437218187, symbol='CSCO', lastTradeDateOrContractMonth='20200911', strike=42.0, right='P', multiplier='100', currency='USD', localSymbol='CSCO  200911P00042000', tradingClass='CSCO'), position=-1.0, avgCost=50.9231)\n2020-09-10 09:31:00,852 ib_insync.wrapper INFO position: Position(account='U3966401', contract=Option(conId=437340445, symbol='WFC', lastTradeDateOrContractMonth='20200911', strike=25.5, right='C', multiplier='100', currency='USD', localSymbol='WFC   200911C00025500', tradingClass='WFC'), position=-2.0, avgCost=24.68365)\n2020-09-10 09:31:00,853 ib_insync.wrapper INFO position: Position(account='U3966401', contract=Option(conId=437333190, symbol='WDC', lastTradeDateOrContractMonth='20200911', strike=37.0, right='P', multiplier='100', currency='USD', localSymbol='WDC   200911P00037000', tradingClass='WDC'), position=-1.0, avgCost=47.2131)\n2020-09-10 09:31:00,854 ib_insync.wrapper INFO position: Position(account='U3966401', contract=Stock(conId=13977, symbol='XOM', exchange='NYSE', currency='USD', localSymbol='XOM', tradingClass='XOM'), position=100.0, avgCost=44.0)\n2020-09-10 09:31:00,854 ib_insync.wrapper INFO position: Position(account='U3966401', contract=Option(conId=437281485, symbol='RTX', lastTradeDateOrContractMonth='20200911', strike=60.0, right='P', multiplier='100', currency='USD', localSymbol='RTX   200911P00060000', tradingClass='RTX'), position=-1.0, avgCost=65.9227)\nCPU times: user 12.3 ms, sys: 4.75 ms, total: 17.1 ms\nWall time: 16.1 ms\n"
    }
   ],
   "source": [
    "%time l = ib.reqPositions()"
   ]
  },
  {
   "cell_type": "markdown",
   "metadata": {},
   "source": [
    "### Logging\n",
    "\n",
    "The following will put log messages of INFO and higher level under the current active cell:"
   ]
  },
  {
   "cell_type": "code",
   "execution_count": 27,
   "metadata": {},
   "outputs": [],
   "source": [
    "util.logToConsole()"
   ]
  },
  {
   "cell_type": "markdown",
   "metadata": {},
   "source": [
    "To see all debug messages (including network traffic):"
   ]
  },
  {
   "cell_type": "code",
   "execution_count": 11,
   "metadata": {},
   "outputs": [],
   "source": [
    "import logging\n",
    "util.logToConsole(logging.DEBUG)"
   ]
  },
  {
   "cell_type": "markdown",
   "metadata": {},
   "source": [
    "### Disconnecting\n",
    "\n",
    "The following will disconnect ``ib`` and clear all its state:"
   ]
  },
  {
   "cell_type": "code",
   "execution_count": 33,
   "metadata": {
    "tags": []
   },
   "outputs": [
    {
     "output_type": "stream",
     "name": "stderr",
     "text": "2020-09-10 09:31:48,892 ib_insync.ib INFO Disconnecting from 127.0.0.1:7497, 207 B sent in 10 messages, 65.2 kB received in 1254 messages, session time 568 s.\n2020-09-10 09:31:48,894 ib_insync.client INFO Disconnecting\n2020-09-10 09:31:48,899 ib_insync.client INFO Disconnected\n"
    }
   ],
   "source": [
    "ib.disconnect()"
   ]
  },
  {
   "cell_type": "code",
   "execution_count": 18,
   "metadata": {},
   "outputs": [
    {
     "output_type": "execute_result",
     "data": {
      "text/plain": "1"
     },
     "metadata": {},
     "execution_count": 18
    }
   ],
   "source": [
    "from datetime import date, datetime, timezone,timedelta\n",
    "date = datetime.strptime('20200918', '%Y%m%d')\n",
    "delta=date-datetime.now()\n",
    "delta.days"
   ]
  },
  {
   "cell_type": "code",
   "execution_count": 7,
   "metadata": {},
   "outputs": [
    {
     "output_type": "execute_result",
     "data": {
      "text/plain": "20"
     },
     "metadata": {},
     "execution_count": 7
    }
   ],
   "source": [
    "import calendar\n",
    "\n",
    "c = calendar.Calendar(firstweekday=calendar.SUNDAY)\n",
    "\n",
    "year = 2020; month = 9\n",
    "\n",
    "monthcal = c.monthdatescalendar(year,month)\n",
    "third_week = [day for week in monthcal for day in week if \\\n",
    "                day.weekday() == calendar.SATURDAY and \\\n",
    "                day.month == month][2]\n",
    "\n",
    "third_week.day"
   ]
  },
  {
   "cell_type": "code",
   "execution_count": null,
   "metadata": {},
   "outputs": [],
   "source": []
  },
  {
   "cell_type": "code",
   "execution_count": 29,
   "metadata": {
    "tags": []
   },
   "outputs": [
    {
     "output_type": "stream",
     "name": "stdout",
     "text": "2020-08-21\n9\n35\n"
    }
   ],
   "source": [
    "from datetime import datetime,date\n",
    "import time\n",
    "import calendar\n",
    "c = calendar.Calendar(firstweekday=calendar.SATURDAY)\n",
    "monthcal = c.monthdatescalendar(year,month)\n",
    "def options_month(d):\n",
    "        monthcal = c.monthdatescalendar(d.year, d.month)\n",
    "        third_week = [day for week in monthcal for day in week if\n",
    "                      day.weekday() == calendar.FRIDAY and\n",
    "                      day.month == d.month][2]\n",
    "        print(third_week)\n",
    "        if d.day <= third_week.day+1:\n",
    "            return d.month\n",
    "        else:\n",
    "            return d.month+1\n",
    "\n",
    "d=date(2020,8,24)\n",
    "print(options_month(d))\n",
    "print(d.isocalendar()[1])"
   ]
  },
  {
   "cell_type": "code",
   "execution_count": null,
   "metadata": {},
   "outputs": [],
   "source": []
  },
  {
   "cell_type": "code",
   "execution_count": null,
   "metadata": {},
   "outputs": [],
   "source": []
  },
  {
   "cell_type": "code",
   "execution_count": null,
   "metadata": {},
   "outputs": [],
   "source": []
  },
  {
   "cell_type": "code",
   "execution_count": null,
   "metadata": {},
   "outputs": [],
   "source": []
  },
  {
   "cell_type": "code",
   "execution_count": null,
   "metadata": {},
   "outputs": [],
   "source": []
  },
  {
   "cell_type": "code",
   "execution_count": null,
   "metadata": {},
   "outputs": [],
   "source": []
  },
  {
   "cell_type": "code",
   "execution_count": null,
   "metadata": {},
   "outputs": [],
   "source": []
  },
  {
   "cell_type": "code",
   "execution_count": null,
   "metadata": {},
   "outputs": [],
   "source": []
  },
  {
   "cell_type": "code",
   "execution_count": null,
   "metadata": {},
   "outputs": [],
   "source": []
  },
  {
   "cell_type": "code",
   "execution_count": null,
   "metadata": {},
   "outputs": [],
   "source": []
  },
  {
   "cell_type": "code",
   "execution_count": null,
   "metadata": {},
   "outputs": [],
   "source": []
  },
  {
   "cell_type": "code",
   "execution_count": null,
   "metadata": {},
   "outputs": [],
   "source": []
  },
  {
   "cell_type": "code",
   "execution_count": null,
   "metadata": {},
   "outputs": [],
   "source": []
  },
  {
   "cell_type": "code",
   "execution_count": null,
   "metadata": {},
   "outputs": [],
   "source": []
  },
  {
   "cell_type": "code",
   "execution_count": null,
   "metadata": {},
   "outputs": [],
   "source": []
  },
  {
   "cell_type": "code",
   "execution_count": null,
   "metadata": {},
   "outputs": [],
   "source": []
  }
 ],
 "metadata": {
  "kernelspec": {
   "display_name": "Python 3",
   "language": "python",
   "name": "python3"
  },
  "language_info": {
   "codemirror_mode": {
    "name": "ipython",
    "version": 3
   },
   "file_extension": ".py",
   "mimetype": "text/x-python",
   "name": "python",
   "nbconvert_exporter": "python",
   "pygments_lexer": "ipython3",
   "version": "3.6.10-final"
  }
 },
 "nbformat": 4,
 "nbformat_minor": 4
}