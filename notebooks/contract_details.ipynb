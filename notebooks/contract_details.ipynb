{
 "cells": [
  {
   "cell_type": "markdown",
   "metadata": {},
   "source": [
    "Contract details\n",
    "-------------------"
   ]
  },
  {
   "cell_type": "code",
   "execution_count": 1,
   "metadata": {},
   "outputs": [
    {
     "output_type": "execute_result",
     "data": {
      "text/plain": "<IB connected to 127.0.0.1:7497 clientId=11>"
     },
     "metadata": {},
     "execution_count": 1
    }
   ],
   "source": [
    "from ib_insync import *\n",
    "util.startLoop()\n",
    "\n",
    "import logging\n",
    "# util.logToConsole(logging.DEBUG)\n",
    "\n",
    "ib = IB()\n",
    "ib.connect('127.0.0.1', 7497, clientId=11,readonly=True)"
   ]
  },
  {
   "cell_type": "markdown",
   "metadata": {},
   "source": [
    "Suppose we want to find the contract details for AMD stock.\n",
    "Let's create a stock object and request the details for it:"
   ]
  },
  {
   "cell_type": "code",
   "execution_count": 3,
   "metadata": {},
   "outputs": [
    {
     "output_type": "execute_result",
     "data": {
      "text/plain": "36"
     },
     "metadata": {},
     "execution_count": 3
    }
   ],
   "source": [
    "amd = Stock('AMD')\n",
    "\n",
    "cds = ib.reqContractDetails(amd)\n",
    "\n",
    "len(cds)"
   ]
  },
  {
   "cell_type": "markdown",
   "metadata": {},
   "source": [
    "We get a long list of contract details. Lets print the first one:"
   ]
  },
  {
   "cell_type": "code",
   "execution_count": 5,
   "metadata": {},
   "outputs": [
    {
     "output_type": "execute_result",
     "data": {
      "text/plain": "E,PSX', priceMagnifier=1, underConId=0, longName='ADVANCED MICRO DEVICES', contractMonth='', industry='Technology', category='Semiconductors', subcategory='Electronic Compo-Semicon', timeZoneId='EST (Östliche Normalzeit)', tradingHours='20200910:0800-20200910:1700;20200911:0800-20200911:1700;20200912:CLOSED;20200913:CLOSED;20200914:0800-20200914:1700;20200915:0800-20200915:1700', liquidHours='20200910:0800-20200910:1700;20200911:0800-20200911:1700;20200912:CLOSED;20200913:CLOSED;20200914:0800-20200914:1700;20200915:0800-20200915:1700', evRule='', evMultiplier=0, mdSizeMultiplier=100, aggGroup=1, underSymbol='', underSecType='', marketRuleIds='26,26,26,26,26,26,26,26,26,26,26,26,26,26,26,26,26,26,26,26,26,26', secIdList=[], realExpirationDate='', lastTradeTime='', stockType='COMMON', cusip='', ratings='', descAppend='', bondType='', couponType='', callable=False, putable=False, coupon=0, convertible=False, maturity='', issueDate='', nextOptionDate='', nextOptionType='', nextOptionPartial=False, notes=''),\n ContractDetails(contract=Contract(secType='STK', conId=4391, symbol='AMD', exchange='PSX', primaryExchange='NASDAQ', currency='USD', localSymbol='AMD', tradingClass='NMS'), marketName='NMS', minTick=0.01, orderTypes='ACTIVETIM,AD,ADJUST,ALERT,ALLOC,AON,AVGCOST,BASKET,BENCHPX,CASHQTY,COND,CONDORDER,DAY,DEACT,DEACTDIS,DEACTEOD,GAT,GTC,GTD,GTT,HID,LIT,LMT,MIT,MKT,MTL,NGCOMB,NONALGO,OCA,PEGBENCH,PEGMID,POSTONLY,RTH,SCALE,SCALERST,SNAPMID,SNAPMKT,SNAPREL,STP,STPLMT,TRAIL,TRAILLIT,TRAILLMT,TRAILMIT,WHATIF', validExchanges='SMART,AMEX,NYSE,CBOE,PHLX,ISE,CHX,ARCA,ISLAND,DRCTEDGE,BEX,BATS,EDGEA,CSFBALGO,JEFFALGO,BYX,IEX,EDGX,FOXRIVER,NYSENAT,LTSE,PSX', priceMagnifier=1, underConId=0, longName='ADVANCED MICRO DEVICES', contractMonth='', industry='Technology', category='Semiconductors', subcategory='Electronic Compo-Semicon', timeZoneId='EST (Östliche Normalzeit)', tradingHours='20200910:0800-20200910:1700;20200911:0800-20200911:1700;20200912:CLOSED;20200913:CLOSED;20200914:0800-20200914:1700;20200915:0800-20200915:1700', liquidHours='20200910:0930-20200910:1600;20200911:0930-20200911:1600;20200912:CLOSED;20200913:CLOSED;20200914:0930-20200914:1600;20200915:0930-20200915:1600', evRule='', evMultiplier=0, mdSizeMultiplier=100, aggGroup=1, underSymbol='', underSecType='', marketRuleIds='26,26,26,26,26,26,26,26,26,26,26,26,26,26,26,26,26,26,26,26,26,26', secIdList=[], realExpirationDate='', lastTradeTime='', stockType='COMMON', cusip='', ratings='', descAppend='', bondType='', couponType='', callable=False, putable=False, coupon=0, convertible=False, maturity='', issueDate='', nextOptionDate='', nextOptionType='', nextOptionPartial=False, notes=''),\n ContractDetails(contract=Contract(secType='STK', conId=32596680, symbol='AMD', exchange='FWB', primaryExchange='IBIS', currency='EUR', localSymbol='AMD', tradingClass='USSTARS'), marketName='USSTARS', minTick=0.0001, orderTypes='ACTIVETIM,AD,ADJUST,ALERT,ALLOC,AVGCOST,BASKET,BENCHPX,CASHQTY,COND,CONDORDER,DAY,DEACT,DEACTDIS,DEACTEOD,GAT,GTC,GTD,GTT,HID,LIT,LMT,LTH,MIT,MKT,MTL,NGCOMB,NONALGO,OCA,PEGBENCH,SCALE,SCALERST,SNAPMID,SNAPMKT,SNAPREL,STP,STPLMT,TRAIL,TRAILLIT,TRAILLMT,TRAILMIT,WHATIF', validExchanges='SMART,FWB,IBIS,BVME,VSE,SWB,TGATE,GETTEX', priceMagnifier=1, underConId=0, longName='ADVANCED MICRO DEVICES', contractMonth='', industry='Technology', category='Semiconductors', subcategory='Electronic Compo-Semicon', timeZoneId='MET (Zentraleuropäische Zeit)', tradingHours='20200910:0800-20200910:2000;20200911:0800-20200911:2000;20200912:CLOSED;20200913:CLOSED;20200914:0800-20200914:2000;20200915:0800-20200915:2000', liquidHours='20200910:0900-20200910:1730;20200911:0900-20200911:1730;20200912:CLOSED;20200913:CLOSED;20200914:0900-20200914:1730;20200915:0900-20200915:1730', evRule='', evMultiplier=0, mdSizeMultiplier=1, aggGroup=6, underSymbol='', underSecType='', marketRuleIds='1874,1874,1874,1874,1871,1871,1874,1874', secIdList=[TagValue(tag='ISIN', value='US0079031078')], realExpirationDate='', lastTradeTime='', stockType='COMMON', cusip='', ratings='', descAppend='', bondType='', couponType='', callable=False, putable=False, coupon=0, convertible=False, maturity='', issueDate='', nextOptionDate='', nextOptionType='', nextOptionPartial=False, notes=''),\n ContractDetails(contract=Contract(secType='STK', conId=32596680, symbol='AMD', exchange='IBIS', primaryExchange='IBIS', currency='EUR', localSymbol='AMD', tradingClass='XETRA'), marketName='XETRA', minTick=0.0001, orderTypes='ACTIVETIM,AD,ADJUST,ALERT,ALGOCLS,ALLOC,AUC,AVGCOST,BASKET,BENCHPX,CASHQTY,COND,CONDORDER,DAY,DEACT,DEACTDIS,DEACTEOD,GAT,GTC,GTD,GTT,HID,ICE,LIT,LMT,LOC,LTH,MIT,MKT,MOC,MTL,NGCOMB,NONALGO,OCA,OPG,PEGBENCH,SCALE,SCALERST,SNAPMID,SNAPMKT,SNAPREL,STP,STPLMT,TRAIL,TRAILLIT,TRAILLMT,TRAILMIT,WHATIF', validExchanges='SMART,FWB,IBIS,BVME,VSE,SWB,TGATE,GETTEX', priceMagnifier=1, underConId=0, longName='ADVANCED MICRO DEVICES', contractMonth='', industry='Technology', category='Semiconductors', subcategory='Electronic Compo-Semicon', timeZoneId='MET (Zentraleuropäische Zeit)', tradingHours='20200910:0900-20200910:1740;20200911:0900-20200911:1740;20200912:CLOSED;20200913:CLOSED;20200914:0900-20200914:1740;20200915:0900-20200915:1740', liquidHours='20200910:0900-20200910:1730;20200911:0900-20200911:1730;20200912:CLOSED;20200913:CLOSED;20200914:0900-20200914:1730;20200915:0900-20200915:1730', evRule='', evMultiplier=0, mdSizeMultiplier=1, aggGroup=6, underSymbol='', underSecType='', marketRuleIds='1874,1874,1874,1874,1871,1871,1874,1874', secIdList=[TagValue(tag='ISIN', value='US0079031078')], realExpirationDate='', lastTradeTime='', stockType='COMMON', cusip='', ratings='', descAppend='', bondType='', couponType='', callable=False, putable=False, coupon=0, convertible=False, maturity='', issueDate='', nextOptionDate='', nextOptionType='', nextOptionPartial=False, notes=''),\n ContractDetails(contract=Contract(secType='STK', conId=32596680, symbol='AMD', exchange='BVME', primaryExchange='IBIS', currency='EUR', localSymbol='AMD', tradingClass='AMD'), marketName='AMD', minTick=0.0001, orderTypes='ACTIVETIM,AD,ADJUST,ALERT,ALGOCLS,ALLOC,AUC,AVGCOST,BASKET,BENCHPX,CASHQTY,COND,CONDORDER,DAY,DEACT,DEACTDIS,DEACTEOD,GAT,GTC,GTD,GTT,HID,IOC,LIT,LMT,LOC,LTH,MIT,MKT,MOC,MTL,NGCOMB,NONALGO,OCA,OPG,PEGBENCH,SCALE,SCALERST,SNAPMID,SNAPMKT,SNAPREL,STP,STPLMT,TRAIL,TRAILLIT,TRAILLMT,TRAILMIT,WHATIF', validExchanges='SMART,FWB,IBIS,BVME,VSE,SWB,TGATE,GETTEX', priceMagnifier=1, underConId=0, longName='ADVANCED MICRO DEVICES', contractMonth='', industry='Technology', category='Semiconductors', subcategory='Electronic Compo-Semicon', timeZoneId='MET (Zentraleuropäische Zeit)', tradingHours='20200910:0900-20200910:1742;20200911:0900-20200911:1742;20200912:CLOSED;20200913:CLOSED;20200914:0900-20200914:1742;20200915:0900-20200915:1742', liquidHours='20200910:0900-20200910:1730;20200911:0900-20200911:1730;20200912:CLOSED;20200913:CLOSED;20200914:0900-20200914:1730;20200915:0900-20200915:1730', evRule='', evMultiplier=0, mdSizeMultiplier=1, aggGroup=2147483647, underSymbol='', underSecType='', marketRuleIds='1874,1874,1874,1874,1871,1871,1874,1874', secIdList=[TagValue(tag='ISIN', value='US0079031078')], realExpirationDate='', lastTradeTime='', stockType='COMMON', cusip='', ratings='', descAppend='', bondType='', couponType='', callable=False, putable=False, coupon=0, convertible=False, maturity='', issueDate='', nextOptionDate='', nextOptionType='', nextOptionPartial=False, notes=''),\n ContractDetails(contract=Contract(secType='STK', conId=32596680, symbol='AMD', exchange='VSE', primaryExchange='IBIS', currency='EUR', localSymbol='AMD', tradingClass='AMD'), marketName='AMD', minTick=0.0001, orderTypes='ACTIVETIM,AD,ADJUST,ALERT,ALLOC,AUC,AVGCOST,BASKET,BENCHPX,CASHQTY,COND,CONDORDER,DAY,DEACT,DEACTDIS,DEACTEOD,GAT,GTC,GTD,GTT,HID,ICE,LIT,LMT,MIT,MKT,MTL,NGCOMB,NONALGO,OCA,PEGBENCH,REL,SCALE,SCALERST,SNAPMID,SNAPMKT,SNAPREL,STP,STPLMT,TRAIL,TRAILLIT,TRAILLMT,TRAILMIT,WHATIF', validExchanges='SMART,FWB,IBIS,BVME,VSE,SWB,TGATE,GETTEX', priceMagnifier=1, underConId=0, longName='ADVANCED MICRO DEVICES', contractMonth='', industry='Technology', category='Semiconductors', subcategory='Electronic Compo-Semicon', timeZoneId='MET (Zentraleuropäische Zeit)', tradingHours='20200910:0900-20200910:1745;20200911:0900-20200911:1745;20200912:CLOSED;20200913:CLOSED;20200914:0900-20200914:1745;20200915:0900-20200915:1745', liquidHours='20200910:0900-20200910:1745;20200911:0900-20200911:1745;20200912:CLOSED;20200913:CLOSED;20200914:0900-20200914:1745;20200915:0900-20200915:1745', evRule='', evMultiplier=0, mdSizeMultiplier=1, aggGroup=2147483647, underSymbol='', underSecType='', marketRuleIds='1874,1874,1874,1874,1871,1871,1874,1874', secIdList=[TagValue(tag='ISIN', value='US0079031078')], realExpirationDate='', lastTradeTime='', stockType='COMMON', cusip='', ratings='', descAppend='', bondType='', couponType='', callable=False, putable=False, coupon=0, convertible=False, maturity='', issueDate='', nextOptionDate='', nextOptionType='', nextOptionPartial=False, notes=''),\n ContractDetails(contract=Contract(secType='STK', conId=32596680, symbol='AMD', exchange='SWB', primaryExchange='IBIS', currency='EUR', localSymbol='AMD', tradingClass='XETRA'), marketName='XETRA', minTick=0.0001, orderTypes='ACTIVETIM,AD,ADJUST,ALERT,ALLOC,AVGCOST,BASKET,BENCHPX,CASHQTY,COND,CONDORDER,DAY,DEACT,DEACTDIS,DEACTEOD,GAT,GTC,GTD,GTT,HID,LIT,LMT,LTH,MIT,MKT,MTL,NGCOMB,NONALGO,OCA,PEGBENCH,SCALE,SCALERST,SNAPMID,SNAPMKT,SNAPREL,STP,STPLMT,TRAIL,TRAILLIT,TRAILLMT,TRAILMIT,WHATIF', validExchanges='SMART,FWB,IBIS,BVME,VSE,SWB,TGATE,GETTEX', priceMagnifier=1, underConId=0, longName='ADVANCED MICRO DEVICES', contractMonth='', industry='Technology', category='Semiconductors', subcategory='Electronic Compo-Semicon', timeZoneId='MET (Zentraleuropäische Zeit)', tradingHours='20200910:0800-20200910:2200;20200911:0800-20200911:2200;20200912:CLOSED;20200913:CLOSED;20200914:0800-20200914:2200;20200915:0800-20200915:2200', liquidHours='20200910:0900-20200910:1730;20200911:0900-20200911:1730;20200912:CLOSED;20200913:CLOSED;20200914:0900-20200914:1730;20200915:0900-20200915:1730', evRule='', evMultiplier=0, mdSizeMultiplier=1, aggGroup=6, underSymbol='', underSecType='', marketRuleIds='1874,1874,1874,1874,1871,1871,1874,1874', secIdList=[TagValue(tag='ISIN', value='US0079031078')], realExpirationDate='', lastTradeTime='', stockType='COMMON', cusip='', ratings='', descAppend='', bondType='', couponType='', callable=False, putable=False, coupon=0, convertible=False, maturity='', issueDate='', nextOptionDate='', nextOptionType='', nextOptionPartial=False, notes=''),\n ContractDetails(contract=Contract(secType='STK', conId=32596680, symbol='AMD', exchange='TGATE', primaryExchange='IBIS', currency='EUR', localSymbol='AMD', tradingClass='AMD'), marketName='AMD', minTick=0.0001, orderTypes='ACTIVETIM,AD,ADJUST,ALERT,ALLOC,AVGCOST,BASKET,BENCHPX,CASHQTY,COND,CONDORDER,DAY,DEACT,DEACTDIS,DEACTEOD,GAT,GTC,GTD,GTT,HID,LIT,LMT,MIT,MKT,MTL,NGCOMB,NONALGO,OCA,PEGBENCH,SCALE,SCALERST,SNAPMID,SNAPMKT,SNAPREL,STP,STPLMT,TRAIL,TRAILLIT,TRAILLMT,TRAILMIT,WHATIF', validExchanges='SMART,FWB,IBIS,BVME,VSE,SWB,TGATE,GETTEX', priceMagnifier=1, underConId=0, longName='ADVANCED MICRO DEVICES', contractMonth='', industry='Technology', category='Semiconductors', subcategory='Electronic Compo-Semicon', timeZoneId='MET (Zentraleuropäische Zeit)', tradingHours='20200910:0900-20200910:2000;20200911:0900-20200911:2000;20200912:CLOSED;20200913:CLOSED;20200914:0900-20200914:2000;20200915:0900-20200915:2000', liquidHours='20200910:0900-20200910:2000;20200911:0900-20200911:2000;20200912:CLOSED;20200913:CLOSED;20200914:0900-20200914:2000;20200915:0900-20200915:2000', evRule='', evMultiplier=0, mdSizeMultiplier=1, aggGroup=6, underSymbol='', underSecType='', marketRuleIds='1874,1874,1874,1874,1871,1871,1874,1874', secIdList=[TagValue(tag='ISIN', value='US0079031078')], realExpirationDate='', lastTradeTime='', stockType='COMMON', cusip='', ratings='', descAppend='', bondType='', couponType='', callable=False, putable=False, coupon=0, convertible=False, maturity='', issueDate='', nextOptionDate='', nextOptionType='', nextOptionPartial=False, notes=''),\n ContractDetails(contract=Contract(secType='STK', conId=32596680, symbol='AMD', exchange='GETTEX', primaryExchange='IBIS', currency='EUR', localSymbol='AMD', tradingClass='USSTARS'), marketName='USSTARS', minTick=0.0001, orderTypes='ACTIVETIM,AD,ADJUST,ALERT,ALLOC,AVGCOST,BASKET,BENCHPX,CASHQTY,COND,CONDORDER,DAY,DEACT,DEACTDIS,DEACTEOD,GAT,GTC,GTD,GTT,HID,LIT,LMT,MIT,MKT,MTL,NGCOMB,NONALGO,OCA,PEGBENCH,SCALE,SCALERST,SNAPMID,SNAPMKT,SNAPREL,STP,STPLMT,TRAIL,TRAILLIT,TRAILLMT,TRAILMIT,WHATIF', validExchanges='SMART,FWB,IBIS,BVME,VSE,SWB,TGATE,GETTEX', priceMagnifier=1, underConId=0, longName='ADVANCED MICRO DEVICES', contractMonth='', industry='Technology', category='Semiconductors', subcategory='Electronic Compo-Semicon', timeZoneId='MET (Zentraleuropäische Zeit)', tradingHours='20200910:0900-20200910:2000;20200911:0900-20200911:2000;20200912:CLOSED;20200913:CLOSED;20200914:0900-20200914:2000;20200915:0900-20200915:2000', liquidHours='20200910:0900-20200910:2000;20200911:0900-20200911:2000;20200912:CLOSED;20200913:CLOSED;20200914:0900-20200914:2000;20200915:0900-20200915:2000', evRule='', evMultiplier=0, mdSizeMultiplier=1, aggGroup=6, underSymbol='', underSecType='', marketRuleIds='1874,1874,1874,1874,1871,1871,1874,1874', secIdList=[TagValue(tag='ISIN', value='US0079031078')], realExpirationDate='', lastTradeTime='', stockType='COMMON', cusip='', ratings='', descAppend='', bondType='', couponType='', callable=False, putable=False, coupon=0, convertible=False, maturity='', issueDate='', nextOptionDate='', nextOptionType='', nextOptionPartial=False, notes=''),\n ContractDetails(contract=Contract(secType='STK', conId=48818298, symbol='AMD', exchange='MEXI', primaryExchange='MEXI', currency='MXN', localSymbol='AMD', tradingClass='AMD'), marketName='AMD', minTick=0.01, orderTypes='ACTIVETIM,AD,ADJUST,ALERT,ALLOC,AVGCOST,BASKET,BENCHPX,CASHQTY,COND,CONDORDER,DAY,DEACT,DEACTDIS,DEACTEOD,GAT,GTC,GTD,GTT,HID,LIT,LMT,MIT,MKT,MTL,NGCOMB,NONALGO,OCA,PEGBENCH,SCALE,SCALERST,SNAPMID,SNAPMKT,SNAPREL,STP,STPLMT,TRAIL,TRAILLIT,TRAILLMT,TRAILMIT,WHATIF', validExchanges='MEXI', priceMagnifier=1, underConId=0, longName='ADVANCED MICRO DEVICES', contractMonth='', industry='Technology', category='Semiconductors', subcategory='Electronic Compo-Semicon', timeZoneId='CST (Zentrale Normalzeit)', tradingHours='20200910:0830-20200910:1500;20200911:0830-20200911:1500;20200912:CLOSED;20200913:CLOSED;20200914:0830-20200914:1500;20200915:0830-20200915:1500', liquidHours='20200910:0830-20200910:1500;20200911:0830-20200911:1500;20200912:CLOSED;20200913:CLOSED;20200914:0830-20200914:1500;20200915:0830-20200915:1500', evRule='', evMultiplier=0, mdSizeMultiplier=1, aggGroup=2147483647, underSymbol='', underSecType='', marketRuleIds='26', secIdList=[TagValue(tag='ISIN', value='US0079031078')], realExpirationDate='', lastTradeTime='', stockType='COMMON', cusip='', ratings='', descAppend='', bondType='', couponType='', callable=False, putable=False, coupon=0, convertible=False, maturity='', issueDate='', nextOptionDate='', nextOptionType='', nextOptionPartial=False, notes=''),\n ContractDetails(contract=Contract(secType='STK', conId=172603743, symbol='AMD', exchange='EBS', primaryExchange='EBS', currency='CHF', localSymbol='AMD', tradingClass='AMD'), marketName='AMD', minTick=0.001, orderTypes='ACTIVETIM,AD,ADJUST,ALERT,ALGOCLS,ALLOC,AVGCOST,BASKET,BENCHPX,CASHQTY,COND,CONDORDER,DAY,DEACT,DEACTDIS,DEACTEOD,GAT,GTC,GTD,GTT,HID,ICE,IOC,LIT,LMT,LOC,LTH,MIT,MKT,MOC,MTL,NGCOMB,NONALGO,OCA,OPG,PEGBENCH,SCALE,SCALERST,SNAPMID,SNAPMKT,SNAPREL,STP,STPLMT,TRAIL,TRAILLIT,TRAILLMT,TRAILMIT,WHATIF', validExchanges='SMART,EBS', priceMagnifier=1, underConId=0, longName='ADVANCED MICRO DEVICES', contractMonth='', industry='Technology', category='Semiconductors', subcategory='Electronic Compo-Semicon', timeZoneId='MET (Zentraleuropäische Zeit)', tradingHours='20200910:0900-20200910:1732;20200911:0900-20200911:1732;20200912:CLOSED;20200913:CLOSED;20200914:0900-20200914:1732;20200915:0900-20200915:1732', liquidHours='20200910:0900-20200910:1720;20200911:0900-20200911:1720;20200912:CLOSED;20200913:CLOSED;20200914:0900-20200914:1720;20200915:0900-20200915:1720', evRule='', evMultiplier=0, mdSizeMultiplier=1, aggGroup=6, underSymbol='', underSecType='', marketRuleIds='579,579', secIdList=[TagValue(tag='ISIN', value='US0079031078')], realExpirationDate='', lastTradeTime='', stockType='COMMON', cusip='', ratings='', descAppend='', bondType='', couponType='', callable=False, putable=False, coupon=0, convertible=False, maturity='', issueDate='', nextOptionDate='', nextOptionType='', nextOptionPartial=False, notes=''),\n ContractDetails(contract=Contract(secType='STK', conId=298633607, symbol='AMD', exchange='ASX', primaryExchange='ASX', currency='AUD', localSymbol='AMD', tradingClass='AMD'), marketName='AMD', minTick=0.001, orderTypes='ACTIVETIM,AD,ADJUST,ALERT,ALLOC,AVGCOST,BASKET,BENCHPX,CASHQTY,COND,CONDORDER,DAY,DEACT,DEACTDIS,DEACTEOD,GAT,GTC,GTD,GTT,HID,IOC,LIT,LMT,MIT,MKT,MTL,NGCOMB,NONALGO,OCA,PEGBENCH,REL,SCALE,SCALERST,SNAPMID,SNAPMKT,SNAPREL,STP,STPLMT,TRAIL,TRAILLIT,TRAILLMT,TRAILMIT,WHATIF', validExchanges='SMART,ASX,ASXCEN', priceMagnifier=1, underConId=0, longName='ARROW MINERALS LTD', contractMonth='', industry='Basic Materials', category='Mining', subcategory='Metal-Diversified', timeZoneId='AEST (Östliche Normalzeit (New South Wales))', tradingHours='20200910:0959-20200910:1611;20200911:0959-20200911:1611;20200912:CLOSED;20200913:CLOSED;20200914:0959-20200914:1611;20200915:0959-20200915:1611', liquidHours='20200910:0959-20200910:1611;20200911:0959-20200911:1611;20200912:CLOSED;20200913:CLOSED;20200914:0959-20200914:1611;20200915:0959-20200915:1611', evRule='', evMultiplier=0, mdSizeMultiplier=1, aggGroup=17, underSymbol='', underSecType='', marketRuleIds='614,614,614', secIdList=[TagValue(tag='ISIN', value='AU000000AMD2')], realExpirationDate='', lastTradeTime='', stockType='COMMON', cusip='', ratings='', descAppend='', bondType='', couponType='', callable=False, putable=False, coupon=0, convertible=False, maturity='', issueDate='', nextOptionDate='', nextOptionType='', nextOptionPartial=False, notes=''),\n ContractDetails(contract=Contract(secType='STK', conId=298633607, symbol='AMD', exchange='ASXCEN', primaryExchange='ASX', currency='AUD', localSymbol='AMD', tradingClass='AMD'), marketName='AMD', minTick=0.001, orderTypes='ACTIVETIM,AD,ADJUST,ALERT,ALLOC,AON,AVGCOST,BASKET,BENCHPX,CASHQTY,COND,CONDORDER,DAY,DEACT,DEACTDIS,DEACTEOD,GAT,GTC,GTD,GTT,HID,IOC,LIT,LMT,MIT,MKT,MTL,NGCOMB,NONALGO,OCA,PAON,PEGBENCH,PEGMID,SCALE,SCALERST,SNAPMID,SNAPMKT,SNAPREL,STP,STPLMT,TRAIL,TRAILLIT,TRAILLMT,TRAILMIT,WHATIF', validExchanges='SMART,ASX,ASXCEN', priceMagnifier=1, underConId=0, longName='ARROW MINERALS LTD', contractMonth='', industry='Basic Materials', category='Mining', subcategory='Metal-Diversified', timeZoneId='AEST (Östliche Normalzeit (New South Wales))', tradingHours='20200910:0959-20200910:1611;20200911:0959-20200911:1611;20200912:CLOSED;20200913:CLOSED;20200914:0959-20200914:1611;20200915:0959-20200915:1611', liquidHours='20200910:0959-20200910:1611;20200911:0959-20200911:1611;20200912:CLOSED;20200913:CLOSED;20200914:0959-20200914:1611;20200915:0959-20200915:1611', evRule='', evMultiplier=0, mdSizeMultiplier=1, aggGroup=2147483647, underSymbol='', underSecType='', marketRuleIds='614,614,614', secIdList=[TagValue(tag='ISIN', value='AU000000AMD2')], realExpirationDate='', lastTradeTime='', stockType='COMMON', cusip='', ratings='', descAppend='', bondType='', couponType='', callable=False, putable=False, coupon=0, convertible=False, maturity='', issueDate='', nextOptionDate='', nextOptionType='', nextOptionPartial=False, notes='')]"
     },
     "metadata": {},
     "execution_count": 5
    }
   ],
   "source": [
    "cds"
   ]
  },
  {
   "cell_type": "markdown",
   "metadata": {},
   "source": [
    "The contract itself is in the 'contract' property of the contract details. Lets make a list of contracts and look at the first:"
   ]
  },
  {
   "cell_type": "code",
   "execution_count": 6,
   "metadata": {},
   "outputs": [
    {
     "output_type": "execute_result",
     "data": {
      "text/plain": "Contract(secType='STK', conId=4391, symbol='AMD', exchange='SMART', primaryExchange='NASDAQ', currency='USD', localSymbol='AMD', tradingClass='NMS')"
     },
     "metadata": {},
     "execution_count": 6
    }
   ],
   "source": [
    "contracts = [cd.contract for cd in cds]\n",
    "\n",
    "contracts[0]"
   ]
  },
  {
   "cell_type": "markdown",
   "metadata": {},
   "source": [
    "To better spot the difference between all the contracts it's handy to convert to a DataFrame. There is a utility function to do that:"
   ]
  },
  {
   "cell_type": "code",
   "execution_count": 7,
   "metadata": {},
   "outputs": [
    {
     "output_type": "execute_result",
     "data": {
      "text/plain": "   secType      conId symbol lastTradeDateOrContractMonth  strike right  \\\n0      STK       4391    AMD                                  0.0         \n1      STK   32596680    AMD                                  0.0         \n2      STK  172603743    AMD                                  0.0         \n3      STK  298633607    AMD                                  0.0         \n4      STK       4391    AMD                                  0.0         \n5      STK       4391    AMD                                  0.0         \n6      STK       4391    AMD                                  0.0         \n7      STK       4391    AMD                                  0.0         \n8      STK       4391    AMD                                  0.0         \n9      STK       4391    AMD                                  0.0         \n10     STK       4391    AMD                                  0.0         \n11     STK       4391    AMD                                  0.0         \n12     STK       4391    AMD                                  0.0         \n13     STK       4391    AMD                                  0.0         \n14     STK       4391    AMD                                  0.0         \n15     STK       4391    AMD                                  0.0         \n16     STK       4391    AMD                                  0.0         \n17     STK       4391    AMD                                  0.0         \n18     STK       4391    AMD                                  0.0         \n19     STK       4391    AMD                                  0.0         \n20     STK       4391    AMD                                  0.0         \n21     STK       4391    AMD                                  0.0         \n22     STK       4391    AMD                                  0.0         \n23     STK       4391    AMD                                  0.0         \n24     STK       4391    AMD                                  0.0         \n25     STK   32596680    AMD                                  0.0         \n26     STK   32596680    AMD                                  0.0         \n27     STK   32596680    AMD                                  0.0         \n28     STK   32596680    AMD                                  0.0         \n29     STK   32596680    AMD                                  0.0         \n30     STK   32596680    AMD                                  0.0         \n31     STK   32596680    AMD                                  0.0         \n32     STK   48818298    AMD                                  0.0         \n33     STK  172603743    AMD                                  0.0         \n34     STK  298633607    AMD                                  0.0         \n35     STK  298633607    AMD                                  0.0         \n\n   multiplier  exchange primaryExchange currency localSymbol tradingClass  \\\n0                 SMART          NASDAQ      USD         AMD          NMS   \n1                 SMART            IBIS      EUR         AMD        XETRA   \n2                 SMART             EBS      CHF         AMD          AMD   \n3                 SMART             ASX      AUD         AMD          AMD   \n4                  AMEX          NASDAQ      USD         AMD          NMS   \n5                  NYSE          NASDAQ      USD         AMD          NMS   \n6                  CBOE          NASDAQ      USD         AMD          NMS   \n7                  PHLX          NASDAQ      USD         AMD          NMS   \n8                   ISE          NASDAQ      USD         AMD          NMS   \n9                   CHX          NASDAQ      USD         AMD          NMS   \n10                 ARCA          NASDAQ      USD         AMD          NMS   \n11               ISLAND          NASDAQ      USD         AMD          NMS   \n12             DRCTEDGE          NASDAQ      USD         AMD          NMS   \n13                  BEX          NASDAQ      USD         AMD          NMS   \n14                 BATS          NASDAQ      USD         AMD          NMS   \n15                EDGEA          NASDAQ      USD         AMD          NMS   \n16             CSFBALGO          NASDAQ      USD         AMD          NMS   \n17             JEFFALGO          NASDAQ      USD         AMD          NMS   \n18                  BYX          NASDAQ      USD         AMD          NMS   \n19                  IEX          NASDAQ      USD         AMD          NMS   \n20                 EDGX          NASDAQ      USD         AMD          NMS   \n21             FOXRIVER          NASDAQ      USD         AMD          NMS   \n22              NYSENAT          NASDAQ      USD         AMD          NMS   \n23                 LTSE          NASDAQ      USD         AMD          NMS   \n24                  PSX          NASDAQ      USD         AMD          NMS   \n25                  FWB            IBIS      EUR         AMD      USSTARS   \n26                 IBIS            IBIS      EUR         AMD        XETRA   \n27                 BVME            IBIS      EUR         AMD          AMD   \n28                  VSE            IBIS      EUR         AMD          AMD   \n29                  SWB            IBIS      EUR         AMD        XETRA   \n30                TGATE            IBIS      EUR         AMD          AMD   \n31               GETTEX            IBIS      EUR         AMD      USSTARS   \n32                 MEXI            MEXI      MXN         AMD          AMD   \n33                  EBS             EBS      CHF         AMD          AMD   \n34                  ASX             ASX      AUD         AMD          AMD   \n35               ASXCEN             ASX      AUD         AMD          AMD   \n\n    includeExpired secIdType secId comboLegsDescrip comboLegs  \\\n0            False                                         []   \n1            False                                         []   \n2            False                                         []   \n3            False                                         []   \n4            False                                         []   \n5            False                                         []   \n6            False                                         []   \n7            False                                         []   \n8            False                                         []   \n9            False                                         []   \n10           False                                         []   \n11           False                                         []   \n12           False                                         []   \n13           False                                         []   \n14           False                                         []   \n15           False                                         []   \n16           False                                         []   \n17           False                                         []   \n18           False                                         []   \n19           False                                         []   \n20           False                                         []   \n21           False                                         []   \n22           False                                         []   \n23           False                                         []   \n24           False                                         []   \n25           False                                         []   \n26           False                                         []   \n27           False                                         []   \n28           False                                         []   \n29           False                                         []   \n30           False                                         []   \n31           False                                         []   \n32           False                                         []   \n33           False                                         []   \n34           False                                         []   \n35           False                                         []   \n\n   deltaNeutralContract  \n0                  None  \n1                  None  \n2                  None  \n3                  None  \n4                  None  \n5                  None  \n6                  None  \n7                  None  \n8                  None  \n9                  None  \n10                 None  \n11                 None  \n12                 None  \n13                 None  \n14                 None  \n15                 None  \n16                 None  \n17                 None  \n18                 None  \n19                 None  \n20                 None  \n21                 None  \n22                 None  \n23                 None  \n24                 None  \n25                 None  \n26                 None  \n27                 None  \n28                 None  \n29                 None  \n30                 None  \n31                 None  \n32                 None  \n33                 None  \n34                 None  \n35                 None  ",
      "text/html": "<div>\n<style scoped>\n    .dataframe tbody tr th:only-of-type {\n        vertical-align: middle;\n    }\n\n    .dataframe tbody tr th {\n        vertical-align: top;\n    }\n\n    .dataframe thead th {\n        text-align: right;\n    }\n</style>\n<table border=\"1\" class=\"dataframe\">\n  <thead>\n    <tr style=\"text-align: right;\">\n      <th></th>\n      <th>secType</th>\n      <th>conId</th>\n      <th>symbol</th>\n      <th>lastTradeDateOrContractMonth</th>\n      <th>strike</th>\n      <th>right</th>\n      <th>multiplier</th>\n      <th>exchange</th>\n      <th>primaryExchange</th>\n      <th>currency</th>\n      <th>localSymbol</th>\n      <th>tradingClass</th>\n      <th>includeExpired</th>\n      <th>secIdType</th>\n      <th>secId</th>\n      <th>comboLegsDescrip</th>\n      <th>comboLegs</th>\n      <th>deltaNeutralContract</th>\n    </tr>\n  </thead>\n  <tbody>\n    <tr>\n      <th>0</th>\n      <td>STK</td>\n      <td>4391</td>\n      <td>AMD</td>\n      <td></td>\n      <td>0.0</td>\n      <td></td>\n      <td></td>\n      <td>SMART</td>\n      <td>NASDAQ</td>\n      <td>USD</td>\n      <td>AMD</td>\n      <td>NMS</td>\n      <td>False</td>\n      <td></td>\n      <td></td>\n      <td></td>\n      <td>[]</td>\n      <td>None</td>\n    </tr>\n    <tr>\n      <th>1</th>\n      <td>STK</td>\n      <td>32596680</td>\n      <td>AMD</td>\n      <td></td>\n      <td>0.0</td>\n      <td></td>\n      <td></td>\n      <td>SMART</td>\n      <td>IBIS</td>\n      <td>EUR</td>\n      <td>AMD</td>\n      <td>XETRA</td>\n      <td>False</td>\n      <td></td>\n      <td></td>\n      <td></td>\n      <td>[]</td>\n      <td>None</td>\n    </tr>\n    <tr>\n      <th>2</th>\n      <td>STK</td>\n      <td>172603743</td>\n      <td>AMD</td>\n      <td></td>\n      <td>0.0</td>\n      <td></td>\n      <td></td>\n      <td>SMART</td>\n      <td>EBS</td>\n      <td>CHF</td>\n      <td>AMD</td>\n      <td>AMD</td>\n      <td>False</td>\n      <td></td>\n      <td></td>\n      <td></td>\n      <td>[]</td>\n      <td>None</td>\n    </tr>\n    <tr>\n      <th>3</th>\n      <td>STK</td>\n      <td>298633607</td>\n      <td>AMD</td>\n      <td></td>\n      <td>0.0</td>\n      <td></td>\n      <td></td>\n      <td>SMART</td>\n      <td>ASX</td>\n      <td>AUD</td>\n      <td>AMD</td>\n      <td>AMD</td>\n      <td>False</td>\n      <td></td>\n      <td></td>\n      <td></td>\n      <td>[]</td>\n      <td>None</td>\n    </tr>\n    <tr>\n      <th>4</th>\n      <td>STK</td>\n      <td>4391</td>\n      <td>AMD</td>\n      <td></td>\n      <td>0.0</td>\n      <td></td>\n      <td></td>\n      <td>AMEX</td>\n      <td>NASDAQ</td>\n      <td>USD</td>\n      <td>AMD</td>\n      <td>NMS</td>\n      <td>False</td>\n      <td></td>\n      <td></td>\n      <td></td>\n      <td>[]</td>\n      <td>None</td>\n    </tr>\n    <tr>\n      <th>5</th>\n      <td>STK</td>\n      <td>4391</td>\n      <td>AMD</td>\n      <td></td>\n      <td>0.0</td>\n      <td></td>\n      <td></td>\n      <td>NYSE</td>\n      <td>NASDAQ</td>\n      <td>USD</td>\n      <td>AMD</td>\n      <td>NMS</td>\n      <td>False</td>\n      <td></td>\n      <td></td>\n      <td></td>\n      <td>[]</td>\n      <td>None</td>\n    </tr>\n    <tr>\n      <th>6</th>\n      <td>STK</td>\n      <td>4391</td>\n      <td>AMD</td>\n      <td></td>\n      <td>0.0</td>\n      <td></td>\n      <td></td>\n      <td>CBOE</td>\n      <td>NASDAQ</td>\n      <td>USD</td>\n      <td>AMD</td>\n      <td>NMS</td>\n      <td>False</td>\n      <td></td>\n      <td></td>\n      <td></td>\n      <td>[]</td>\n      <td>None</td>\n    </tr>\n    <tr>\n      <th>7</th>\n      <td>STK</td>\n      <td>4391</td>\n      <td>AMD</td>\n      <td></td>\n      <td>0.0</td>\n      <td></td>\n      <td></td>\n      <td>PHLX</td>\n      <td>NASDAQ</td>\n      <td>USD</td>\n      <td>AMD</td>\n      <td>NMS</td>\n      <td>False</td>\n      <td></td>\n      <td></td>\n      <td></td>\n      <td>[]</td>\n      <td>None</td>\n    </tr>\n    <tr>\n      <th>8</th>\n      <td>STK</td>\n      <td>4391</td>\n      <td>AMD</td>\n      <td></td>\n      <td>0.0</td>\n      <td></td>\n      <td></td>\n      <td>ISE</td>\n      <td>NASDAQ</td>\n      <td>USD</td>\n      <td>AMD</td>\n      <td>NMS</td>\n      <td>False</td>\n      <td></td>\n      <td></td>\n      <td></td>\n      <td>[]</td>\n      <td>None</td>\n    </tr>\n    <tr>\n      <th>9</th>\n      <td>STK</td>\n      <td>4391</td>\n      <td>AMD</td>\n      <td></td>\n      <td>0.0</td>\n      <td></td>\n      <td></td>\n      <td>CHX</td>\n      <td>NASDAQ</td>\n      <td>USD</td>\n      <td>AMD</td>\n      <td>NMS</td>\n      <td>False</td>\n      <td></td>\n      <td></td>\n      <td></td>\n      <td>[]</td>\n      <td>None</td>\n    </tr>\n    <tr>\n      <th>10</th>\n      <td>STK</td>\n      <td>4391</td>\n      <td>AMD</td>\n      <td></td>\n      <td>0.0</td>\n      <td></td>\n      <td></td>\n      <td>ARCA</td>\n      <td>NASDAQ</td>\n      <td>USD</td>\n      <td>AMD</td>\n      <td>NMS</td>\n      <td>False</td>\n      <td></td>\n      <td></td>\n      <td></td>\n      <td>[]</td>\n      <td>None</td>\n    </tr>\n    <tr>\n      <th>11</th>\n      <td>STK</td>\n      <td>4391</td>\n      <td>AMD</td>\n      <td></td>\n      <td>0.0</td>\n      <td></td>\n      <td></td>\n      <td>ISLAND</td>\n      <td>NASDAQ</td>\n      <td>USD</td>\n      <td>AMD</td>\n      <td>NMS</td>\n      <td>False</td>\n      <td></td>\n      <td></td>\n      <td></td>\n      <td>[]</td>\n      <td>None</td>\n    </tr>\n    <tr>\n      <th>12</th>\n      <td>STK</td>\n      <td>4391</td>\n      <td>AMD</td>\n      <td></td>\n      <td>0.0</td>\n      <td></td>\n      <td></td>\n      <td>DRCTEDGE</td>\n      <td>NASDAQ</td>\n      <td>USD</td>\n      <td>AMD</td>\n      <td>NMS</td>\n      <td>False</td>\n      <td></td>\n      <td></td>\n      <td></td>\n      <td>[]</td>\n      <td>None</td>\n    </tr>\n    <tr>\n      <th>13</th>\n      <td>STK</td>\n      <td>4391</td>\n      <td>AMD</td>\n      <td></td>\n      <td>0.0</td>\n      <td></td>\n      <td></td>\n      <td>BEX</td>\n      <td>NASDAQ</td>\n      <td>USD</td>\n      <td>AMD</td>\n      <td>NMS</td>\n      <td>False</td>\n      <td></td>\n      <td></td>\n      <td></td>\n      <td>[]</td>\n      <td>None</td>\n    </tr>\n    <tr>\n      <th>14</th>\n      <td>STK</td>\n      <td>4391</td>\n      <td>AMD</td>\n      <td></td>\n      <td>0.0</td>\n      <td></td>\n      <td></td>\n      <td>BATS</td>\n      <td>NASDAQ</td>\n      <td>USD</td>\n      <td>AMD</td>\n      <td>NMS</td>\n      <td>False</td>\n      <td></td>\n      <td></td>\n      <td></td>\n      <td>[]</td>\n      <td>None</td>\n    </tr>\n    <tr>\n      <th>15</th>\n      <td>STK</td>\n      <td>4391</td>\n      <td>AMD</td>\n      <td></td>\n      <td>0.0</td>\n      <td></td>\n      <td></td>\n      <td>EDGEA</td>\n      <td>NASDAQ</td>\n      <td>USD</td>\n      <td>AMD</td>\n      <td>NMS</td>\n      <td>False</td>\n      <td></td>\n      <td></td>\n      <td></td>\n      <td>[]</td>\n      <td>None</td>\n    </tr>\n    <tr>\n      <th>16</th>\n      <td>STK</td>\n      <td>4391</td>\n      <td>AMD</td>\n      <td></td>\n      <td>0.0</td>\n      <td></td>\n      <td></td>\n      <td>CSFBALGO</td>\n      <td>NASDAQ</td>\n      <td>USD</td>\n      <td>AMD</td>\n      <td>NMS</td>\n      <td>False</td>\n      <td></td>\n      <td></td>\n      <td></td>\n      <td>[]</td>\n      <td>None</td>\n    </tr>\n    <tr>\n      <th>17</th>\n      <td>STK</td>\n      <td>4391</td>\n      <td>AMD</td>\n      <td></td>\n      <td>0.0</td>\n      <td></td>\n      <td></td>\n      <td>JEFFALGO</td>\n      <td>NASDAQ</td>\n      <td>USD</td>\n      <td>AMD</td>\n      <td>NMS</td>\n      <td>False</td>\n      <td></td>\n      <td></td>\n      <td></td>\n      <td>[]</td>\n      <td>None</td>\n    </tr>\n    <tr>\n      <th>18</th>\n      <td>STK</td>\n      <td>4391</td>\n      <td>AMD</td>\n      <td></td>\n      <td>0.0</td>\n      <td></td>\n      <td></td>\n      <td>BYX</td>\n      <td>NASDAQ</td>\n      <td>USD</td>\n      <td>AMD</td>\n      <td>NMS</td>\n      <td>False</td>\n      <td></td>\n      <td></td>\n      <td></td>\n      <td>[]</td>\n      <td>None</td>\n    </tr>\n    <tr>\n      <th>19</th>\n      <td>STK</td>\n      <td>4391</td>\n      <td>AMD</td>\n      <td></td>\n      <td>0.0</td>\n      <td></td>\n      <td></td>\n      <td>IEX</td>\n      <td>NASDAQ</td>\n      <td>USD</td>\n      <td>AMD</td>\n      <td>NMS</td>\n      <td>False</td>\n      <td></td>\n      <td></td>\n      <td></td>\n      <td>[]</td>\n      <td>None</td>\n    </tr>\n    <tr>\n      <th>20</th>\n      <td>STK</td>\n      <td>4391</td>\n      <td>AMD</td>\n      <td></td>\n      <td>0.0</td>\n      <td></td>\n      <td></td>\n      <td>EDGX</td>\n      <td>NASDAQ</td>\n      <td>USD</td>\n      <td>AMD</td>\n      <td>NMS</td>\n      <td>False</td>\n      <td></td>\n      <td></td>\n      <td></td>\n      <td>[]</td>\n      <td>None</td>\n    </tr>\n    <tr>\n      <th>21</th>\n      <td>STK</td>\n      <td>4391</td>\n      <td>AMD</td>\n      <td></td>\n      <td>0.0</td>\n      <td></td>\n      <td></td>\n      <td>FOXRIVER</td>\n      <td>NASDAQ</td>\n      <td>USD</td>\n      <td>AMD</td>\n      <td>NMS</td>\n      <td>False</td>\n      <td></td>\n      <td></td>\n      <td></td>\n      <td>[]</td>\n      <td>None</td>\n    </tr>\n    <tr>\n      <th>22</th>\n      <td>STK</td>\n      <td>4391</td>\n      <td>AMD</td>\n      <td></td>\n      <td>0.0</td>\n      <td></td>\n      <td></td>\n      <td>NYSENAT</td>\n      <td>NASDAQ</td>\n      <td>USD</td>\n      <td>AMD</td>\n      <td>NMS</td>\n      <td>False</td>\n      <td></td>\n      <td></td>\n      <td></td>\n      <td>[]</td>\n      <td>None</td>\n    </tr>\n    <tr>\n      <th>23</th>\n      <td>STK</td>\n      <td>4391</td>\n      <td>AMD</td>\n      <td></td>\n      <td>0.0</td>\n      <td></td>\n      <td></td>\n      <td>LTSE</td>\n      <td>NASDAQ</td>\n      <td>USD</td>\n      <td>AMD</td>\n      <td>NMS</td>\n      <td>False</td>\n      <td></td>\n      <td></td>\n      <td></td>\n      <td>[]</td>\n      <td>None</td>\n    </tr>\n    <tr>\n      <th>24</th>\n      <td>STK</td>\n      <td>4391</td>\n      <td>AMD</td>\n      <td></td>\n      <td>0.0</td>\n      <td></td>\n      <td></td>\n      <td>PSX</td>\n      <td>NASDAQ</td>\n      <td>USD</td>\n      <td>AMD</td>\n      <td>NMS</td>\n      <td>False</td>\n      <td></td>\n      <td></td>\n      <td></td>\n      <td>[]</td>\n      <td>None</td>\n    </tr>\n    <tr>\n      <th>25</th>\n      <td>STK</td>\n      <td>32596680</td>\n      <td>AMD</td>\n      <td></td>\n      <td>0.0</td>\n      <td></td>\n      <td></td>\n      <td>FWB</td>\n      <td>IBIS</td>\n      <td>EUR</td>\n      <td>AMD</td>\n      <td>USSTARS</td>\n      <td>False</td>\n      <td></td>\n      <td></td>\n      <td></td>\n      <td>[]</td>\n      <td>None</td>\n    </tr>\n    <tr>\n      <th>26</th>\n      <td>STK</td>\n      <td>32596680</td>\n      <td>AMD</td>\n      <td></td>\n      <td>0.0</td>\n      <td></td>\n      <td></td>\n      <td>IBIS</td>\n      <td>IBIS</td>\n      <td>EUR</td>\n      <td>AMD</td>\n      <td>XETRA</td>\n      <td>False</td>\n      <td></td>\n      <td></td>\n      <td></td>\n      <td>[]</td>\n      <td>None</td>\n    </tr>\n    <tr>\n      <th>27</th>\n      <td>STK</td>\n      <td>32596680</td>\n      <td>AMD</td>\n      <td></td>\n      <td>0.0</td>\n      <td></td>\n      <td></td>\n      <td>BVME</td>\n      <td>IBIS</td>\n      <td>EUR</td>\n      <td>AMD</td>\n      <td>AMD</td>\n      <td>False</td>\n      <td></td>\n      <td></td>\n      <td></td>\n      <td>[]</td>\n      <td>None</td>\n    </tr>\n    <tr>\n      <th>28</th>\n      <td>STK</td>\n      <td>32596680</td>\n      <td>AMD</td>\n      <td></td>\n      <td>0.0</td>\n      <td></td>\n      <td></td>\n      <td>VSE</td>\n      <td>IBIS</td>\n      <td>EUR</td>\n      <td>AMD</td>\n      <td>AMD</td>\n      <td>False</td>\n      <td></td>\n      <td></td>\n      <td></td>\n      <td>[]</td>\n      <td>None</td>\n    </tr>\n    <tr>\n      <th>29</th>\n      <td>STK</td>\n      <td>32596680</td>\n      <td>AMD</td>\n      <td></td>\n      <td>0.0</td>\n      <td></td>\n      <td></td>\n      <td>SWB</td>\n      <td>IBIS</td>\n      <td>EUR</td>\n      <td>AMD</td>\n      <td>XETRA</td>\n      <td>False</td>\n      <td></td>\n      <td></td>\n      <td></td>\n      <td>[]</td>\n      <td>None</td>\n    </tr>\n    <tr>\n      <th>30</th>\n      <td>STK</td>\n      <td>32596680</td>\n      <td>AMD</td>\n      <td></td>\n      <td>0.0</td>\n      <td></td>\n      <td></td>\n      <td>TGATE</td>\n      <td>IBIS</td>\n      <td>EUR</td>\n      <td>AMD</td>\n      <td>AMD</td>\n      <td>False</td>\n      <td></td>\n      <td></td>\n      <td></td>\n      <td>[]</td>\n      <td>None</td>\n    </tr>\n    <tr>\n      <th>31</th>\n      <td>STK</td>\n      <td>32596680</td>\n      <td>AMD</td>\n      <td></td>\n      <td>0.0</td>\n      <td></td>\n      <td></td>\n      <td>GETTEX</td>\n      <td>IBIS</td>\n      <td>EUR</td>\n      <td>AMD</td>\n      <td>USSTARS</td>\n      <td>False</td>\n      <td></td>\n      <td></td>\n      <td></td>\n      <td>[]</td>\n      <td>None</td>\n    </tr>\n    <tr>\n      <th>32</th>\n      <td>STK</td>\n      <td>48818298</td>\n      <td>AMD</td>\n      <td></td>\n      <td>0.0</td>\n      <td></td>\n      <td></td>\n      <td>MEXI</td>\n      <td>MEXI</td>\n      <td>MXN</td>\n      <td>AMD</td>\n      <td>AMD</td>\n      <td>False</td>\n      <td></td>\n      <td></td>\n      <td></td>\n      <td>[]</td>\n      <td>None</td>\n    </tr>\n    <tr>\n      <th>33</th>\n      <td>STK</td>\n      <td>172603743</td>\n      <td>AMD</td>\n      <td></td>\n      <td>0.0</td>\n      <td></td>\n      <td></td>\n      <td>EBS</td>\n      <td>EBS</td>\n      <td>CHF</td>\n      <td>AMD</td>\n      <td>AMD</td>\n      <td>False</td>\n      <td></td>\n      <td></td>\n      <td></td>\n      <td>[]</td>\n      <td>None</td>\n    </tr>\n    <tr>\n      <th>34</th>\n      <td>STK</td>\n      <td>298633607</td>\n      <td>AMD</td>\n      <td></td>\n      <td>0.0</td>\n      <td></td>\n      <td></td>\n      <td>ASX</td>\n      <td>ASX</td>\n      <td>AUD</td>\n      <td>AMD</td>\n      <td>AMD</td>\n      <td>False</td>\n      <td></td>\n      <td></td>\n      <td></td>\n      <td>[]</td>\n      <td>None</td>\n    </tr>\n    <tr>\n      <th>35</th>\n      <td>STK</td>\n      <td>298633607</td>\n      <td>AMD</td>\n      <td></td>\n      <td>0.0</td>\n      <td></td>\n      <td></td>\n      <td>ASXCEN</td>\n      <td>ASX</td>\n      <td>AUD</td>\n      <td>AMD</td>\n      <td>AMD</td>\n      <td>False</td>\n      <td></td>\n      <td></td>\n      <td></td>\n      <td>[]</td>\n      <td>None</td>\n    </tr>\n  </tbody>\n</table>\n</div>"
     },
     "metadata": {},
     "execution_count": 7
    }
   ],
   "source": [
    "util.df(contracts)"
   ]
  },
  {
   "cell_type": "markdown",
   "metadata": {},
   "source": [
    "We can see from this that AMD trades in different currencies on different exchanges.\n",
    "Suppose we want the one in USD on the SMART exchange. The AMD contract is adjusted to\n",
    "reflect that and becomes unique:"
   ]
  },
  {
   "cell_type": "code",
   "execution_count": 8,
   "metadata": {},
   "outputs": [],
   "source": [
    "amd = Stock('AMD', 'SMART', 'USD')\n",
    "\n",
    "assert len(ib.reqContractDetails(amd)) == 1"
   ]
  },
  {
   "cell_type": "markdown",
   "metadata": {},
   "source": [
    "Lets try the same for Intel:"
   ]
  },
  {
   "cell_type": "code",
   "execution_count": 9,
   "metadata": {},
   "outputs": [],
   "source": [
    "intc = Stock('INTC', 'SMART', 'USD')\n",
    "\n",
    "assert len(ib.reqContractDetails(intc)) == 1"
   ]
  },
  {
   "cell_type": "markdown",
   "metadata": {},
   "source": [
    "Let's try a non-existing contract:"
   ]
  },
  {
   "cell_type": "code",
   "execution_count": 10,
   "metadata": {
    "tags": []
   },
   "outputs": [
    {
     "output_type": "stream",
     "name": "stderr",
     "text": "Error 200, reqId 7: No security definition has been found for the request, contract: Stock(symbol='XXX', exchange='SMART', currency='USD')\n"
    }
   ],
   "source": [
    "xxx = Stock('XXX', 'SMART', 'USD')\n",
    "\n",
    "assert len(ib.reqContractDetails(xxx)) == 0"
   ]
  },
  {
   "cell_type": "markdown",
   "metadata": {},
   "source": [
    "or a Forex contract"
   ]
  },
  {
   "cell_type": "code",
   "execution_count": 11,
   "metadata": {},
   "outputs": [],
   "source": [
    "eurusd = Forex('EURUSD')\n",
    "\n",
    "assert len(ib.reqContractDetails(eurusd)) == 1"
   ]
  },
  {
   "cell_type": "markdown",
   "metadata": {},
   "source": [
    "With the ``qualifyContracts`` method the extra information that is send back\n",
    "from the contract details request is used to fill in the original contracts.\n",
    "\n",
    "Lets do that with ``amd`` and compare before and aftwards:"
   ]
  },
  {
   "cell_type": "code",
   "execution_count": 12,
   "metadata": {},
   "outputs": [
    {
     "output_type": "execute_result",
     "data": {
      "text/plain": "Stock(symbol='AMD', exchange='SMART', currency='USD')"
     },
     "metadata": {},
     "execution_count": 12
    }
   ],
   "source": [
    "amd"
   ]
  },
  {
   "cell_type": "code",
   "execution_count": 15,
   "metadata": {},
   "outputs": [
    {
     "output_type": "execute_result",
     "data": {
      "text/plain": "Stock(conId=4391, symbol='AMD', exchange='SMART', primaryExchange='NASDAQ', currency='USD', localSymbol='AMD', tradingClass='NMS')"
     },
     "metadata": {},
     "execution_count": 15
    }
   ],
   "source": [
    "ib.qualifyContracts(amd)\n",
    "amd"
   ]
  },
  {
   "cell_type": "markdown",
   "metadata": {},
   "source": [
    "**TIP:** When printing a contract, the output can be copy-pasted and it will be valid Python code.\n",
    "\n",
    "The ``conId`` that is returned can by itself be used to uniquely specify a contract:"
   ]
  },
  {
   "cell_type": "code",
   "execution_count": 16,
   "metadata": {},
   "outputs": [],
   "source": [
    "contract_4391 = Contract(conId=4391)\n",
    "\n",
    "ib.qualifyContracts(contract_4391)\n",
    "\n",
    "assert contract_4391 == amd"
   ]
  },
  {
   "cell_type": "markdown",
   "metadata": {},
   "source": [
    "A whole bunch of contracts can be qualified at the same time. A list of all the successfull ones is returned:"
   ]
  },
  {
   "cell_type": "code",
   "execution_count": 17,
   "metadata": {
    "tags": []
   },
   "outputs": [
    {
     "output_type": "stream",
     "name": "stderr",
     "text": "Error 200, reqId 15: No security definition has been found for the request, contract: Stock(symbol='XXX', exchange='SMART', currency='USD')\nUnknown contract: Stock(symbol='XXX', exchange='SMART', currency='USD')\n"
    }
   ],
   "source": [
    "qualContracts = ib.qualifyContracts(amd, intc, xxx, eurusd)\n",
    "\n",
    "assert intc in qualContracts\n",
    "assert xxx not in qualContracts"
   ]
  },
  {
   "cell_type": "markdown",
   "metadata": {},
   "source": [
    "There is also an API function to request stocks (only stocks) that match a pattern:"
   ]
  },
  {
   "cell_type": "code",
   "execution_count": 18,
   "metadata": {},
   "outputs": [
    {
     "output_type": "execute_result",
     "data": {
      "text/plain": "[ContractDescription(contract=Contract(secType='STK', conId=270639, symbol='INTC', primaryExchange='NASDAQ.NMS', currency='USD'), derivativeSecTypes=['CFD', 'OPT', 'IOPT', 'WAR', 'FUT', 'BAG']),\n ContractDescription(contract=Contract(secType='STK', conId=12178234, symbol='INTC', primaryExchange='EBS', currency='CHF'), derivativeSecTypes=[]),\n ContractDescription(contract=Contract(secType='STK', conId=38709539, symbol='INTC', primaryExchange='MEXI', currency='MXN'), derivativeSecTypes=[]),\n ContractDescription(contract=Contract(secType='STK', conId=11463493, symbol='INTCUSD', primaryExchange='EBS', currency='USD'), derivativeSecTypes=[]),\n ContractDescription(contract=Contract(secType='STK', conId=130861844, symbol='S', primaryExchange='MEXI', currency='MXN'), derivativeSecTypes=[]),\n ContractDescription(contract=Contract(secType='STK', conId=130861851, symbol='2S7', primaryExchange='VALUE', currency='EUR'), derivativeSecTypes=[]),\n ContractDescription(contract=Contract(secType='STK', conId=130651996, symbol='S', primaryExchange='VALUE', currency='USD'), derivativeSecTypes=[]),\n ContractDescription(contract=Contract(secType='STK', conId=14015710, symbol='4613', primaryExchange='TSEJ', currency='JPY'), derivativeSecTypes=['CFD']),\n ContractDescription(contract=Contract(secType='STK', conId=257765562, symbol='603737', primaryExchange='SEHKNTL', currency='CNH'), derivativeSecTypes=[]),\n ContractDescription(contract=Contract(secType='STK', conId=427045002, symbol='300677', primaryExchange='CHINEXT', currency='CNH'), derivativeSecTypes=[]),\n ContractDescription(contract=Contract(secType='STK', conId=257310905, symbol='002436', primaryExchange='SEHKSZSE', currency='CNH'), derivativeSecTypes=[]),\n ContractDescription(contract=Contract(secType='STK', conId=234809383, symbol='FING.B', primaryExchange='SFB', currency='SEK'), derivativeSecTypes=['CFD', 'OPT', 'IOPT', 'BAG']),\n ContractDescription(contract=Contract(secType='STK', conId=83364054, symbol='FRP', primaryExchange='VALUE', currency='USD'), derivativeSecTypes=[]),\n ContractDescription(contract=Contract(secType='STK', conId=96816938, symbol='E16', primaryExchange='SGX', currency='USD'), derivativeSecTypes=[]),\n ContractDescription(contract=Contract(secType='STK', conId=169544707, symbol='ECC', primaryExchange='NYSE', currency='USD'), derivativeSecTypes=[]),\n ContractDescription(contract=Contract(secType='STK', conId=173148149, symbol='JYNT', primaryExchange='NASDAQ.SCM', currency='USD'), derivativeSecTypes=['OPT', 'BAG']),\n ContractDescription(contract=Contract(secType='STK', conId=131085231, symbol='4621', primaryExchange='TSEJ', currency='JPY'), derivativeSecTypes=[]),\n ContractDescription(contract=Contract(secType='STK', conId=131086728, symbol='2374', primaryExchange='TSEJ', currency='JPY'), derivativeSecTypes=[]),\n ContractDescription(contract=Contract(secType='STK', conId=131083978, symbol='4624', primaryExchange='TSEJ', currency='JPY'), derivativeSecTypes=[])]"
     },
     "metadata": {},
     "execution_count": 18
    }
   ],
   "source": [
    "matches = ib.reqMatchingSymbols('intc')\n",
    "matchContracts = [m.contract for m in matches]\n",
    "\n",
    "matches"
   ]
  },
  {
   "cell_type": "code",
   "execution_count": 19,
   "metadata": {},
   "outputs": [],
   "source": [
    "assert intc in matchContracts"
   ]
  },
  {
   "cell_type": "code",
   "execution_count": 20,
   "metadata": {},
   "outputs": [],
   "source": [
    "ib.disconnect()"
   ]
  },
  {
   "cell_type": "code",
   "execution_count": null,
   "metadata": {},
   "outputs": [],
   "source": []
  }
 ],
 "metadata": {
  "kernelspec": {
   "display_name": "Python 3",
   "language": "python",
   "name": "python3"
  },
  "language_info": {
   "codemirror_mode": {
    "name": "ipython",
    "version": 3
   },
   "file_extension": ".py",
   "mimetype": "text/x-python",
   "name": "python",
   "nbconvert_exporter": "python",
   "pygments_lexer": "ipython3",
   "version": "3.6.10-final"
  }
 },
 "nbformat": 4,
 "nbformat_minor": 4
}