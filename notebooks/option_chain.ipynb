{
 "cells": [
  {
   "cell_type": "markdown",
   "metadata": {},
   "source": [
    "Option chains\n",
    "======="
   ]
  },
  {
   "cell_type": "code",
   "execution_count": 193,
   "metadata": {
    "scrolled": true,
    "tags": []
   },
   "outputs": [
    {
     "output_type": "execute_result",
     "data": {
      "text/plain": "[Stock(conId=270639, symbol='INTC', exchange='SMART', primaryExchange='NASDAQ', currency='USD', localSymbol='INTC', tradingClass='NMS')]"
     },
     "metadata": {},
     "execution_count": 193
    }
   ],
   "source": [
    "from ib_insync import *\n",
    "util.startLoop()\n",
    "\n",
    "ib = IB()\n",
    "ib.connect('127.0.0.1', 7497, clientId=19,readonly=True)\n",
    "\n",
    "intc = Stock('INTC', 'SMART', 'USD')\n",
    "ib.qualifyContracts(intc)"
   ]
  },
  {
   "cell_type": "code",
   "execution_count": 194,
   "metadata": {},
   "outputs": [
    {
     "output_type": "execute_result",
     "data": {
      "text/plain": "49.36"
     },
     "metadata": {},
     "execution_count": 194
    }
   ],
   "source": [
    "ib.reqMarketDataType(4)\n",
    "[ticker] = ib.reqTickers(intc)\n",
    "intcValue = ticker.marketPrice()\n",
    "intcValue"
   ]
  },
  {
   "cell_type": "code",
   "execution_count": 195,
   "metadata": {},
   "outputs": [
    {
     "output_type": "execute_result",
     "data": {
      "text/plain": "OptionChain(exchange='SMART', underlyingConId='270639', tradingClass='INTC', multiplier='100', expirations=['20200925', '20201002', '20201009', '20201016', '20201023', '20201030', '20201120', '20201218', '20210115', '20210219', '20210319', '20210416', '20210618', '20220121', '20230120'], strikes=[23.0, 25.0, 27.5, 28.0, 30.0, 32.5, 33.0, 35.0, 37.5, 38.0, 40.0, 42.0, 42.5, 43.0, 43.5, 44.0, 44.5, 45.0, 45.5, 46.0, 46.5, 47.0, 47.5, 48.0, 48.5, 49.0, 49.5, 50.0, 50.5, 51.0, 51.5, 52.0, 52.5, 53.0, 53.5, 54.0, 54.5, 55.0, 55.5, 56.0, 56.5, 57.0, 57.5, 58.0, 58.5, 59.0, 59.5, 60.0, 62.5, 65.0, 67.5, 70.0, 72.5, 75.0, 77.5, 80.0, 85.0, 90.0, 95.0, 100.0])"
     },
     "metadata": {},
     "execution_count": 195
    }
   ],
   "source": [
    "chains = ib.reqSecDefOptParams(\n",
    "        intc.symbol, '', intc.secType, intc.conId)\n",
    "#util.df(chains)\n",
    "chain = next(c for c in chains if  c.exchange == 'SMART')\n",
    "chain"
   ]
  },
  {
   "cell_type": "code",
   "execution_count": 196,
   "metadata": {
    "tags": []
   },
   "outputs": [
    {
     "output_type": "stream",
     "name": "stderr",
     "text": "Error 200, reqId 36: No security definition has been found for the request, contract: Option(symbol='INTC', lastTradeDateOrContractMonth='20200925', strike=56.5, right='P', exchange='SMART', tradingClass='INTC')\nError 200, reqId 72: No security definition has been found for the request, contract: Option(symbol='INTC', lastTradeDateOrContractMonth='20201002', strike=56.5, right='P', exchange='SMART', tradingClass='INTC')\nError 200, reqId 108: No security definition has been found for the request, contract: Option(symbol='INTC', lastTradeDateOrContractMonth='20200925', strike=56.5, right='C', exchange='SMART', tradingClass='INTC')\nError 200, reqId 144: No security definition has been found for the request, contract: Option(symbol='INTC', lastTradeDateOrContractMonth='20201002', strike=56.5, right='C', exchange='SMART', tradingClass='INTC')\nUnknown contract: Option(symbol='INTC', lastTradeDateOrContractMonth='20200925', strike=56.5, right='P', exchange='SMART', tradingClass='INTC')\nUnknown contract: Option(symbol='INTC', lastTradeDateOrContractMonth='20201002', strike=56.5, right='P', exchange='SMART', tradingClass='INTC')\nUnknown contract: Option(symbol='INTC', lastTradeDateOrContractMonth='20200925', strike=56.5, right='C', exchange='SMART', tradingClass='INTC')\nUnknown contract: Option(symbol='INTC', lastTradeDateOrContractMonth='20201002', strike=56.5, right='C', exchange='SMART', tradingClass='INTC')\n"
    },
    {
     "output_type": "execute_result",
     "data": {
      "text/plain": "140"
     },
     "metadata": {},
     "execution_count": 196
    }
   ],
   "source": [
    "strikes = [strike for strike in chain.strikes\n",
    "        if intcValue * 0.8 < strike < intcValue * 1.2]\n",
    "expirations = sorted(exp for exp in chain.expirations)[:2]\n",
    "rights = ['P', 'C']\n",
    "#rights = ['P']\n",
    "\n",
    "contracts = [Option('INTC', expiration, strike, right, 'SMART', tradingClass='INTC')\n",
    "        for right in rights\n",
    "        for expiration in expirations\n",
    "        for strike in strikes]\n",
    "\n",
    "contracts = ib.qualifyContracts(*contracts)\n",
    "len(contracts)"
   ]
  },
  {
   "cell_type": "code",
   "execution_count": 203,
   "metadata": {
    "tags": []
   },
   "outputs": [
    {
     "output_type": "execute_result",
     "data": {
      "text/plain": "               conId symbol lastTradeDateOrContractMonth  strike right  \\\nconId                                                                    \n438743641  438743641   INTC                     20200925    40.0     P   \n438474051  438474051   INTC                     20200925    42.0     P   \n438474043  438474043   INTC                     20200925    42.5     P   \n438474066  438474066   INTC                     20200925    43.0     P   \n438474057  438474057   INTC                     20200925    43.5     P   \n...              ...    ...                          ...     ...   ...   \n443506229  443506229   INTC                     20201002    57.0     C   \n443506219  443506219   INTC                     20201002    57.5     C   \n443506242  443506242   INTC                     20201002    58.0     C   \n443506239  443506239   INTC                     20201002    58.5     C   \n443506253  443506253   INTC                     20201002    59.0     C   \n\n           timeToExpiration  bid  ask  marketPrice  spread  optionYield  \\\nconId                                                                     \n438743641                 4 -1.0 -1.0         0.00    -0.0     0.000000   \n438474051                 4 -1.0 -1.0         0.00    -0.0     0.000000   \n438474043                 4 -1.0 -1.0         0.00    -0.0     0.000000   \n438474066                 4 -1.0 -1.0         0.00    -0.0     0.000000   \n438474057                 4 -1.0 -1.0         0.01    -0.0     0.000202   \n...                     ...  ...  ...          ...     ...          ...   \n443506229                11 -1.0 -1.0         0.02    -0.0     0.000405   \n443506219                11 -1.0 -1.0         0.01    -0.0     0.000202   \n443506242                11 -1.0 -1.0         0.01    -0.0     0.000202   \n443506239                11 -1.0 -1.0         0.01    -0.0     0.000202   \n443506253                11 -1.0 -1.0         0.00    -0.0     0.000000   \n\n          impliedVol delta gamma  vega theta  \nconId                                         \n438743641       None  None  None  None  None  \n438474051       None  None  None  None  None  \n438474043       None  None  None  None  None  \n438474066       None  None  None  None  None  \n438474057       None  None  None  None  None  \n...              ...   ...   ...   ...   ...  \n443506229       None  None  None  None  None  \n443506219       None  None  None  None  None  \n443506242       None  None  None  None  None  \n443506239       None  None  None  None  None  \n443506253       None  None  None  None  None  \n\n[140 rows x 16 columns]",
      "text/html": "<div>\n<style scoped>\n    .dataframe tbody tr th:only-of-type {\n        vertical-align: middle;\n    }\n\n    .dataframe tbody tr th {\n        vertical-align: top;\n    }\n\n    .dataframe thead th {\n        text-align: right;\n    }\n</style>\n<table border=\"1\" class=\"dataframe\">\n  <thead>\n    <tr style=\"text-align: right;\">\n      <th></th>\n      <th>conId</th>\n      <th>symbol</th>\n      <th>lastTradeDateOrContractMonth</th>\n      <th>strike</th>\n      <th>right</th>\n      <th>timeToExpiration</th>\n      <th>bid</th>\n      <th>ask</th>\n      <th>marketPrice</th>\n      <th>spread</th>\n      <th>optionYield</th>\n      <th>impliedVol</th>\n      <th>delta</th>\n      <th>gamma</th>\n      <th>vega</th>\n      <th>theta</th>\n    </tr>\n    <tr>\n      <th>conId</th>\n      <th></th>\n      <th></th>\n      <th></th>\n      <th></th>\n      <th></th>\n      <th></th>\n      <th></th>\n      <th></th>\n      <th></th>\n      <th></th>\n      <th></th>\n      <th></th>\n      <th></th>\n      <th></th>\n      <th></th>\n      <th></th>\n    </tr>\n  </thead>\n  <tbody>\n    <tr>\n      <th>438743641</th>\n      <td>438743641</td>\n      <td>INTC</td>\n      <td>20200925</td>\n      <td>40.0</td>\n      <td>P</td>\n      <td>4</td>\n      <td>-1.0</td>\n      <td>-1.0</td>\n      <td>0.00</td>\n      <td>-0.0</td>\n      <td>0.000000</td>\n      <td>None</td>\n      <td>None</td>\n      <td>None</td>\n      <td>None</td>\n      <td>None</td>\n    </tr>\n    <tr>\n      <th>438474051</th>\n      <td>438474051</td>\n      <td>INTC</td>\n      <td>20200925</td>\n      <td>42.0</td>\n      <td>P</td>\n      <td>4</td>\n      <td>-1.0</td>\n      <td>-1.0</td>\n      <td>0.00</td>\n      <td>-0.0</td>\n      <td>0.000000</td>\n      <td>None</td>\n      <td>None</td>\n      <td>None</td>\n      <td>None</td>\n      <td>None</td>\n    </tr>\n    <tr>\n      <th>438474043</th>\n      <td>438474043</td>\n      <td>INTC</td>\n      <td>20200925</td>\n      <td>42.5</td>\n      <td>P</td>\n      <td>4</td>\n      <td>-1.0</td>\n      <td>-1.0</td>\n      <td>0.00</td>\n      <td>-0.0</td>\n      <td>0.000000</td>\n      <td>None</td>\n      <td>None</td>\n      <td>None</td>\n      <td>None</td>\n      <td>None</td>\n    </tr>\n    <tr>\n      <th>438474066</th>\n      <td>438474066</td>\n      <td>INTC</td>\n      <td>20200925</td>\n      <td>43.0</td>\n      <td>P</td>\n      <td>4</td>\n      <td>-1.0</td>\n      <td>-1.0</td>\n      <td>0.00</td>\n      <td>-0.0</td>\n      <td>0.000000</td>\n      <td>None</td>\n      <td>None</td>\n      <td>None</td>\n      <td>None</td>\n      <td>None</td>\n    </tr>\n    <tr>\n      <th>438474057</th>\n      <td>438474057</td>\n      <td>INTC</td>\n      <td>20200925</td>\n      <td>43.5</td>\n      <td>P</td>\n      <td>4</td>\n      <td>-1.0</td>\n      <td>-1.0</td>\n      <td>0.01</td>\n      <td>-0.0</td>\n      <td>0.000202</td>\n      <td>None</td>\n      <td>None</td>\n      <td>None</td>\n      <td>None</td>\n      <td>None</td>\n    </tr>\n    <tr>\n      <th>...</th>\n      <td>...</td>\n      <td>...</td>\n      <td>...</td>\n      <td>...</td>\n      <td>...</td>\n      <td>...</td>\n      <td>...</td>\n      <td>...</td>\n      <td>...</td>\n      <td>...</td>\n      <td>...</td>\n      <td>...</td>\n      <td>...</td>\n      <td>...</td>\n      <td>...</td>\n      <td>...</td>\n    </tr>\n    <tr>\n      <th>443506229</th>\n      <td>443506229</td>\n      <td>INTC</td>\n      <td>20201002</td>\n      <td>57.0</td>\n      <td>C</td>\n      <td>11</td>\n      <td>-1.0</td>\n      <td>-1.0</td>\n      <td>0.02</td>\n      <td>-0.0</td>\n      <td>0.000405</td>\n      <td>None</td>\n      <td>None</td>\n      <td>None</td>\n      <td>None</td>\n      <td>None</td>\n    </tr>\n    <tr>\n      <th>443506219</th>\n      <td>443506219</td>\n      <td>INTC</td>\n      <td>20201002</td>\n      <td>57.5</td>\n      <td>C</td>\n      <td>11</td>\n      <td>-1.0</td>\n      <td>-1.0</td>\n      <td>0.01</td>\n      <td>-0.0</td>\n      <td>0.000202</td>\n      <td>None</td>\n      <td>None</td>\n      <td>None</td>\n      <td>None</td>\n      <td>None</td>\n    </tr>\n    <tr>\n      <th>443506242</th>\n      <td>443506242</td>\n      <td>INTC</td>\n      <td>20201002</td>\n      <td>58.0</td>\n      <td>C</td>\n      <td>11</td>\n      <td>-1.0</td>\n      <td>-1.0</td>\n      <td>0.01</td>\n      <td>-0.0</td>\n      <td>0.000202</td>\n      <td>None</td>\n      <td>None</td>\n      <td>None</td>\n      <td>None</td>\n      <td>None</td>\n    </tr>\n    <tr>\n      <th>443506239</th>\n      <td>443506239</td>\n      <td>INTC</td>\n      <td>20201002</td>\n      <td>58.5</td>\n      <td>C</td>\n      <td>11</td>\n      <td>-1.0</td>\n      <td>-1.0</td>\n      <td>0.01</td>\n      <td>-0.0</td>\n      <td>0.000202</td>\n      <td>None</td>\n      <td>None</td>\n      <td>None</td>\n      <td>None</td>\n      <td>None</td>\n    </tr>\n    <tr>\n      <th>443506253</th>\n      <td>443506253</td>\n      <td>INTC</td>\n      <td>20201002</td>\n      <td>59.0</td>\n      <td>C</td>\n      <td>11</td>\n      <td>-1.0</td>\n      <td>-1.0</td>\n      <td>0.00</td>\n      <td>-0.0</td>\n      <td>0.000000</td>\n      <td>None</td>\n      <td>None</td>\n      <td>None</td>\n      <td>None</td>\n      <td>None</td>\n    </tr>\n  </tbody>\n</table>\n<p>140 rows × 16 columns</p>\n</div>"
     },
     "metadata": {},
     "execution_count": 203
    }
   ],
   "source": [
    "from ibtypes import OptionData\n",
    "\n",
    "ib.reqMarketDataType(2)\n",
    "tickers = ib.reqTickers(*contracts)\n",
    "\n",
    "options = []\n",
    "for t in tickers:\n",
    "    #print(t)\n",
    "    options.append(OptionData(t))\n",
    "\n",
    "df=util.df(options, ['conId',\n",
    "        'symbol', 'lastTradeDateOrContractMonth', 'strike', 'right', 'marketPrice', 'optionYield', 'timeToExpiration', 'spread', 'bid', 'ask', 'impliedVol', 'delta', 'gamma', 'vega','theta'])\n",
    "df.index=df['conId']\n",
    "df\n"
   ]
  },
  {
   "cell_type": "code",
   "execution_count": 199,
   "metadata": {},
   "outputs": [
    {
     "output_type": "execute_result",
     "data": {
      "text/plain": "'20200925'"
     },
     "metadata": {},
     "execution_count": 199
    }
   ],
   "source": [
    "expirations[0]"
   ]
  },
  {
   "cell_type": "code",
   "execution_count": 200,
   "metadata": {},
   "outputs": [
    {
     "output_type": "error",
     "ename": "TypeError",
     "evalue": "bad operand type for abs(): 'NoneType'",
     "traceback": [
      "\u001b[0;31m---------------------------------------------------------------------------\u001b[0m",
      "\u001b[0;31mTypeError\u001b[0m                                 Traceback (most recent call last)",
      "\u001b[0;32m<ipython-input-200-4e7c80371236>\u001b[0m in \u001b[0;36m<module>\u001b[0;34m\u001b[0m\n\u001b[1;32m      1\u001b[0m currentWeekPut = df[(df['right'] == 'P') & (\n\u001b[1;32m      2\u001b[0m         df['lastTradeDateOrContractMonth'] == expirations[0])]\n\u001b[0;32m----> 3\u001b[0;31m \u001b[0mcurrentWeekPut\u001b[0m\u001b[0;34m.\u001b[0m\u001b[0mloc\u001b[0m\u001b[0;34m[\u001b[0m\u001b[0;34m(\u001b[0m\u001b[0mabs\u001b[0m\u001b[0;34m(\u001b[0m\u001b[0mabs\u001b[0m\u001b[0;34m(\u001b[0m\u001b[0mcurrentWeekPut\u001b[0m\u001b[0;34m.\u001b[0m\u001b[0mdelta\u001b[0m\u001b[0;34m)\u001b[0m\u001b[0;34m-\u001b[0m\u001b[0;36m0.2\u001b[0m\u001b[0;34m)\u001b[0m\u001b[0;34m)\u001b[0m\u001b[0;34m.\u001b[0m\u001b[0msort_values\u001b[0m\u001b[0;34m(\u001b[0m\u001b[0;34m)\u001b[0m\u001b[0;34m.\u001b[0m\u001b[0mindex\u001b[0m\u001b[0;34m]\u001b[0m\u001b[0;34m.\u001b[0m\u001b[0mhead\u001b[0m\u001b[0;34m(\u001b[0m\u001b[0;36m2\u001b[0m\u001b[0;34m)\u001b[0m\u001b[0;34m\u001b[0m\u001b[0;34m\u001b[0m\u001b[0m\n\u001b[0m",
      "\u001b[0;32m~/.pyenv/versions/3.6.10/lib/python3.6/site-packages/pandas/core/generic.py\u001b[0m in \u001b[0;36m__abs__\u001b[0;34m(self)\u001b[0m\n\u001b[1;32m   1508\u001b[0m \u001b[0;34m\u001b[0m\u001b[0m\n\u001b[1;32m   1509\u001b[0m     \u001b[0;32mdef\u001b[0m \u001b[0m__abs__\u001b[0m\u001b[0;34m(\u001b[0m\u001b[0mself\u001b[0m\u001b[0;34m:\u001b[0m \u001b[0mFrameOrSeries\u001b[0m\u001b[0;34m)\u001b[0m \u001b[0;34m->\u001b[0m \u001b[0mFrameOrSeries\u001b[0m\u001b[0;34m:\u001b[0m\u001b[0;34m\u001b[0m\u001b[0;34m\u001b[0m\u001b[0m\n\u001b[0;32m-> 1510\u001b[0;31m         \u001b[0;32mreturn\u001b[0m \u001b[0mself\u001b[0m\u001b[0;34m.\u001b[0m\u001b[0mabs\u001b[0m\u001b[0;34m(\u001b[0m\u001b[0;34m)\u001b[0m\u001b[0;34m\u001b[0m\u001b[0;34m\u001b[0m\u001b[0m\n\u001b[0m\u001b[1;32m   1511\u001b[0m \u001b[0;34m\u001b[0m\u001b[0m\n\u001b[1;32m   1512\u001b[0m     \u001b[0;32mdef\u001b[0m \u001b[0m__round__\u001b[0m\u001b[0;34m(\u001b[0m\u001b[0mself\u001b[0m\u001b[0;34m:\u001b[0m \u001b[0mFrameOrSeries\u001b[0m\u001b[0;34m,\u001b[0m \u001b[0mdecimals\u001b[0m\u001b[0;34m:\u001b[0m \u001b[0mint\u001b[0m \u001b[0;34m=\u001b[0m \u001b[0;36m0\u001b[0m\u001b[0;34m)\u001b[0m \u001b[0;34m->\u001b[0m \u001b[0mFrameOrSeries\u001b[0m\u001b[0;34m:\u001b[0m\u001b[0;34m\u001b[0m\u001b[0;34m\u001b[0m\u001b[0m\n",
      "\u001b[0;32m~/.pyenv/versions/3.6.10/lib/python3.6/site-packages/pandas/core/generic.py\u001b[0m in \u001b[0;36mabs\u001b[0;34m(self)\u001b[0m\n\u001b[1;32m   9598\u001b[0m         \u001b[0;36m3\u001b[0m    \u001b[0;36m7\u001b[0m   \u001b[0;36m40\u001b[0m  \u001b[0;34m-\u001b[0m\u001b[0;36m50\u001b[0m\u001b[0;34m\u001b[0m\u001b[0;34m\u001b[0m\u001b[0m\n\u001b[1;32m   9599\u001b[0m         \"\"\"\n\u001b[0;32m-> 9600\u001b[0;31m         \u001b[0;32mreturn\u001b[0m \u001b[0mnp\u001b[0m\u001b[0;34m.\u001b[0m\u001b[0mabs\u001b[0m\u001b[0;34m(\u001b[0m\u001b[0mself\u001b[0m\u001b[0;34m)\u001b[0m\u001b[0;34m\u001b[0m\u001b[0;34m\u001b[0m\u001b[0m\n\u001b[0m\u001b[1;32m   9601\u001b[0m \u001b[0;34m\u001b[0m\u001b[0m\n\u001b[1;32m   9602\u001b[0m     def describe(\n",
      "\u001b[0;32m~/.pyenv/versions/3.6.10/lib/python3.6/site-packages/pandas/core/series.py\u001b[0m in \u001b[0;36m__array_ufunc__\u001b[0;34m(self, ufunc, method, *inputs, **kwargs)\u001b[0m\n\u001b[1;32m    677\u001b[0m \u001b[0;34m\u001b[0m\u001b[0m\n\u001b[1;32m    678\u001b[0m         \u001b[0minputs\u001b[0m \u001b[0;34m=\u001b[0m \u001b[0mtuple\u001b[0m\u001b[0;34m(\u001b[0m\u001b[0mextract_array\u001b[0m\u001b[0;34m(\u001b[0m\u001b[0mx\u001b[0m\u001b[0;34m,\u001b[0m \u001b[0mextract_numpy\u001b[0m\u001b[0;34m=\u001b[0m\u001b[0;32mTrue\u001b[0m\u001b[0;34m)\u001b[0m \u001b[0;32mfor\u001b[0m \u001b[0mx\u001b[0m \u001b[0;32min\u001b[0m \u001b[0minputs\u001b[0m\u001b[0;34m)\u001b[0m\u001b[0;34m\u001b[0m\u001b[0;34m\u001b[0m\u001b[0m\n\u001b[0;32m--> 679\u001b[0;31m         \u001b[0mresult\u001b[0m \u001b[0;34m=\u001b[0m \u001b[0mgetattr\u001b[0m\u001b[0;34m(\u001b[0m\u001b[0mufunc\u001b[0m\u001b[0;34m,\u001b[0m \u001b[0mmethod\u001b[0m\u001b[0;34m)\u001b[0m\u001b[0;34m(\u001b[0m\u001b[0;34m*\u001b[0m\u001b[0minputs\u001b[0m\u001b[0;34m,\u001b[0m \u001b[0;34m**\u001b[0m\u001b[0mkwargs\u001b[0m\u001b[0;34m)\u001b[0m\u001b[0;34m\u001b[0m\u001b[0;34m\u001b[0m\u001b[0m\n\u001b[0m\u001b[1;32m    680\u001b[0m \u001b[0;34m\u001b[0m\u001b[0m\n\u001b[1;32m    681\u001b[0m         \u001b[0mname\u001b[0m\u001b[0;34m:\u001b[0m \u001b[0mOptional\u001b[0m\u001b[0;34m[\u001b[0m\u001b[0mHashable\u001b[0m\u001b[0;34m]\u001b[0m\u001b[0;34m\u001b[0m\u001b[0;34m\u001b[0m\u001b[0m\n",
      "\u001b[0;31mTypeError\u001b[0m: bad operand type for abs(): 'NoneType'"
     ]
    }
   ],
   "source": [
    "currentWeekPut = df[(df['right'] == 'P') & (\n",
    "        df['lastTradeDateOrContractMonth'] == expirations[0])]\n",
    "currentWeekPut.loc[(abs(abs(currentWeekPut.delta)-0.2)).sort_values().index].head(2)"
   ]
  },
  {
   "cell_type": "code",
   "execution_count": null,
   "metadata": {},
   "outputs": [],
   "source": []
  },
  {
   "cell_type": "code",
   "execution_count": null,
   "metadata": {},
   "outputs": [],
   "source": []
  },
  {
   "cell_type": "code",
   "execution_count": null,
   "metadata": {},
   "outputs": [],
   "source": []
  },
  {
   "cell_type": "code",
   "execution_count": 178,
   "metadata": {},
   "outputs": [
    {
     "output_type": "execute_result",
     "data": {
      "text/plain": "               conId symbol lastTradeDateOrContractMonth  strike right  \\\nconId                                                                    \n438474139  438474139   INTC                     20200925    48.5     P   \n438474180  438474180   INTC                     20200925    49.0     P   \n\n           timeToExpiration   bid   ask  bidSize  askSize  lastSize  volume  \\\nconId                                                                         \n438474139                 4  0.24  0.27     11.0       38       NaN     NaN   \n438474180                 4  0.34  0.40     91.0       37       NaN     NaN   \n\n           marketPrice    spread  optionYield  impliedVol     delta     gamma  \\\nconId                                                                           \n438474139        0.255  0.111111     0.005112    0.269849 -0.167158  0.169618   \n438474180        0.370  0.150000     0.007417    0.260735 -0.260880  0.228428   \n\n               vega     theta  \nconId                          \n438474139  0.014409 -0.042078  \n438474180  0.017005 -0.052897  ",
      "text/html": "<div>\n<style scoped>\n    .dataframe tbody tr th:only-of-type {\n        vertical-align: middle;\n    }\n\n    .dataframe tbody tr th {\n        vertical-align: top;\n    }\n\n    .dataframe thead th {\n        text-align: right;\n    }\n</style>\n<table border=\"1\" class=\"dataframe\">\n  <thead>\n    <tr style=\"text-align: right;\">\n      <th></th>\n      <th>conId</th>\n      <th>symbol</th>\n      <th>lastTradeDateOrContractMonth</th>\n      <th>strike</th>\n      <th>right</th>\n      <th>timeToExpiration</th>\n      <th>bid</th>\n      <th>ask</th>\n      <th>bidSize</th>\n      <th>askSize</th>\n      <th>lastSize</th>\n      <th>volume</th>\n      <th>marketPrice</th>\n      <th>spread</th>\n      <th>optionYield</th>\n      <th>impliedVol</th>\n      <th>delta</th>\n      <th>gamma</th>\n      <th>vega</th>\n      <th>theta</th>\n    </tr>\n    <tr>\n      <th>conId</th>\n      <th></th>\n      <th></th>\n      <th></th>\n      <th></th>\n      <th></th>\n      <th></th>\n      <th></th>\n      <th></th>\n      <th></th>\n      <th></th>\n      <th></th>\n      <th></th>\n      <th></th>\n      <th></th>\n      <th></th>\n      <th></th>\n      <th></th>\n      <th></th>\n      <th></th>\n      <th></th>\n    </tr>\n  </thead>\n  <tbody>\n    <tr>\n      <th>438474139</th>\n      <td>438474139</td>\n      <td>INTC</td>\n      <td>20200925</td>\n      <td>48.5</td>\n      <td>P</td>\n      <td>4</td>\n      <td>0.24</td>\n      <td>0.27</td>\n      <td>11.0</td>\n      <td>38</td>\n      <td>NaN</td>\n      <td>NaN</td>\n      <td>0.255</td>\n      <td>0.111111</td>\n      <td>0.005112</td>\n      <td>0.269849</td>\n      <td>-0.167158</td>\n      <td>0.169618</td>\n      <td>0.014409</td>\n      <td>-0.042078</td>\n    </tr>\n    <tr>\n      <th>438474180</th>\n      <td>438474180</td>\n      <td>INTC</td>\n      <td>20200925</td>\n      <td>49.0</td>\n      <td>P</td>\n      <td>4</td>\n      <td>0.34</td>\n      <td>0.40</td>\n      <td>91.0</td>\n      <td>37</td>\n      <td>NaN</td>\n      <td>NaN</td>\n      <td>0.370</td>\n      <td>0.150000</td>\n      <td>0.007417</td>\n      <td>0.260735</td>\n      <td>-0.260880</td>\n      <td>0.228428</td>\n      <td>0.017005</td>\n      <td>-0.052897</td>\n    </tr>\n  </tbody>\n</table>\n</div>"
     },
     "metadata": {},
     "execution_count": 178
    }
   ],
   "source": [
    "df1=df[(df['right']=='P') & (df['lastTradeDateOrContractMonth']==expirations[0])]\n",
    "df1.loc[(abs(abs(df1.delta)-0.2)).sort_values().index].head(2)"
   ]
  },
  {
   "cell_type": "code",
   "execution_count": null,
   "metadata": {},
   "outputs": [],
   "source": []
  },
  {
   "cell_type": "code",
   "execution_count": null,
   "metadata": {},
   "outputs": [],
   "source": []
  },
  {
   "cell_type": "code",
   "execution_count": null,
   "metadata": {},
   "outputs": [],
   "source": []
  },
  {
   "cell_type": "code",
   "execution_count": null,
   "metadata": {},
   "outputs": [],
   "source": []
  },
  {
   "cell_type": "code",
   "execution_count": null,
   "metadata": {},
   "outputs": [],
   "source": []
  },
  {
   "cell_type": "code",
   "execution_count": null,
   "metadata": {},
   "outputs": [],
   "source": []
  },
  {
   "cell_type": "code",
   "execution_count": null,
   "metadata": {},
   "outputs": [],
   "source": []
  },
  {
   "cell_type": "code",
   "execution_count": null,
   "metadata": {},
   "outputs": [],
   "source": []
  },
  {
   "cell_type": "code",
   "execution_count": null,
   "metadata": {},
   "outputs": [],
   "source": []
  },
  {
   "cell_type": "code",
   "execution_count": null,
   "metadata": {},
   "outputs": [],
   "source": []
  },
  {
   "cell_type": "code",
   "execution_count": 152,
   "metadata": {},
   "outputs": [
    {
     "output_type": "execute_result",
     "data": {
      "text/plain": "Int64Index([439458922, 439458929, 439458945, 439458939, 439458902, 439458970,\n            439458958, 439458985, 439458912, 439458979, 439459005, 439458999,\n            439459013, 443506229, 443506219, 443506242, 443506239, 443506253,\n            439458887, 439458893, 439458864, 439458879, 439458849, 439458859,\n            439458834, 439458840, 439458819, 439458825, 439458801, 439458804,\n            439458780, 439458789, 439458746, 439458774, 439719419],\n           dtype='int64', name='conId')"
     },
     "metadata": {},
     "execution_count": 152
    }
   ],
   "source": [
    "(abs(abs(df[(df['right']=='C') & (df['lastTradeDateOrContractMonth']=='20201002')].delta)-0.28)).sort_values().index"
   ]
  },
  {
   "cell_type": "code",
   "execution_count": null,
   "metadata": {},
   "outputs": [],
   "source": [
    "df1.loc"
   ]
  },
  {
   "cell_type": "code",
   "execution_count": null,
   "metadata": {},
   "outputs": [],
   "source": []
  },
  {
   "cell_type": "code",
   "execution_count": null,
   "metadata": {},
   "outputs": [],
   "source": []
  },
  {
   "cell_type": "code",
   "execution_count": null,
   "metadata": {},
   "outputs": [],
   "source": []
  },
  {
   "cell_type": "code",
   "execution_count": null,
   "metadata": {},
   "outputs": [],
   "source": []
  },
  {
   "cell_type": "code",
   "execution_count": null,
   "metadata": {},
   "outputs": [],
   "source": []
  },
  {
   "cell_type": "code",
   "execution_count": null,
   "metadata": {},
   "outputs": [],
   "source": []
  },
  {
   "cell_type": "code",
   "execution_count": null,
   "metadata": {},
   "outputs": [],
   "source": []
  },
  {
   "cell_type": "code",
   "execution_count": null,
   "metadata": {},
   "outputs": [],
   "source": []
  },
  {
   "cell_type": "code",
   "execution_count": 142,
   "metadata": {},
   "outputs": [
    {
     "output_type": "execute_result",
     "data": {
      "text/plain": "['20200925', '20201002']"
     },
     "metadata": {},
     "execution_count": 142
    }
   ],
   "source": [
    "(chain.expirations)[:2]"
   ]
  },
  {
   "cell_type": "code",
   "execution_count": null,
   "metadata": {},
   "outputs": [],
   "source": []
  },
  {
   "cell_type": "code",
   "execution_count": null,
   "metadata": {},
   "outputs": [],
   "source": []
  },
  {
   "cell_type": "code",
   "execution_count": 138,
   "metadata": {},
   "outputs": [
    {
     "output_type": "execute_result",
     "data": {
      "text/plain": "               conId symbol lastTradeDateOrContractMonth  strike right  \\\nconId                                                                    \n438743641  438743641   INTC                     20200925    40.0     P   \n438474051  438474051   INTC                     20200925    42.0     P   \n438474043  438474043   INTC                     20200925    42.5     P   \n438474066  438474066   INTC                     20200925    43.0     P   \n438474057  438474057   INTC                     20200925    43.5     P   \n...              ...    ...                          ...     ...   ...   \n443506229  443506229   INTC                     20201002    57.0     C   \n443506219  443506219   INTC                     20201002    57.5     C   \n443506242  443506242   INTC                     20201002    58.0     C   \n443506239  443506239   INTC                     20201002    58.5     C   \n443506253  443506253   INTC                     20201002    59.0     C   \n\n           timeToExpiration   bid   ask  marketPrice  spread  optionYield  \\\nconId                                                                       \n438743641                 4   NaN  0.12          NaN     NaN          NaN   \n438474051                 4   NaN  0.13          NaN     NaN          NaN   \n438474043                 4   NaN  0.13          NaN     NaN          NaN   \n438474066                 4   NaN  0.03          NaN     NaN          NaN   \n438474057                 4  0.02  0.08        0.050    0.75     0.001002   \n...                     ...   ...   ...          ...     ...          ...   \n443506229                11 -1.00  0.16        0.020    7.25     0.000401   \n443506219                11   NaN  0.15        0.010     NaN     0.000200   \n443506242                11  0.03  0.10        0.065    0.70     0.001303   \n443506239                11   NaN  0.15        0.010     NaN     0.000200   \n443506253                11   NaN  0.15          NaN     NaN          NaN   \n\n           impliedVol     delta     gamma      vega  \nconId                                                \n438743641    0.640276 -0.000693  0.000680  0.000148  \n438474051    0.537178 -0.001530  0.001679  0.000282  \n438474043    0.519117 -0.002084  0.002312  0.000475  \n438474066    0.493525 -0.002709  0.003072  0.000508  \n438474057    0.473984 -0.003732  0.004282  0.000684  \n...               ...       ...       ...       ...  \n443506229    0.363666  0.020297  0.015276  0.004092  \n443506219    0.369362  0.015585  0.012019  0.004110  \n443506242    0.387010  0.014407  0.010748  0.004060  \n443506239    0.385962  0.010457  0.008122  0.002650  \n443506253    0.401168  0.009542  0.007223  0.002661  \n\n[140 rows x 15 columns]",
      "text/html": "<div>\n<style scoped>\n    .dataframe tbody tr th:only-of-type {\n        vertical-align: middle;\n    }\n\n    .dataframe tbody tr th {\n        vertical-align: top;\n    }\n\n    .dataframe thead th {\n        text-align: right;\n    }\n</style>\n<table border=\"1\" class=\"dataframe\">\n  <thead>\n    <tr style=\"text-align: right;\">\n      <th></th>\n      <th>conId</th>\n      <th>symbol</th>\n      <th>lastTradeDateOrContractMonth</th>\n      <th>strike</th>\n      <th>right</th>\n      <th>timeToExpiration</th>\n      <th>bid</th>\n      <th>ask</th>\n      <th>marketPrice</th>\n      <th>spread</th>\n      <th>optionYield</th>\n      <th>impliedVol</th>\n      <th>delta</th>\n      <th>gamma</th>\n      <th>vega</th>\n    </tr>\n    <tr>\n      <th>conId</th>\n      <th></th>\n      <th></th>\n      <th></th>\n      <th></th>\n      <th></th>\n      <th></th>\n      <th></th>\n      <th></th>\n      <th></th>\n      <th></th>\n      <th></th>\n      <th></th>\n      <th></th>\n      <th></th>\n      <th></th>\n    </tr>\n  </thead>\n  <tbody>\n    <tr>\n      <th>438743641</th>\n      <td>438743641</td>\n      <td>INTC</td>\n      <td>20200925</td>\n      <td>40.0</td>\n      <td>P</td>\n      <td>4</td>\n      <td>NaN</td>\n      <td>0.12</td>\n      <td>NaN</td>\n      <td>NaN</td>\n      <td>NaN</td>\n      <td>0.640276</td>\n      <td>-0.000693</td>\n      <td>0.000680</td>\n      <td>0.000148</td>\n    </tr>\n    <tr>\n      <th>438474051</th>\n      <td>438474051</td>\n      <td>INTC</td>\n      <td>20200925</td>\n      <td>42.0</td>\n      <td>P</td>\n      <td>4</td>\n      <td>NaN</td>\n      <td>0.13</td>\n      <td>NaN</td>\n      <td>NaN</td>\n      <td>NaN</td>\n      <td>0.537178</td>\n      <td>-0.001530</td>\n      <td>0.001679</td>\n      <td>0.000282</td>\n    </tr>\n    <tr>\n      <th>438474043</th>\n      <td>438474043</td>\n      <td>INTC</td>\n      <td>20200925</td>\n      <td>42.5</td>\n      <td>P</td>\n      <td>4</td>\n      <td>NaN</td>\n      <td>0.13</td>\n      <td>NaN</td>\n      <td>NaN</td>\n      <td>NaN</td>\n      <td>0.519117</td>\n      <td>-0.002084</td>\n      <td>0.002312</td>\n      <td>0.000475</td>\n    </tr>\n    <tr>\n      <th>438474066</th>\n      <td>438474066</td>\n      <td>INTC</td>\n      <td>20200925</td>\n      <td>43.0</td>\n      <td>P</td>\n      <td>4</td>\n      <td>NaN</td>\n      <td>0.03</td>\n      <td>NaN</td>\n      <td>NaN</td>\n      <td>NaN</td>\n      <td>0.493525</td>\n      <td>-0.002709</td>\n      <td>0.003072</td>\n      <td>0.000508</td>\n    </tr>\n    <tr>\n      <th>438474057</th>\n      <td>438474057</td>\n      <td>INTC</td>\n      <td>20200925</td>\n      <td>43.5</td>\n      <td>P</td>\n      <td>4</td>\n      <td>0.02</td>\n      <td>0.08</td>\n      <td>0.050</td>\n      <td>0.75</td>\n      <td>0.001002</td>\n      <td>0.473984</td>\n      <td>-0.003732</td>\n      <td>0.004282</td>\n      <td>0.000684</td>\n    </tr>\n    <tr>\n      <th>...</th>\n      <td>...</td>\n      <td>...</td>\n      <td>...</td>\n      <td>...</td>\n      <td>...</td>\n      <td>...</td>\n      <td>...</td>\n      <td>...</td>\n      <td>...</td>\n      <td>...</td>\n      <td>...</td>\n      <td>...</td>\n      <td>...</td>\n      <td>...</td>\n      <td>...</td>\n    </tr>\n    <tr>\n      <th>443506229</th>\n      <td>443506229</td>\n      <td>INTC</td>\n      <td>20201002</td>\n      <td>57.0</td>\n      <td>C</td>\n      <td>11</td>\n      <td>-1.00</td>\n      <td>0.16</td>\n      <td>0.020</td>\n      <td>7.25</td>\n      <td>0.000401</td>\n      <td>0.363666</td>\n      <td>0.020297</td>\n      <td>0.015276</td>\n      <td>0.004092</td>\n    </tr>\n    <tr>\n      <th>443506219</th>\n      <td>443506219</td>\n      <td>INTC</td>\n      <td>20201002</td>\n      <td>57.5</td>\n      <td>C</td>\n      <td>11</td>\n      <td>NaN</td>\n      <td>0.15</td>\n      <td>0.010</td>\n      <td>NaN</td>\n      <td>0.000200</td>\n      <td>0.369362</td>\n      <td>0.015585</td>\n      <td>0.012019</td>\n      <td>0.004110</td>\n    </tr>\n    <tr>\n      <th>443506242</th>\n      <td>443506242</td>\n      <td>INTC</td>\n      <td>20201002</td>\n      <td>58.0</td>\n      <td>C</td>\n      <td>11</td>\n      <td>0.03</td>\n      <td>0.10</td>\n      <td>0.065</td>\n      <td>0.70</td>\n      <td>0.001303</td>\n      <td>0.387010</td>\n      <td>0.014407</td>\n      <td>0.010748</td>\n      <td>0.004060</td>\n    </tr>\n    <tr>\n      <th>443506239</th>\n      <td>443506239</td>\n      <td>INTC</td>\n      <td>20201002</td>\n      <td>58.5</td>\n      <td>C</td>\n      <td>11</td>\n      <td>NaN</td>\n      <td>0.15</td>\n      <td>0.010</td>\n      <td>NaN</td>\n      <td>0.000200</td>\n      <td>0.385962</td>\n      <td>0.010457</td>\n      <td>0.008122</td>\n      <td>0.002650</td>\n    </tr>\n    <tr>\n      <th>443506253</th>\n      <td>443506253</td>\n      <td>INTC</td>\n      <td>20201002</td>\n      <td>59.0</td>\n      <td>C</td>\n      <td>11</td>\n      <td>NaN</td>\n      <td>0.15</td>\n      <td>NaN</td>\n      <td>NaN</td>\n      <td>NaN</td>\n      <td>0.401168</td>\n      <td>0.009542</td>\n      <td>0.007223</td>\n      <td>0.002661</td>\n    </tr>\n  </tbody>\n</table>\n<p>140 rows × 15 columns</p>\n</div>"
     },
     "metadata": {},
     "execution_count": 138
    }
   ],
   "source": [
    "df"
   ]
  },
  {
   "cell_type": "code",
   "execution_count": null,
   "metadata": {},
   "outputs": [],
   "source": []
  },
  {
   "cell_type": "code",
   "execution_count": null,
   "metadata": {},
   "outputs": [],
   "source": []
  },
  {
   "cell_type": "code",
   "execution_count": null,
   "metadata": {},
   "outputs": [],
   "source": []
  },
  {
   "cell_type": "code",
   "execution_count": null,
   "metadata": {},
   "outputs": [],
   "source": []
  },
  {
   "cell_type": "code",
   "execution_count": null,
   "metadata": {},
   "outputs": [],
   "source": []
  },
  {
   "cell_type": "code",
   "execution_count": null,
   "metadata": {},
   "outputs": [],
   "source": []
  },
  {
   "cell_type": "code",
   "execution_count": null,
   "metadata": {},
   "outputs": [],
   "source": []
  },
  {
   "cell_type": "code",
   "execution_count": null,
   "metadata": {},
   "outputs": [],
   "source": []
  },
  {
   "cell_type": "code",
   "execution_count": null,
   "metadata": {},
   "outputs": [],
   "source": []
  },
  {
   "cell_type": "code",
   "execution_count": null,
   "metadata": {},
   "outputs": [],
   "source": []
  },
  {
   "cell_type": "code",
   "execution_count": null,
   "metadata": {},
   "outputs": [],
   "source": []
  },
  {
   "cell_type": "code",
   "execution_count": null,
   "metadata": {},
   "outputs": [],
   "source": []
  },
  {
   "cell_type": "code",
   "execution_count": null,
   "metadata": {},
   "outputs": [],
   "source": []
  },
  {
   "cell_type": "code",
   "execution_count": null,
   "metadata": {},
   "outputs": [],
   "source": []
  },
  {
   "cell_type": "code",
   "execution_count": null,
   "metadata": {},
   "outputs": [],
   "source": []
  },
  {
   "cell_type": "code",
   "execution_count": null,
   "metadata": {},
   "outputs": [],
   "source": []
  },
  {
   "cell_type": "code",
   "execution_count": null,
   "metadata": {},
   "outputs": [],
   "source": []
  },
  {
   "cell_type": "code",
   "execution_count": null,
   "metadata": {},
   "outputs": [],
   "source": []
  },
  {
   "cell_type": "code",
   "execution_count": null,
   "metadata": {},
   "outputs": [],
   "source": []
  },
  {
   "cell_type": "code",
   "execution_count": null,
   "metadata": {},
   "outputs": [],
   "source": []
  },
  {
   "cell_type": "code",
   "execution_count": null,
   "metadata": {},
   "outputs": [],
   "source": []
  },
  {
   "cell_type": "code",
   "execution_count": null,
   "metadata": {},
   "outputs": [],
   "source": []
  },
  {
   "cell_type": "code",
   "execution_count": 108,
   "metadata": {},
   "outputs": [
    {
     "output_type": "execute_result",
     "data": {
      "text/plain": "               conId symbol lastTradeDateOrContractMonth  strike right  \\\nconId                                                                    \n438474197  438474197   INTC                     20200925    50.5     P   \n439459179  439459179   INTC                     20201002    50.5     P   \n442258010  442258010   INTC                     20201009    50.5     P   \n438474211  438474211   INTC                     20200925    50.0     P   \n439459194  439459194   INTC                     20201002    50.0     P   \n442258022  442258022   INTC                     20201009    50.0     P   \n442257971  442257971   INTC                     20201009    49.5     P   \n439459154  439459154   INTC                     20201002    49.5     P   \n438474166  438474166   INTC                     20200925    49.5     P   \n442257988  442257988   INTC                     20201009    49.0     P   \n439459169  439459169   INTC                     20201002    49.0     P   \n442257940  442257940   INTC                     20201009    48.5     P   \n439459124  439459124   INTC                     20201002    48.5     P   \n438474180  438474180   INTC                     20200925    49.0     P   \n442257960  442257960   INTC                     20201009    48.0     P   \n439459142  439459142   INTC                     20201002    48.0     P   \n438474139  438474139   INTC                     20200925    48.5     P   \n438474152  438474152   INTC                     20200925    48.0     P   \n438473917  438473917   INTC                     20200925    50.5     C   \n439458902  439458902   INTC                     20201002    50.5     C   \n442257556  442257556   INTC                     20201009    50.5     C   \n438473925  438473925   INTC                     20200925    50.0     C   \n439458912  439458912   INTC                     20201002    50.0     C   \n442257570  442257570   INTC                     20201009    50.0     C   \n442257541  442257541   INTC                     20201009    49.5     C   \n439458887  439458887   INTC                     20201002    49.5     C   \n438473906  438473906   INTC                     20200925    49.5     C   \n442257551  442257551   INTC                     20201009    49.0     C   \n439458893  439458893   INTC                     20201002    49.0     C   \n442257520  442257520   INTC                     20201009    48.5     C   \n439458864  439458864   INTC                     20201002    48.5     C   \n438473912  438473912   INTC                     20200925    49.0     C   \n442257530  442257530   INTC                     20201009    48.0     C   \n439458879  439458879   INTC                     20201002    48.0     C   \n438473894  438473894   INTC                     20200925    48.5     C   \n438473900  438473900   INTC                     20200925    48.0     C   \n\n           timeToExpiration   bid   ask  marketPrice    spread  optionYield  \\\nconId                                                                         \n438474197                 4  1.02  1.09        1.055  0.064220     0.021149   \n439459179                11  1.20  1.55        1.375  0.225806     0.027563   \n442258010                18  1.44  1.83        1.635  0.213115     0.032775   \n438474211                 4  0.73  0.83        0.780  0.120482     0.015636   \n439459194                11  0.95  1.26        1.105  0.246032     0.022151   \n442258022                18  1.23  1.52        1.375  0.190789     0.027563   \n442257971                18  0.96  1.28        1.120  0.250000     0.022452   \n439459154                11  0.75  1.04        0.895  0.278846     0.017941   \n438474166                 4  0.51  0.57        0.540  0.105263     0.010825   \n442257988                18  0.78  1.06        0.920  0.264151     0.018442   \n439459169                11  0.57  0.71        0.640  0.197183     0.012830   \n442257940                18  0.63  0.87        0.750  0.275862     0.015035   \n439459124                11  0.41  0.66        0.535  0.378788     0.010725   \n438474180                 4  0.34  0.40        0.370  0.150000     0.007417   \n442257960                18  0.53  0.74        0.635  0.283784     0.012729   \n439459142                11  0.41  0.50        0.455  0.180000     0.009121   \n438474139                 4  0.24  0.27        0.255  0.111111     0.005112   \n438474152                 4  0.17  0.20        0.185  0.150000     0.003709   \n438473917                 4  0.41  0.45        0.430  0.088889     0.008620   \n439458902                11  0.75  0.90        0.825  0.166667     0.016538   \n442257556                18  0.93  1.16        1.045  0.198276     0.020948   \n438473925                 4  0.63  0.70        0.665  0.100000     0.013331   \n439458912                11  1.00  1.14        1.070  0.122807     0.021449   \n442257570                18  1.16  1.37        1.265  0.153285     0.025358   \n442257541                18  1.39  1.83        1.610  0.240437     0.032274   \n439458887                11  1.14  1.42        1.280  0.197183     0.025659   \n438473906                 4  0.91  0.97        0.940  0.061856     0.018843   \n442257551                18  1.70  2.12        1.910  0.198113     0.038288   \n439458893                11  1.52  1.63        1.575  0.067485     0.031573   \n442257520                18  2.05  2.41        2.230  0.149378     0.044703   \n439458864                11  1.65  2.03        1.840  0.187192     0.036885   \n438473912                 4  1.20  1.31        1.255  0.083969     0.025158   \n442257530                18  2.31  2.86        2.585  0.192308     0.051819   \n439458879                11  2.28  2.42        2.350  0.057851     0.047108   \n438473894                 4  1.60  1.68        1.640  0.047619     0.032876   \n438473900                 4  2.03  2.07        2.050  0.019324     0.041095   \n\n           impliedVol     delta     gamma      vega  \nconId                                                \n438474197    0.249446 -0.666680  0.265598  0.019571  \n439459179    0.274542 -0.589784  0.160869  0.033990  \n442258010    0.279028 -0.566831  0.128981  0.044070  \n438474211    0.250107 -0.527490  0.289543  0.021954  \n439459194    0.272178 -0.509138  0.166486  0.035197  \n442258022    0.276514 -0.502535  0.131616  0.043853  \n442257971    0.277094 -0.437190  0.129494  0.043627  \n439459154    0.274200 -0.426726  0.162555  0.035016  \n438474166    0.251843 -0.384897  0.276159  0.020984  \n442257988    0.277691 -0.373247  0.124133  0.041698  \n439459169    0.272851 -0.346088  0.153730  0.033467  \n442257940    0.282206 -0.314173  0.114600  0.038289  \n439459124    0.278929 -0.275475  0.136111  0.030731  \n438474180    0.260735 -0.261796  0.227783  0.017239  \n442257960    0.284586 -0.258736  0.103877  0.035412  \n439459142    0.288978 -0.217839  0.115668  0.027107  \n438474139    0.269849 -0.168347  0.169534  0.014479  \n438474152    0.284028 -0.106104  0.117543  0.010135  \n438473917    0.249446  0.333366  0.265567  0.019571  \n439458902    0.274542  0.410274  0.160845  0.033991  \n442257556    0.279028  0.433239  0.128956  0.044078  \n438473925    0.250107  0.472542  0.289518  0.021954  \n439458912    0.272178  0.490910  0.166464  0.035197  \n442257570    0.276514  0.497523  0.131595  0.043853  \n442257541    0.277094  0.562857  0.129475  0.043627  \n439458887    0.274200  0.573312  0.162537  0.035016  \n438473906    0.251843  0.615123  0.276141  0.020984  \n442257551    0.277691  0.626791  0.124117  0.041698  \n439458893    0.272851  0.653941  0.153714  0.033467  \n442257520    0.282206  0.685856  0.114586  0.038288  \n439458864    0.278929  0.724546  0.136098  0.030730  \n438473912    0.260735  0.738216  0.227770  0.017236  \n442257530    0.284586  0.741286  0.103865  0.035401  \n439458879    0.288978  0.782177  0.115659  0.027107  \n438473894    0.269849  0.831661  0.169526  0.014479  \n438473900    0.284028  0.893900  0.117538  0.010134  ",
      "text/html": "<div>\n<style scoped>\n    .dataframe tbody tr th:only-of-type {\n        vertical-align: middle;\n    }\n\n    .dataframe tbody tr th {\n        vertical-align: top;\n    }\n\n    .dataframe thead th {\n        text-align: right;\n    }\n</style>\n<table border=\"1\" class=\"dataframe\">\n  <thead>\n    <tr style=\"text-align: right;\">\n      <th></th>\n      <th>conId</th>\n      <th>symbol</th>\n      <th>lastTradeDateOrContractMonth</th>\n      <th>strike</th>\n      <th>right</th>\n      <th>timeToExpiration</th>\n      <th>bid</th>\n      <th>ask</th>\n      <th>marketPrice</th>\n      <th>spread</th>\n      <th>optionYield</th>\n      <th>impliedVol</th>\n      <th>delta</th>\n      <th>gamma</th>\n      <th>vega</th>\n    </tr>\n    <tr>\n      <th>conId</th>\n      <th></th>\n      <th></th>\n      <th></th>\n      <th></th>\n      <th></th>\n      <th></th>\n      <th></th>\n      <th></th>\n      <th></th>\n      <th></th>\n      <th></th>\n      <th></th>\n      <th></th>\n      <th></th>\n      <th></th>\n    </tr>\n  </thead>\n  <tbody>\n    <tr>\n      <th>438474197</th>\n      <td>438474197</td>\n      <td>INTC</td>\n      <td>20200925</td>\n      <td>50.5</td>\n      <td>P</td>\n      <td>4</td>\n      <td>1.02</td>\n      <td>1.09</td>\n      <td>1.055</td>\n      <td>0.064220</td>\n      <td>0.021149</td>\n      <td>0.249446</td>\n      <td>-0.666680</td>\n      <td>0.265598</td>\n      <td>0.019571</td>\n    </tr>\n    <tr>\n      <th>439459179</th>\n      <td>439459179</td>\n      <td>INTC</td>\n      <td>20201002</td>\n      <td>50.5</td>\n      <td>P</td>\n      <td>11</td>\n      <td>1.20</td>\n      <td>1.55</td>\n      <td>1.375</td>\n      <td>0.225806</td>\n      <td>0.027563</td>\n      <td>0.274542</td>\n      <td>-0.589784</td>\n      <td>0.160869</td>\n      <td>0.033990</td>\n    </tr>\n    <tr>\n      <th>442258010</th>\n      <td>442258010</td>\n      <td>INTC</td>\n      <td>20201009</td>\n      <td>50.5</td>\n      <td>P</td>\n      <td>18</td>\n      <td>1.44</td>\n      <td>1.83</td>\n      <td>1.635</td>\n      <td>0.213115</td>\n      <td>0.032775</td>\n      <td>0.279028</td>\n      <td>-0.566831</td>\n      <td>0.128981</td>\n      <td>0.044070</td>\n    </tr>\n    <tr>\n      <th>438474211</th>\n      <td>438474211</td>\n      <td>INTC</td>\n      <td>20200925</td>\n      <td>50.0</td>\n      <td>P</td>\n      <td>4</td>\n      <td>0.73</td>\n      <td>0.83</td>\n      <td>0.780</td>\n      <td>0.120482</td>\n      <td>0.015636</td>\n      <td>0.250107</td>\n      <td>-0.527490</td>\n      <td>0.289543</td>\n      <td>0.021954</td>\n    </tr>\n    <tr>\n      <th>439459194</th>\n      <td>439459194</td>\n      <td>INTC</td>\n      <td>20201002</td>\n      <td>50.0</td>\n      <td>P</td>\n      <td>11</td>\n      <td>0.95</td>\n      <td>1.26</td>\n      <td>1.105</td>\n      <td>0.246032</td>\n      <td>0.022151</td>\n      <td>0.272178</td>\n      <td>-0.509138</td>\n      <td>0.166486</td>\n      <td>0.035197</td>\n    </tr>\n    <tr>\n      <th>442258022</th>\n      <td>442258022</td>\n      <td>INTC</td>\n      <td>20201009</td>\n      <td>50.0</td>\n      <td>P</td>\n      <td>18</td>\n      <td>1.23</td>\n      <td>1.52</td>\n      <td>1.375</td>\n      <td>0.190789</td>\n      <td>0.027563</td>\n      <td>0.276514</td>\n      <td>-0.502535</td>\n      <td>0.131616</td>\n      <td>0.043853</td>\n    </tr>\n    <tr>\n      <th>442257971</th>\n      <td>442257971</td>\n      <td>INTC</td>\n      <td>20201009</td>\n      <td>49.5</td>\n      <td>P</td>\n      <td>18</td>\n      <td>0.96</td>\n      <td>1.28</td>\n      <td>1.120</td>\n      <td>0.250000</td>\n      <td>0.022452</td>\n      <td>0.277094</td>\n      <td>-0.437190</td>\n      <td>0.129494</td>\n      <td>0.043627</td>\n    </tr>\n    <tr>\n      <th>439459154</th>\n      <td>439459154</td>\n      <td>INTC</td>\n      <td>20201002</td>\n      <td>49.5</td>\n      <td>P</td>\n      <td>11</td>\n      <td>0.75</td>\n      <td>1.04</td>\n      <td>0.895</td>\n      <td>0.278846</td>\n      <td>0.017941</td>\n      <td>0.274200</td>\n      <td>-0.426726</td>\n      <td>0.162555</td>\n      <td>0.035016</td>\n    </tr>\n    <tr>\n      <th>438474166</th>\n      <td>438474166</td>\n      <td>INTC</td>\n      <td>20200925</td>\n      <td>49.5</td>\n      <td>P</td>\n      <td>4</td>\n      <td>0.51</td>\n      <td>0.57</td>\n      <td>0.540</td>\n      <td>0.105263</td>\n      <td>0.010825</td>\n      <td>0.251843</td>\n      <td>-0.384897</td>\n      <td>0.276159</td>\n      <td>0.020984</td>\n    </tr>\n    <tr>\n      <th>442257988</th>\n      <td>442257988</td>\n      <td>INTC</td>\n      <td>20201009</td>\n      <td>49.0</td>\n      <td>P</td>\n      <td>18</td>\n      <td>0.78</td>\n      <td>1.06</td>\n      <td>0.920</td>\n      <td>0.264151</td>\n      <td>0.018442</td>\n      <td>0.277691</td>\n      <td>-0.373247</td>\n      <td>0.124133</td>\n      <td>0.041698</td>\n    </tr>\n    <tr>\n      <th>439459169</th>\n      <td>439459169</td>\n      <td>INTC</td>\n      <td>20201002</td>\n      <td>49.0</td>\n      <td>P</td>\n      <td>11</td>\n      <td>0.57</td>\n      <td>0.71</td>\n      <td>0.640</td>\n      <td>0.197183</td>\n      <td>0.012830</td>\n      <td>0.272851</td>\n      <td>-0.346088</td>\n      <td>0.153730</td>\n      <td>0.033467</td>\n    </tr>\n    <tr>\n      <th>442257940</th>\n      <td>442257940</td>\n      <td>INTC</td>\n      <td>20201009</td>\n      <td>48.5</td>\n      <td>P</td>\n      <td>18</td>\n      <td>0.63</td>\n      <td>0.87</td>\n      <td>0.750</td>\n      <td>0.275862</td>\n      <td>0.015035</td>\n      <td>0.282206</td>\n      <td>-0.314173</td>\n      <td>0.114600</td>\n      <td>0.038289</td>\n    </tr>\n    <tr>\n      <th>439459124</th>\n      <td>439459124</td>\n      <td>INTC</td>\n      <td>20201002</td>\n      <td>48.5</td>\n      <td>P</td>\n      <td>11</td>\n      <td>0.41</td>\n      <td>0.66</td>\n      <td>0.535</td>\n      <td>0.378788</td>\n      <td>0.010725</td>\n      <td>0.278929</td>\n      <td>-0.275475</td>\n      <td>0.136111</td>\n      <td>0.030731</td>\n    </tr>\n    <tr>\n      <th>438474180</th>\n      <td>438474180</td>\n      <td>INTC</td>\n      <td>20200925</td>\n      <td>49.0</td>\n      <td>P</td>\n      <td>4</td>\n      <td>0.34</td>\n      <td>0.40</td>\n      <td>0.370</td>\n      <td>0.150000</td>\n      <td>0.007417</td>\n      <td>0.260735</td>\n      <td>-0.261796</td>\n      <td>0.227783</td>\n      <td>0.017239</td>\n    </tr>\n    <tr>\n      <th>442257960</th>\n      <td>442257960</td>\n      <td>INTC</td>\n      <td>20201009</td>\n      <td>48.0</td>\n      <td>P</td>\n      <td>18</td>\n      <td>0.53</td>\n      <td>0.74</td>\n      <td>0.635</td>\n      <td>0.283784</td>\n      <td>0.012729</td>\n      <td>0.284586</td>\n      <td>-0.258736</td>\n      <td>0.103877</td>\n      <td>0.035412</td>\n    </tr>\n    <tr>\n      <th>439459142</th>\n      <td>439459142</td>\n      <td>INTC</td>\n      <td>20201002</td>\n      <td>48.0</td>\n      <td>P</td>\n      <td>11</td>\n      <td>0.41</td>\n      <td>0.50</td>\n      <td>0.455</td>\n      <td>0.180000</td>\n      <td>0.009121</td>\n      <td>0.288978</td>\n      <td>-0.217839</td>\n      <td>0.115668</td>\n      <td>0.027107</td>\n    </tr>\n    <tr>\n      <th>438474139</th>\n      <td>438474139</td>\n      <td>INTC</td>\n      <td>20200925</td>\n      <td>48.5</td>\n      <td>P</td>\n      <td>4</td>\n      <td>0.24</td>\n      <td>0.27</td>\n      <td>0.255</td>\n      <td>0.111111</td>\n      <td>0.005112</td>\n      <td>0.269849</td>\n      <td>-0.168347</td>\n      <td>0.169534</td>\n      <td>0.014479</td>\n    </tr>\n    <tr>\n      <th>438474152</th>\n      <td>438474152</td>\n      <td>INTC</td>\n      <td>20200925</td>\n      <td>48.0</td>\n      <td>P</td>\n      <td>4</td>\n      <td>0.17</td>\n      <td>0.20</td>\n      <td>0.185</td>\n      <td>0.150000</td>\n      <td>0.003709</td>\n      <td>0.284028</td>\n      <td>-0.106104</td>\n      <td>0.117543</td>\n      <td>0.010135</td>\n    </tr>\n    <tr>\n      <th>438473917</th>\n      <td>438473917</td>\n      <td>INTC</td>\n      <td>20200925</td>\n      <td>50.5</td>\n      <td>C</td>\n      <td>4</td>\n      <td>0.41</td>\n      <td>0.45</td>\n      <td>0.430</td>\n      <td>0.088889</td>\n      <td>0.008620</td>\n      <td>0.249446</td>\n      <td>0.333366</td>\n      <td>0.265567</td>\n      <td>0.019571</td>\n    </tr>\n    <tr>\n      <th>439458902</th>\n      <td>439458902</td>\n      <td>INTC</td>\n      <td>20201002</td>\n      <td>50.5</td>\n      <td>C</td>\n      <td>11</td>\n      <td>0.75</td>\n      <td>0.90</td>\n      <td>0.825</td>\n      <td>0.166667</td>\n      <td>0.016538</td>\n      <td>0.274542</td>\n      <td>0.410274</td>\n      <td>0.160845</td>\n      <td>0.033991</td>\n    </tr>\n    <tr>\n      <th>442257556</th>\n      <td>442257556</td>\n      <td>INTC</td>\n      <td>20201009</td>\n      <td>50.5</td>\n      <td>C</td>\n      <td>18</td>\n      <td>0.93</td>\n      <td>1.16</td>\n      <td>1.045</td>\n      <td>0.198276</td>\n      <td>0.020948</td>\n      <td>0.279028</td>\n      <td>0.433239</td>\n      <td>0.128956</td>\n      <td>0.044078</td>\n    </tr>\n    <tr>\n      <th>438473925</th>\n      <td>438473925</td>\n      <td>INTC</td>\n      <td>20200925</td>\n      <td>50.0</td>\n      <td>C</td>\n      <td>4</td>\n      <td>0.63</td>\n      <td>0.70</td>\n      <td>0.665</td>\n      <td>0.100000</td>\n      <td>0.013331</td>\n      <td>0.250107</td>\n      <td>0.472542</td>\n      <td>0.289518</td>\n      <td>0.021954</td>\n    </tr>\n    <tr>\n      <th>439458912</th>\n      <td>439458912</td>\n      <td>INTC</td>\n      <td>20201002</td>\n      <td>50.0</td>\n      <td>C</td>\n      <td>11</td>\n      <td>1.00</td>\n      <td>1.14</td>\n      <td>1.070</td>\n      <td>0.122807</td>\n      <td>0.021449</td>\n      <td>0.272178</td>\n      <td>0.490910</td>\n      <td>0.166464</td>\n      <td>0.035197</td>\n    </tr>\n    <tr>\n      <th>442257570</th>\n      <td>442257570</td>\n      <td>INTC</td>\n      <td>20201009</td>\n      <td>50.0</td>\n      <td>C</td>\n      <td>18</td>\n      <td>1.16</td>\n      <td>1.37</td>\n      <td>1.265</td>\n      <td>0.153285</td>\n      <td>0.025358</td>\n      <td>0.276514</td>\n      <td>0.497523</td>\n      <td>0.131595</td>\n      <td>0.043853</td>\n    </tr>\n    <tr>\n      <th>442257541</th>\n      <td>442257541</td>\n      <td>INTC</td>\n      <td>20201009</td>\n      <td>49.5</td>\n      <td>C</td>\n      <td>18</td>\n      <td>1.39</td>\n      <td>1.83</td>\n      <td>1.610</td>\n      <td>0.240437</td>\n      <td>0.032274</td>\n      <td>0.277094</td>\n      <td>0.562857</td>\n      <td>0.129475</td>\n      <td>0.043627</td>\n    </tr>\n    <tr>\n      <th>439458887</th>\n      <td>439458887</td>\n      <td>INTC</td>\n      <td>20201002</td>\n      <td>49.5</td>\n      <td>C</td>\n      <td>11</td>\n      <td>1.14</td>\n      <td>1.42</td>\n      <td>1.280</td>\n      <td>0.197183</td>\n      <td>0.025659</td>\n      <td>0.274200</td>\n      <td>0.573312</td>\n      <td>0.162537</td>\n      <td>0.035016</td>\n    </tr>\n    <tr>\n      <th>438473906</th>\n      <td>438473906</td>\n      <td>INTC</td>\n      <td>20200925</td>\n      <td>49.5</td>\n      <td>C</td>\n      <td>4</td>\n      <td>0.91</td>\n      <td>0.97</td>\n      <td>0.940</td>\n      <td>0.061856</td>\n      <td>0.018843</td>\n      <td>0.251843</td>\n      <td>0.615123</td>\n      <td>0.276141</td>\n      <td>0.020984</td>\n    </tr>\n    <tr>\n      <th>442257551</th>\n      <td>442257551</td>\n      <td>INTC</td>\n      <td>20201009</td>\n      <td>49.0</td>\n      <td>C</td>\n      <td>18</td>\n      <td>1.70</td>\n      <td>2.12</td>\n      <td>1.910</td>\n      <td>0.198113</td>\n      <td>0.038288</td>\n      <td>0.277691</td>\n      <td>0.626791</td>\n      <td>0.124117</td>\n      <td>0.041698</td>\n    </tr>\n    <tr>\n      <th>439458893</th>\n      <td>439458893</td>\n      <td>INTC</td>\n      <td>20201002</td>\n      <td>49.0</td>\n      <td>C</td>\n      <td>11</td>\n      <td>1.52</td>\n      <td>1.63</td>\n      <td>1.575</td>\n      <td>0.067485</td>\n      <td>0.031573</td>\n      <td>0.272851</td>\n      <td>0.653941</td>\n      <td>0.153714</td>\n      <td>0.033467</td>\n    </tr>\n    <tr>\n      <th>442257520</th>\n      <td>442257520</td>\n      <td>INTC</td>\n      <td>20201009</td>\n      <td>48.5</td>\n      <td>C</td>\n      <td>18</td>\n      <td>2.05</td>\n      <td>2.41</td>\n      <td>2.230</td>\n      <td>0.149378</td>\n      <td>0.044703</td>\n      <td>0.282206</td>\n      <td>0.685856</td>\n      <td>0.114586</td>\n      <td>0.038288</td>\n    </tr>\n    <tr>\n      <th>439458864</th>\n      <td>439458864</td>\n      <td>INTC</td>\n      <td>20201002</td>\n      <td>48.5</td>\n      <td>C</td>\n      <td>11</td>\n      <td>1.65</td>\n      <td>2.03</td>\n      <td>1.840</td>\n      <td>0.187192</td>\n      <td>0.036885</td>\n      <td>0.278929</td>\n      <td>0.724546</td>\n      <td>0.136098</td>\n      <td>0.030730</td>\n    </tr>\n    <tr>\n      <th>438473912</th>\n      <td>438473912</td>\n      <td>INTC</td>\n      <td>20200925</td>\n      <td>49.0</td>\n      <td>C</td>\n      <td>4</td>\n      <td>1.20</td>\n      <td>1.31</td>\n      <td>1.255</td>\n      <td>0.083969</td>\n      <td>0.025158</td>\n      <td>0.260735</td>\n      <td>0.738216</td>\n      <td>0.227770</td>\n      <td>0.017236</td>\n    </tr>\n    <tr>\n      <th>442257530</th>\n      <td>442257530</td>\n      <td>INTC</td>\n      <td>20201009</td>\n      <td>48.0</td>\n      <td>C</td>\n      <td>18</td>\n      <td>2.31</td>\n      <td>2.86</td>\n      <td>2.585</td>\n      <td>0.192308</td>\n      <td>0.051819</td>\n      <td>0.284586</td>\n      <td>0.741286</td>\n      <td>0.103865</td>\n      <td>0.035401</td>\n    </tr>\n    <tr>\n      <th>439458879</th>\n      <td>439458879</td>\n      <td>INTC</td>\n      <td>20201002</td>\n      <td>48.0</td>\n      <td>C</td>\n      <td>11</td>\n      <td>2.28</td>\n      <td>2.42</td>\n      <td>2.350</td>\n      <td>0.057851</td>\n      <td>0.047108</td>\n      <td>0.288978</td>\n      <td>0.782177</td>\n      <td>0.115659</td>\n      <td>0.027107</td>\n    </tr>\n    <tr>\n      <th>438473894</th>\n      <td>438473894</td>\n      <td>INTC</td>\n      <td>20200925</td>\n      <td>48.5</td>\n      <td>C</td>\n      <td>4</td>\n      <td>1.60</td>\n      <td>1.68</td>\n      <td>1.640</td>\n      <td>0.047619</td>\n      <td>0.032876</td>\n      <td>0.269849</td>\n      <td>0.831661</td>\n      <td>0.169526</td>\n      <td>0.014479</td>\n    </tr>\n    <tr>\n      <th>438473900</th>\n      <td>438473900</td>\n      <td>INTC</td>\n      <td>20200925</td>\n      <td>48.0</td>\n      <td>C</td>\n      <td>4</td>\n      <td>2.03</td>\n      <td>2.07</td>\n      <td>2.050</td>\n      <td>0.019324</td>\n      <td>0.041095</td>\n      <td>0.284028</td>\n      <td>0.893900</td>\n      <td>0.117538</td>\n      <td>0.010134</td>\n    </tr>\n  </tbody>\n</table>\n</div>"
     },
     "metadata": {},
     "execution_count": 108
    }
   ],
   "source": [
    "df.loc[(df.delta).sort_values().index]"
   ]
  },
  {
   "cell_type": "code",
   "execution_count": null,
   "metadata": {},
   "outputs": [],
   "source": []
  },
  {
   "cell_type": "code",
   "execution_count": null,
   "metadata": {},
   "outputs": [],
   "source": []
  },
  {
   "cell_type": "code",
   "execution_count": null,
   "metadata": {},
   "outputs": [],
   "source": []
  },
  {
   "cell_type": "code",
   "execution_count": null,
   "metadata": {},
   "outputs": [],
   "source": []
  },
  {
   "cell_type": "code",
   "execution_count": null,
   "metadata": {},
   "outputs": [],
   "source": []
  },
  {
   "cell_type": "code",
   "execution_count": null,
   "metadata": {},
   "outputs": [],
   "source": []
  },
  {
   "cell_type": "code",
   "execution_count": null,
   "metadata": {},
   "outputs": [],
   "source": []
  },
  {
   "cell_type": "code",
   "execution_count": null,
   "metadata": {},
   "outputs": [],
   "source": []
  },
  {
   "cell_type": "code",
   "execution_count": null,
   "metadata": {},
   "outputs": [],
   "source": []
  },
  {
   "cell_type": "code",
   "execution_count": null,
   "metadata": {},
   "outputs": [],
   "source": []
  },
  {
   "cell_type": "code",
   "execution_count": null,
   "metadata": {},
   "outputs": [],
   "source": []
  },
  {
   "cell_type": "code",
   "execution_count": null,
   "metadata": {},
   "outputs": [],
   "source": []
  },
  {
   "cell_type": "code",
   "execution_count": null,
   "metadata": {},
   "outputs": [],
   "source": []
  },
  {
   "cell_type": "code",
   "execution_count": null,
   "metadata": {},
   "outputs": [],
   "source": []
  },
  {
   "cell_type": "code",
   "execution_count": null,
   "metadata": {},
   "outputs": [],
   "source": []
  },
  {
   "cell_type": "code",
   "execution_count": null,
   "metadata": {},
   "outputs": [],
   "source": []
  },
  {
   "cell_type": "code",
   "execution_count": null,
   "metadata": {},
   "outputs": [],
   "source": []
  },
  {
   "cell_type": "code",
   "execution_count": null,
   "metadata": {},
   "outputs": [],
   "source": []
  },
  {
   "cell_type": "code",
   "execution_count": null,
   "metadata": {},
   "outputs": [],
   "source": []
  },
  {
   "cell_type": "code",
   "execution_count": null,
   "metadata": {},
   "outputs": [],
   "source": []
  },
  {
   "cell_type": "code",
   "execution_count": 70,
   "metadata": {
    "tags": []
   },
   "outputs": [
    {
     "output_type": "stream",
     "name": "stdout",
     "text": "<class 'pandas.core.frame.DataFrame'>\nRangeIndex: 36 entries, 0 to 35\nData columns (total 14 columns):\n #   Column                        Non-Null Count  Dtype  \n---  ------                        --------------  -----  \n 0   symbol                        36 non-null     object \n 1   lastTradeDateOrContractMonth  36 non-null     object \n 2   strike                        36 non-null     float64\n 3   right                         36 non-null     object \n 4   timeToExpiration              36 non-null     int64  \n 5   bid                           36 non-null     float64\n 6   ask                           36 non-null     float64\n 7   marketPrice                   36 non-null     float64\n 8   spread                        36 non-null     float64\n 9   optionYield                   36 non-null     float64\n 10  impliedVol                    36 non-null     float64\n 11  delta                         36 non-null     float64\n 12  gamma                         36 non-null     float64\n 13  vega                          36 non-null     float64\ndtypes: float64(10), int64(1), object(3)\nmemory usage: 4.1+ KB\n"
    }
   ],
   "source": [
    "df.info()"
   ]
  },
  {
   "cell_type": "code",
   "execution_count": 79,
   "metadata": {},
   "outputs": [
    {
     "output_type": "execute_result",
     "data": {
      "text/plain": "  symbol lastTradeDateOrContractMonth  strike right  timeToExpiration   bid  \\\n0   INTC                     20200925    48.0     P                 4  0.17   \n1   INTC                     20200925    48.5     P                 4  0.24   \n2   INTC                     20200925    49.0     P                 4  0.34   \n3   INTC                     20200925    49.5     P                 4  0.51   \n4   INTC                     20200925    50.0     P                 4  0.73   \n\n    ask  marketPrice    spread  optionYield  impliedVol     delta     gamma  \\\n0  0.20        0.185  0.150000     0.003709    0.284028 -0.106104  0.117543   \n1  0.27        0.255  0.111111     0.005112    0.269849 -0.168347  0.169534   \n2  0.40        0.370  0.150000     0.007417    0.260735 -0.261796  0.227783   \n3  0.57        0.540  0.105263     0.010825    0.251843 -0.384897  0.276159   \n4  0.83        0.780  0.120482     0.015636    0.250107 -0.527490  0.289543   \n\n       vega  \n0  0.010135  \n1  0.014479  \n2  0.017239  \n3  0.020984  \n4  0.021954  ",
      "text/html": "<div>\n<style scoped>\n    .dataframe tbody tr th:only-of-type {\n        vertical-align: middle;\n    }\n\n    .dataframe tbody tr th {\n        vertical-align: top;\n    }\n\n    .dataframe thead th {\n        text-align: right;\n    }\n</style>\n<table border=\"1\" class=\"dataframe\">\n  <thead>\n    <tr style=\"text-align: right;\">\n      <th></th>\n      <th>symbol</th>\n      <th>lastTradeDateOrContractMonth</th>\n      <th>strike</th>\n      <th>right</th>\n      <th>timeToExpiration</th>\n      <th>bid</th>\n      <th>ask</th>\n      <th>marketPrice</th>\n      <th>spread</th>\n      <th>optionYield</th>\n      <th>impliedVol</th>\n      <th>delta</th>\n      <th>gamma</th>\n      <th>vega</th>\n    </tr>\n  </thead>\n  <tbody>\n    <tr>\n      <th>0</th>\n      <td>INTC</td>\n      <td>20200925</td>\n      <td>48.0</td>\n      <td>P</td>\n      <td>4</td>\n      <td>0.17</td>\n      <td>0.20</td>\n      <td>0.185</td>\n      <td>0.150000</td>\n      <td>0.003709</td>\n      <td>0.284028</td>\n      <td>-0.106104</td>\n      <td>0.117543</td>\n      <td>0.010135</td>\n    </tr>\n    <tr>\n      <th>1</th>\n      <td>INTC</td>\n      <td>20200925</td>\n      <td>48.5</td>\n      <td>P</td>\n      <td>4</td>\n      <td>0.24</td>\n      <td>0.27</td>\n      <td>0.255</td>\n      <td>0.111111</td>\n      <td>0.005112</td>\n      <td>0.269849</td>\n      <td>-0.168347</td>\n      <td>0.169534</td>\n      <td>0.014479</td>\n    </tr>\n    <tr>\n      <th>2</th>\n      <td>INTC</td>\n      <td>20200925</td>\n      <td>49.0</td>\n      <td>P</td>\n      <td>4</td>\n      <td>0.34</td>\n      <td>0.40</td>\n      <td>0.370</td>\n      <td>0.150000</td>\n      <td>0.007417</td>\n      <td>0.260735</td>\n      <td>-0.261796</td>\n      <td>0.227783</td>\n      <td>0.017239</td>\n    </tr>\n    <tr>\n      <th>3</th>\n      <td>INTC</td>\n      <td>20200925</td>\n      <td>49.5</td>\n      <td>P</td>\n      <td>4</td>\n      <td>0.51</td>\n      <td>0.57</td>\n      <td>0.540</td>\n      <td>0.105263</td>\n      <td>0.010825</td>\n      <td>0.251843</td>\n      <td>-0.384897</td>\n      <td>0.276159</td>\n      <td>0.020984</td>\n    </tr>\n    <tr>\n      <th>4</th>\n      <td>INTC</td>\n      <td>20200925</td>\n      <td>50.0</td>\n      <td>P</td>\n      <td>4</td>\n      <td>0.73</td>\n      <td>0.83</td>\n      <td>0.780</td>\n      <td>0.120482</td>\n      <td>0.015636</td>\n      <td>0.250107</td>\n      <td>-0.527490</td>\n      <td>0.289543</td>\n      <td>0.021954</td>\n    </tr>\n  </tbody>\n</table>\n</div>"
     },
     "metadata": {},
     "execution_count": 79
    }
   ],
   "source": [
    "df.head()"
   ]
  },
  {
   "cell_type": "code",
   "execution_count": null,
   "metadata": {},
   "outputs": [],
   "source": []
  },
  {
   "cell_type": "code",
   "execution_count": null,
   "metadata": {},
   "outputs": [],
   "source": []
  },
  {
   "cell_type": "code",
   "execution_count": null,
   "metadata": {},
   "outputs": [],
   "source": []
  },
  {
   "cell_type": "code",
   "execution_count": null,
   "metadata": {},
   "outputs": [],
   "source": []
  },
  {
   "cell_type": "code",
   "execution_count": null,
   "metadata": {},
   "outputs": [],
   "source": []
  },
  {
   "cell_type": "code",
   "execution_count": 52,
   "metadata": {},
   "outputs": [],
   "source": [
    "ib.disconnect()"
   ]
  }
 ],
 "metadata": {
  "kernelspec": {
   "display_name": "Python 3",
   "language": "python",
   "name": "python3"
  },
  "language_info": {
   "codemirror_mode": {
    "name": "ipython",
    "version": 3
   },
   "file_extension": ".py",
   "mimetype": "text/x-python",
   "name": "python",
   "nbconvert_exporter": "python",
   "pygments_lexer": "ipython3",
   "version": "3.6.10-final"
  }
 },
 "nbformat": 4,
 "nbformat_minor": 4
}