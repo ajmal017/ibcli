{
 "cells": [
  {
   "cell_type": "markdown",
   "metadata": {},
   "source": [
    "Option chains\n",
    "======="
   ]
  },
  {
   "cell_type": "code",
   "execution_count": 116,
   "metadata": {
    "scrolled": true,
    "tags": []
   },
   "outputs": [
    {
     "output_type": "execute_result",
     "data": {
      "text/plain": "<IB connected to 127.0.0.1:7497 clientId=19>"
     },
     "metadata": {},
     "execution_count": 116
    }
   ],
   "source": [
    "from ib_insync import *\n",
    "util.startLoop()\n",
    "\n",
    "ib = IB()\n",
    "ib.connect('127.0.0.1', 7497, clientId=19,readonly=True)"
   ]
  },
  {
   "cell_type": "code",
   "execution_count": null,
   "metadata": {},
   "outputs": [],
   "source": []
  },
  {
   "cell_type": "code",
   "execution_count": 117,
   "metadata": {},
   "outputs": [
    {
     "output_type": "execute_result",
     "data": {
      "text/plain": "[Stock(conId=270639, symbol='INTC', exchange='SMART', primaryExchange='NASDAQ', currency='USD', localSymbol='INTC', tradingClass='NMS')]"
     },
     "metadata": {},
     "execution_count": 117
    }
   ],
   "source": [
    "intc = Stock('INTC', 'SMART', 'USD')\n",
    "ib.qualifyContracts(intc)"
   ]
  },
  {
   "cell_type": "code",
   "execution_count": null,
   "metadata": {},
   "outputs": [],
   "source": []
  },
  {
   "cell_type": "code",
   "execution_count": 118,
   "metadata": {},
   "outputs": [
    {
     "output_type": "execute_result",
     "data": {
      "text/plain": "Ticker(contract=Stock(conId=270639, symbol='INTC', exchange='SMART', primaryExchange='NASDAQ', currency='USD', localSymbol='INTC', tradingClass='NMS'), time=datetime.datetime(2020, 9, 15, 7, 21, 10, 776769, tzinfo=datetime.timezone.utc), marketDataType=2, bid=49.34, bidSize=12, ask=49.38, askSize=2, close=49.41, halted=-1.0)"
     },
     "metadata": {},
     "execution_count": 118
    }
   ],
   "source": [
    "ib.reqMarketDataType(2)\n",
    "[ticker] = ib.reqTickers(intc)\n",
    "ticker"
   ]
  },
  {
   "cell_type": "code",
   "execution_count": null,
   "metadata": {},
   "outputs": [],
   "source": []
  },
  {
   "cell_type": "code",
   "execution_count": 119,
   "metadata": {},
   "outputs": [
    {
     "output_type": "execute_result",
     "data": {
      "text/plain": "49.36"
     },
     "metadata": {},
     "execution_count": 119
    }
   ],
   "source": [
    "intcValue = ticker.marketPrice()\n",
    "intcValue"
   ]
  },
  {
   "cell_type": "code",
   "execution_count": 120,
   "metadata": {},
   "outputs": [
    {
     "output_type": "execute_result",
     "data": {
      "text/plain": "    exchange underlyingConId tradingClass multiplier  \\\n0      SMART          270639         INTC        100   \n1       EDGX          270639         INTC        100   \n2      CBOE2          270639         INTC        100   \n3        ISE          270639         INTC        100   \n4   NASDAQBX          270639         INTC        100   \n5       MIAX          270639         INTC        100   \n6       CBOE          270639         INTC        100   \n7    MERCURY          270639         INTC        100   \n8   NASDAQOM          270639         INTC        100   \n9       BATS          270639         INTC        100   \n10   EMERALD          270639         INTC        100   \n11     PEARL          270639         INTC        100   \n12      PHLX          270639         INTC        100   \n13      AMEX          270639         INTC        100   \n14    GEMINI          270639         INTC        100   \n15       BOX          270639         INTC        100   \n16       PSE          270639         INTC        100   \n\n                                          expirations  \\\n0   [20200918, 20200925, 20201002, 20201009, 20201...   \n1   [20200918, 20200925, 20201002, 20201009, 20201...   \n2   [20200918, 20200925, 20201002, 20201009, 20201...   \n3   [20200918, 20200925, 20201002, 20201009, 20201...   \n4   [20200918, 20200925, 20201002, 20201009, 20201...   \n5   [20200918, 20200925, 20201002, 20201009, 20201...   \n6   [20200918, 20200925, 20201002, 20201009, 20201...   \n7   [20200918, 20200925, 20201002, 20201009, 20201...   \n8   [20200918, 20200925, 20201002, 20201009, 20201...   \n9   [20200918, 20200925, 20201002, 20201009, 20201...   \n10  [20200918, 20200925, 20201002, 20201009, 20201...   \n11  [20200918, 20200925, 20201002, 20201009, 20201...   \n12  [20200918, 20200925, 20201002, 20201009, 20201...   \n13  [20200918, 20200925, 20201002, 20201009, 20201...   \n14  [20200918, 20200925, 20201002, 20201009, 20201...   \n15  [20200918, 20200925, 20201002, 20201009, 20201...   \n16  [20200918, 20200925, 20201002, 20201009, 20201...   \n\n                                              strikes  \n0   [23.0, 25.0, 27.5, 28.0, 30.0, 32.5, 33.0, 35....  \n1   [23.0, 25.0, 27.5, 28.0, 30.0, 32.5, 33.0, 35....  \n2   [23.0, 25.0, 27.5, 28.0, 30.0, 32.5, 33.0, 35....  \n3   [23.0, 25.0, 27.5, 28.0, 30.0, 32.5, 33.0, 35....  \n4   [23.0, 25.0, 27.5, 28.0, 30.0, 32.5, 33.0, 35....  \n5   [23.0, 25.0, 27.5, 28.0, 30.0, 32.5, 33.0, 35....  \n6   [23.0, 25.0, 27.5, 28.0, 30.0, 32.5, 33.0, 35....  \n7   [23.0, 25.0, 27.5, 28.0, 30.0, 32.5, 33.0, 35....  \n8   [23.0, 25.0, 27.5, 28.0, 30.0, 32.5, 33.0, 35....  \n9   [23.0, 25.0, 27.5, 28.0, 30.0, 32.5, 33.0, 35....  \n10  [23.0, 25.0, 27.5, 28.0, 30.0, 32.5, 33.0, 35....  \n11  [23.0, 25.0, 27.5, 28.0, 30.0, 32.5, 33.0, 35....  \n12  [23.0, 25.0, 27.5, 28.0, 30.0, 32.5, 33.0, 35....  \n13  [23.0, 25.0, 27.5, 28.0, 30.0, 32.5, 33.0, 35....  \n14  [23.0, 25.0, 27.5, 28.0, 30.0, 32.5, 33.0, 35....  \n15  [23.0, 25.0, 27.5, 28.0, 30.0, 32.5, 33.0, 35....  \n16  [23.0, 25.0, 27.5, 28.0, 30.0, 32.5, 33.0, 35....  ",
      "text/html": "<div>\n<style scoped>\n    .dataframe tbody tr th:only-of-type {\n        vertical-align: middle;\n    }\n\n    .dataframe tbody tr th {\n        vertical-align: top;\n    }\n\n    .dataframe thead th {\n        text-align: right;\n    }\n</style>\n<table border=\"1\" class=\"dataframe\">\n  <thead>\n    <tr style=\"text-align: right;\">\n      <th></th>\n      <th>exchange</th>\n      <th>underlyingConId</th>\n      <th>tradingClass</th>\n      <th>multiplier</th>\n      <th>expirations</th>\n      <th>strikes</th>\n    </tr>\n  </thead>\n  <tbody>\n    <tr>\n      <th>0</th>\n      <td>SMART</td>\n      <td>270639</td>\n      <td>INTC</td>\n      <td>100</td>\n      <td>[20200918, 20200925, 20201002, 20201009, 20201...</td>\n      <td>[23.0, 25.0, 27.5, 28.0, 30.0, 32.5, 33.0, 35....</td>\n    </tr>\n    <tr>\n      <th>1</th>\n      <td>EDGX</td>\n      <td>270639</td>\n      <td>INTC</td>\n      <td>100</td>\n      <td>[20200918, 20200925, 20201002, 20201009, 20201...</td>\n      <td>[23.0, 25.0, 27.5, 28.0, 30.0, 32.5, 33.0, 35....</td>\n    </tr>\n    <tr>\n      <th>2</th>\n      <td>CBOE2</td>\n      <td>270639</td>\n      <td>INTC</td>\n      <td>100</td>\n      <td>[20200918, 20200925, 20201002, 20201009, 20201...</td>\n      <td>[23.0, 25.0, 27.5, 28.0, 30.0, 32.5, 33.0, 35....</td>\n    </tr>\n    <tr>\n      <th>3</th>\n      <td>ISE</td>\n      <td>270639</td>\n      <td>INTC</td>\n      <td>100</td>\n      <td>[20200918, 20200925, 20201002, 20201009, 20201...</td>\n      <td>[23.0, 25.0, 27.5, 28.0, 30.0, 32.5, 33.0, 35....</td>\n    </tr>\n    <tr>\n      <th>4</th>\n      <td>NASDAQBX</td>\n      <td>270639</td>\n      <td>INTC</td>\n      <td>100</td>\n      <td>[20200918, 20200925, 20201002, 20201009, 20201...</td>\n      <td>[23.0, 25.0, 27.5, 28.0, 30.0, 32.5, 33.0, 35....</td>\n    </tr>\n    <tr>\n      <th>5</th>\n      <td>MIAX</td>\n      <td>270639</td>\n      <td>INTC</td>\n      <td>100</td>\n      <td>[20200918, 20200925, 20201002, 20201009, 20201...</td>\n      <td>[23.0, 25.0, 27.5, 28.0, 30.0, 32.5, 33.0, 35....</td>\n    </tr>\n    <tr>\n      <th>6</th>\n      <td>CBOE</td>\n      <td>270639</td>\n      <td>INTC</td>\n      <td>100</td>\n      <td>[20200918, 20200925, 20201002, 20201009, 20201...</td>\n      <td>[23.0, 25.0, 27.5, 28.0, 30.0, 32.5, 33.0, 35....</td>\n    </tr>\n    <tr>\n      <th>7</th>\n      <td>MERCURY</td>\n      <td>270639</td>\n      <td>INTC</td>\n      <td>100</td>\n      <td>[20200918, 20200925, 20201002, 20201009, 20201...</td>\n      <td>[23.0, 25.0, 27.5, 28.0, 30.0, 32.5, 33.0, 35....</td>\n    </tr>\n    <tr>\n      <th>8</th>\n      <td>NASDAQOM</td>\n      <td>270639</td>\n      <td>INTC</td>\n      <td>100</td>\n      <td>[20200918, 20200925, 20201002, 20201009, 20201...</td>\n      <td>[23.0, 25.0, 27.5, 28.0, 30.0, 32.5, 33.0, 35....</td>\n    </tr>\n    <tr>\n      <th>9</th>\n      <td>BATS</td>\n      <td>270639</td>\n      <td>INTC</td>\n      <td>100</td>\n      <td>[20200918, 20200925, 20201002, 20201009, 20201...</td>\n      <td>[23.0, 25.0, 27.5, 28.0, 30.0, 32.5, 33.0, 35....</td>\n    </tr>\n    <tr>\n      <th>10</th>\n      <td>EMERALD</td>\n      <td>270639</td>\n      <td>INTC</td>\n      <td>100</td>\n      <td>[20200918, 20200925, 20201002, 20201009, 20201...</td>\n      <td>[23.0, 25.0, 27.5, 28.0, 30.0, 32.5, 33.0, 35....</td>\n    </tr>\n    <tr>\n      <th>11</th>\n      <td>PEARL</td>\n      <td>270639</td>\n      <td>INTC</td>\n      <td>100</td>\n      <td>[20200918, 20200925, 20201002, 20201009, 20201...</td>\n      <td>[23.0, 25.0, 27.5, 28.0, 30.0, 32.5, 33.0, 35....</td>\n    </tr>\n    <tr>\n      <th>12</th>\n      <td>PHLX</td>\n      <td>270639</td>\n      <td>INTC</td>\n      <td>100</td>\n      <td>[20200918, 20200925, 20201002, 20201009, 20201...</td>\n      <td>[23.0, 25.0, 27.5, 28.0, 30.0, 32.5, 33.0, 35....</td>\n    </tr>\n    <tr>\n      <th>13</th>\n      <td>AMEX</td>\n      <td>270639</td>\n      <td>INTC</td>\n      <td>100</td>\n      <td>[20200918, 20200925, 20201002, 20201009, 20201...</td>\n      <td>[23.0, 25.0, 27.5, 28.0, 30.0, 32.5, 33.0, 35....</td>\n    </tr>\n    <tr>\n      <th>14</th>\n      <td>GEMINI</td>\n      <td>270639</td>\n      <td>INTC</td>\n      <td>100</td>\n      <td>[20200918, 20200925, 20201002, 20201009, 20201...</td>\n      <td>[23.0, 25.0, 27.5, 28.0, 30.0, 32.5, 33.0, 35....</td>\n    </tr>\n    <tr>\n      <th>15</th>\n      <td>BOX</td>\n      <td>270639</td>\n      <td>INTC</td>\n      <td>100</td>\n      <td>[20200918, 20200925, 20201002, 20201009, 20201...</td>\n      <td>[23.0, 25.0, 27.5, 28.0, 30.0, 32.5, 33.0, 35....</td>\n    </tr>\n    <tr>\n      <th>16</th>\n      <td>PSE</td>\n      <td>270639</td>\n      <td>INTC</td>\n      <td>100</td>\n      <td>[20200918, 20200925, 20201002, 20201009, 20201...</td>\n      <td>[23.0, 25.0, 27.5, 28.0, 30.0, 32.5, 33.0, 35....</td>\n    </tr>\n  </tbody>\n</table>\n</div>"
     },
     "metadata": {},
     "execution_count": 120
    }
   ],
   "source": [
    "chains = ib.reqSecDefOptParams(intc.symbol, '', intc.secType, intc.conId)\n",
    "\n",
    "util.df(chains)"
   ]
  },
  {
   "cell_type": "code",
   "execution_count": 121,
   "metadata": {},
   "outputs": [
    {
     "output_type": "execute_result",
     "data": {
      "text/plain": "OptionChain(exchange='SMART', underlyingConId='270639', tradingClass='INTC', multiplier='100', expirations=['20200918', '20200925', '20201002', '20201009', '20201016', '20201023', '20201030', '20201120', '20201218', '20210115', '20210219', '20210319', '20210416', '20210618', '20220121', '20230120'], strikes=[23.0, 25.0, 27.5, 28.0, 30.0, 32.5, 33.0, 35.0, 37.5, 38.0, 40.0, 41.0, 42.0, 42.5, 43.0, 43.5, 44.0, 44.5, 45.0, 45.5, 46.0, 46.5, 47.0, 47.5, 48.0, 48.5, 49.0, 49.5, 50.0, 50.5, 51.0, 51.5, 52.0, 52.5, 53.0, 53.5, 54.0, 54.5, 55.0, 55.5, 56.0, 56.5, 57.0, 57.5, 58.0, 58.5, 59.0, 59.5, 60.0, 61.0, 62.5, 64.0, 65.0, 67.5, 70.0, 72.5, 75.0, 77.5, 80.0, 85.0, 90.0, 95.0, 100.0])"
     },
     "metadata": {},
     "execution_count": 121
    }
   ],
   "source": [
    "chain = next(c for c in chains if  c.exchange == 'SMART')\n",
    "chain"
   ]
  },
  {
   "cell_type": "code",
   "execution_count": null,
   "metadata": {},
   "outputs": [],
   "source": []
  },
  {
   "cell_type": "code",
   "execution_count": 32,
   "metadata": {},
   "outputs": [
    {
     "output_type": "execute_result",
     "data": {
      "text/plain": "[23.0,\n 25.0,\n 27.5,\n 28.0,\n 30.0,\n 32.5,\n 33.0,\n 35.0,\n 37.5,\n 38.0,\n 39.0,\n 40.0,\n 41.0,\n 41.5,\n 42.0,\n 42.5,\n 43.0,\n 43.5,\n 44.0,\n 44.5,\n 45.0,\n 45.5,\n 46.0,\n 46.5,\n 47.0,\n 47.5,\n 48.0,\n 48.5,\n 49.0,\n 49.5,\n 50.0,\n 50.5,\n 51.0,\n 51.5,\n 52.0,\n 52.5,\n 53.0,\n 53.5,\n 54.0,\n 54.5,\n 55.0,\n 55.5,\n 56.0,\n 56.5,\n 57.0,\n 57.5,\n 58.0,\n 58.5,\n 59.0,\n 59.5,\n 60.0,\n 61.0,\n 62.0,\n 62.5,\n 63.0,\n 64.0,\n 65.0,\n 67.5,\n 70.0,\n 72.5,\n 75.0,\n 77.5,\n 80.0,\n 85.0,\n 90.0,\n 95.0,\n 100.0]"
     },
     "metadata": {},
     "execution_count": 32
    }
   ],
   "source": [
    "chain.strikes"
   ]
  },
  {
   "cell_type": "code",
   "execution_count": 140,
   "metadata": {},
   "outputs": [
    {
     "output_type": "execute_result",
     "data": {
      "text/plain": "18"
     },
     "metadata": {},
     "execution_count": 140
    }
   ],
   "source": [
    "strikes = [strike for strike in chain.strikes\n",
    "        if intcValue - 1.5 < strike < intcValue + 1.5]\n",
    "expirations = sorted(exp for exp in chain.expirations)[:3]\n",
    "#rights = ['P', 'C']\n",
    "rights = ['P']\n",
    "\n",
    "contracts = [Option('INTC', expiration, strike, right, 'SMART', tradingClass='INTC')\n",
    "        for right in rights\n",
    "        for expiration in expirations\n",
    "        for strike in strikes]\n",
    "\n",
    "contracts = ib.qualifyContracts(*contracts)\n",
    "len(contracts)"
   ]
  },
  {
   "cell_type": "code",
   "execution_count": null,
   "metadata": {},
   "outputs": [],
   "source": []
  },
  {
   "cell_type": "code",
   "execution_count": 141,
   "metadata": {},
   "outputs": [
    {
     "output_type": "execute_result",
     "data": {
      "text/plain": "[48.0, 48.5, 49.0, 49.5, 50.0, 50.5]"
     },
     "metadata": {},
     "execution_count": 141
    }
   ],
   "source": [
    "strikes = [strike for strike in chain.strikes\n",
    "        if intcValue - 1.5 < strike < intcValue + 1.5]\n",
    "strikes\n"
   ]
  },
  {
   "cell_type": "code",
   "execution_count": null,
   "metadata": {},
   "outputs": [],
   "source": []
  },
  {
   "cell_type": "code",
   "execution_count": 142,
   "metadata": {},
   "outputs": [
    {
     "output_type": "execute_result",
     "data": {
      "text/plain": "Ticker(contract=Option(conId=441665906, symbol='INTC', lastTradeDateOrContractMonth='20200918', strike=48.0, right='P', multiplier='100', exchange='SMART', currency='USD', localSymbol='INTC  200918P00048000', tradingClass='INTC'), time=datetime.datetime(2020, 9, 15, 14, 57, 24, 140327, tzinfo=datetime.timezone.utc), bid=0.06, bidSize=124, ask=0.07, askSize=446, last=0.06, lastSize=1, volume=426, high=0.12, low=0.06, close=0.16, bidGreeks=OptionComputation(impliedVol=0.3492619998081223, delta=-0.06886604062744471, optPrice=0.05999999865889549, pvDividend=0.0, gamma=0.08050666951660163, vega=0.005958678203250606, theta=-0.03410706860382358, undPrice=50.36000061035156), askGreeks=OptionComputation(impliedVol=0.3618305001551634, delta=-0.07521374166731695, optPrice=0.07000000029802322, pvDividend=0.0, gamma=0.08340405040201886, vega=0.0071819918119523304, theta=-0.037923634808577585, undPrice=50.36000061035156), lastGreeks=OptionComputation(impliedVol=0.34624309068742476, delta=-0.06727193163246419, optPrice=0.05999999865889549, pvDividend=0.0, gamma=0.0797150641539949, vega=0.005958642595035202, theta=-0.03319035744229912, undPrice=50.36000061035156), modelGreeks=OptionComputation(impliedVol=0.3533595420748609, delta=-0.07022943427026687, optPrice=0.052819474877298635, pvDividend=0.0, gamma=0.08080926034314502, vega=0.005959308678839925, theta=-0.03505727738819849, undPrice=50.369998931884766))"
     },
     "metadata": {},
     "execution_count": 142
    }
   ],
   "source": [
    "tickers = ib.reqTickers(*contracts)\n",
    "\n",
    "tickers[0]"
   ]
  },
  {
   "cell_type": "code",
   "execution_count": 131,
   "metadata": {},
   "outputs": [
    {
     "output_type": "execute_result",
     "data": {
      "text/plain": "                               time   bid  bidSize   ask  askSize  last  \\\n0  2020-09-15 07:22:14.334735+00:00  0.14       44  0.17       11   NaN   \n1  2020-09-15 07:22:14.334892+00:00  0.22       64  0.27       37   NaN   \n2  2020-09-15 07:22:14.334892+00:00  0.39       58  0.42       18   NaN   \n3  2020-09-15 07:22:14.335169+00:00  0.61       49  0.70       31   NaN   \n4  2020-09-15 07:22:14.335169+00:00  0.90       65  0.96        6   NaN   \n5  2020-09-15 07:22:14.335330+00:00  1.27       80  1.37       30   NaN   \n6  2020-09-15 07:22:14.335686+00:00  0.39       60  0.44       15   NaN   \n7  2020-09-15 07:22:14.335686+00:00  0.54       10  0.58        4   NaN   \n8  2020-09-15 07:22:14.335686+00:00  0.72       71  0.79       30   NaN   \n9  2020-09-15 07:22:14.335686+00:00  0.94      719  1.04       54   NaN   \n10 2020-09-15 07:22:14.335686+00:00  1.21      118  1.37       59   NaN   \n11 2020-09-15 07:22:14.336339+00:00  1.53       68  1.62       50   NaN   \n12 2020-09-15 07:22:14.336339+00:00  0.52       36  0.65       28   NaN   \n13 2020-09-15 07:22:14.336339+00:00  0.66      175  0.93       42   NaN   \n14 2020-09-15 07:22:14.336339+00:00  0.86       32  1.13       35   NaN   \n15 2020-09-15 07:22:14.336339+00:00  1.06      451  1.38       36   NaN   \n16 2020-09-15 07:22:14.336339+00:00  1.37       40  1.67       45   NaN   \n17 2020-09-15 07:22:14.336339+00:00  1.67       42  1.83       10   NaN   \n\n    lastSize  \n0        NaN  \n1        NaN  \n2        NaN  \n3        NaN  \n4        NaN  \n5        NaN  \n6        NaN  \n7        NaN  \n8        NaN  \n9        NaN  \n10       NaN  \n11       NaN  \n12       NaN  \n13       NaN  \n14       NaN  \n15       NaN  \n16       NaN  \n17       NaN  ",
      "text/html": "<div>\n<style scoped>\n    .dataframe tbody tr th:only-of-type {\n        vertical-align: middle;\n    }\n\n    .dataframe tbody tr th {\n        vertical-align: top;\n    }\n\n    .dataframe thead th {\n        text-align: right;\n    }\n</style>\n<table border=\"1\" class=\"dataframe\">\n  <thead>\n    <tr style=\"text-align: right;\">\n      <th></th>\n      <th>time</th>\n      <th>bid</th>\n      <th>bidSize</th>\n      <th>ask</th>\n      <th>askSize</th>\n      <th>last</th>\n      <th>lastSize</th>\n    </tr>\n  </thead>\n  <tbody>\n    <tr>\n      <th>0</th>\n      <td>2020-09-15 07:22:14.334735+00:00</td>\n      <td>0.14</td>\n      <td>44</td>\n      <td>0.17</td>\n      <td>11</td>\n      <td>NaN</td>\n      <td>NaN</td>\n    </tr>\n    <tr>\n      <th>1</th>\n      <td>2020-09-15 07:22:14.334892+00:00</td>\n      <td>0.22</td>\n      <td>64</td>\n      <td>0.27</td>\n      <td>37</td>\n      <td>NaN</td>\n      <td>NaN</td>\n    </tr>\n    <tr>\n      <th>2</th>\n      <td>2020-09-15 07:22:14.334892+00:00</td>\n      <td>0.39</td>\n      <td>58</td>\n      <td>0.42</td>\n      <td>18</td>\n      <td>NaN</td>\n      <td>NaN</td>\n    </tr>\n    <tr>\n      <th>3</th>\n      <td>2020-09-15 07:22:14.335169+00:00</td>\n      <td>0.61</td>\n      <td>49</td>\n      <td>0.70</td>\n      <td>31</td>\n      <td>NaN</td>\n      <td>NaN</td>\n    </tr>\n    <tr>\n      <th>4</th>\n      <td>2020-09-15 07:22:14.335169+00:00</td>\n      <td>0.90</td>\n      <td>65</td>\n      <td>0.96</td>\n      <td>6</td>\n      <td>NaN</td>\n      <td>NaN</td>\n    </tr>\n    <tr>\n      <th>5</th>\n      <td>2020-09-15 07:22:14.335330+00:00</td>\n      <td>1.27</td>\n      <td>80</td>\n      <td>1.37</td>\n      <td>30</td>\n      <td>NaN</td>\n      <td>NaN</td>\n    </tr>\n    <tr>\n      <th>6</th>\n      <td>2020-09-15 07:22:14.335686+00:00</td>\n      <td>0.39</td>\n      <td>60</td>\n      <td>0.44</td>\n      <td>15</td>\n      <td>NaN</td>\n      <td>NaN</td>\n    </tr>\n    <tr>\n      <th>7</th>\n      <td>2020-09-15 07:22:14.335686+00:00</td>\n      <td>0.54</td>\n      <td>10</td>\n      <td>0.58</td>\n      <td>4</td>\n      <td>NaN</td>\n      <td>NaN</td>\n    </tr>\n    <tr>\n      <th>8</th>\n      <td>2020-09-15 07:22:14.335686+00:00</td>\n      <td>0.72</td>\n      <td>71</td>\n      <td>0.79</td>\n      <td>30</td>\n      <td>NaN</td>\n      <td>NaN</td>\n    </tr>\n    <tr>\n      <th>9</th>\n      <td>2020-09-15 07:22:14.335686+00:00</td>\n      <td>0.94</td>\n      <td>719</td>\n      <td>1.04</td>\n      <td>54</td>\n      <td>NaN</td>\n      <td>NaN</td>\n    </tr>\n    <tr>\n      <th>10</th>\n      <td>2020-09-15 07:22:14.335686+00:00</td>\n      <td>1.21</td>\n      <td>118</td>\n      <td>1.37</td>\n      <td>59</td>\n      <td>NaN</td>\n      <td>NaN</td>\n    </tr>\n    <tr>\n      <th>11</th>\n      <td>2020-09-15 07:22:14.336339+00:00</td>\n      <td>1.53</td>\n      <td>68</td>\n      <td>1.62</td>\n      <td>50</td>\n      <td>NaN</td>\n      <td>NaN</td>\n    </tr>\n    <tr>\n      <th>12</th>\n      <td>2020-09-15 07:22:14.336339+00:00</td>\n      <td>0.52</td>\n      <td>36</td>\n      <td>0.65</td>\n      <td>28</td>\n      <td>NaN</td>\n      <td>NaN</td>\n    </tr>\n    <tr>\n      <th>13</th>\n      <td>2020-09-15 07:22:14.336339+00:00</td>\n      <td>0.66</td>\n      <td>175</td>\n      <td>0.93</td>\n      <td>42</td>\n      <td>NaN</td>\n      <td>NaN</td>\n    </tr>\n    <tr>\n      <th>14</th>\n      <td>2020-09-15 07:22:14.336339+00:00</td>\n      <td>0.86</td>\n      <td>32</td>\n      <td>1.13</td>\n      <td>35</td>\n      <td>NaN</td>\n      <td>NaN</td>\n    </tr>\n    <tr>\n      <th>15</th>\n      <td>2020-09-15 07:22:14.336339+00:00</td>\n      <td>1.06</td>\n      <td>451</td>\n      <td>1.38</td>\n      <td>36</td>\n      <td>NaN</td>\n      <td>NaN</td>\n    </tr>\n    <tr>\n      <th>16</th>\n      <td>2020-09-15 07:22:14.336339+00:00</td>\n      <td>1.37</td>\n      <td>40</td>\n      <td>1.67</td>\n      <td>45</td>\n      <td>NaN</td>\n      <td>NaN</td>\n    </tr>\n    <tr>\n      <th>17</th>\n      <td>2020-09-15 07:22:14.336339+00:00</td>\n      <td>1.67</td>\n      <td>42</td>\n      <td>1.83</td>\n      <td>10</td>\n      <td>NaN</td>\n      <td>NaN</td>\n    </tr>\n  </tbody>\n</table>\n</div>"
     },
     "metadata": {},
     "execution_count": 131
    }
   ],
   "source": [
    "df=util.df(tickers,['time','bid','bidSize','ask','askSize','last','lastSize'])\n",
    "df"
   ]
  },
  {
   "cell_type": "code",
   "execution_count": 145,
   "metadata": {},
   "outputs": [
    {
     "output_type": "execute_result",
     "data": {
      "text/plain": "{'contract': Option(conId=441665906, symbol='INTC', lastTradeDateOrContractMonth='20200918', strike=48.0, right='P', multiplier='100', exchange='SMART', currency='USD', localSymbol='INTC  200918P00048000', tradingClass='INTC'),\n 'time': datetime.datetime(2020, 9, 15, 14, 57, 24, 140327, tzinfo=datetime.timezone.utc),\n 'marketDataType': 1,\n 'bid': 0.06,\n 'bidSize': 124,\n 'ask': 0.07,\n 'askSize': 446,\n 'last': 0.06,\n 'lastSize': 1,\n 'prevBid': nan,\n 'prevBidSize': nan,\n 'prevAsk': nan,\n 'prevAskSize': nan,\n 'prevLast': nan,\n 'prevLastSize': nan,\n 'volume': 426,\n 'open': nan,\n 'high': 0.12,\n 'low': 0.06,\n 'close': 0.16,\n 'vwap': nan,\n 'low13week': nan,\n 'high13week': nan,\n 'low26week': nan,\n 'high26week': nan,\n 'low52week': nan,\n 'high52week': nan,\n 'bidYield': nan,\n 'askYield': nan,\n 'lastYield': nan,\n 'markPrice': nan,\n 'halted': nan,\n 'rtHistVolatility': nan,\n 'rtVolume': nan,\n 'rtTradeVolume': nan,\n 'avVolume': nan,\n 'tradeCount': nan,\n 'tradeRate': nan,\n 'volumeRate': nan,\n 'shortableShares': nan,\n 'indexFuturePremium': nan,\n 'futuresOpenInterest': nan,\n 'putOpenInterest': nan,\n 'callOpenInterest': nan,\n 'putVolume': nan,\n 'callVolume': nan,\n 'avOptionVolume': nan,\n 'histVolatility': nan,\n 'impliedVolatility': nan,\n 'dividends': None,\n 'fundamentalRatios': None,\n 'ticks': [],\n 'tickByTicks': [],\n 'domBids': [],\n 'domAsks': [],\n 'domTicks': [],\n 'bidGreeks': OptionComputation(impliedVol=0.3492619998081223, delta=-0.06886604062744471, optPrice=0.05999999865889549, pvDividend=0.0, gamma=0.08050666951660163, vega=0.005958678203250606, theta=-0.03410706860382358, undPrice=50.36000061035156),\n 'askGreeks': OptionComputation(impliedVol=0.3618305001551634, delta=-0.07521374166731695, optPrice=0.07000000029802322, pvDividend=0.0, gamma=0.08340405040201886, vega=0.0071819918119523304, theta=-0.037923634808577585, undPrice=50.36000061035156),\n 'lastGreeks': OptionComputation(impliedVol=0.34624309068742476, delta=-0.06727193163246419, optPrice=0.05999999865889549, pvDividend=0.0, gamma=0.0797150641539949, vega=0.005958642595035202, theta=-0.03319035744229912, undPrice=50.36000061035156),\n 'modelGreeks': OptionComputation(impliedVol=0.3533595420748609, delta=-0.07022943427026687, optPrice=0.052819474877298635, pvDividend=0.0, gamma=0.08080926034314502, vega=0.005959308678839925, theta=-0.03505727738819849, undPrice=50.369998931884766),\n 'auctionVolume': nan,\n 'auctionPrice': nan,\n 'auctionImbalance': nan}"
     },
     "metadata": {},
     "execution_count": 145
    }
   ],
   "source": [
    "pd.set_option('display.max_rows', 500)\n",
    "util.df(tickers).dtypes\n",
    "tickers[0].dict()\n",
    "\n"
   ]
  },
  {
   "cell_type": "code",
   "execution_count": null,
   "metadata": {},
   "outputs": [],
   "source": []
  },
  {
   "source": [
    "for t in tickers:\n",
    "    print(t)"
   ],
   "cell_type": "code",
   "metadata": {
    "tags": []
   },
   "execution_count": 139,
   "outputs": [
    {
     "output_type": "stream",
     "name": "stdout",
     "text": "Ticker(contract=Option(conId=441665906, symbol='INTC', lastTradeDateOrContractMonth='20200918', strike=48.0, right='P', multiplier='100', exchange='SMART', currency='USD', localSymbol='INTC  200918P00048000', tradingClass='INTC'), time=datetime.datetime(2020, 9, 15, 7, 22, 14, 334735, tzinfo=datetime.timezone.utc), marketDataType=2, bid=0.14, bidSize=44, ask=0.17, askSize=11, prevBid=-1.0, prevBidSize=0, prevAsk=-1.0, prevAskSize=0, close=0.16, halted=-1.0, modelGreeks=OptionComputation(impliedVol=0.2969928887358398, delta=-0.16150987044552206, optPrice=0.12478445890083602, pvDividend=0.0, gamma=0.1705088394354189, vega=0.012752817277001158, theta=-0.05021105300454762, undPrice=49.38))\nTicker(contract=Option(conId=441665897, symbol='INTC', lastTradeDateOrContractMonth='20200918', strike=48.5, right='P', multiplier='100', exchange='SMART', currency='USD', localSymbol='INTC  200918P00048500', tradingClass='INTC'), time=datetime.datetime(2020, 9, 15, 7, 22, 14, 334892, tzinfo=datetime.timezone.utc), marketDataType=2, bid=0.22, bidSize=64, ask=0.27, askSize=37, close=0.25, halted=-1.0, modelGreeks=OptionComputation(impliedVol=0.28364847253075365, delta=-0.2546808645085339, optPrice=0.21389358356223745, pvDividend=0.0, gamma=0.23398381517725783, vega=0.015050365196425247, theta=-0.06284185840342055, undPrice=49.38))\nTicker(contract=Option(conId=441665912, symbol='INTC', lastTradeDateOrContractMonth='20200918', strike=49.0, right='P', multiplier='100', exchange='SMART', currency='USD', localSymbol='INTC  200918P00049000', tradingClass='INTC'), time=datetime.datetime(2020, 9, 15, 7, 22, 14, 334892, tzinfo=datetime.timezone.utc), marketDataType=2, bid=0.39, bidSize=58, ask=0.42, askSize=18, close=0.41, halted=-1.0, modelGreeks=OptionComputation(impliedVol=0.27462097958071063, delta=-0.38215146194921096, optPrice=0.36224860917714263, pvDividend=0.0, gamma=0.2868738778846049, vega=0.01848302080079478, theta=-0.07220620469505544, undPrice=49.38))\nTicker(contract=Option(conId=441665911, symbol='INTC', lastTradeDateOrContractMonth='20200918', strike=49.5, right='P', multiplier='100', exchange='SMART', currency='USD', localSymbol='INTC  200918P00049500', tradingClass='INTC'), time=datetime.datetime(2020, 9, 15, 7, 22, 14, 335169, tzinfo=datetime.timezone.utc), marketDataType=2, bid=0.61, bidSize=49, ask=0.7, askSize=31, close=0.64, halted=-1.0, modelGreeks=OptionComputation(impliedVol=0.2749029159440389, delta=-0.5302225478976976, optPrice=0.5961328651756388, pvDividend=0.0, gamma=0.2989011230100992, vega=0.019338122144572756, theta=-0.0753668721967962, undPrice=49.38))\nTicker(contract=Option(conId=356872398, symbol='INTC', lastTradeDateOrContractMonth='20200918', strike=50.0, right='P', multiplier='100', exchange='SMART', currency='USD', localSymbol='INTC  200918P00050000', tradingClass='INTC'), time=datetime.datetime(2020, 9, 15, 7, 22, 14, 335169, tzinfo=datetime.timezone.utc), marketDataType=2, bid=0.9, bidSize=65, ask=0.96, askSize=6, close=0.94, halted=-1.0, modelGreeks=OptionComputation(impliedVol=0.27232146106579974, delta=-0.6744717518287101, optPrice=0.8977181012096559, pvDividend=0.0, gamma=0.27332010545680585, vega=0.01723932006467399, theta=-0.06759634401851258, undPrice=49.38))\nTicker(contract=Option(conId=441665917, symbol='INTC', lastTradeDateOrContractMonth='20200918', strike=50.5, right='P', multiplier='100', exchange='SMART', currency='USD', localSymbol='INTC  200918P00050500', tradingClass='INTC'), time=datetime.datetime(2020, 9, 15, 7, 22, 14, 335330, tzinfo=datetime.timezone.utc), marketDataType=2, bid=1.27, bidSize=80, ask=1.37, askSize=30, close=1.29, halted=-1.0, modelGreeks=OptionComputation(impliedVol=0.27400231628444244, delta=-0.7940799896431399, optPrice=1.272001854880932, pvDividend=0.0, gamma=0.2152049086494752, vega=0.013089228248943652, theta=-0.05384086477173459, undPrice=49.38))\nTicker(contract=Option(conId=438474152, symbol='INTC', lastTradeDateOrContractMonth='20200925', strike=48.0, right='P', multiplier='100', exchange='SMART', currency='USD', localSymbol='INTC  200925P00048000', tradingClass='INTC'), time=datetime.datetime(2020, 9, 15, 7, 22, 14, 335686, tzinfo=datetime.timezone.utc), marketDataType=2, bid=0.39, bidSize=60, ask=0.44, askSize=15, close=0.41, halted=-1.0, modelGreeks=OptionComputation(impliedVol=0.28082904976032097, delta=-0.26726407870049623, optPrice=0.3930540105130628, pvDividend=0.0, gamma=0.1406254857561629, vega=0.02915932294933199, theta=-0.03700239649787441, undPrice=49.38))\nTicker(contract=Option(conId=438474139, symbol='INTC', lastTradeDateOrContractMonth='20200925', strike=48.5, right='P', multiplier='100', exchange='SMART', currency='USD', localSymbol='INTC  200925P00048500', tradingClass='INTC'), time=datetime.datetime(2020, 9, 15, 7, 22, 14, 335686, tzinfo=datetime.timezone.utc), marketDataType=2, bid=0.54, bidSize=10, ask=0.58, askSize=4, close=0.56, halted=-1.0, modelGreeks=OptionComputation(impliedVol=0.27656635527196316, delta=-0.3416143152776475, optPrice=0.541894167854975, pvDividend=0.0, gamma=0.15920063238987925, vega=0.03175802536495509, theta=-0.04062010738713874, undPrice=49.38))\nTicker(contract=Option(conId=438474180, symbol='INTC', lastTradeDateOrContractMonth='20200925', strike=49.0, right='P', multiplier='100', exchange='SMART', currency='USD', localSymbol='INTC  200925P00049000', tradingClass='INTC'), time=datetime.datetime(2020, 9, 15, 7, 22, 14, 335686, tzinfo=datetime.timezone.utc), marketDataType=2, bid=0.72, bidSize=71, ask=0.79, askSize=30, close=0.75, halted=-1.0, modelGreeks=OptionComputation(impliedVol=0.2732448876653531, delta=-0.42439570014158867, optPrice=0.7327239675446675, pvDividend=0.0, gamma=0.17178448335690752, vega=0.03322923638174724, theta=-0.04277382352936897, undPrice=49.38))\nTicker(contract=Option(conId=438474166, symbol='INTC', lastTradeDateOrContractMonth='20200925', strike=49.5, right='P', multiplier='100', exchange='SMART', currency='USD', localSymbol='INTC  200925P00049500', tradingClass='INTC'), time=datetime.datetime(2020, 9, 15, 7, 22, 14, 335686, tzinfo=datetime.timezone.utc), marketDataType=2, bid=0.94, bidSize=719, ask=1.04, askSize=54, close=0.99, halted=-1.0, modelGreeks=OptionComputation(impliedVol=0.271716606294091, delta=-0.5114839159065129, optPrice=0.9717604511191662, pvDividend=0.0, gamma=0.17567159122837134, vega=0.03340332297177606, theta=-0.0432401985772764, undPrice=49.38))\nTicker(contract=Option(conId=438474211, symbol='INTC', lastTradeDateOrContractMonth='20200925', strike=50.0, right='P', multiplier='100', exchange='SMART', currency='USD', localSymbol='INTC  200925P00050000', tradingClass='INTC'), time=datetime.datetime(2020, 9, 15, 7, 22, 14, 335686, tzinfo=datetime.timezone.utc), marketDataType=2, bid=1.21, bidSize=118, ask=1.37, askSize=59, close=1.25, halted=-1.0, modelGreeks=OptionComputation(impliedVol=0.27099986403430315, delta=-0.5976672908925548, optPrice=1.2563976438805067, pvDividend=0.0, gamma=0.17078380595865922, vega=0.03225964038485385, theta=-0.04179856143508528, undPrice=49.38))\nTicker(contract=Option(conId=438474197, symbol='INTC', lastTradeDateOrContractMonth='20200925', strike=50.5, right='P', multiplier='100', exchange='SMART', currency='USD', localSymbol='INTC  200925P00050500', tradingClass='INTC'), time=datetime.datetime(2020, 9, 15, 7, 22, 14, 336339, tzinfo=datetime.timezone.utc), marketDataType=2, bid=1.53, bidSize=68, ask=1.62, askSize=50, close=1.56, halted=-1.0, modelGreeks=OptionComputation(impliedVol=0.2679177540429152, delta=-0.6805672471707436, optPrice=1.5751079925502534, pvDividend=0.0, gamma=0.15946571298677065, vega=0.029930581703373038, theta=-0.03812337654898071, undPrice=49.38))\nTicker(contract=Option(conId=439459142, symbol='INTC', lastTradeDateOrContractMonth='20201002', strike=48.0, right='P', multiplier='100', exchange='SMART', currency='USD', localSymbol='INTC  201002P00048000', tradingClass='INTC'), time=datetime.datetime(2020, 9, 15, 7, 22, 14, 336339, tzinfo=datetime.timezone.utc), marketDataType=2, bid=0.52, bidSize=36, ask=0.65, askSize=28, close=0.59, halted=-1.0, modelGreeks=OptionComputation(impliedVol=0.27567022046720285, delta=-0.3055005348237294, optPrice=0.5911834081788729, pvDividend=0.0, gamma=0.12013687317227122, vega=0.03689626227435194, theta=-0.0304466004373639, undPrice=49.38))\nTicker(contract=Option(conId=439459124, symbol='INTC', lastTradeDateOrContractMonth='20201002', strike=48.5, right='P', multiplier='100', exchange='SMART', currency='USD', localSymbol='INTC  201002P00048500', tradingClass='INTC'), time=datetime.datetime(2020, 9, 15, 7, 22, 14, 336339, tzinfo=datetime.timezone.utc), marketDataType=2, bid=0.66, bidSize=175, ask=0.93, askSize=42, close=0.79, halted=-1.0, modelGreeks=OptionComputation(impliedVol=0.272081837333402, delta=-0.3679043112593472, optPrice=0.7567604091814886, pvDividend=0.0, gamma=0.1308443491988718, vega=0.040184630672347676, theta=-0.03229530156587666, undPrice=49.38))\nTicker(contract=Option(conId=439459169, symbol='INTC', lastTradeDateOrContractMonth='20201002', strike=49.0, right='P', multiplier='100', exchange='SMART', currency='USD', localSymbol='INTC  201002P00049000', tradingClass='INTC'), time=datetime.datetime(2020, 9, 15, 7, 22, 14, 336339, tzinfo=datetime.timezone.utc), marketDataType=2, bid=0.86, bidSize=32, ask=1.13, askSize=35, close=1.0, halted=-1.0, modelGreeks=OptionComputation(impliedVol=0.272796628067235, delta=-0.43566630641101545, optPrice=0.971535075744858, pvDividend=0.0, gamma=0.1364218830079893, vega=0.04204608578708546, theta=-0.03384074976093523, undPrice=49.38))\nTicker(contract=Option(conId=439459154, symbol='INTC', lastTradeDateOrContractMonth='20201002', strike=49.5, right='P', multiplier='100', exchange='SMART', currency='USD', localSymbol='INTC  201002P00049500', tradingClass='INTC'), time=datetime.datetime(2020, 9, 15, 7, 22, 14, 336339, tzinfo=datetime.timezone.utc), marketDataType=2, bid=1.06, bidSize=451, ask=1.38, askSize=36, close=1.2, halted=-1.0, modelGreeks=OptionComputation(impliedVol=0.2734393897521883, delta=-0.5044087133978354, optPrice=1.2195791845499577, pvDividend=0.0, gamma=0.13807173059841582, vega=0.042266176747430606, theta=-0.034401300215167484, undPrice=49.38))\nTicker(contract=Option(conId=439459194, symbol='INTC', lastTradeDateOrContractMonth='20201002', strike=50.0, right='P', multiplier='100', exchange='SMART', currency='USD', localSymbol='INTC  201002P00050000', tradingClass='INTC'), time=datetime.datetime(2020, 9, 15, 7, 22, 14, 336339, tzinfo=datetime.timezone.utc), marketDataType=2, bid=1.37, bidSize=40, ask=1.67, askSize=45, close=1.52, halted=-1.0, modelGreeks=OptionComputation(impliedVol=0.27293503856715523, delta=-0.5727103163076616, optPrice=1.4959049529365294, pvDividend=0.0, gamma=0.13632195879152806, vega=0.04081915560256366, theta=-0.033827285885996684, undPrice=49.38))\nTicker(contract=Option(conId=439459179, symbol='INTC', lastTradeDateOrContractMonth='20201002', strike=50.5, right='P', multiplier='100', exchange='SMART', currency='USD', localSymbol='INTC  201002P00050500', tradingClass='INTC'), time=datetime.datetime(2020, 9, 15, 7, 22, 14, 336339, tzinfo=datetime.timezone.utc), marketDataType=2, bid=1.67, bidSize=42, ask=1.83, askSize=10, close=1.83, halted=-1.0, modelGreeks=OptionComputation(impliedVol=0.2725096650461442, delta=-0.6383774135824596, optPrice=1.808486907685355, pvDividend=0.0, gamma=0.13034650095983705, vega=0.04102493369755145, theta=-0.03222815265625067, undPrice=49.38))\n"
    }
   ]
  },
  {
   "cell_type": "code",
   "execution_count": null,
   "metadata": {},
   "outputs": [],
   "source": []
  },
  {
   "cell_type": "code",
   "execution_count": null,
   "metadata": {},
   "outputs": [],
   "source": []
  },
  {
   "cell_type": "code",
   "execution_count": null,
   "metadata": {},
   "outputs": [],
   "source": []
  },
  {
   "source": [],
   "cell_type": "markdown",
   "metadata": {}
  },
  {
   "cell_type": "code",
   "execution_count": null,
   "metadata": {},
   "outputs": [],
   "source": []
  },
  {
   "cell_type": "code",
   "execution_count": null,
   "metadata": {},
   "outputs": [],
   "source": []
  },
  {
   "cell_type": "code",
   "execution_count": null,
   "metadata": {},
   "outputs": [],
   "source": []
  },
  {
   "cell_type": "code",
   "execution_count": null,
   "metadata": {},
   "outputs": [],
   "source": []
  },
  {
   "cell_type": "code",
   "execution_count": null,
   "metadata": {},
   "outputs": [],
   "source": []
  },
  {
   "cell_type": "code",
   "execution_count": null,
   "metadata": {},
   "outputs": [],
   "source": []
  },
  {
   "cell_type": "code",
   "execution_count": 133,
   "metadata": {},
   "outputs": [
    {
     "output_type": "execute_result",
     "data": {
      "text/plain": "                               time   bid  bidSize   ask  askSize  last  \\\n0  2020-09-15 07:22:14.334735+00:00  0.14       44  0.17       11   NaN   \n1  2020-09-15 07:22:14.334892+00:00  0.22       64  0.27       37   NaN   \n2  2020-09-15 07:22:14.334892+00:00  0.39       58  0.42       18   NaN   \n3  2020-09-15 07:22:14.335169+00:00  0.61       49  0.70       31   NaN   \n4  2020-09-15 07:22:14.335169+00:00  0.90       65  0.96        6   NaN   \n5  2020-09-15 07:22:14.335330+00:00  1.27       80  1.37       30   NaN   \n6  2020-09-15 07:22:14.335686+00:00  0.39       60  0.44       15   NaN   \n7  2020-09-15 07:22:14.335686+00:00  0.54       10  0.58        4   NaN   \n8  2020-09-15 07:22:14.335686+00:00  0.72       71  0.79       30   NaN   \n9  2020-09-15 07:22:14.335686+00:00  0.94      719  1.04       54   NaN   \n10 2020-09-15 07:22:14.335686+00:00  1.21      118  1.37       59   NaN   \n11 2020-09-15 07:22:14.336339+00:00  1.53       68  1.62       50   NaN   \n12 2020-09-15 07:22:14.336339+00:00  0.52       36  0.65       28   NaN   \n13 2020-09-15 07:22:14.336339+00:00  0.66      175  0.93       42   NaN   \n14 2020-09-15 07:22:14.336339+00:00  0.86       32  1.13       35   NaN   \n15 2020-09-15 07:22:14.336339+00:00  1.06      451  1.38       36   NaN   \n16 2020-09-15 07:22:14.336339+00:00  1.37       40  1.67       45   NaN   \n17 2020-09-15 07:22:14.336339+00:00  1.67       42  1.83       10   NaN   \n\n    lastSize  \n0        NaN  \n1        NaN  \n2        NaN  \n3        NaN  \n4        NaN  \n5        NaN  \n6        NaN  \n7        NaN  \n8        NaN  \n9        NaN  \n10       NaN  \n11       NaN  \n12       NaN  \n13       NaN  \n14       NaN  \n15       NaN  \n16       NaN  \n17       NaN  ",
      "text/html": "<div>\n<style scoped>\n    .dataframe tbody tr th:only-of-type {\n        vertical-align: middle;\n    }\n\n    .dataframe tbody tr th {\n        vertical-align: top;\n    }\n\n    .dataframe thead th {\n        text-align: right;\n    }\n</style>\n<table border=\"1\" class=\"dataframe\">\n  <thead>\n    <tr style=\"text-align: right;\">\n      <th></th>\n      <th>time</th>\n      <th>bid</th>\n      <th>bidSize</th>\n      <th>ask</th>\n      <th>askSize</th>\n      <th>last</th>\n      <th>lastSize</th>\n    </tr>\n  </thead>\n  <tbody>\n    <tr>\n      <th>0</th>\n      <td>2020-09-15 07:22:14.334735+00:00</td>\n      <td>0.14</td>\n      <td>44</td>\n      <td>0.17</td>\n      <td>11</td>\n      <td>NaN</td>\n      <td>NaN</td>\n    </tr>\n    <tr>\n      <th>1</th>\n      <td>2020-09-15 07:22:14.334892+00:00</td>\n      <td>0.22</td>\n      <td>64</td>\n      <td>0.27</td>\n      <td>37</td>\n      <td>NaN</td>\n      <td>NaN</td>\n    </tr>\n    <tr>\n      <th>2</th>\n      <td>2020-09-15 07:22:14.334892+00:00</td>\n      <td>0.39</td>\n      <td>58</td>\n      <td>0.42</td>\n      <td>18</td>\n      <td>NaN</td>\n      <td>NaN</td>\n    </tr>\n    <tr>\n      <th>3</th>\n      <td>2020-09-15 07:22:14.335169+00:00</td>\n      <td>0.61</td>\n      <td>49</td>\n      <td>0.70</td>\n      <td>31</td>\n      <td>NaN</td>\n      <td>NaN</td>\n    </tr>\n    <tr>\n      <th>4</th>\n      <td>2020-09-15 07:22:14.335169+00:00</td>\n      <td>0.90</td>\n      <td>65</td>\n      <td>0.96</td>\n      <td>6</td>\n      <td>NaN</td>\n      <td>NaN</td>\n    </tr>\n    <tr>\n      <th>5</th>\n      <td>2020-09-15 07:22:14.335330+00:00</td>\n      <td>1.27</td>\n      <td>80</td>\n      <td>1.37</td>\n      <td>30</td>\n      <td>NaN</td>\n      <td>NaN</td>\n    </tr>\n    <tr>\n      <th>6</th>\n      <td>2020-09-15 07:22:14.335686+00:00</td>\n      <td>0.39</td>\n      <td>60</td>\n      <td>0.44</td>\n      <td>15</td>\n      <td>NaN</td>\n      <td>NaN</td>\n    </tr>\n    <tr>\n      <th>7</th>\n      <td>2020-09-15 07:22:14.335686+00:00</td>\n      <td>0.54</td>\n      <td>10</td>\n      <td>0.58</td>\n      <td>4</td>\n      <td>NaN</td>\n      <td>NaN</td>\n    </tr>\n    <tr>\n      <th>8</th>\n      <td>2020-09-15 07:22:14.335686+00:00</td>\n      <td>0.72</td>\n      <td>71</td>\n      <td>0.79</td>\n      <td>30</td>\n      <td>NaN</td>\n      <td>NaN</td>\n    </tr>\n    <tr>\n      <th>9</th>\n      <td>2020-09-15 07:22:14.335686+00:00</td>\n      <td>0.94</td>\n      <td>719</td>\n      <td>1.04</td>\n      <td>54</td>\n      <td>NaN</td>\n      <td>NaN</td>\n    </tr>\n    <tr>\n      <th>10</th>\n      <td>2020-09-15 07:22:14.335686+00:00</td>\n      <td>1.21</td>\n      <td>118</td>\n      <td>1.37</td>\n      <td>59</td>\n      <td>NaN</td>\n      <td>NaN</td>\n    </tr>\n    <tr>\n      <th>11</th>\n      <td>2020-09-15 07:22:14.336339+00:00</td>\n      <td>1.53</td>\n      <td>68</td>\n      <td>1.62</td>\n      <td>50</td>\n      <td>NaN</td>\n      <td>NaN</td>\n    </tr>\n    <tr>\n      <th>12</th>\n      <td>2020-09-15 07:22:14.336339+00:00</td>\n      <td>0.52</td>\n      <td>36</td>\n      <td>0.65</td>\n      <td>28</td>\n      <td>NaN</td>\n      <td>NaN</td>\n    </tr>\n    <tr>\n      <th>13</th>\n      <td>2020-09-15 07:22:14.336339+00:00</td>\n      <td>0.66</td>\n      <td>175</td>\n      <td>0.93</td>\n      <td>42</td>\n      <td>NaN</td>\n      <td>NaN</td>\n    </tr>\n    <tr>\n      <th>14</th>\n      <td>2020-09-15 07:22:14.336339+00:00</td>\n      <td>0.86</td>\n      <td>32</td>\n      <td>1.13</td>\n      <td>35</td>\n      <td>NaN</td>\n      <td>NaN</td>\n    </tr>\n    <tr>\n      <th>15</th>\n      <td>2020-09-15 07:22:14.336339+00:00</td>\n      <td>1.06</td>\n      <td>451</td>\n      <td>1.38</td>\n      <td>36</td>\n      <td>NaN</td>\n      <td>NaN</td>\n    </tr>\n    <tr>\n      <th>16</th>\n      <td>2020-09-15 07:22:14.336339+00:00</td>\n      <td>1.37</td>\n      <td>40</td>\n      <td>1.67</td>\n      <td>45</td>\n      <td>NaN</td>\n      <td>NaN</td>\n    </tr>\n    <tr>\n      <th>17</th>\n      <td>2020-09-15 07:22:14.336339+00:00</td>\n      <td>1.67</td>\n      <td>42</td>\n      <td>1.83</td>\n      <td>10</td>\n      <td>NaN</td>\n      <td>NaN</td>\n    </tr>\n  </tbody>\n</table>\n</div>"
     },
     "metadata": {},
     "execution_count": 133
    }
   ],
   "source": [
    "FIELDS = [\"contract\",\"bid\",\"ask\"]\n",
    "df\n",
    "\n",
    "\n"
   ]
  },
  {
   "cell_type": "code",
   "execution_count": null,
   "metadata": {},
   "outputs": [],
   "source": []
  },
  {
   "cell_type": "code",
   "execution_count": null,
   "metadata": {},
   "outputs": [],
   "source": []
  },
  {
   "cell_type": "code",
   "execution_count": null,
   "metadata": {},
   "outputs": [],
   "source": []
  },
  {
   "cell_type": "code",
   "execution_count": 111,
   "metadata": {},
   "outputs": [
    {
     "output_type": "execute_result",
     "data": {
      "text/plain": "  secType  conId symbol lastTradeDateOrContractMonth  strike right multiplier  \\\n0     OPT      0   AAPL                       202009      35     P              \n1     OPT      0   AAPL                       202009      35     P              \n\n  exchange primaryExchange currency localSymbol tradingClass  includeExpired  \\\n0    SMART                                                             False   \n1    SMART                                                             False   \n\n  secIdType secId comboLegsDescrip comboLegs deltaNeutralContract  \n0                                         []                 None  \n1                                         []                 None  ",
      "text/html": "<div>\n<style scoped>\n    .dataframe tbody tr th:only-of-type {\n        vertical-align: middle;\n    }\n\n    .dataframe tbody tr th {\n        vertical-align: top;\n    }\n\n    .dataframe thead th {\n        text-align: right;\n    }\n</style>\n<table border=\"1\" class=\"dataframe\">\n  <thead>\n    <tr style=\"text-align: right;\">\n      <th></th>\n      <th>secType</th>\n      <th>conId</th>\n      <th>symbol</th>\n      <th>lastTradeDateOrContractMonth</th>\n      <th>strike</th>\n      <th>right</th>\n      <th>multiplier</th>\n      <th>exchange</th>\n      <th>primaryExchange</th>\n      <th>currency</th>\n      <th>localSymbol</th>\n      <th>tradingClass</th>\n      <th>includeExpired</th>\n      <th>secIdType</th>\n      <th>secId</th>\n      <th>comboLegsDescrip</th>\n      <th>comboLegs</th>\n      <th>deltaNeutralContract</th>\n    </tr>\n  </thead>\n  <tbody>\n    <tr>\n      <th>0</th>\n      <td>OPT</td>\n      <td>0</td>\n      <td>AAPL</td>\n      <td>202009</td>\n      <td>35</td>\n      <td>P</td>\n      <td></td>\n      <td>SMART</td>\n      <td></td>\n      <td></td>\n      <td></td>\n      <td></td>\n      <td>False</td>\n      <td></td>\n      <td></td>\n      <td></td>\n      <td>[]</td>\n      <td>None</td>\n    </tr>\n    <tr>\n      <th>1</th>\n      <td>OPT</td>\n      <td>0</td>\n      <td>AAPL</td>\n      <td>202009</td>\n      <td>35</td>\n      <td>P</td>\n      <td></td>\n      <td>SMART</td>\n      <td></td>\n      <td></td>\n      <td></td>\n      <td></td>\n      <td>False</td>\n      <td></td>\n      <td></td>\n      <td></td>\n      <td>[]</td>\n      <td>None</td>\n    </tr>\n  </tbody>\n</table>\n</div>"
     },
     "metadata": {},
     "execution_count": 111
    }
   ],
   "source": [
    "from flatten_dict import flatten\n",
    "o=Option('AAPL','202009',35,'P','SMART')\n",
    "o.dict()\n",
    "t1=Ticker(contract=o,bid=5,modelGreeks=OptionComputation(1,2,3,4,5,6,7,8))\n",
    "t2=Ticker(contract=o,bid=5,modelGreeks=OptionComputation(1,2,3,4,5,6,7,8))\n",
    "tickers=[t1,t2]\n",
    "util.df([o,o])"
   ]
  },
  {
   "cell_type": "code",
   "execution_count": null,
   "metadata": {},
   "outputs": [],
   "source": []
  },
  {
   "cell_type": "code",
   "execution_count": null,
   "metadata": {},
   "outputs": [],
   "source": []
  },
  {
   "cell_type": "code",
   "execution_count": null,
   "metadata": {},
   "outputs": [],
   "source": []
  },
  {
   "cell_type": "code",
   "execution_count": null,
   "metadata": {},
   "outputs": [],
   "source": []
  },
  {
   "cell_type": "code",
   "execution_count": null,
   "metadata": {},
   "outputs": [],
   "source": []
  },
  {
   "cell_type": "code",
   "execution_count": null,
   "metadata": {},
   "outputs": [],
   "source": []
  },
  {
   "cell_type": "code",
   "execution_count": null,
   "metadata": {},
   "outputs": [],
   "source": []
  },
  {
   "cell_type": "code",
   "execution_count": null,
   "metadata": {},
   "outputs": [],
   "source": []
  },
  {
   "cell_type": "code",
   "execution_count": null,
   "metadata": {},
   "outputs": [],
   "source": []
  },
  {
   "cell_type": "code",
   "execution_count": null,
   "metadata": {},
   "outputs": [],
   "source": []
  },
  {
   "cell_type": "code",
   "execution_count": null,
   "metadata": {},
   "outputs": [],
   "source": []
  },
  {
   "cell_type": "code",
   "execution_count": null,
   "metadata": {},
   "outputs": [],
   "source": []
  },
  {
   "cell_type": "code",
   "execution_count": null,
   "metadata": {},
   "outputs": [],
   "source": []
  },
  {
   "cell_type": "code",
   "execution_count": null,
   "metadata": {},
   "outputs": [],
   "source": []
  },
  {
   "cell_type": "code",
   "execution_count": null,
   "metadata": {},
   "outputs": [],
   "source": []
  },
  {
   "cell_type": "code",
   "execution_count": null,
   "metadata": {},
   "outputs": [],
   "source": []
  },
  {
   "cell_type": "code",
   "execution_count": null,
   "metadata": {},
   "outputs": [],
   "source": []
  },
  {
   "cell_type": "code",
   "execution_count": null,
   "metadata": {},
   "outputs": [],
   "source": []
  },
  {
   "cell_type": "code",
   "execution_count": null,
   "metadata": {},
   "outputs": [],
   "source": []
  },
  {
   "cell_type": "code",
   "execution_count": null,
   "metadata": {},
   "outputs": [],
   "source": []
  },
  {
   "cell_type": "code",
   "execution_count": null,
   "metadata": {},
   "outputs": [],
   "source": []
  },
  {
   "cell_type": "code",
   "execution_count": null,
   "metadata": {},
   "outputs": [],
   "source": []
  },
  {
   "cell_type": "code",
   "execution_count": null,
   "metadata": {},
   "outputs": [],
   "source": [
    "‘"
   ]
  },
  {
   "cell_type": "code",
   "execution_count": null,
   "metadata": {},
   "outputs": [],
   "source": []
  },
  {
   "cell_type": "code",
   "execution_count": null,
   "metadata": {},
   "outputs": [],
   "source": []
  },
  {
   "cell_type": "code",
   "execution_count": null,
   "metadata": {},
   "outputs": [],
   "source": []
  },
  {
   "cell_type": "code",
   "execution_count": null,
   "metadata": {},
   "outputs": [],
   "source": []
  },
  {
   "cell_type": "code",
   "execution_count": null,
   "metadata": {},
   "outputs": [],
   "source": []
  },
  {
   "cell_type": "code",
   "execution_count": null,
   "metadata": {},
   "outputs": [],
   "source": []
  },
  {
   "cell_type": "code",
   "execution_count": null,
   "metadata": {},
   "outputs": [],
   "source": []
  },
  {
   "cell_type": "code",
   "execution_count": null,
   "metadata": {},
   "outputs": [],
   "source": []
  },
  {
   "cell_type": "code",
   "execution_count": null,
   "metadata": {},
   "outputs": [],
   "source": []
  },
  {
   "cell_type": "code",
   "execution_count": null,
   "metadata": {},
   "outputs": [],
   "source": []
  },
  {
   "cell_type": "code",
   "execution_count": null,
   "metadata": {},
   "outputs": [],
   "source": []
  },
  {
   "cell_type": "code",
   "execution_count": null,
   "metadata": {},
   "outputs": [],
   "source": []
  },
  {
   "cell_type": "code",
   "execution_count": null,
   "metadata": {},
   "outputs": [],
   "source": []
  },
  {
   "cell_type": "code",
   "execution_count": null,
   "metadata": {},
   "outputs": [],
   "source": []
  },
  {
   "cell_type": "code",
   "execution_count": null,
   "metadata": {},
   "outputs": [],
   "source": []
  },
  {
   "cell_type": "code",
   "execution_count": null,
   "metadata": {},
   "outputs": [],
   "source": []
  },
  {
   "cell_type": "code",
   "execution_count": null,
   "metadata": {},
   "outputs": [],
   "source": []
  },
  {
   "cell_type": "code",
   "execution_count": null,
   "metadata": {},
   "outputs": [],
   "source": []
  },
  {
   "cell_type": "code",
   "execution_count": null,
   "metadata": {},
   "outputs": [],
   "source": []
  },
  {
   "cell_type": "code",
   "execution_count": null,
   "metadata": {},
   "outputs": [],
   "source": []
  },
  {
   "cell_type": "code",
   "execution_count": null,
   "metadata": {},
   "outputs": [],
   "source": []
  },
  {
   "cell_type": "code",
   "execution_count": 51,
   "metadata": {},
   "outputs": [
    {
     "output_type": "execute_result",
     "data": {
      "text/plain": "                                             contract  \\\n0   Option(conId=441665906, symbol='INTC', lastTra...   \n1   Option(conId=441665897, symbol='INTC', lastTra...   \n2   Option(conId=441665912, symbol='INTC', lastTra...   \n3   Option(conId=441665911, symbol='INTC', lastTra...   \n4   Option(conId=356872398, symbol='INTC', lastTra...   \n5   Option(conId=441665917, symbol='INTC', lastTra...   \n6   Option(conId=438474152, symbol='INTC', lastTra...   \n7   Option(conId=438474139, symbol='INTC', lastTra...   \n8   Option(conId=438474180, symbol='INTC', lastTra...   \n9   Option(conId=438474166, symbol='INTC', lastTra...   \n10  Option(conId=438474211, symbol='INTC', lastTra...   \n11  Option(conId=438474197, symbol='INTC', lastTra...   \n12  Option(conId=439459142, symbol='INTC', lastTra...   \n13  Option(conId=439459124, symbol='INTC', lastTra...   \n14  Option(conId=439459169, symbol='INTC', lastTra...   \n15  Option(conId=439459154, symbol='INTC', lastTra...   \n16  Option(conId=439459194, symbol='INTC', lastTra...   \n17  Option(conId=439459179, symbol='INTC', lastTra...   \n\n                               time  marketDataType   bid  bidSize   ask  \\\n0  2020-09-14 10:43:01.969792+00:00               2  0.27       67  0.31   \n1  2020-09-14 10:43:01.969792+00:00               2  0.40       69  0.44   \n2  2020-09-14 10:43:01.970142+00:00               2  0.59       31  0.64   \n3  2020-09-14 10:43:01.970142+00:00               2  0.81       60  0.89   \n4  2020-09-14 10:43:01.970142+00:00               2  1.07       40  1.20   \n5  2020-09-14 10:43:01.970142+00:00               2  1.42       61  1.56   \n6  2020-09-14 10:43:01.970142+00:00               2  0.54       11  0.59   \n7  2020-09-14 10:43:01.970569+00:00               2  0.70       11  0.77   \n8  2020-09-14 10:43:01.970569+00:00               2  0.80       62  1.01   \n9  2020-09-14 10:43:01.970569+00:00               2  1.14       72  1.22   \n10 2020-09-14 10:43:01.970569+00:00               2  1.43       11  1.61   \n11 2020-09-14 10:43:01.970979+00:00               2  1.72      224  1.84   \n12 2020-09-14 10:43:01.970979+00:00               2  0.69       61  0.83   \n13 2020-09-14 10:43:01.970979+00:00               2  0.94       11  1.04   \n14 2020-09-14 10:43:01.970979+00:00               2  1.15       11  1.27   \n15 2020-09-14 10:43:02.974082+00:00               2  1.43       69  1.55   \n16 2020-09-14 10:43:02.974082+00:00               2  1.67       11  1.77   \n17 2020-09-14 10:43:02.974294+00:00               2  1.92      347  2.17   \n\n    askSize  last  lastSize  prevBid  ...  domBids  domAsks  domTicks  \\\n0        33   NaN       NaN     -1.0  ...       []       []        []   \n1        21   NaN       NaN     -1.0  ...       []       []        []   \n2        21   NaN       NaN     -1.0  ...       []       []        []   \n3        10   NaN       NaN     -1.0  ...       []       []        []   \n4        33   NaN       NaN     -1.0  ...       []       []        []   \n5        30   NaN       NaN     -1.0  ...       []       []        []   \n6        12   NaN       NaN     -1.0  ...       []       []        []   \n7        21   NaN       NaN     -1.0  ...       []       []        []   \n8        57   NaN       NaN     -1.0  ...       []       []        []   \n9        22   NaN       NaN     -1.0  ...       []       []        []   \n10       12   NaN       NaN     -1.0  ...       []       []        []   \n11       12   NaN       NaN     -1.0  ...       []       []        []   \n12       17   NaN       NaN     -1.0  ...       []       []        []   \n13        5   NaN       NaN     -1.0  ...       []       []        []   \n14       15   NaN       NaN     -1.0  ...       []       []        []   \n15       18   NaN       NaN     -1.0  ...       []       []        []   \n16        1   NaN       NaN     -1.0  ...       []       []        []   \n17       21   NaN       NaN     -1.0  ...       []       []        []   \n\n    bidGreeks  askGreeks  lastGreeks  \\\n0        None       None        None   \n1        None       None        None   \n2        None       None        None   \n3        None       None        None   \n4        None       None        None   \n5        None       None        None   \n6        None       None        None   \n7        None       None        None   \n8        None       None        None   \n9        None       None        None   \n10       None       None        None   \n11       None       None        None   \n12       None       None        None   \n13       None       None        None   \n14       None       None        None   \n15       None       None        None   \n16       None       None        None   \n17       None       None        None   \n\n                                          modelGreeks  auctionVolume  \\\n0   (0.2811292003658946, -0.19378318347939683, 0.1...            NaN   \n1   (0.2728684205675141, -0.2939617505145483, 0.27...            NaN   \n2   (0.2700117709610635, -0.420183990680167, 0.454...            NaN   \n3   (0.27183150977682763, -0.5561509635363624, 0.7...            NaN   \n4   (0.2695647532430984, -0.6851583006702908, 1.02...            NaN   \n5   (0.27142056572045253, -0.7925683779438939, 1.3...            NaN   \n6   (0.280914473373709, -0.29056351567317446, 0.45...            NaN   \n7   (0.2788330822371172, -0.3650359268653745, 0.62...            NaN   \n8   (0.2779540380687496, -0.4454689755248668, 0.83...            NaN   \n9   (0.27248796171204004, -0.5286722764055595, 1.0...            NaN   \n10  (0.2752899094546042, -0.6092261078397333, 1.37...            NaN   \n11  (0.27387150490831613, -0.686053952386266, 1.70...            NaN   \n12  (0.28782600952289905, -0.3279813659957582, 0.6...            NaN   \n13  (0.2866654429512542, -0.38905601011920626, 0.8...            NaN   \n14  (0.284499722238552, -0.4523467401776366, 1.100...            NaN   \n15  (0.2880507306934596, -0.5162449878780788, 1.36...            NaN   \n16  (0.28416843592342567, -0.5804603780321159, 1.6...            NaN   \n17  (0.28369726067962536, -0.6421198149666187, 1.9...            NaN   \n\n    auctionPrice  auctionImbalance  \n0            NaN               NaN  \n1            NaN               NaN  \n2            NaN               NaN  \n3            NaN               NaN  \n4            NaN               NaN  \n5            NaN               NaN  \n6            NaN               NaN  \n7            NaN               NaN  \n8            NaN               NaN  \n9            NaN               NaN  \n10           NaN               NaN  \n11           NaN               NaN  \n12           NaN               NaN  \n13           NaN               NaN  \n14           NaN               NaN  \n15           NaN               NaN  \n16           NaN               NaN  \n17           NaN               NaN  \n\n[18 rows x 63 columns]",
      "text/html": "<div>\n<style scoped>\n    .dataframe tbody tr th:only-of-type {\n        vertical-align: middle;\n    }\n\n    .dataframe tbody tr th {\n        vertical-align: top;\n    }\n\n    .dataframe thead th {\n        text-align: right;\n    }\n</style>\n<table border=\"1\" class=\"dataframe\">\n  <thead>\n    <tr style=\"text-align: right;\">\n      <th></th>\n      <th>contract</th>\n      <th>time</th>\n      <th>marketDataType</th>\n      <th>bid</th>\n      <th>bidSize</th>\n      <th>ask</th>\n      <th>askSize</th>\n      <th>last</th>\n      <th>lastSize</th>\n      <th>prevBid</th>\n      <th>...</th>\n      <th>domBids</th>\n      <th>domAsks</th>\n      <th>domTicks</th>\n      <th>bidGreeks</th>\n      <th>askGreeks</th>\n      <th>lastGreeks</th>\n      <th>modelGreeks</th>\n      <th>auctionVolume</th>\n      <th>auctionPrice</th>\n      <th>auctionImbalance</th>\n    </tr>\n  </thead>\n  <tbody>\n    <tr>\n      <th>0</th>\n      <td>Option(conId=441665906, symbol='INTC', lastTra...</td>\n      <td>2020-09-14 10:43:01.969792+00:00</td>\n      <td>2</td>\n      <td>0.27</td>\n      <td>67</td>\n      <td>0.31</td>\n      <td>33</td>\n      <td>NaN</td>\n      <td>NaN</td>\n      <td>-1.0</td>\n      <td>...</td>\n      <td>[]</td>\n      <td>[]</td>\n      <td>[]</td>\n      <td>None</td>\n      <td>None</td>\n      <td>None</td>\n      <td>(0.2811292003658946, -0.19378318347939683, 0.1...</td>\n      <td>NaN</td>\n      <td>NaN</td>\n      <td>NaN</td>\n    </tr>\n    <tr>\n      <th>1</th>\n      <td>Option(conId=441665897, symbol='INTC', lastTra...</td>\n      <td>2020-09-14 10:43:01.969792+00:00</td>\n      <td>2</td>\n      <td>0.40</td>\n      <td>69</td>\n      <td>0.44</td>\n      <td>21</td>\n      <td>NaN</td>\n      <td>NaN</td>\n      <td>-1.0</td>\n      <td>...</td>\n      <td>[]</td>\n      <td>[]</td>\n      <td>[]</td>\n      <td>None</td>\n      <td>None</td>\n      <td>None</td>\n      <td>(0.2728684205675141, -0.2939617505145483, 0.27...</td>\n      <td>NaN</td>\n      <td>NaN</td>\n      <td>NaN</td>\n    </tr>\n    <tr>\n      <th>2</th>\n      <td>Option(conId=441665912, symbol='INTC', lastTra...</td>\n      <td>2020-09-14 10:43:01.970142+00:00</td>\n      <td>2</td>\n      <td>0.59</td>\n      <td>31</td>\n      <td>0.64</td>\n      <td>21</td>\n      <td>NaN</td>\n      <td>NaN</td>\n      <td>-1.0</td>\n      <td>...</td>\n      <td>[]</td>\n      <td>[]</td>\n      <td>[]</td>\n      <td>None</td>\n      <td>None</td>\n      <td>None</td>\n      <td>(0.2700117709610635, -0.420183990680167, 0.454...</td>\n      <td>NaN</td>\n      <td>NaN</td>\n      <td>NaN</td>\n    </tr>\n    <tr>\n      <th>3</th>\n      <td>Option(conId=441665911, symbol='INTC', lastTra...</td>\n      <td>2020-09-14 10:43:01.970142+00:00</td>\n      <td>2</td>\n      <td>0.81</td>\n      <td>60</td>\n      <td>0.89</td>\n      <td>10</td>\n      <td>NaN</td>\n      <td>NaN</td>\n      <td>-1.0</td>\n      <td>...</td>\n      <td>[]</td>\n      <td>[]</td>\n      <td>[]</td>\n      <td>None</td>\n      <td>None</td>\n      <td>None</td>\n      <td>(0.27183150977682763, -0.5561509635363624, 0.7...</td>\n      <td>NaN</td>\n      <td>NaN</td>\n      <td>NaN</td>\n    </tr>\n    <tr>\n      <th>4</th>\n      <td>Option(conId=356872398, symbol='INTC', lastTra...</td>\n      <td>2020-09-14 10:43:01.970142+00:00</td>\n      <td>2</td>\n      <td>1.07</td>\n      <td>40</td>\n      <td>1.20</td>\n      <td>33</td>\n      <td>NaN</td>\n      <td>NaN</td>\n      <td>-1.0</td>\n      <td>...</td>\n      <td>[]</td>\n      <td>[]</td>\n      <td>[]</td>\n      <td>None</td>\n      <td>None</td>\n      <td>None</td>\n      <td>(0.2695647532430984, -0.6851583006702908, 1.02...</td>\n      <td>NaN</td>\n      <td>NaN</td>\n      <td>NaN</td>\n    </tr>\n    <tr>\n      <th>5</th>\n      <td>Option(conId=441665917, symbol='INTC', lastTra...</td>\n      <td>2020-09-14 10:43:01.970142+00:00</td>\n      <td>2</td>\n      <td>1.42</td>\n      <td>61</td>\n      <td>1.56</td>\n      <td>30</td>\n      <td>NaN</td>\n      <td>NaN</td>\n      <td>-1.0</td>\n      <td>...</td>\n      <td>[]</td>\n      <td>[]</td>\n      <td>[]</td>\n      <td>None</td>\n      <td>None</td>\n      <td>None</td>\n      <td>(0.27142056572045253, -0.7925683779438939, 1.3...</td>\n      <td>NaN</td>\n      <td>NaN</td>\n      <td>NaN</td>\n    </tr>\n    <tr>\n      <th>6</th>\n      <td>Option(conId=438474152, symbol='INTC', lastTra...</td>\n      <td>2020-09-14 10:43:01.970142+00:00</td>\n      <td>2</td>\n      <td>0.54</td>\n      <td>11</td>\n      <td>0.59</td>\n      <td>12</td>\n      <td>NaN</td>\n      <td>NaN</td>\n      <td>-1.0</td>\n      <td>...</td>\n      <td>[]</td>\n      <td>[]</td>\n      <td>[]</td>\n      <td>None</td>\n      <td>None</td>\n      <td>None</td>\n      <td>(0.280914473373709, -0.29056351567317446, 0.45...</td>\n      <td>NaN</td>\n      <td>NaN</td>\n      <td>NaN</td>\n    </tr>\n    <tr>\n      <th>7</th>\n      <td>Option(conId=438474139, symbol='INTC', lastTra...</td>\n      <td>2020-09-14 10:43:01.970569+00:00</td>\n      <td>2</td>\n      <td>0.70</td>\n      <td>11</td>\n      <td>0.77</td>\n      <td>21</td>\n      <td>NaN</td>\n      <td>NaN</td>\n      <td>-1.0</td>\n      <td>...</td>\n      <td>[]</td>\n      <td>[]</td>\n      <td>[]</td>\n      <td>None</td>\n      <td>None</td>\n      <td>None</td>\n      <td>(0.2788330822371172, -0.3650359268653745, 0.62...</td>\n      <td>NaN</td>\n      <td>NaN</td>\n      <td>NaN</td>\n    </tr>\n    <tr>\n      <th>8</th>\n      <td>Option(conId=438474180, symbol='INTC', lastTra...</td>\n      <td>2020-09-14 10:43:01.970569+00:00</td>\n      <td>2</td>\n      <td>0.80</td>\n      <td>62</td>\n      <td>1.01</td>\n      <td>57</td>\n      <td>NaN</td>\n      <td>NaN</td>\n      <td>-1.0</td>\n      <td>...</td>\n      <td>[]</td>\n      <td>[]</td>\n      <td>[]</td>\n      <td>None</td>\n      <td>None</td>\n      <td>None</td>\n      <td>(0.2779540380687496, -0.4454689755248668, 0.83...</td>\n      <td>NaN</td>\n      <td>NaN</td>\n      <td>NaN</td>\n    </tr>\n    <tr>\n      <th>9</th>\n      <td>Option(conId=438474166, symbol='INTC', lastTra...</td>\n      <td>2020-09-14 10:43:01.970569+00:00</td>\n      <td>2</td>\n      <td>1.14</td>\n      <td>72</td>\n      <td>1.22</td>\n      <td>22</td>\n      <td>NaN</td>\n      <td>NaN</td>\n      <td>-1.0</td>\n      <td>...</td>\n      <td>[]</td>\n      <td>[]</td>\n      <td>[]</td>\n      <td>None</td>\n      <td>None</td>\n      <td>None</td>\n      <td>(0.27248796171204004, -0.5286722764055595, 1.0...</td>\n      <td>NaN</td>\n      <td>NaN</td>\n      <td>NaN</td>\n    </tr>\n    <tr>\n      <th>10</th>\n      <td>Option(conId=438474211, symbol='INTC', lastTra...</td>\n      <td>2020-09-14 10:43:01.970569+00:00</td>\n      <td>2</td>\n      <td>1.43</td>\n      <td>11</td>\n      <td>1.61</td>\n      <td>12</td>\n      <td>NaN</td>\n      <td>NaN</td>\n      <td>-1.0</td>\n      <td>...</td>\n      <td>[]</td>\n      <td>[]</td>\n      <td>[]</td>\n      <td>None</td>\n      <td>None</td>\n      <td>None</td>\n      <td>(0.2752899094546042, -0.6092261078397333, 1.37...</td>\n      <td>NaN</td>\n      <td>NaN</td>\n      <td>NaN</td>\n    </tr>\n    <tr>\n      <th>11</th>\n      <td>Option(conId=438474197, symbol='INTC', lastTra...</td>\n      <td>2020-09-14 10:43:01.970979+00:00</td>\n      <td>2</td>\n      <td>1.72</td>\n      <td>224</td>\n      <td>1.84</td>\n      <td>12</td>\n      <td>NaN</td>\n      <td>NaN</td>\n      <td>-1.0</td>\n      <td>...</td>\n      <td>[]</td>\n      <td>[]</td>\n      <td>[]</td>\n      <td>None</td>\n      <td>None</td>\n      <td>None</td>\n      <td>(0.27387150490831613, -0.686053952386266, 1.70...</td>\n      <td>NaN</td>\n      <td>NaN</td>\n      <td>NaN</td>\n    </tr>\n    <tr>\n      <th>12</th>\n      <td>Option(conId=439459142, symbol='INTC', lastTra...</td>\n      <td>2020-09-14 10:43:01.970979+00:00</td>\n      <td>2</td>\n      <td>0.69</td>\n      <td>61</td>\n      <td>0.83</td>\n      <td>17</td>\n      <td>NaN</td>\n      <td>NaN</td>\n      <td>-1.0</td>\n      <td>...</td>\n      <td>[]</td>\n      <td>[]</td>\n      <td>[]</td>\n      <td>None</td>\n      <td>None</td>\n      <td>None</td>\n      <td>(0.28782600952289905, -0.3279813659957582, 0.6...</td>\n      <td>NaN</td>\n      <td>NaN</td>\n      <td>NaN</td>\n    </tr>\n    <tr>\n      <th>13</th>\n      <td>Option(conId=439459124, symbol='INTC', lastTra...</td>\n      <td>2020-09-14 10:43:01.970979+00:00</td>\n      <td>2</td>\n      <td>0.94</td>\n      <td>11</td>\n      <td>1.04</td>\n      <td>5</td>\n      <td>NaN</td>\n      <td>NaN</td>\n      <td>-1.0</td>\n      <td>...</td>\n      <td>[]</td>\n      <td>[]</td>\n      <td>[]</td>\n      <td>None</td>\n      <td>None</td>\n      <td>None</td>\n      <td>(0.2866654429512542, -0.38905601011920626, 0.8...</td>\n      <td>NaN</td>\n      <td>NaN</td>\n      <td>NaN</td>\n    </tr>\n    <tr>\n      <th>14</th>\n      <td>Option(conId=439459169, symbol='INTC', lastTra...</td>\n      <td>2020-09-14 10:43:01.970979+00:00</td>\n      <td>2</td>\n      <td>1.15</td>\n      <td>11</td>\n      <td>1.27</td>\n      <td>15</td>\n      <td>NaN</td>\n      <td>NaN</td>\n      <td>-1.0</td>\n      <td>...</td>\n      <td>[]</td>\n      <td>[]</td>\n      <td>[]</td>\n      <td>None</td>\n      <td>None</td>\n      <td>None</td>\n      <td>(0.284499722238552, -0.4523467401776366, 1.100...</td>\n      <td>NaN</td>\n      <td>NaN</td>\n      <td>NaN</td>\n    </tr>\n    <tr>\n      <th>15</th>\n      <td>Option(conId=439459154, symbol='INTC', lastTra...</td>\n      <td>2020-09-14 10:43:02.974082+00:00</td>\n      <td>2</td>\n      <td>1.43</td>\n      <td>69</td>\n      <td>1.55</td>\n      <td>18</td>\n      <td>NaN</td>\n      <td>NaN</td>\n      <td>-1.0</td>\n      <td>...</td>\n      <td>[]</td>\n      <td>[]</td>\n      <td>[]</td>\n      <td>None</td>\n      <td>None</td>\n      <td>None</td>\n      <td>(0.2880507306934596, -0.5162449878780788, 1.36...</td>\n      <td>NaN</td>\n      <td>NaN</td>\n      <td>NaN</td>\n    </tr>\n    <tr>\n      <th>16</th>\n      <td>Option(conId=439459194, symbol='INTC', lastTra...</td>\n      <td>2020-09-14 10:43:02.974082+00:00</td>\n      <td>2</td>\n      <td>1.67</td>\n      <td>11</td>\n      <td>1.77</td>\n      <td>1</td>\n      <td>NaN</td>\n      <td>NaN</td>\n      <td>-1.0</td>\n      <td>...</td>\n      <td>[]</td>\n      <td>[]</td>\n      <td>[]</td>\n      <td>None</td>\n      <td>None</td>\n      <td>None</td>\n      <td>(0.28416843592342567, -0.5804603780321159, 1.6...</td>\n      <td>NaN</td>\n      <td>NaN</td>\n      <td>NaN</td>\n    </tr>\n    <tr>\n      <th>17</th>\n      <td>Option(conId=439459179, symbol='INTC', lastTra...</td>\n      <td>2020-09-14 10:43:02.974294+00:00</td>\n      <td>2</td>\n      <td>1.92</td>\n      <td>347</td>\n      <td>2.17</td>\n      <td>21</td>\n      <td>NaN</td>\n      <td>NaN</td>\n      <td>-1.0</td>\n      <td>...</td>\n      <td>[]</td>\n      <td>[]</td>\n      <td>[]</td>\n      <td>None</td>\n      <td>None</td>\n      <td>None</td>\n      <td>(0.28369726067962536, -0.6421198149666187, 1.9...</td>\n      <td>NaN</td>\n      <td>NaN</td>\n      <td>NaN</td>\n    </tr>\n  </tbody>\n</table>\n<p>18 rows × 63 columns</p>\n</div>"
     },
     "metadata": {},
     "execution_count": 51
    }
   ],
   "source": [
    "df"
   ]
  },
  {
   "cell_type": "code",
   "execution_count": null,
   "metadata": {},
   "outputs": [],
   "source": []
  },
  {
   "cell_type": "code",
   "execution_count": null,
   "metadata": {},
   "outputs": [],
   "source": []
  },
  {
   "cell_type": "code",
   "execution_count": null,
   "metadata": {},
   "outputs": [],
   "source": []
  },
  {
   "cell_type": "code",
   "execution_count": null,
   "metadata": {},
   "outputs": [],
   "source": []
  },
  {
   "cell_type": "code",
   "execution_count": null,
   "metadata": {},
   "outputs": [],
   "source": []
  },
  {
   "cell_type": "code",
   "execution_count": null,
   "metadata": {},
   "outputs": [],
   "source": []
  },
  {
   "cell_type": "code",
   "execution_count": null,
   "metadata": {},
   "outputs": [],
   "source": []
  },
  {
   "cell_type": "code",
   "execution_count": null,
   "metadata": {},
   "outputs": [],
   "source": []
  },
  {
   "cell_type": "code",
   "execution_count": null,
   "metadata": {},
   "outputs": [],
   "source": []
  },
  {
   "cell_type": "code",
   "execution_count": null,
   "metadata": {},
   "outputs": [],
   "source": []
  },
  {
   "cell_type": "code",
   "execution_count": null,
   "metadata": {},
   "outputs": [],
   "source": []
  },
  {
   "cell_type": "code",
   "execution_count": null,
   "metadata": {},
   "outputs": [],
   "source": []
  },
  {
   "cell_type": "code",
   "execution_count": null,
   "metadata": {},
   "outputs": [],
   "source": []
  },
  {
   "cell_type": "code",
   "execution_count": null,
   "metadata": {},
   "outputs": [],
   "source": []
  },
  {
   "cell_type": "code",
   "execution_count": null,
   "metadata": {},
   "outputs": [],
   "source": []
  },
  {
   "cell_type": "code",
   "execution_count": null,
   "metadata": {},
   "outputs": [],
   "source": []
  },
  {
   "cell_type": "code",
   "execution_count": null,
   "metadata": {},
   "outputs": [],
   "source": []
  },
  {
   "cell_type": "code",
   "execution_count": null,
   "metadata": {},
   "outputs": [],
   "source": []
  },
  {
   "cell_type": "code",
   "execution_count": 31,
   "metadata": {},
   "outputs": [
    {
     "output_type": "execute_result",
     "data": {
      "text/plain": "                                             contract  \\\n0   Option(conId=441665906, symbol='INTC', lastTra...   \n1   Option(conId=441665897, symbol='INTC', lastTra...   \n2   Option(conId=441665912, symbol='INTC', lastTra...   \n3   Option(conId=441665911, symbol='INTC', lastTra...   \n4   Option(conId=356872398, symbol='INTC', lastTra...   \n5   Option(conId=441665917, symbol='INTC', lastTra...   \n6   Option(conId=438474152, symbol='INTC', lastTra...   \n7   Option(conId=438474139, symbol='INTC', lastTra...   \n8   Option(conId=438474180, symbol='INTC', lastTra...   \n9   Option(conId=438474166, symbol='INTC', lastTra...   \n10  Option(conId=438474211, symbol='INTC', lastTra...   \n11  Option(conId=438474197, symbol='INTC', lastTra...   \n12  Option(conId=439459142, symbol='INTC', lastTra...   \n13  Option(conId=439459124, symbol='INTC', lastTra...   \n14  Option(conId=439459169, symbol='INTC', lastTra...   \n15  Option(conId=439459154, symbol='INTC', lastTra...   \n16  Option(conId=439459194, symbol='INTC', lastTra...   \n17  Option(conId=439459179, symbol='INTC', lastTra...   \n\n                               time  marketDataType   bid  bidSize   ask  \\\n0  2020-09-14 10:43:01.969792+00:00               2  0.27       67  0.31   \n1  2020-09-14 10:43:01.969792+00:00               2  0.40       69  0.44   \n2  2020-09-14 10:43:01.970142+00:00               2  0.59       31  0.64   \n3  2020-09-14 10:43:01.970142+00:00               2  0.81       60  0.89   \n4  2020-09-14 10:43:01.970142+00:00               2  1.07       40  1.20   \n5  2020-09-14 10:43:01.970142+00:00               2  1.42       61  1.56   \n6  2020-09-14 10:43:01.970142+00:00               2  0.54       11  0.59   \n7  2020-09-14 10:43:01.970569+00:00               2  0.70       11  0.77   \n8  2020-09-14 10:43:01.970569+00:00               2  0.80       62  1.01   \n9  2020-09-14 10:43:01.970569+00:00               2  1.14       72  1.22   \n10 2020-09-14 10:43:01.970569+00:00               2  1.43       11  1.61   \n11 2020-09-14 10:43:01.970979+00:00               2  1.72      224  1.84   \n12 2020-09-14 10:43:01.970979+00:00               2  0.69       61  0.83   \n13 2020-09-14 10:43:01.970979+00:00               2  0.94       11  1.04   \n14 2020-09-14 10:43:01.970979+00:00               2  1.15       11  1.27   \n15 2020-09-14 10:43:02.974082+00:00               2  1.43       69  1.55   \n16 2020-09-14 10:43:02.974082+00:00               2  1.67       11  1.77   \n17 2020-09-14 10:43:02.974294+00:00               2  1.92      347  2.17   \n\n    askSize  last  lastSize  prevBid  ...  domBids  domAsks  domTicks  \\\n0        33   NaN       NaN     -1.0  ...       []       []        []   \n1        21   NaN       NaN     -1.0  ...       []       []        []   \n2        21   NaN       NaN     -1.0  ...       []       []        []   \n3        10   NaN       NaN     -1.0  ...       []       []        []   \n4        33   NaN       NaN     -1.0  ...       []       []        []   \n5        30   NaN       NaN     -1.0  ...       []       []        []   \n6        12   NaN       NaN     -1.0  ...       []       []        []   \n7        21   NaN       NaN     -1.0  ...       []       []        []   \n8        57   NaN       NaN     -1.0  ...       []       []        []   \n9        22   NaN       NaN     -1.0  ...       []       []        []   \n10       12   NaN       NaN     -1.0  ...       []       []        []   \n11       12   NaN       NaN     -1.0  ...       []       []        []   \n12       17   NaN       NaN     -1.0  ...       []       []        []   \n13        5   NaN       NaN     -1.0  ...       []       []        []   \n14       15   NaN       NaN     -1.0  ...       []       []        []   \n15       18   NaN       NaN     -1.0  ...       []       []        []   \n16        1   NaN       NaN     -1.0  ...       []       []        []   \n17       21   NaN       NaN     -1.0  ...       []       []        []   \n\n    bidGreeks  askGreeks  lastGreeks  \\\n0        None       None        None   \n1        None       None        None   \n2        None       None        None   \n3        None       None        None   \n4        None       None        None   \n5        None       None        None   \n6        None       None        None   \n7        None       None        None   \n8        None       None        None   \n9        None       None        None   \n10       None       None        None   \n11       None       None        None   \n12       None       None        None   \n13       None       None        None   \n14       None       None        None   \n15       None       None        None   \n16       None       None        None   \n17       None       None        None   \n\n                                          modelGreeks  auctionVolume  \\\n0   (0.2811292003658946, -0.19378318347939683, 0.1...            NaN   \n1   (0.2728684205675141, -0.2939617505145483, 0.27...            NaN   \n2   (0.2700117709610635, -0.420183990680167, 0.454...            NaN   \n3   (0.27183150977682763, -0.5561509635363624, 0.7...            NaN   \n4   (0.2695647532430984, -0.6851583006702908, 1.02...            NaN   \n5   (0.27142056572045253, -0.7925683779438939, 1.3...            NaN   \n6   (0.280914473373709, -0.29056351567317446, 0.45...            NaN   \n7   (0.2788330822371172, -0.3650359268653745, 0.62...            NaN   \n8   (0.2779540380687496, -0.4454689755248668, 0.83...            NaN   \n9   (0.27248796171204004, -0.5286722764055595, 1.0...            NaN   \n10  (0.2752899094546042, -0.6092261078397333, 1.37...            NaN   \n11  (0.27387150490831613, -0.686053952386266, 1.70...            NaN   \n12  (0.28782600952289905, -0.3279813659957582, 0.6...            NaN   \n13  (0.2866654429512542, -0.38905601011920626, 0.8...            NaN   \n14  (0.284499722238552, -0.4523467401776366, 1.100...            NaN   \n15  (0.2880507306934596, -0.5162449878780788, 1.36...            NaN   \n16  (0.28416843592342567, -0.5804603780321159, 1.6...            NaN   \n17  (0.28369726067962536, -0.6421198149666187, 1.9...            NaN   \n\n    auctionPrice  auctionImbalance  \n0            NaN               NaN  \n1            NaN               NaN  \n2            NaN               NaN  \n3            NaN               NaN  \n4            NaN               NaN  \n5            NaN               NaN  \n6            NaN               NaN  \n7            NaN               NaN  \n8            NaN               NaN  \n9            NaN               NaN  \n10           NaN               NaN  \n11           NaN               NaN  \n12           NaN               NaN  \n13           NaN               NaN  \n14           NaN               NaN  \n15           NaN               NaN  \n16           NaN               NaN  \n17           NaN               NaN  \n\n[18 rows x 63 columns]",
      "text/html": "<div>\n<style scoped>\n    .dataframe tbody tr th:only-of-type {\n        vertical-align: middle;\n    }\n\n    .dataframe tbody tr th {\n        vertical-align: top;\n    }\n\n    .dataframe thead th {\n        text-align: right;\n    }\n</style>\n<table border=\"1\" class=\"dataframe\">\n  <thead>\n    <tr style=\"text-align: right;\">\n      <th></th>\n      <th>contract</th>\n      <th>time</th>\n      <th>marketDataType</th>\n      <th>bid</th>\n      <th>bidSize</th>\n      <th>ask</th>\n      <th>askSize</th>\n      <th>last</th>\n      <th>lastSize</th>\n      <th>prevBid</th>\n      <th>...</th>\n      <th>domBids</th>\n      <th>domAsks</th>\n      <th>domTicks</th>\n      <th>bidGreeks</th>\n      <th>askGreeks</th>\n      <th>lastGreeks</th>\n      <th>modelGreeks</th>\n      <th>auctionVolume</th>\n      <th>auctionPrice</th>\n      <th>auctionImbalance</th>\n    </tr>\n  </thead>\n  <tbody>\n    <tr>\n      <th>0</th>\n      <td>Option(conId=441665906, symbol='INTC', lastTra...</td>\n      <td>2020-09-14 10:43:01.969792+00:00</td>\n      <td>2</td>\n      <td>0.27</td>\n      <td>67</td>\n      <td>0.31</td>\n      <td>33</td>\n      <td>NaN</td>\n      <td>NaN</td>\n      <td>-1.0</td>\n      <td>...</td>\n      <td>[]</td>\n      <td>[]</td>\n      <td>[]</td>\n      <td>None</td>\n      <td>None</td>\n      <td>None</td>\n      <td>(0.2811292003658946, -0.19378318347939683, 0.1...</td>\n      <td>NaN</td>\n      <td>NaN</td>\n      <td>NaN</td>\n    </tr>\n    <tr>\n      <th>1</th>\n      <td>Option(conId=441665897, symbol='INTC', lastTra...</td>\n      <td>2020-09-14 10:43:01.969792+00:00</td>\n      <td>2</td>\n      <td>0.40</td>\n      <td>69</td>\n      <td>0.44</td>\n      <td>21</td>\n      <td>NaN</td>\n      <td>NaN</td>\n      <td>-1.0</td>\n      <td>...</td>\n      <td>[]</td>\n      <td>[]</td>\n      <td>[]</td>\n      <td>None</td>\n      <td>None</td>\n      <td>None</td>\n      <td>(0.2728684205675141, -0.2939617505145483, 0.27...</td>\n      <td>NaN</td>\n      <td>NaN</td>\n      <td>NaN</td>\n    </tr>\n    <tr>\n      <th>2</th>\n      <td>Option(conId=441665912, symbol='INTC', lastTra...</td>\n      <td>2020-09-14 10:43:01.970142+00:00</td>\n      <td>2</td>\n      <td>0.59</td>\n      <td>31</td>\n      <td>0.64</td>\n      <td>21</td>\n      <td>NaN</td>\n      <td>NaN</td>\n      <td>-1.0</td>\n      <td>...</td>\n      <td>[]</td>\n      <td>[]</td>\n      <td>[]</td>\n      <td>None</td>\n      <td>None</td>\n      <td>None</td>\n      <td>(0.2700117709610635, -0.420183990680167, 0.454...</td>\n      <td>NaN</td>\n      <td>NaN</td>\n      <td>NaN</td>\n    </tr>\n    <tr>\n      <th>3</th>\n      <td>Option(conId=441665911, symbol='INTC', lastTra...</td>\n      <td>2020-09-14 10:43:01.970142+00:00</td>\n      <td>2</td>\n      <td>0.81</td>\n      <td>60</td>\n      <td>0.89</td>\n      <td>10</td>\n      <td>NaN</td>\n      <td>NaN</td>\n      <td>-1.0</td>\n      <td>...</td>\n      <td>[]</td>\n      <td>[]</td>\n      <td>[]</td>\n      <td>None</td>\n      <td>None</td>\n      <td>None</td>\n      <td>(0.27183150977682763, -0.5561509635363624, 0.7...</td>\n      <td>NaN</td>\n      <td>NaN</td>\n      <td>NaN</td>\n    </tr>\n    <tr>\n      <th>4</th>\n      <td>Option(conId=356872398, symbol='INTC', lastTra...</td>\n      <td>2020-09-14 10:43:01.970142+00:00</td>\n      <td>2</td>\n      <td>1.07</td>\n      <td>40</td>\n      <td>1.20</td>\n      <td>33</td>\n      <td>NaN</td>\n      <td>NaN</td>\n      <td>-1.0</td>\n      <td>...</td>\n      <td>[]</td>\n      <td>[]</td>\n      <td>[]</td>\n      <td>None</td>\n      <td>None</td>\n      <td>None</td>\n      <td>(0.2695647532430984, -0.6851583006702908, 1.02...</td>\n      <td>NaN</td>\n      <td>NaN</td>\n      <td>NaN</td>\n    </tr>\n    <tr>\n      <th>5</th>\n      <td>Option(conId=441665917, symbol='INTC', lastTra...</td>\n      <td>2020-09-14 10:43:01.970142+00:00</td>\n      <td>2</td>\n      <td>1.42</td>\n      <td>61</td>\n      <td>1.56</td>\n      <td>30</td>\n      <td>NaN</td>\n      <td>NaN</td>\n      <td>-1.0</td>\n      <td>...</td>\n      <td>[]</td>\n      <td>[]</td>\n      <td>[]</td>\n      <td>None</td>\n      <td>None</td>\n      <td>None</td>\n      <td>(0.27142056572045253, -0.7925683779438939, 1.3...</td>\n      <td>NaN</td>\n      <td>NaN</td>\n      <td>NaN</td>\n    </tr>\n    <tr>\n      <th>6</th>\n      <td>Option(conId=438474152, symbol='INTC', lastTra...</td>\n      <td>2020-09-14 10:43:01.970142+00:00</td>\n      <td>2</td>\n      <td>0.54</td>\n      <td>11</td>\n      <td>0.59</td>\n      <td>12</td>\n      <td>NaN</td>\n      <td>NaN</td>\n      <td>-1.0</td>\n      <td>...</td>\n      <td>[]</td>\n      <td>[]</td>\n      <td>[]</td>\n      <td>None</td>\n      <td>None</td>\n      <td>None</td>\n      <td>(0.280914473373709, -0.29056351567317446, 0.45...</td>\n      <td>NaN</td>\n      <td>NaN</td>\n      <td>NaN</td>\n    </tr>\n    <tr>\n      <th>7</th>\n      <td>Option(conId=438474139, symbol='INTC', lastTra...</td>\n      <td>2020-09-14 10:43:01.970569+00:00</td>\n      <td>2</td>\n      <td>0.70</td>\n      <td>11</td>\n      <td>0.77</td>\n      <td>21</td>\n      <td>NaN</td>\n      <td>NaN</td>\n      <td>-1.0</td>\n      <td>...</td>\n      <td>[]</td>\n      <td>[]</td>\n      <td>[]</td>\n      <td>None</td>\n      <td>None</td>\n      <td>None</td>\n      <td>(0.2788330822371172, -0.3650359268653745, 0.62...</td>\n      <td>NaN</td>\n      <td>NaN</td>\n      <td>NaN</td>\n    </tr>\n    <tr>\n      <th>8</th>\n      <td>Option(conId=438474180, symbol='INTC', lastTra...</td>\n      <td>2020-09-14 10:43:01.970569+00:00</td>\n      <td>2</td>\n      <td>0.80</td>\n      <td>62</td>\n      <td>1.01</td>\n      <td>57</td>\n      <td>NaN</td>\n      <td>NaN</td>\n      <td>-1.0</td>\n      <td>...</td>\n      <td>[]</td>\n      <td>[]</td>\n      <td>[]</td>\n      <td>None</td>\n      <td>None</td>\n      <td>None</td>\n      <td>(0.2779540380687496, -0.4454689755248668, 0.83...</td>\n      <td>NaN</td>\n      <td>NaN</td>\n      <td>NaN</td>\n    </tr>\n    <tr>\n      <th>9</th>\n      <td>Option(conId=438474166, symbol='INTC', lastTra...</td>\n      <td>2020-09-14 10:43:01.970569+00:00</td>\n      <td>2</td>\n      <td>1.14</td>\n      <td>72</td>\n      <td>1.22</td>\n      <td>22</td>\n      <td>NaN</td>\n      <td>NaN</td>\n      <td>-1.0</td>\n      <td>...</td>\n      <td>[]</td>\n      <td>[]</td>\n      <td>[]</td>\n      <td>None</td>\n      <td>None</td>\n      <td>None</td>\n      <td>(0.27248796171204004, -0.5286722764055595, 1.0...</td>\n      <td>NaN</td>\n      <td>NaN</td>\n      <td>NaN</td>\n    </tr>\n    <tr>\n      <th>10</th>\n      <td>Option(conId=438474211, symbol='INTC', lastTra...</td>\n      <td>2020-09-14 10:43:01.970569+00:00</td>\n      <td>2</td>\n      <td>1.43</td>\n      <td>11</td>\n      <td>1.61</td>\n      <td>12</td>\n      <td>NaN</td>\n      <td>NaN</td>\n      <td>-1.0</td>\n      <td>...</td>\n      <td>[]</td>\n      <td>[]</td>\n      <td>[]</td>\n      <td>None</td>\n      <td>None</td>\n      <td>None</td>\n      <td>(0.2752899094546042, -0.6092261078397333, 1.37...</td>\n      <td>NaN</td>\n      <td>NaN</td>\n      <td>NaN</td>\n    </tr>\n    <tr>\n      <th>11</th>\n      <td>Option(conId=438474197, symbol='INTC', lastTra...</td>\n      <td>2020-09-14 10:43:01.970979+00:00</td>\n      <td>2</td>\n      <td>1.72</td>\n      <td>224</td>\n      <td>1.84</td>\n      <td>12</td>\n      <td>NaN</td>\n      <td>NaN</td>\n      <td>-1.0</td>\n      <td>...</td>\n      <td>[]</td>\n      <td>[]</td>\n      <td>[]</td>\n      <td>None</td>\n      <td>None</td>\n      <td>None</td>\n      <td>(0.27387150490831613, -0.686053952386266, 1.70...</td>\n      <td>NaN</td>\n      <td>NaN</td>\n      <td>NaN</td>\n    </tr>\n    <tr>\n      <th>12</th>\n      <td>Option(conId=439459142, symbol='INTC', lastTra...</td>\n      <td>2020-09-14 10:43:01.970979+00:00</td>\n      <td>2</td>\n      <td>0.69</td>\n      <td>61</td>\n      <td>0.83</td>\n      <td>17</td>\n      <td>NaN</td>\n      <td>NaN</td>\n      <td>-1.0</td>\n      <td>...</td>\n      <td>[]</td>\n      <td>[]</td>\n      <td>[]</td>\n      <td>None</td>\n      <td>None</td>\n      <td>None</td>\n      <td>(0.28782600952289905, -0.3279813659957582, 0.6...</td>\n      <td>NaN</td>\n      <td>NaN</td>\n      <td>NaN</td>\n    </tr>\n    <tr>\n      <th>13</th>\n      <td>Option(conId=439459124, symbol='INTC', lastTra...</td>\n      <td>2020-09-14 10:43:01.970979+00:00</td>\n      <td>2</td>\n      <td>0.94</td>\n      <td>11</td>\n      <td>1.04</td>\n      <td>5</td>\n      <td>NaN</td>\n      <td>NaN</td>\n      <td>-1.0</td>\n      <td>...</td>\n      <td>[]</td>\n      <td>[]</td>\n      <td>[]</td>\n      <td>None</td>\n      <td>None</td>\n      <td>None</td>\n      <td>(0.2866654429512542, -0.38905601011920626, 0.8...</td>\n      <td>NaN</td>\n      <td>NaN</td>\n      <td>NaN</td>\n    </tr>\n    <tr>\n      <th>14</th>\n      <td>Option(conId=439459169, symbol='INTC', lastTra...</td>\n      <td>2020-09-14 10:43:01.970979+00:00</td>\n      <td>2</td>\n      <td>1.15</td>\n      <td>11</td>\n      <td>1.27</td>\n      <td>15</td>\n      <td>NaN</td>\n      <td>NaN</td>\n      <td>-1.0</td>\n      <td>...</td>\n      <td>[]</td>\n      <td>[]</td>\n      <td>[]</td>\n      <td>None</td>\n      <td>None</td>\n      <td>None</td>\n      <td>(0.284499722238552, -0.4523467401776366, 1.100...</td>\n      <td>NaN</td>\n      <td>NaN</td>\n      <td>NaN</td>\n    </tr>\n    <tr>\n      <th>15</th>\n      <td>Option(conId=439459154, symbol='INTC', lastTra...</td>\n      <td>2020-09-14 10:43:02.974082+00:00</td>\n      <td>2</td>\n      <td>1.43</td>\n      <td>69</td>\n      <td>1.55</td>\n      <td>18</td>\n      <td>NaN</td>\n      <td>NaN</td>\n      <td>-1.0</td>\n      <td>...</td>\n      <td>[]</td>\n      <td>[]</td>\n      <td>[]</td>\n      <td>None</td>\n      <td>None</td>\n      <td>None</td>\n      <td>(0.2880507306934596, -0.5162449878780788, 1.36...</td>\n      <td>NaN</td>\n      <td>NaN</td>\n      <td>NaN</td>\n    </tr>\n    <tr>\n      <th>16</th>\n      <td>Option(conId=439459194, symbol='INTC', lastTra...</td>\n      <td>2020-09-14 10:43:02.974082+00:00</td>\n      <td>2</td>\n      <td>1.67</td>\n      <td>11</td>\n      <td>1.77</td>\n      <td>1</td>\n      <td>NaN</td>\n      <td>NaN</td>\n      <td>-1.0</td>\n      <td>...</td>\n      <td>[]</td>\n      <td>[]</td>\n      <td>[]</td>\n      <td>None</td>\n      <td>None</td>\n      <td>None</td>\n      <td>(0.28416843592342567, -0.5804603780321159, 1.6...</td>\n      <td>NaN</td>\n      <td>NaN</td>\n      <td>NaN</td>\n    </tr>\n    <tr>\n      <th>17</th>\n      <td>Option(conId=439459179, symbol='INTC', lastTra...</td>\n      <td>2020-09-14 10:43:02.974294+00:00</td>\n      <td>2</td>\n      <td>1.92</td>\n      <td>347</td>\n      <td>2.17</td>\n      <td>21</td>\n      <td>NaN</td>\n      <td>NaN</td>\n      <td>-1.0</td>\n      <td>...</td>\n      <td>[]</td>\n      <td>[]</td>\n      <td>[]</td>\n      <td>None</td>\n      <td>None</td>\n      <td>None</td>\n      <td>(0.28369726067962536, -0.6421198149666187, 1.9...</td>\n      <td>NaN</td>\n      <td>NaN</td>\n      <td>NaN</td>\n    </tr>\n  </tbody>\n</table>\n<p>18 rows × 63 columns</p>\n</div>"
     },
     "metadata": {},
     "execution_count": 31
    }
   ],
   "source": [
    "df"
   ]
  },
  {
   "cell_type": "code",
   "execution_count": null,
   "metadata": {},
   "outputs": [],
   "source": []
  },
  {
   "cell_type": "code",
   "execution_count": null,
   "metadata": {},
   "outputs": [],
   "source": []
  },
  {
   "cell_type": "code",
   "execution_count": null,
   "metadata": {},
   "outputs": [],
   "source": []
  },
  {
   "cell_type": "code",
   "execution_count": null,
   "metadata": {},
   "outputs": [],
   "source": []
  },
  {
   "cell_type": "code",
   "execution_count": null,
   "metadata": {},
   "outputs": [],
   "source": []
  },
  {
   "cell_type": "code",
   "execution_count": null,
   "metadata": {},
   "outputs": [],
   "source": []
  },
  {
   "cell_type": "code",
   "execution_count": null,
   "metadata": {},
   "outputs": [],
   "source": []
  },
  {
   "cell_type": "code",
   "execution_count": 52,
   "metadata": {},
   "outputs": [],
   "source": [
    "ib.disconnect()"
   ]
  }
 ],
 "metadata": {
  "kernelspec": {
   "display_name": "Python 3",
   "language": "python",
   "name": "python3"
  },
  "language_info": {
   "codemirror_mode": {
    "name": "ipython",
    "version": 3
   },
   "file_extension": ".py",
   "mimetype": "text/x-python",
   "name": "python",
   "nbconvert_exporter": "python",
   "pygments_lexer": "ipython3",
   "version": "3.6.10-final"
  }
 },
 "nbformat": 4,
 "nbformat_minor": 4
}