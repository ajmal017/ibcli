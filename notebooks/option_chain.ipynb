{
 "cells": [
  {
   "cell_type": "markdown",
   "metadata": {},
   "source": [
    "Option chains\n",
    "======="
   ]
  },
  {
   "cell_type": "code",
   "execution_count": 210,
   "metadata": {
    "scrolled": true,
    "tags": []
   },
   "outputs": [
    {
     "output_type": "execute_result",
     "data": {
      "text/plain": "[Stock(conId=270639, symbol='INTC', exchange='SMART', primaryExchange='NASDAQ', currency='USD', localSymbol='INTC', tradingClass='NMS')]"
     },
     "metadata": {},
     "execution_count": 210
    }
   ],
   "source": [
    "from ib_insync import *\n",
    "util.startLoop()\n",
    "\n",
    "ib = IB()\n",
    "ib.connect('127.0.0.1', 7497, clientId=122,readonly=True)\n",
    "\n",
    "intc = Stock('INTC', 'SMART', 'USD')\n",
    "ib.qualifyContracts(intc)"
   ]
  },
  {
   "cell_type": "code",
   "execution_count": 211,
   "metadata": {},
   "outputs": [
    {
     "output_type": "execute_result",
     "data": {
      "text/plain": "48.89"
     },
     "metadata": {},
     "execution_count": 211
    }
   ],
   "source": [
    "ib.reqMarketDataType(4)\n",
    "[ticker] = ib.reqTickers(intc)\n",
    "intcValue = ticker.marketPrice()\n",
    "intcValue"
   ]
  },
  {
   "cell_type": "code",
   "execution_count": 212,
   "metadata": {},
   "outputs": [
    {
     "output_type": "execute_result",
     "data": {
      "text/plain": "OptionChain(exchange='SMART', underlyingConId='270639', tradingClass='INTC', multiplier='100', expirations=['20200925', '20201002', '20201009', '20201016', '20201023', '20201030', '20201120', '20201218', '20210115', '20210219', '20210319', '20210416', '20210618', '20220121', '20230120'], strikes=[23.0, 25.0, 27.5, 28.0, 30.0, 32.5, 33.0, 35.0, 37.5, 38.0, 40.0, 42.0, 42.5, 43.0, 43.5, 44.0, 44.5, 45.0, 45.5, 46.0, 46.5, 47.0, 47.5, 48.0, 48.5, 49.0, 49.5, 50.0, 50.5, 51.0, 51.5, 52.0, 52.5, 53.0, 53.5, 54.0, 54.5, 55.0, 55.5, 56.0, 56.5, 57.0, 57.5, 58.0, 58.5, 59.0, 59.5, 60.0, 62.5, 65.0, 67.5, 70.0, 72.5, 75.0, 77.5, 80.0, 85.0, 90.0, 95.0, 100.0])"
     },
     "metadata": {},
     "execution_count": 212
    }
   ],
   "source": [
    "chains = ib.reqSecDefOptParams(\n",
    "        intc.symbol, '', intc.secType, intc.conId)\n",
    "#util.df(chains)\n",
    "chain = next(c for c in chains if  c.exchange == 'SMART')\n",
    "chain"
   ]
  },
  {
   "cell_type": "code",
   "execution_count": 213,
   "metadata": {
    "tags": []
   },
   "outputs": [
    {
     "output_type": "stream",
     "name": "stderr",
     "text": "Error 200, reqId 36: No security definition has been found for the request, contract: Option(symbol='INTC', lastTradeDateOrContractMonth='20200925', strike=56.5, right='P', exchange='SMART', tradingClass='INTC')\nError 200, reqId 71: No security definition has been found for the request, contract: Option(symbol='INTC', lastTradeDateOrContractMonth='20201002', strike=56.5, right='P', exchange='SMART', tradingClass='INTC')\nError 200, reqId 106: No security definition has been found for the request, contract: Option(symbol='INTC', lastTradeDateOrContractMonth='20200925', strike=56.5, right='C', exchange='SMART', tradingClass='INTC')\nError 200, reqId 141: No security definition has been found for the request, contract: Option(symbol='INTC', lastTradeDateOrContractMonth='20201002', strike=56.5, right='C', exchange='SMART', tradingClass='INTC')\nUnknown contract: Option(symbol='INTC', lastTradeDateOrContractMonth='20200925', strike=56.5, right='P', exchange='SMART', tradingClass='INTC')\nUnknown contract: Option(symbol='INTC', lastTradeDateOrContractMonth='20201002', strike=56.5, right='P', exchange='SMART', tradingClass='INTC')\nUnknown contract: Option(symbol='INTC', lastTradeDateOrContractMonth='20200925', strike=56.5, right='C', exchange='SMART', tradingClass='INTC')\nUnknown contract: Option(symbol='INTC', lastTradeDateOrContractMonth='20201002', strike=56.5, right='C', exchange='SMART', tradingClass='INTC')\n"
    },
    {
     "output_type": "execute_result",
     "data": {
      "text/plain": "136"
     },
     "metadata": {},
     "execution_count": 213
    }
   ],
   "source": [
    "strikes = [strike for strike in chain.strikes\n",
    "        if intcValue * 0.8 < strike < intcValue * 1.2]\n",
    "expirations = sorted(exp for exp in chain.expirations)[:2]\n",
    "rights = ['P', 'C']\n",
    "#rights = ['P']\n",
    "\n",
    "contracts = [Option('INTC', expiration, strike, right, 'SMART', tradingClass='INTC')\n",
    "        for right in rights\n",
    "        for expiration in expirations\n",
    "        for strike in strikes]\n",
    "\n",
    "contracts = ib.qualifyContracts(*contracts)\n",
    "len(contracts)"
   ]
  },
  {
   "cell_type": "code",
   "execution_count": 214,
   "metadata": {
    "tags": []
   },
   "outputs": [
    {
     "output_type": "execute_result",
     "data": {
      "text/plain": "               conId symbol lastTradeDateOrContractMonth  strike right  \\\nconId                                                                    \n438743641  438743641   INTC                     20200925    40.0     P   \n438474051  438474051   INTC                     20200925    42.0     P   \n438474043  438474043   INTC                     20200925    42.5     P   \n438474066  438474066   INTC                     20200925    43.0     P   \n438474057  438474057   INTC                     20200925    43.5     P   \n...              ...    ...                          ...     ...   ...   \n439459013  439459013   INTC                     20201002    56.0     C   \n443506229  443506229   INTC                     20201002    57.0     C   \n443506219  443506219   INTC                     20201002    57.5     C   \n443506242  443506242   INTC                     20201002    58.0     C   \n443506239  443506239   INTC                     20201002    58.5     C   \n\n           timeToExpiration   bid   ask  marketPrice     spread  optionYield  \\\nconId                                                                          \n438743641                 4  0.01  0.02        0.015   0.500000     0.000307   \n438474051                 4  0.01  0.03        0.020   0.666667     0.000409   \n438474043                 4  0.01  0.05        0.030   0.800000     0.000613   \n438474066                 4  0.02  0.03        0.025   0.333333     0.000511   \n438474057                 4  0.02  0.04        0.030   0.500000     0.000613   \n...                     ...   ...   ...          ...        ...          ...   \n439459013                11  0.02  0.05        0.035   0.600000     0.000716   \n443506229                11 -1.00  0.04        0.020  26.000000     0.000409   \n443506219                11 -1.00  0.05        0.010  21.000000     0.000205   \n443506242                11 -1.00  0.04        0.010  26.000000     0.000205   \n443506239                11 -1.00  0.06        0.010  17.666667     0.000205   \n\n           impliedVol  delta  gamma  vega  theta  \nconId                                             \n438743641         NaN    NaN    NaN   NaN    NaN  \n438474051         NaN    NaN    NaN   NaN    NaN  \n438474043         NaN    NaN    NaN   NaN    NaN  \n438474066         NaN    NaN    NaN   NaN    NaN  \n438474057         NaN    NaN    NaN   NaN    NaN  \n...               ...    ...    ...   ...    ...  \n439459013         NaN    NaN    NaN   NaN    NaN  \n443506229         NaN    NaN    NaN   NaN    NaN  \n443506219         NaN    NaN    NaN   NaN    NaN  \n443506242         NaN    NaN    NaN   NaN    NaN  \n443506239         NaN    NaN    NaN   NaN    NaN  \n\n[136 rows x 16 columns]",
      "text/html": "<div>\n<style scoped>\n    .dataframe tbody tr th:only-of-type {\n        vertical-align: middle;\n    }\n\n    .dataframe tbody tr th {\n        vertical-align: top;\n    }\n\n    .dataframe thead th {\n        text-align: right;\n    }\n</style>\n<table border=\"1\" class=\"dataframe\">\n  <thead>\n    <tr style=\"text-align: right;\">\n      <th></th>\n      <th>conId</th>\n      <th>symbol</th>\n      <th>lastTradeDateOrContractMonth</th>\n      <th>strike</th>\n      <th>right</th>\n      <th>timeToExpiration</th>\n      <th>bid</th>\n      <th>ask</th>\n      <th>marketPrice</th>\n      <th>spread</th>\n      <th>optionYield</th>\n      <th>impliedVol</th>\n      <th>delta</th>\n      <th>gamma</th>\n      <th>vega</th>\n      <th>theta</th>\n    </tr>\n    <tr>\n      <th>conId</th>\n      <th></th>\n      <th></th>\n      <th></th>\n      <th></th>\n      <th></th>\n      <th></th>\n      <th></th>\n      <th></th>\n      <th></th>\n      <th></th>\n      <th></th>\n      <th></th>\n      <th></th>\n      <th></th>\n      <th></th>\n      <th></th>\n    </tr>\n  </thead>\n  <tbody>\n    <tr>\n      <th>438743641</th>\n      <td>438743641</td>\n      <td>INTC</td>\n      <td>20200925</td>\n      <td>40.0</td>\n      <td>P</td>\n      <td>4</td>\n      <td>0.01</td>\n      <td>0.02</td>\n      <td>0.015</td>\n      <td>0.500000</td>\n      <td>0.000307</td>\n      <td>NaN</td>\n      <td>NaN</td>\n      <td>NaN</td>\n      <td>NaN</td>\n      <td>NaN</td>\n    </tr>\n    <tr>\n      <th>438474051</th>\n      <td>438474051</td>\n      <td>INTC</td>\n      <td>20200925</td>\n      <td>42.0</td>\n      <td>P</td>\n      <td>4</td>\n      <td>0.01</td>\n      <td>0.03</td>\n      <td>0.020</td>\n      <td>0.666667</td>\n      <td>0.000409</td>\n      <td>NaN</td>\n      <td>NaN</td>\n      <td>NaN</td>\n      <td>NaN</td>\n      <td>NaN</td>\n    </tr>\n    <tr>\n      <th>438474043</th>\n      <td>438474043</td>\n      <td>INTC</td>\n      <td>20200925</td>\n      <td>42.5</td>\n      <td>P</td>\n      <td>4</td>\n      <td>0.01</td>\n      <td>0.05</td>\n      <td>0.030</td>\n      <td>0.800000</td>\n      <td>0.000613</td>\n      <td>NaN</td>\n      <td>NaN</td>\n      <td>NaN</td>\n      <td>NaN</td>\n      <td>NaN</td>\n    </tr>\n    <tr>\n      <th>438474066</th>\n      <td>438474066</td>\n      <td>INTC</td>\n      <td>20200925</td>\n      <td>43.0</td>\n      <td>P</td>\n      <td>4</td>\n      <td>0.02</td>\n      <td>0.03</td>\n      <td>0.025</td>\n      <td>0.333333</td>\n      <td>0.000511</td>\n      <td>NaN</td>\n      <td>NaN</td>\n      <td>NaN</td>\n      <td>NaN</td>\n      <td>NaN</td>\n    </tr>\n    <tr>\n      <th>438474057</th>\n      <td>438474057</td>\n      <td>INTC</td>\n      <td>20200925</td>\n      <td>43.5</td>\n      <td>P</td>\n      <td>4</td>\n      <td>0.02</td>\n      <td>0.04</td>\n      <td>0.030</td>\n      <td>0.500000</td>\n      <td>0.000613</td>\n      <td>NaN</td>\n      <td>NaN</td>\n      <td>NaN</td>\n      <td>NaN</td>\n      <td>NaN</td>\n    </tr>\n    <tr>\n      <th>...</th>\n      <td>...</td>\n      <td>...</td>\n      <td>...</td>\n      <td>...</td>\n      <td>...</td>\n      <td>...</td>\n      <td>...</td>\n      <td>...</td>\n      <td>...</td>\n      <td>...</td>\n      <td>...</td>\n      <td>...</td>\n      <td>...</td>\n      <td>...</td>\n      <td>...</td>\n      <td>...</td>\n    </tr>\n    <tr>\n      <th>439459013</th>\n      <td>439459013</td>\n      <td>INTC</td>\n      <td>20201002</td>\n      <td>56.0</td>\n      <td>C</td>\n      <td>11</td>\n      <td>0.02</td>\n      <td>0.05</td>\n      <td>0.035</td>\n      <td>0.600000</td>\n      <td>0.000716</td>\n      <td>NaN</td>\n      <td>NaN</td>\n      <td>NaN</td>\n      <td>NaN</td>\n      <td>NaN</td>\n    </tr>\n    <tr>\n      <th>443506229</th>\n      <td>443506229</td>\n      <td>INTC</td>\n      <td>20201002</td>\n      <td>57.0</td>\n      <td>C</td>\n      <td>11</td>\n      <td>-1.00</td>\n      <td>0.04</td>\n      <td>0.020</td>\n      <td>26.000000</td>\n      <td>0.000409</td>\n      <td>NaN</td>\n      <td>NaN</td>\n      <td>NaN</td>\n      <td>NaN</td>\n      <td>NaN</td>\n    </tr>\n    <tr>\n      <th>443506219</th>\n      <td>443506219</td>\n      <td>INTC</td>\n      <td>20201002</td>\n      <td>57.5</td>\n      <td>C</td>\n      <td>11</td>\n      <td>-1.00</td>\n      <td>0.05</td>\n      <td>0.010</td>\n      <td>21.000000</td>\n      <td>0.000205</td>\n      <td>NaN</td>\n      <td>NaN</td>\n      <td>NaN</td>\n      <td>NaN</td>\n      <td>NaN</td>\n    </tr>\n    <tr>\n      <th>443506242</th>\n      <td>443506242</td>\n      <td>INTC</td>\n      <td>20201002</td>\n      <td>58.0</td>\n      <td>C</td>\n      <td>11</td>\n      <td>-1.00</td>\n      <td>0.04</td>\n      <td>0.010</td>\n      <td>26.000000</td>\n      <td>0.000205</td>\n      <td>NaN</td>\n      <td>NaN</td>\n      <td>NaN</td>\n      <td>NaN</td>\n      <td>NaN</td>\n    </tr>\n    <tr>\n      <th>443506239</th>\n      <td>443506239</td>\n      <td>INTC</td>\n      <td>20201002</td>\n      <td>58.5</td>\n      <td>C</td>\n      <td>11</td>\n      <td>-1.00</td>\n      <td>0.06</td>\n      <td>0.010</td>\n      <td>17.666667</td>\n      <td>0.000205</td>\n      <td>NaN</td>\n      <td>NaN</td>\n      <td>NaN</td>\n      <td>NaN</td>\n      <td>NaN</td>\n    </tr>\n  </tbody>\n</table>\n<p>136 rows × 16 columns</p>\n</div>"
     },
     "metadata": {},
     "execution_count": 214
    }
   ],
   "source": [
    "from ibtypes import OptionData\n",
    "\n",
    "ib.reqMarketDataType(2)\n",
    "tickers = ib.reqTickers(*contracts)\n",
    "\n",
    "options = []\n",
    "for t in tickers:\n",
    "    print(t)\n",
    "    options.append(OptionData(t))\n",
    "\n",
    "df=util.df(options, ['conId',\n",
    "        'symbol', 'lastTradeDateOrContractMonth', 'strike', 'right', 'marketPrice', 'optionYield', 'timeToExpiration', 'spread', 'bid', 'ask', 'impliedVol', 'delta', 'gamma', 'vega','theta'])\n",
    "df.index=df['conId']\n",
    "df\n"
   ]
  },
  {
   "cell_type": "code",
   "execution_count": 215,
   "metadata": {},
   "outputs": [
    {
     "output_type": "execute_result",
     "data": {
      "text/plain": "'20200925'"
     },
     "metadata": {},
     "execution_count": 215
    }
   ],
   "source": [
    "expirations[0]"
   ]
  },
  {
   "cell_type": "code",
   "execution_count": 216,
   "metadata": {
    "tags": [
     "outputPrepend"
    ]
   },
   "outputs": [
    {
     "output_type": "stream",
     "name": "stdout",
     "text": "6484), lastGreeks=OptionComputation(impliedVol=0.30687414685411313, delta=0.279623976020659, optPrice=0.47999998927116394, pvDividend=0.0, gamma=0.12851306441162447, vega=0.02913259272297919, theta=-0.039632647976626786, undPrice=48.868099212646484), modelGreeks=OptionComputation(impliedVol=0.311568640969168, delta=0.28267313396077204, optPrice=0.4563479459819491, pvDividend=0.0, gamma=0.1273461203333383, vega=0.030768719884154527, theta=-0.04048309574123798, undPrice=48.868099212646484))\nTicker(contract=Option(conId=439458929, symbol='INTC', lastTradeDateOrContractMonth='20201002', strike=51.0, right='C', multiplier='100', exchange='SMART', currency='USD', localSymbol='INTC  201002C00051000', tradingClass='INTC'), time=datetime.datetime(2020, 9, 21, 13, 40, 58, 94624, tzinfo=datetime.timezone.utc), bid=0.35, bidSize=43, ask=0.37, askSize=154, last=0.36, lastSize=1, volume=55, high=0.54, low=0.36, close=0.58, bidGreeks=OptionComputation(impliedVol=0.3110240907751403, delta=0.22482143869693183, optPrice=0.3499999940395355, pvDividend=0.0, gamma=0.11285536940769185, vega=0.027449568531842716, theta=-0.035747651803308786, undPrice=48.868099212646484), askGreeks=OptionComputation(impliedVol=0.31461444473283773, delta=0.22777184824680002, optPrice=0.3700000047683716, pvDividend=0.0, gamma=0.11231167563332833, vega=0.027449016512480884, theta=-0.03640134198894986, undPrice=48.868099212646484), lastGreeks=OptionComputation(impliedVol=0.32374998055875587, delta=0.23499381581633239, optPrice=0.36000001430511475, pvDividend=0.0, gamma=0.11091015465602165, vega=0.027447648965915117, theta=-0.038064541170854574, undPrice=48.868099212646484), modelGreeks=OptionComputation(impliedVol=0.31461444473283773, delta=0.22777184824680002, optPrice=0.34782634745667296, pvDividend=0.0, gamma=0.11231167563332833, vega=0.027449016512480884, theta=-0.03640134198894986, undPrice=48.868099212646484))\nTicker(contract=Option(conId=439458922, symbol='INTC', lastTradeDateOrContractMonth='20201002', strike=51.5, right='C', multiplier='100', exchange='SMART', currency='USD', localSymbol='INTC  201002C00051500', tradingClass='INTC'), time=datetime.datetime(2020, 9, 21, 13, 40, 58, 94624, tzinfo=datetime.timezone.utc), bid=0.27, bidSize=5, ask=0.28, askSize=72, last=0.26, lastSize=3, volume=27, high=0.43, low=0.26, close=0.48, bidGreeks=OptionComputation(impliedVol=0.3165328964739293, delta=0.17989819097487506, optPrice=0.27000001072883606, pvDividend=0.0, gamma=0.09676597302955948, vega=0.023499077391609002, theta=-0.03174377760706667, undPrice=48.868099212646484), askGreeks=OptionComputation(impliedVol=0.32072681197956227, delta=0.18337368954119465, optPrice=0.2800000011920929, pvDividend=0.0, gamma=0.09661301568956328, vega=0.02349847826483603, theta=-0.032538864391685386, undPrice=48.868099212646484), lastGreeks=OptionComputation(impliedVol=0.3242768146861551, delta=0.18624729448742286, optPrice=0.25999999046325684, pvDividend=0.0, gamma=0.09646435580135299, vega=0.02349798090051508, theta=-0.03321185447713692, undPrice=48.868099212646484), modelGreeks=OptionComputation(impliedVol=0.31806713311814294, delta=0.18117994665894568, optPrice=0.2630690584917107, pvDividend=0.0, gamma=0.09671298686321138, vega=0.023498856726223483, theta=-0.03203464319816773, undPrice=48.868099212646484))\nTicker(contract=Option(conId=439458945, symbol='INTC', lastTradeDateOrContractMonth='20201002', strike=52.0, right='C', multiplier='100', exchange='SMART', currency='USD', localSymbol='INTC  201002C00052000', tradingClass='INTC'), time=datetime.datetime(2020, 9, 21, 13, 40, 58, 95142, tzinfo=datetime.timezone.utc), bid=0.2, bidSize=520, ask=0.21, askSize=6, last=0.21, lastSize=1, volume=1, high=0.21, low=0.21, close=0.39, bidGreeks=OptionComputation(impliedVol=0.3187711573890588, delta=0.13987249033585897, optPrice=0.20000000298023224, pvDividend=0.0, gamma=0.08139797928660926, vega=0.019321375146562125, theta=-0.027079361913160932, undPrice=48.868099212646484), askGreeks=OptionComputation(impliedVol=0.32897291844315435, delta=0.1478124614441496, optPrice=0.20999999344348907, pvDividend=0.0, gamma=0.08191449273773951, vega=0.019320103373920428, theta=-0.02902306510577136, undPrice=48.868099212646484), lastGreeks=OptionComputation(impliedVol=0.31804940236637624, delta=0.1392919284832356, optPrice=0.20999999344348907, pvDividend=0.0, gamma=0.08135252729382345, vega=0.019321468060056995, theta=-0.02694184195106395, undPrice=48.868099212646484), modelGreeks=OptionComputation(impliedVol=0.323834189432719, delta=0.14387402770377328, optPrice=0.20102320392924428, pvDividend=0.0, gamma=0.0816827532733871, vega=0.01932073450115837, theta=-0.02804402429581106, undPrice=48.868099212646484))\nTicker(contract=Option(conId=439458939, symbol='INTC', lastTradeDateOrContractMonth='20201002', strike=52.5, right='C', multiplier='100', exchange='SMART', currency='USD', localSymbol='INTC  201002C00052500', tradingClass='INTC'), time=datetime.datetime(2020, 9, 21, 13, 40, 58, 95142, tzinfo=datetime.timezone.utc), bid=0.15, bidSize=498, ask=0.16, askSize=6, last=0.2, lastSize=10, volume=24, high=0.24, low=0.2, close=0.29, bidGreeks=OptionComputation(impliedVol=0.3238281827367516, delta=0.10881984475241469, optPrice=0.15000000596046448, pvDividend=0.0, gamma=0.06726472348311098, vega=0.015254934582371954, theta=-0.023091651827076162, undPrice=48.868099212646484), askGreeks=OptionComputation(impliedVol=0.3364494843587277, delta=0.11741344967292713, optPrice=0.1599999964237213, pvDividend=0.0, gamma=0.06855509405259251, vega=0.01790557408641577, theta=-0.02540459209727486, undPrice=48.868099212646484), lastGreeks=OptionComputation(impliedVol=0.3324841720964483, delta=0.11478230427584532, optPrice=0.20000000298023224, pvDividend=0.0, gamma=0.06819185936198613, vega=0.016256413815547294, theta=-0.024677948650024633, undPrice=48.868099212646484), modelGreeks=OptionComputation(impliedVol=0.3318205103420014, delta=0.1143359319183042, optPrice=0.15514102610399907, pvDividend=0.0, gamma=0.06812745088959023, vega=0.015980394139937043, theta=-0.02455633022633827, undPrice=48.868099212646484))\nTicker(contract=Option(conId=439458970, symbol='INTC', lastTradeDateOrContractMonth='20201002', strike=53.0, right='C', multiplier='100', exchange='SMART', currency='USD', localSymbol='INTC  201002C00053000', tradingClass='INTC'), time=datetime.datetime(2020, 9, 21, 13, 41, 9, 141926, tzinfo=datetime.timezone.utc), bid=0.12, bidSize=4, ask=0.13, askSize=405, last=0.16, lastSize=1, volume=1, high=0.16, low=0.16, close=0.24, bidGreeks=OptionComputation(impliedVol=0.33408905028767866, delta=0.08708378223134956, optPrice=0.11999999731779099, pvDividend=0.0, gamma=0.05547097299441037, vega=0.01532774545979175, theta=-0.02026761268243429, undPrice=48.868099212646484), askGreeks=OptionComputation(impliedVol=0.34051886744314014, delta=0.09184544835685572, optPrice=0.12999999523162842, pvDividend=0.0, gamma=0.05651516124037105, vega=0.015327013782706678, theta=-0.021451555730824388, undPrice=48.868099212646484), lastGreeks=OptionComputation(impliedVol=None, delta=None, optPrice=0.1599999964237213, pvDividend=0.0, gamma=None, vega=None, theta=None, undPrice=48.880001068115234), modelGreeks=OptionComputation(impliedVol=0.33804887505443093, delta=0.09003726998707881, optPrice=0.11875370449416828, pvDividend=0.0, gamma=0.05612823422134896, vega=0.015327291452385927, theta=-0.0209967566040052, undPrice=48.868099212646484))\nTicker(contract=Option(conId=439458958, symbol='INTC', lastTradeDateOrContractMonth='20201002', strike=53.5, right='C', multiplier='100', exchange='SMART', currency='USD', localSymbol='INTC  201002C00053500', tradingClass='INTC'), time=datetime.datetime(2020, 9, 21, 13, 40, 58, 95603, tzinfo=datetime.timezone.utc), bid=0.1, bidSize=1, ask=0.11, askSize=1920, last=0.14, lastSize=6, volume=6, high=0.14, low=0.14, close=0.18, bidGreeks=OptionComputation(impliedVol=0.34661453005263815, delta=0.07243589349631478, optPrice=0.10000000149011612, pvDividend=0.0, gamma=0.046360305659651845, vega=0.011617394890846594, theta=-0.01823190349069458, undPrice=48.868099212646484), askGreeks=OptionComputation(impliedVol=0.35509793267539674, delta=0.07734325770629029, optPrice=0.10999999940395355, pvDividend=0.0, gamma=0.04763979907056685, vega=0.011616693619179802, theta=-0.019663285601064874, undPrice=48.868099212646484), lastGreeks=OptionComputation(impliedVol=0.3490636446507402, delta=0.07387664424557876, optPrice=0.14000000059604645, pvDividend=0.0, gamma=0.04674821323981655, vega=0.011617188293049044, theta=-0.018645147329443904, undPrice=48.868099212646484), modelGreeks=OptionComputation(impliedVol=0.34662408502467806, delta=0.0724415532524593, optPrice=0.09423835754207142, pvDividend=0.0, gamma=0.04636184944564105, vega=0.01161739407812959, theta=-0.018233515737519964, undPrice=48.868099212646484))\nTicker(contract=Option(conId=439458985, symbol='INTC', lastTradeDateOrContractMonth='20201002', strike=54.0, right='C', multiplier='100', exchange='SMART', currency='USD', localSymbol='INTC  201002C00054000', tradingClass='INTC'), time=datetime.datetime(2020, 9, 21, 13, 41, 9, 141926, tzinfo=datetime.timezone.utc), bid=0.07, bidSize=93, ask=0.08, askSize=150, volume=1, high=0.09, low=0.09, close=0.14, bidGreeks=OptionComputation(impliedVol=0.34683087488660636, delta=0.05330317475556737, optPrice=0.07000000029802322, pvDividend=0.0, gamma=0.03653485980747063, vega=0.008950753668850897, theta=-0.014385280012772334, undPrice=48.868099212646484), askGreeks=OptionComputation(impliedVol=0.35622796569064885, delta=0.05780221455917647, optPrice=0.07999999821186066, pvDividend=0.0, gamma=0.038010225613976004, vega=0.011671703391951518, theta=-0.015788078753241442, undPrice=48.868099212646484), lastGreeks=OptionComputation(impliedVol=None, delta=None, optPrice=None, pvDividend=0.0, gamma=None, vega=None, theta=None, undPrice=48.880001068115234), modelGreeks=OptionComputation(impliedVol=0.3521827863718835, delta=0.055801033922617926, optPrice=0.07031204815646976, pvDividend=0.0, gamma=0.03737113664006206, vega=0.01067362351912969, theta=-0.015172121971260815, undPrice=48.868099212646484))\nTicker(contract=Option(conId=439458979, symbol='INTC', lastTradeDateOrContractMonth='20201002', strike=54.5, right='C', multiplier='100', exchange='SMART', currency='USD', localSymbol='INTC  201002C00054500', tradingClass='INTC'), time=datetime.datetime(2020, 9, 21, 13, 41, 9, 141926, tzinfo=datetime.timezone.utc), bid=0.05, bidSize=556, ask=0.06, askSize=19, volume=2, high=0.08, low=0.08, close=0.11, bidGreeks=OptionComputation(impliedVol=0.34772680127597194, delta=0.038830264669673646, optPrice=0.05000000074505806, pvDividend=0.0, gamma=0.028265953935072738, vega=0.008492226671586743, theta=-0.01118666447273457, undPrice=48.868099212646484), askGreeks=OptionComputation(impliedVol=0.35933234763123106, delta=0.04463445675230559, optPrice=0.05999999865889549, pvDividend=0.0, gamma=0.030525757890206333, vega=0.008491407814758989, theta=-0.012900879469436603, undPrice=48.868099212646484), lastGreeks=OptionComputation(impliedVol=None, delta=None, optPrice=None, pvDividend=0.0, gamma=None, vega=None, theta=None, undPrice=48.880001068115234), modelGreeks=OptionComputation(impliedVol=0.35845006463815315, delta=0.044206197687382535, optPrice=0.05486383526975856, pvDividend=0.0, gamma=0.030366346797876063, vega=0.008491467710000283, theta=-0.012770567392181298, undPrice=48.868099212646484))\nTicker(contract=Option(conId=439459005, symbol='INTC', lastTradeDateOrContractMonth='20201002', strike=55.0, right='C', multiplier='100', exchange='SMART', currency='USD', localSymbol='INTC  201002C00055000', tradingClass='INTC'), time=datetime.datetime(2020, 9, 21, 13, 41, 9, 141926, tzinfo=datetime.timezone.utc), bid=0.05, bidSize=1, ask=0.06, askSize=557, close=0.09, bidGreeks=OptionComputation(impliedVol=0.3717186642148556, delta=0.036869015575523814, optPrice=0.05000000074505806, pvDividend=0.0, gamma=0.025366282962789526, vega=0.00797872883726028, theta=-0.011471777439076899, undPrice=48.868099212646484), askGreeks=OptionComputation(impliedVol=0.3832727753568562, delta=0.042074246044438816, optPrice=0.05999999865889549, pvDividend=0.0, gamma=0.02731012199190381, vega=0.00852931321531459, theta=-0.013130597975522334, undPrice=48.868099212646484), lastGreeks=OptionComputation(impliedVol=None, delta=None, optPrice=None, pvDividend=0.0, gamma=None, vega=None, theta=None, undPrice=48.880001068115234), modelGreeks=OptionComputation(impliedVol=0.3717186642148556, delta=0.036869015575523814, optPrice=0.04598910038943851, pvDividend=0.0, gamma=0.025366282962789526, vega=0.00797872883726028, theta=-0.011471777439076899, undPrice=48.868099212646484))\nTicker(contract=Option(conId=439458999, symbol='INTC', lastTradeDateOrContractMonth='20201002', strike=55.5, right='C', multiplier='100', exchange='SMART', currency='USD', localSymbol='INTC  201002C00055500', tradingClass='INTC'), time=datetime.datetime(2020, 9, 21, 13, 41, 9, 141926, tzinfo=datetime.timezone.utc), bid=0.03, bidSize=452, ask=0.05, askSize=45, close=0.06, bidGreeks=OptionComputation(impliedVol=0.3618371400271767, delta=0.023580303861963733, optPrice=0.029999999329447746, pvDividend=0.0, gamma=0.017982862597784338, vega=0.0058811078286463425, theta=-0.0077058444453766296, undPrice=48.868099212646484), askGreeks=OptionComputation(impliedVol=0.3949379439260726, delta=0.03537008629457155, optPrice=0.05000000074505806, pvDividend=0.0, gamma=0.02303753154833001, vega=0.006602220341534293, theta=-0.01176052381473163, undPrice=48.868099212646484), lastGreeks=OptionComputation(impliedVol=None, delta=None, optPrice=None, pvDividend=0.0, gamma=None, vega=None, theta=None, undPrice=48.880001068115234), modelGreeks=OptionComputation(impliedVol=0.37987545113186916, delta=0.03023486200334027, optPrice=0.03763829862004938, pvDividend=0.0, gamma=0.020984669271603577, vega=0.005954594743197282, theta=-0.009911051608170207, undPrice=48.868099212646484))\nTicker(contract=Option(conId=439459013, symbol='INTC', lastTradeDateOrContractMonth='20201002', strike=56.0, right='C', multiplier='100', exchange='SMART', currency='USD', localSymbol='INTC  201002C00056000', tradingClass='INTC'), time=datetime.datetime(2020, 9, 21, 13, 41, 9, 141926, tzinfo=datetime.timezone.utc), bid=0.02, bidSize=20, ask=0.05, askSize=46, volume=1, high=0.04, low=0.04, close=0.04, bidGreeks=OptionComputation(impliedVol=0.35959388165094747, delta=0.016414715876770656, optPrice=0.019999999552965164, pvDividend=0.0, gamma=0.013246221203748753, vega=0.003988557124317699, theta=-0.005605873660372003, undPrice=48.868099212646484), askGreeks=OptionComputation(impliedVol=0.416573837654347, delta=0.03361939606265971, optPrice=0.05000000074505806, pvDividend=0.0, gamma=0.020916519190045602, vega=0.0059800540622965, theta=-0.01187944504003538, undPrice=48.868099212646484), lastGreeks=OptionComputation(impliedVol=None, delta=None, optPrice=None, pvDividend=0.0, gamma=None, vega=None, theta=None, undPrice=48.880001068115234), modelGreeks=OptionComputation(impliedVol=0.3815799263288505, delta=0.022275885058993906, optPrice=0.026700107868806094, pvDividend=0.0, gamma=0.016218425129812118, vega=0.004753584626350001, theta=-0.007728662464505195, undPrice=48.868099212646484))\nTicker(contract=Option(conId=443506229, symbol='INTC', lastTradeDateOrContractMonth='20201002', strike=57.0, right='C', multiplier='100', exchange='SMART', currency='USD', localSymbol='INTC  201002C00057000', tradingClass='INTC'), time=datetime.datetime(2020, 9, 21, 13, 41, 9, 141926, tzinfo=datetime.timezone.utc), bid=-1.0, bidSize=0, ask=0.04, askSize=875, close=0.02, bidGreeks=OptionComputation(impliedVol=None, delta=None, optPrice=None, pvDividend=0.0, gamma=None, vega=None, theta=None, undPrice=48.880001068115234), askGreeks=OptionComputation(impliedVol=0.44293852999628475, delta=0.02560411295165103, optPrice=0.03999999910593033, pvDividend=0.0, gamma=0.0157066039210661, vega=0.006032676250951281, theta=-0.01008497879764287, undPrice=48.868099212646484), lastGreeks=OptionComputation(impliedVol=None, delta=None, optPrice=None, pvDividend=0.0, gamma=None, vega=None, theta=None, undPrice=48.880001068115234), modelGreeks=OptionComputation(impliedVol=0.4045104621853397, delta=0.01612211235748035, optPrice=0.019709315323448214, pvDividend=0.0, gamma=0.011601535681210346, vega=0.004022981762024071, theta=-0.0062127300512011905, undPrice=48.868099212646484))\nTicker(contract=Option(conId=443506219, symbol='INTC', lastTradeDateOrContractMonth='20201002', strike=57.5, right='C', multiplier='100', exchange='SMART', currency='USD', localSymbol='INTC  201002C00057500', tradingClass='INTC'), time=datetime.datetime(2020, 9, 21, 13, 41, 9, 141926, tzinfo=datetime.timezone.utc), bid=-1.0, bidSize=0, ask=0.05, askSize=1009, close=0.01, bidGreeks=OptionComputation(impliedVol=None, delta=None, optPrice=None, pvDividend=0.0, gamma=None, vega=None, theta=None, undPrice=48.880001068115234), askGreeks=OptionComputation(impliedVol=0.4803489580573959, delta=0.029377967070467303, optPrice=0.05000000074505806, pvDividend=0.0, gamma=0.016203996839701227, vega=0.00605771314363221, theta=-0.012235875132904993, undPrice=48.868099212646484), lastGreeks=OptionComputation(impliedVol=None, delta=None, optPrice=None, pvDividend=0.0, gamma=None, vega=None, theta=None, undPrice=48.880001068115234), modelGreeks=OptionComputation(impliedVol=0.4005627944378168, delta=0.011170309391452067, optPrice=0.013008701095278683, pvDividend=0.0, gamma=0.008515806651392495, vega=0.0025835649255374522, theta=-0.004471654200489901, undPrice=48.868099212646484))\nTicker(contract=Option(conId=443506242, symbol='INTC', lastTradeDateOrContractMonth='20201002', strike=58.0, right='C', multiplier='100', exchange='SMART', currency='USD', localSymbol='INTC  201002C00058000', tradingClass='INTC'), time=datetime.datetime(2020, 9, 21, 13, 41, 10, 141760, tzinfo=datetime.timezone.utc), bid=-1.0, bidSize=0, ask=0.04, askSize=457, close=0.01, bidGreeks=OptionComputation(impliedVol=None, delta=None, optPrice=None, pvDividend=0.0, gamma=None, vega=None, theta=None, undPrice=48.880001068115234), askGreeks=OptionComputation(impliedVol=0.485041364947208, delta=0.023626737794762497, optPrice=0.03999999910593033, pvDividend=0.0, gamma=0.013428095082243371, vega=0.005405890333614605, theta=-0.010333118213263135, undPrice=48.85499954223633), lastGreeks=OptionComputation(impliedVol=None, delta=None, optPrice=None, pvDividend=0.0, gamma=None, vega=None, theta=None, undPrice=48.880001068115234), modelGreeks=OptionComputation(impliedVol=0.40928995872602614, delta=0.008971746858944122, optPrice=0.01039754859376633, pvDividend=0.0, gamma=0.006904393904218645, vega=0.0025945210613283268, theta=-0.0037838800783212196, undPrice=48.86000061035156))\nTicker(contract=Option(conId=443506239, symbol='INTC', lastTradeDateOrContractMonth='20201002', strike=58.5, right='C', multiplier='100', exchange='SMART', currency='USD', localSymbol='INTC  201002C00058500', tradingClass='INTC'), time=datetime.datetime(2020, 9, 21, 13, 41, 10, 141982, tzinfo=datetime.timezone.utc), bid=-1.0, bidSize=0, ask=0.06, askSize=86, close=0.01, bidGreeks=OptionComputation(impliedVol=None, delta=None, optPrice=None, pvDividend=0.0, gamma=None, vega=None, theta=None, undPrice=48.880001068115234), askGreeks=OptionComputation(impliedVol=0.538088839772498, delta=0.03125517991551515, optPrice=0.05999999865889549, pvDividend=0.0, gamma=0.015230548531368161, vega=0.006107379106812791, theta=-0.014423773326391708, undPrice=48.85499954223633), lastGreeks=OptionComputation(impliedVol=None, delta=None, optPrice=None, pvDividend=0.0, gamma=None, vega=None, theta=None, undPrice=48.880001068115234), modelGreeks=OptionComputation(impliedVol=0.415730174626725, delta=0.007314226697591324, optPrice=0.008450441790266534, pvDividend=0.0, gamma=0.005666845475367598, vega=0.0015970303599128662, theta=-0.003204120480735033, undPrice=48.86000061035156))\n"
    }
   ],
   "source": [
    "options = []\n",
    "for t in tickers:\n",
    "    print(t)"
   ]
  },
  {
   "cell_type": "code",
   "execution_count": 235,
   "metadata": {
    "tags": []
   },
   "outputs": [
    {
     "output_type": "error",
     "ename": "TypeError",
     "evalue": "object of type 'NoneType' has no len()",
     "traceback": [
      "\u001b[0;31m---------------------------------------------------------------------------\u001b[0m",
      "\u001b[0;31mTypeError\u001b[0m                                 Traceback (most recent call last)",
      "\u001b[0;32m<ipython-input-235-b1dd2f873e4a>\u001b[0m in \u001b[0;36m<module>\u001b[0;34m\u001b[0m\n\u001b[1;32m      3\u001b[0m \u001b[0;34m\u001b[0m\u001b[0m\n\u001b[1;32m      4\u001b[0m calc = ib.calculateOptionPrice(\n\u001b[0;32m----> 5\u001b[0;31m     option, volatility=0.14, underPrice=49.88)\n\u001b[0m\u001b[1;32m      6\u001b[0m \u001b[0mcalc\u001b[0m\u001b[0;34m\u001b[0m\u001b[0;34m\u001b[0m\u001b[0m\n",
      "\u001b[0;32m~/.pyenv/versions/3.6.10/lib/python3.6/site-packages/ib_insync/ib.py\u001b[0m in \u001b[0;36mcalculateOptionPrice\u001b[0;34m(self, contract, volatility, underPrice, optPrcOptions)\u001b[0m\n\u001b[1;32m   1455\u001b[0m         return self._run(\n\u001b[1;32m   1456\u001b[0m             self.calculateOptionPriceAsync(\n\u001b[0;32m-> 1457\u001b[0;31m                 contract, volatility, underPrice, optPrcOptions))\n\u001b[0m\u001b[1;32m   1458\u001b[0m \u001b[0;34m\u001b[0m\u001b[0m\n\u001b[1;32m   1459\u001b[0m     def reqSecDefOptParams(\n",
      "\u001b[0;32m~/.pyenv/versions/3.6.10/lib/python3.6/site-packages/ib_insync/ib.py\u001b[0m in \u001b[0;36m_run\u001b[0;34m(self, *awaitables)\u001b[0m\n\u001b[1;32m    299\u001b[0m \u001b[0;34m\u001b[0m\u001b[0m\n\u001b[1;32m    300\u001b[0m     \u001b[0;32mdef\u001b[0m \u001b[0m_run\u001b[0m\u001b[0;34m(\u001b[0m\u001b[0mself\u001b[0m\u001b[0;34m,\u001b[0m \u001b[0;34m*\u001b[0m\u001b[0mawaitables\u001b[0m\u001b[0;34m:\u001b[0m \u001b[0mAwaitable\u001b[0m\u001b[0;34m)\u001b[0m\u001b[0;34m:\u001b[0m\u001b[0;34m\u001b[0m\u001b[0;34m\u001b[0m\u001b[0m\n\u001b[0;32m--> 301\u001b[0;31m         \u001b[0;32mreturn\u001b[0m \u001b[0mutil\u001b[0m\u001b[0;34m.\u001b[0m\u001b[0mrun\u001b[0m\u001b[0;34m(\u001b[0m\u001b[0;34m*\u001b[0m\u001b[0mawaitables\u001b[0m\u001b[0;34m,\u001b[0m \u001b[0mtimeout\u001b[0m\u001b[0;34m=\u001b[0m\u001b[0mself\u001b[0m\u001b[0;34m.\u001b[0m\u001b[0mRequestTimeout\u001b[0m\u001b[0;34m)\u001b[0m\u001b[0;34m\u001b[0m\u001b[0;34m\u001b[0m\u001b[0m\n\u001b[0m\u001b[1;32m    302\u001b[0m \u001b[0;34m\u001b[0m\u001b[0m\n\u001b[1;32m    303\u001b[0m     \u001b[0;32mdef\u001b[0m \u001b[0mwaitOnUpdate\u001b[0m\u001b[0;34m(\u001b[0m\u001b[0mself\u001b[0m\u001b[0;34m,\u001b[0m \u001b[0mtimeout\u001b[0m\u001b[0;34m:\u001b[0m \u001b[0mfloat\u001b[0m \u001b[0;34m=\u001b[0m \u001b[0;36m0\u001b[0m\u001b[0;34m)\u001b[0m \u001b[0;34m->\u001b[0m \u001b[0mbool\u001b[0m\u001b[0;34m:\u001b[0m\u001b[0;34m\u001b[0m\u001b[0;34m\u001b[0m\u001b[0m\n",
      "\u001b[0;32m~/.pyenv/versions/3.6.10/lib/python3.6/site-packages/ib_insync/util.py\u001b[0m in \u001b[0;36mrun\u001b[0;34m(timeout, *awaitables)\u001b[0m\n\u001b[1;32m    310\u001b[0m         \u001b[0mglobalErrorEvent\u001b[0m\u001b[0;34m.\u001b[0m\u001b[0mconnect\u001b[0m\u001b[0;34m(\u001b[0m\u001b[0monError\u001b[0m\u001b[0;34m)\u001b[0m\u001b[0;34m\u001b[0m\u001b[0;34m\u001b[0m\u001b[0m\n\u001b[1;32m    311\u001b[0m         \u001b[0;32mtry\u001b[0m\u001b[0;34m:\u001b[0m\u001b[0;34m\u001b[0m\u001b[0;34m\u001b[0m\u001b[0m\n\u001b[0;32m--> 312\u001b[0;31m             \u001b[0mresult\u001b[0m \u001b[0;34m=\u001b[0m \u001b[0mloop\u001b[0m\u001b[0;34m.\u001b[0m\u001b[0mrun_until_complete\u001b[0m\u001b[0;34m(\u001b[0m\u001b[0mtask\u001b[0m\u001b[0;34m)\u001b[0m\u001b[0;34m\u001b[0m\u001b[0;34m\u001b[0m\u001b[0m\n\u001b[0m\u001b[1;32m    313\u001b[0m         \u001b[0;32mexcept\u001b[0m \u001b[0masyncio\u001b[0m\u001b[0;34m.\u001b[0m\u001b[0mCancelledError\u001b[0m \u001b[0;32mas\u001b[0m \u001b[0me\u001b[0m\u001b[0;34m:\u001b[0m\u001b[0;34m\u001b[0m\u001b[0;34m\u001b[0m\u001b[0m\n\u001b[1;32m    314\u001b[0m             \u001b[0;32mraise\u001b[0m \u001b[0mglobalErrorEvent\u001b[0m\u001b[0;34m.\u001b[0m\u001b[0mvalue\u001b[0m\u001b[0;34m(\u001b[0m\u001b[0;34m)\u001b[0m \u001b[0;32mor\u001b[0m \u001b[0me\u001b[0m\u001b[0;34m\u001b[0m\u001b[0;34m\u001b[0m\u001b[0m\n",
      "\u001b[0;32m~/.pyenv/versions/3.6.10/lib/python3.6/site-packages/nest_asyncio.py\u001b[0m in \u001b[0;36mrun_until_complete\u001b[0;34m(self, future)\u001b[0m\n\u001b[1;32m     57\u001b[0m         \u001b[0;32mif\u001b[0m \u001b[0;32mnot\u001b[0m \u001b[0mf\u001b[0m\u001b[0;34m.\u001b[0m\u001b[0mdone\u001b[0m\u001b[0;34m(\u001b[0m\u001b[0;34m)\u001b[0m\u001b[0;34m:\u001b[0m\u001b[0;34m\u001b[0m\u001b[0;34m\u001b[0m\u001b[0m\n\u001b[1;32m     58\u001b[0m             \u001b[0;32mraise\u001b[0m \u001b[0mRuntimeError\u001b[0m\u001b[0;34m(\u001b[0m\u001b[0;34m'Event loop stopped before Future completed.'\u001b[0m\u001b[0;34m)\u001b[0m\u001b[0;34m\u001b[0m\u001b[0;34m\u001b[0m\u001b[0m\n\u001b[0;32m---> 59\u001b[0;31m         \u001b[0;32mreturn\u001b[0m \u001b[0mf\u001b[0m\u001b[0;34m.\u001b[0m\u001b[0mresult\u001b[0m\u001b[0;34m(\u001b[0m\u001b[0;34m)\u001b[0m\u001b[0;34m\u001b[0m\u001b[0;34m\u001b[0m\u001b[0m\n\u001b[0m\u001b[1;32m     60\u001b[0m \u001b[0;34m\u001b[0m\u001b[0m\n\u001b[1;32m     61\u001b[0m     \u001b[0;32mdef\u001b[0m \u001b[0m_run_once\u001b[0m\u001b[0;34m(\u001b[0m\u001b[0mself\u001b[0m\u001b[0;34m)\u001b[0m\u001b[0;34m:\u001b[0m\u001b[0;34m\u001b[0m\u001b[0;34m\u001b[0m\u001b[0m\n",
      "\u001b[0;32m~/.pyenv/versions/3.6.10/lib/python3.6/asyncio/tasks.py\u001b[0m in \u001b[0;36m_step\u001b[0;34m(***failed resolving arguments***)\u001b[0m\n\u001b[1;32m    178\u001b[0m                 \u001b[0;31m# We use the `send` method directly, because coroutines\u001b[0m\u001b[0;34m\u001b[0m\u001b[0;34m\u001b[0m\u001b[0;34m\u001b[0m\u001b[0m\n\u001b[1;32m    179\u001b[0m                 \u001b[0;31m# don't have `__iter__` and `__next__` methods.\u001b[0m\u001b[0;34m\u001b[0m\u001b[0;34m\u001b[0m\u001b[0;34m\u001b[0m\u001b[0m\n\u001b[0;32m--> 180\u001b[0;31m                 \u001b[0mresult\u001b[0m \u001b[0;34m=\u001b[0m \u001b[0mcoro\u001b[0m\u001b[0;34m.\u001b[0m\u001b[0msend\u001b[0m\u001b[0;34m(\u001b[0m\u001b[0;32mNone\u001b[0m\u001b[0;34m)\u001b[0m\u001b[0;34m\u001b[0m\u001b[0;34m\u001b[0m\u001b[0m\n\u001b[0m\u001b[1;32m    181\u001b[0m             \u001b[0;32melse\u001b[0m\u001b[0;34m:\u001b[0m\u001b[0;34m\u001b[0m\u001b[0;34m\u001b[0m\u001b[0m\n\u001b[1;32m    182\u001b[0m                 \u001b[0mresult\u001b[0m \u001b[0;34m=\u001b[0m \u001b[0mcoro\u001b[0m\u001b[0;34m.\u001b[0m\u001b[0mthrow\u001b[0m\u001b[0;34m(\u001b[0m\u001b[0mexc\u001b[0m\u001b[0;34m)\u001b[0m\u001b[0;34m\u001b[0m\u001b[0;34m\u001b[0m\u001b[0m\n",
      "\u001b[0;32m~/.pyenv/versions/3.6.10/lib/python3.6/site-packages/ib_insync/ib.py\u001b[0m in \u001b[0;36mcalculateOptionPriceAsync\u001b[0;34m(self, contract, volatility, underPrice, optPrcOptions)\u001b[0m\n\u001b[1;32m   1948\u001b[0m         \u001b[0mfuture\u001b[0m \u001b[0;34m=\u001b[0m \u001b[0mself\u001b[0m\u001b[0;34m.\u001b[0m\u001b[0mwrapper\u001b[0m\u001b[0;34m.\u001b[0m\u001b[0mstartReq\u001b[0m\u001b[0;34m(\u001b[0m\u001b[0mreqId\u001b[0m\u001b[0;34m,\u001b[0m \u001b[0mcontract\u001b[0m\u001b[0;34m)\u001b[0m\u001b[0;34m\u001b[0m\u001b[0;34m\u001b[0m\u001b[0m\n\u001b[1;32m   1949\u001b[0m         self.client.calculateOptionPrice(\n\u001b[0;32m-> 1950\u001b[0;31m             reqId, contract, volatility, underPrice, optPrcOptions)\n\u001b[0m\u001b[1;32m   1951\u001b[0m         \u001b[0;32mtry\u001b[0m\u001b[0;34m:\u001b[0m\u001b[0;34m\u001b[0m\u001b[0;34m\u001b[0m\u001b[0m\n\u001b[1;32m   1952\u001b[0m             \u001b[0mawait\u001b[0m \u001b[0masyncio\u001b[0m\u001b[0;34m.\u001b[0m\u001b[0mwait_for\u001b[0m\u001b[0;34m(\u001b[0m\u001b[0mfuture\u001b[0m\u001b[0;34m,\u001b[0m \u001b[0;36m4\u001b[0m\u001b[0;34m)\u001b[0m\u001b[0;34m\u001b[0m\u001b[0;34m\u001b[0m\u001b[0m\n",
      "\u001b[0;32m~/.pyenv/versions/3.6.10/lib/python3.6/site-packages/ib_insync/client.py\u001b[0m in \u001b[0;36mcalculateOptionPrice\u001b[0;34m(self, reqId, contract, volatility, underPrice, optPrcOptions)\u001b[0m\n\u001b[1;32m    815\u001b[0m         self.send(\n\u001b[1;32m    816\u001b[0m             \u001b[0;36m55\u001b[0m\u001b[0;34m,\u001b[0m \u001b[0;36m3\u001b[0m\u001b[0;34m,\u001b[0m \u001b[0mreqId\u001b[0m\u001b[0;34m,\u001b[0m \u001b[0mcontract\u001b[0m\u001b[0;34m,\u001b[0m \u001b[0mvolatility\u001b[0m\u001b[0;34m,\u001b[0m \u001b[0munderPrice\u001b[0m\u001b[0;34m,\u001b[0m\u001b[0;34m\u001b[0m\u001b[0;34m\u001b[0m\u001b[0m\n\u001b[0;32m--> 817\u001b[0;31m             len(optPrcOptions), optPrcOptions)\n\u001b[0m\u001b[1;32m    818\u001b[0m \u001b[0;34m\u001b[0m\u001b[0m\n\u001b[1;32m    819\u001b[0m     \u001b[0;32mdef\u001b[0m \u001b[0mcancelCalculateImpliedVolatility\u001b[0m\u001b[0;34m(\u001b[0m\u001b[0mself\u001b[0m\u001b[0;34m,\u001b[0m \u001b[0mreqId\u001b[0m\u001b[0;34m)\u001b[0m\u001b[0;34m:\u001b[0m\u001b[0;34m\u001b[0m\u001b[0;34m\u001b[0m\u001b[0m\n",
      "\u001b[0;31mTypeError\u001b[0m: object of type 'NoneType' has no len()"
     ]
    }
   ],
   "source": [
    "option = Option('INTC', '20201002', 51.0, 'P', 'SMART', multiplier=100)\n",
    "\n",
    "\n",
    "calc = ib.calculateOptionPrice(\n",
    "    option, volatility=0.14, underPrice=49.88)\n",
    "calc"
   ]
  },
  {
   "cell_type": "code",
   "execution_count": null,
   "metadata": {},
   "outputs": [],
   "source": []
  },
  {
   "cell_type": "code",
   "execution_count": null,
   "metadata": {},
   "outputs": [],
   "source": []
  },
  {
   "cell_type": "code",
   "execution_count": 200,
   "metadata": {},
   "outputs": [
    {
     "output_type": "error",
     "ename": "TypeError",
     "evalue": "bad operand type for abs(): 'NoneType'",
     "traceback": [
      "\u001b[0;31m---------------------------------------------------------------------------\u001b[0m",
      "\u001b[0;31mTypeError\u001b[0m                                 Traceback (most recent call last)",
      "\u001b[0;32m<ipython-input-200-4e7c80371236>\u001b[0m in \u001b[0;36m<module>\u001b[0;34m\u001b[0m\n\u001b[1;32m      1\u001b[0m currentWeekPut = df[(df['right'] == 'P') & (\n\u001b[1;32m      2\u001b[0m         df['lastTradeDateOrContractMonth'] == expirations[0])]\n\u001b[0;32m----> 3\u001b[0;31m \u001b[0mcurrentWeekPut\u001b[0m\u001b[0;34m.\u001b[0m\u001b[0mloc\u001b[0m\u001b[0;34m[\u001b[0m\u001b[0;34m(\u001b[0m\u001b[0mabs\u001b[0m\u001b[0;34m(\u001b[0m\u001b[0mabs\u001b[0m\u001b[0;34m(\u001b[0m\u001b[0mcurrentWeekPut\u001b[0m\u001b[0;34m.\u001b[0m\u001b[0mdelta\u001b[0m\u001b[0;34m)\u001b[0m\u001b[0;34m-\u001b[0m\u001b[0;36m0.2\u001b[0m\u001b[0;34m)\u001b[0m\u001b[0;34m)\u001b[0m\u001b[0;34m.\u001b[0m\u001b[0msort_values\u001b[0m\u001b[0;34m(\u001b[0m\u001b[0;34m)\u001b[0m\u001b[0;34m.\u001b[0m\u001b[0mindex\u001b[0m\u001b[0;34m]\u001b[0m\u001b[0;34m.\u001b[0m\u001b[0mhead\u001b[0m\u001b[0;34m(\u001b[0m\u001b[0;36m2\u001b[0m\u001b[0;34m)\u001b[0m\u001b[0;34m\u001b[0m\u001b[0;34m\u001b[0m\u001b[0m\n\u001b[0m",
      "\u001b[0;32m~/.pyenv/versions/3.6.10/lib/python3.6/site-packages/pandas/core/generic.py\u001b[0m in \u001b[0;36m__abs__\u001b[0;34m(self)\u001b[0m\n\u001b[1;32m   1508\u001b[0m \u001b[0;34m\u001b[0m\u001b[0m\n\u001b[1;32m   1509\u001b[0m     \u001b[0;32mdef\u001b[0m \u001b[0m__abs__\u001b[0m\u001b[0;34m(\u001b[0m\u001b[0mself\u001b[0m\u001b[0;34m:\u001b[0m \u001b[0mFrameOrSeries\u001b[0m\u001b[0;34m)\u001b[0m \u001b[0;34m->\u001b[0m \u001b[0mFrameOrSeries\u001b[0m\u001b[0;34m:\u001b[0m\u001b[0;34m\u001b[0m\u001b[0;34m\u001b[0m\u001b[0m\n\u001b[0;32m-> 1510\u001b[0;31m         \u001b[0;32mreturn\u001b[0m \u001b[0mself\u001b[0m\u001b[0;34m.\u001b[0m\u001b[0mabs\u001b[0m\u001b[0;34m(\u001b[0m\u001b[0;34m)\u001b[0m\u001b[0;34m\u001b[0m\u001b[0;34m\u001b[0m\u001b[0m\n\u001b[0m\u001b[1;32m   1511\u001b[0m \u001b[0;34m\u001b[0m\u001b[0m\n\u001b[1;32m   1512\u001b[0m     \u001b[0;32mdef\u001b[0m \u001b[0m__round__\u001b[0m\u001b[0;34m(\u001b[0m\u001b[0mself\u001b[0m\u001b[0;34m:\u001b[0m \u001b[0mFrameOrSeries\u001b[0m\u001b[0;34m,\u001b[0m \u001b[0mdecimals\u001b[0m\u001b[0;34m:\u001b[0m \u001b[0mint\u001b[0m \u001b[0;34m=\u001b[0m \u001b[0;36m0\u001b[0m\u001b[0;34m)\u001b[0m \u001b[0;34m->\u001b[0m \u001b[0mFrameOrSeries\u001b[0m\u001b[0;34m:\u001b[0m\u001b[0;34m\u001b[0m\u001b[0;34m\u001b[0m\u001b[0m\n",
      "\u001b[0;32m~/.pyenv/versions/3.6.10/lib/python3.6/site-packages/pandas/core/generic.py\u001b[0m in \u001b[0;36mabs\u001b[0;34m(self)\u001b[0m\n\u001b[1;32m   9598\u001b[0m         \u001b[0;36m3\u001b[0m    \u001b[0;36m7\u001b[0m   \u001b[0;36m40\u001b[0m  \u001b[0;34m-\u001b[0m\u001b[0;36m50\u001b[0m\u001b[0;34m\u001b[0m\u001b[0;34m\u001b[0m\u001b[0m\n\u001b[1;32m   9599\u001b[0m         \"\"\"\n\u001b[0;32m-> 9600\u001b[0;31m         \u001b[0;32mreturn\u001b[0m \u001b[0mnp\u001b[0m\u001b[0;34m.\u001b[0m\u001b[0mabs\u001b[0m\u001b[0;34m(\u001b[0m\u001b[0mself\u001b[0m\u001b[0;34m)\u001b[0m\u001b[0;34m\u001b[0m\u001b[0;34m\u001b[0m\u001b[0m\n\u001b[0m\u001b[1;32m   9601\u001b[0m \u001b[0;34m\u001b[0m\u001b[0m\n\u001b[1;32m   9602\u001b[0m     def describe(\n",
      "\u001b[0;32m~/.pyenv/versions/3.6.10/lib/python3.6/site-packages/pandas/core/series.py\u001b[0m in \u001b[0;36m__array_ufunc__\u001b[0;34m(self, ufunc, method, *inputs, **kwargs)\u001b[0m\n\u001b[1;32m    677\u001b[0m \u001b[0;34m\u001b[0m\u001b[0m\n\u001b[1;32m    678\u001b[0m         \u001b[0minputs\u001b[0m \u001b[0;34m=\u001b[0m \u001b[0mtuple\u001b[0m\u001b[0;34m(\u001b[0m\u001b[0mextract_array\u001b[0m\u001b[0;34m(\u001b[0m\u001b[0mx\u001b[0m\u001b[0;34m,\u001b[0m \u001b[0mextract_numpy\u001b[0m\u001b[0;34m=\u001b[0m\u001b[0;32mTrue\u001b[0m\u001b[0;34m)\u001b[0m \u001b[0;32mfor\u001b[0m \u001b[0mx\u001b[0m \u001b[0;32min\u001b[0m \u001b[0minputs\u001b[0m\u001b[0;34m)\u001b[0m\u001b[0;34m\u001b[0m\u001b[0;34m\u001b[0m\u001b[0m\n\u001b[0;32m--> 679\u001b[0;31m         \u001b[0mresult\u001b[0m \u001b[0;34m=\u001b[0m \u001b[0mgetattr\u001b[0m\u001b[0;34m(\u001b[0m\u001b[0mufunc\u001b[0m\u001b[0;34m,\u001b[0m \u001b[0mmethod\u001b[0m\u001b[0;34m)\u001b[0m\u001b[0;34m(\u001b[0m\u001b[0;34m*\u001b[0m\u001b[0minputs\u001b[0m\u001b[0;34m,\u001b[0m \u001b[0;34m**\u001b[0m\u001b[0mkwargs\u001b[0m\u001b[0;34m)\u001b[0m\u001b[0;34m\u001b[0m\u001b[0;34m\u001b[0m\u001b[0m\n\u001b[0m\u001b[1;32m    680\u001b[0m \u001b[0;34m\u001b[0m\u001b[0m\n\u001b[1;32m    681\u001b[0m         \u001b[0mname\u001b[0m\u001b[0;34m:\u001b[0m \u001b[0mOptional\u001b[0m\u001b[0;34m[\u001b[0m\u001b[0mHashable\u001b[0m\u001b[0;34m]\u001b[0m\u001b[0;34m\u001b[0m\u001b[0;34m\u001b[0m\u001b[0m\n",
      "\u001b[0;31mTypeError\u001b[0m: bad operand type for abs(): 'NoneType'"
     ]
    }
   ],
   "source": [
    "currentWeekPut = df[(df['right'] == 'P') & (\n",
    "        df['lastTradeDateOrContractMonth'] == expirations[0])]\n",
    "currentWeekPut.loc[(abs(abs(currentWeekPut.delta)-0.2)).sort_values().index].head(2)"
   ]
  },
  {
   "cell_type": "code",
   "execution_count": null,
   "metadata": {},
   "outputs": [],
   "source": []
  },
  {
   "cell_type": "code",
   "execution_count": null,
   "metadata": {},
   "outputs": [],
   "source": []
  },
  {
   "cell_type": "code",
   "execution_count": null,
   "metadata": {},
   "outputs": [],
   "source": []
  },
  {
   "cell_type": "code",
   "execution_count": 178,
   "metadata": {},
   "outputs": [
    {
     "output_type": "execute_result",
     "data": {
      "text/plain": "               conId symbol lastTradeDateOrContractMonth  strike right  \\\nconId                                                                    \n438474139  438474139   INTC                     20200925    48.5     P   \n438474180  438474180   INTC                     20200925    49.0     P   \n\n           timeToExpiration   bid   ask  bidSize  askSize  lastSize  volume  \\\nconId                                                                         \n438474139                 4  0.24  0.27     11.0       38       NaN     NaN   \n438474180                 4  0.34  0.40     91.0       37       NaN     NaN   \n\n           marketPrice    spread  optionYield  impliedVol     delta     gamma  \\\nconId                                                                           \n438474139        0.255  0.111111     0.005112    0.269849 -0.167158  0.169618   \n438474180        0.370  0.150000     0.007417    0.260735 -0.260880  0.228428   \n\n               vega     theta  \nconId                          \n438474139  0.014409 -0.042078  \n438474180  0.017005 -0.052897  ",
      "text/html": "<div>\n<style scoped>\n    .dataframe tbody tr th:only-of-type {\n        vertical-align: middle;\n    }\n\n    .dataframe tbody tr th {\n        vertical-align: top;\n    }\n\n    .dataframe thead th {\n        text-align: right;\n    }\n</style>\n<table border=\"1\" class=\"dataframe\">\n  <thead>\n    <tr style=\"text-align: right;\">\n      <th></th>\n      <th>conId</th>\n      <th>symbol</th>\n      <th>lastTradeDateOrContractMonth</th>\n      <th>strike</th>\n      <th>right</th>\n      <th>timeToExpiration</th>\n      <th>bid</th>\n      <th>ask</th>\n      <th>bidSize</th>\n      <th>askSize</th>\n      <th>lastSize</th>\n      <th>volume</th>\n      <th>marketPrice</th>\n      <th>spread</th>\n      <th>optionYield</th>\n      <th>impliedVol</th>\n      <th>delta</th>\n      <th>gamma</th>\n      <th>vega</th>\n      <th>theta</th>\n    </tr>\n    <tr>\n      <th>conId</th>\n      <th></th>\n      <th></th>\n      <th></th>\n      <th></th>\n      <th></th>\n      <th></th>\n      <th></th>\n      <th></th>\n      <th></th>\n      <th></th>\n      <th></th>\n      <th></th>\n      <th></th>\n      <th></th>\n      <th></th>\n      <th></th>\n      <th></th>\n      <th></th>\n      <th></th>\n      <th></th>\n    </tr>\n  </thead>\n  <tbody>\n    <tr>\n      <th>438474139</th>\n      <td>438474139</td>\n      <td>INTC</td>\n      <td>20200925</td>\n      <td>48.5</td>\n      <td>P</td>\n      <td>4</td>\n      <td>0.24</td>\n      <td>0.27</td>\n      <td>11.0</td>\n      <td>38</td>\n      <td>NaN</td>\n      <td>NaN</td>\n      <td>0.255</td>\n      <td>0.111111</td>\n      <td>0.005112</td>\n      <td>0.269849</td>\n      <td>-0.167158</td>\n      <td>0.169618</td>\n      <td>0.014409</td>\n      <td>-0.042078</td>\n    </tr>\n    <tr>\n      <th>438474180</th>\n      <td>438474180</td>\n      <td>INTC</td>\n      <td>20200925</td>\n      <td>49.0</td>\n      <td>P</td>\n      <td>4</td>\n      <td>0.34</td>\n      <td>0.40</td>\n      <td>91.0</td>\n      <td>37</td>\n      <td>NaN</td>\n      <td>NaN</td>\n      <td>0.370</td>\n      <td>0.150000</td>\n      <td>0.007417</td>\n      <td>0.260735</td>\n      <td>-0.260880</td>\n      <td>0.228428</td>\n      <td>0.017005</td>\n      <td>-0.052897</td>\n    </tr>\n  </tbody>\n</table>\n</div>"
     },
     "metadata": {},
     "execution_count": 178
    }
   ],
   "source": [
    "df1=df[(df['right']=='P') & (df['lastTradeDateOrContractMonth']==expirations[0])]\n",
    "df1.loc[(abs(abs(df1.delta)-0.2)).sort_values().index].head(2)"
   ]
  },
  {
   "cell_type": "code",
   "execution_count": null,
   "metadata": {},
   "outputs": [],
   "source": []
  },
  {
   "cell_type": "code",
   "execution_count": null,
   "metadata": {},
   "outputs": [],
   "source": []
  },
  {
   "cell_type": "code",
   "execution_count": null,
   "metadata": {},
   "outputs": [],
   "source": []
  },
  {
   "cell_type": "code",
   "execution_count": null,
   "metadata": {},
   "outputs": [],
   "source": []
  },
  {
   "cell_type": "code",
   "execution_count": null,
   "metadata": {},
   "outputs": [],
   "source": []
  },
  {
   "cell_type": "code",
   "execution_count": null,
   "metadata": {},
   "outputs": [],
   "source": []
  },
  {
   "cell_type": "code",
   "execution_count": null,
   "metadata": {},
   "outputs": [],
   "source": []
  },
  {
   "cell_type": "code",
   "execution_count": null,
   "metadata": {},
   "outputs": [],
   "source": []
  },
  {
   "cell_type": "code",
   "execution_count": null,
   "metadata": {},
   "outputs": [],
   "source": []
  },
  {
   "cell_type": "code",
   "execution_count": null,
   "metadata": {},
   "outputs": [],
   "source": []
  },
  {
   "cell_type": "code",
   "execution_count": 152,
   "metadata": {},
   "outputs": [
    {
     "output_type": "execute_result",
     "data": {
      "text/plain": "Int64Index([439458922, 439458929, 439458945, 439458939, 439458902, 439458970,\n            439458958, 439458985, 439458912, 439458979, 439459005, 439458999,\n            439459013, 443506229, 443506219, 443506242, 443506239, 443506253,\n            439458887, 439458893, 439458864, 439458879, 439458849, 439458859,\n            439458834, 439458840, 439458819, 439458825, 439458801, 439458804,\n            439458780, 439458789, 439458746, 439458774, 439719419],\n           dtype='int64', name='conId')"
     },
     "metadata": {},
     "execution_count": 152
    }
   ],
   "source": [
    "(abs(abs(df[(df['right']=='C') & (df['lastTradeDateOrContractMonth']=='20201002')].delta)-0.28)).sort_values().index"
   ]
  },
  {
   "cell_type": "code",
   "execution_count": null,
   "metadata": {},
   "outputs": [],
   "source": [
    "df1.loc"
   ]
  },
  {
   "cell_type": "code",
   "execution_count": null,
   "metadata": {},
   "outputs": [],
   "source": []
  },
  {
   "cell_type": "code",
   "execution_count": null,
   "metadata": {},
   "outputs": [],
   "source": []
  },
  {
   "cell_type": "code",
   "execution_count": null,
   "metadata": {},
   "outputs": [],
   "source": []
  },
  {
   "cell_type": "code",
   "execution_count": null,
   "metadata": {},
   "outputs": [],
   "source": []
  },
  {
   "cell_type": "code",
   "execution_count": null,
   "metadata": {},
   "outputs": [],
   "source": []
  },
  {
   "cell_type": "code",
   "execution_count": null,
   "metadata": {},
   "outputs": [],
   "source": []
  },
  {
   "cell_type": "code",
   "execution_count": null,
   "metadata": {},
   "outputs": [],
   "source": []
  },
  {
   "cell_type": "code",
   "execution_count": null,
   "metadata": {},
   "outputs": [],
   "source": []
  },
  {
   "cell_type": "code",
   "execution_count": 142,
   "metadata": {},
   "outputs": [
    {
     "output_type": "execute_result",
     "data": {
      "text/plain": "['20200925', '20201002']"
     },
     "metadata": {},
     "execution_count": 142
    }
   ],
   "source": [
    "(chain.expirations)[:2]"
   ]
  },
  {
   "cell_type": "code",
   "execution_count": null,
   "metadata": {},
   "outputs": [],
   "source": []
  },
  {
   "cell_type": "code",
   "execution_count": null,
   "metadata": {},
   "outputs": [],
   "source": []
  },
  {
   "cell_type": "code",
   "execution_count": 138,
   "metadata": {},
   "outputs": [
    {
     "output_type": "execute_result",
     "data": {
      "text/plain": "               conId symbol lastTradeDateOrContractMonth  strike right  \\\nconId                                                                    \n438743641  438743641   INTC                     20200925    40.0     P   \n438474051  438474051   INTC                     20200925    42.0     P   \n438474043  438474043   INTC                     20200925    42.5     P   \n438474066  438474066   INTC                     20200925    43.0     P   \n438474057  438474057   INTC                     20200925    43.5     P   \n...              ...    ...                          ...     ...   ...   \n443506229  443506229   INTC                     20201002    57.0     C   \n443506219  443506219   INTC                     20201002    57.5     C   \n443506242  443506242   INTC                     20201002    58.0     C   \n443506239  443506239   INTC                     20201002    58.5     C   \n443506253  443506253   INTC                     20201002    59.0     C   \n\n           timeToExpiration   bid   ask  marketPrice  spread  optionYield  \\\nconId                                                                       \n438743641                 4   NaN  0.12          NaN     NaN          NaN   \n438474051                 4   NaN  0.13          NaN     NaN          NaN   \n438474043                 4   NaN  0.13          NaN     NaN          NaN   \n438474066                 4   NaN  0.03          NaN     NaN          NaN   \n438474057                 4  0.02  0.08        0.050    0.75     0.001002   \n...                     ...   ...   ...          ...     ...          ...   \n443506229                11 -1.00  0.16        0.020    7.25     0.000401   \n443506219                11   NaN  0.15        0.010     NaN     0.000200   \n443506242                11  0.03  0.10        0.065    0.70     0.001303   \n443506239                11   NaN  0.15        0.010     NaN     0.000200   \n443506253                11   NaN  0.15          NaN     NaN          NaN   \n\n           impliedVol     delta     gamma      vega  \nconId                                                \n438743641    0.640276 -0.000693  0.000680  0.000148  \n438474051    0.537178 -0.001530  0.001679  0.000282  \n438474043    0.519117 -0.002084  0.002312  0.000475  \n438474066    0.493525 -0.002709  0.003072  0.000508  \n438474057    0.473984 -0.003732  0.004282  0.000684  \n...               ...       ...       ...       ...  \n443506229    0.363666  0.020297  0.015276  0.004092  \n443506219    0.369362  0.015585  0.012019  0.004110  \n443506242    0.387010  0.014407  0.010748  0.004060  \n443506239    0.385962  0.010457  0.008122  0.002650  \n443506253    0.401168  0.009542  0.007223  0.002661  \n\n[140 rows x 15 columns]",
      "text/html": "<div>\n<style scoped>\n    .dataframe tbody tr th:only-of-type {\n        vertical-align: middle;\n    }\n\n    .dataframe tbody tr th {\n        vertical-align: top;\n    }\n\n    .dataframe thead th {\n        text-align: right;\n    }\n</style>\n<table border=\"1\" class=\"dataframe\">\n  <thead>\n    <tr style=\"text-align: right;\">\n      <th></th>\n      <th>conId</th>\n      <th>symbol</th>\n      <th>lastTradeDateOrContractMonth</th>\n      <th>strike</th>\n      <th>right</th>\n      <th>timeToExpiration</th>\n      <th>bid</th>\n      <th>ask</th>\n      <th>marketPrice</th>\n      <th>spread</th>\n      <th>optionYield</th>\n      <th>impliedVol</th>\n      <th>delta</th>\n      <th>gamma</th>\n      <th>vega</th>\n    </tr>\n    <tr>\n      <th>conId</th>\n      <th></th>\n      <th></th>\n      <th></th>\n      <th></th>\n      <th></th>\n      <th></th>\n      <th></th>\n      <th></th>\n      <th></th>\n      <th></th>\n      <th></th>\n      <th></th>\n      <th></th>\n      <th></th>\n      <th></th>\n    </tr>\n  </thead>\n  <tbody>\n    <tr>\n      <th>438743641</th>\n      <td>438743641</td>\n      <td>INTC</td>\n      <td>20200925</td>\n      <td>40.0</td>\n      <td>P</td>\n      <td>4</td>\n      <td>NaN</td>\n      <td>0.12</td>\n      <td>NaN</td>\n      <td>NaN</td>\n      <td>NaN</td>\n      <td>0.640276</td>\n      <td>-0.000693</td>\n      <td>0.000680</td>\n      <td>0.000148</td>\n    </tr>\n    <tr>\n      <th>438474051</th>\n      <td>438474051</td>\n      <td>INTC</td>\n      <td>20200925</td>\n      <td>42.0</td>\n      <td>P</td>\n      <td>4</td>\n      <td>NaN</td>\n      <td>0.13</td>\n      <td>NaN</td>\n      <td>NaN</td>\n      <td>NaN</td>\n      <td>0.537178</td>\n      <td>-0.001530</td>\n      <td>0.001679</td>\n      <td>0.000282</td>\n    </tr>\n    <tr>\n      <th>438474043</th>\n      <td>438474043</td>\n      <td>INTC</td>\n      <td>20200925</td>\n      <td>42.5</td>\n      <td>P</td>\n      <td>4</td>\n      <td>NaN</td>\n      <td>0.13</td>\n      <td>NaN</td>\n      <td>NaN</td>\n      <td>NaN</td>\n      <td>0.519117</td>\n      <td>-0.002084</td>\n      <td>0.002312</td>\n      <td>0.000475</td>\n    </tr>\n    <tr>\n      <th>438474066</th>\n      <td>438474066</td>\n      <td>INTC</td>\n      <td>20200925</td>\n      <td>43.0</td>\n      <td>P</td>\n      <td>4</td>\n      <td>NaN</td>\n      <td>0.03</td>\n      <td>NaN</td>\n      <td>NaN</td>\n      <td>NaN</td>\n      <td>0.493525</td>\n      <td>-0.002709</td>\n      <td>0.003072</td>\n      <td>0.000508</td>\n    </tr>\n    <tr>\n      <th>438474057</th>\n      <td>438474057</td>\n      <td>INTC</td>\n      <td>20200925</td>\n      <td>43.5</td>\n      <td>P</td>\n      <td>4</td>\n      <td>0.02</td>\n      <td>0.08</td>\n      <td>0.050</td>\n      <td>0.75</td>\n      <td>0.001002</td>\n      <td>0.473984</td>\n      <td>-0.003732</td>\n      <td>0.004282</td>\n      <td>0.000684</td>\n    </tr>\n    <tr>\n      <th>...</th>\n      <td>...</td>\n      <td>...</td>\n      <td>...</td>\n      <td>...</td>\n      <td>...</td>\n      <td>...</td>\n      <td>...</td>\n      <td>...</td>\n      <td>...</td>\n      <td>...</td>\n      <td>...</td>\n      <td>...</td>\n      <td>...</td>\n      <td>...</td>\n      <td>...</td>\n    </tr>\n    <tr>\n      <th>443506229</th>\n      <td>443506229</td>\n      <td>INTC</td>\n      <td>20201002</td>\n      <td>57.0</td>\n      <td>C</td>\n      <td>11</td>\n      <td>-1.00</td>\n      <td>0.16</td>\n      <td>0.020</td>\n      <td>7.25</td>\n      <td>0.000401</td>\n      <td>0.363666</td>\n      <td>0.020297</td>\n      <td>0.015276</td>\n      <td>0.004092</td>\n    </tr>\n    <tr>\n      <th>443506219</th>\n      <td>443506219</td>\n      <td>INTC</td>\n      <td>20201002</td>\n      <td>57.5</td>\n      <td>C</td>\n      <td>11</td>\n      <td>NaN</td>\n      <td>0.15</td>\n      <td>0.010</td>\n      <td>NaN</td>\n      <td>0.000200</td>\n      <td>0.369362</td>\n      <td>0.015585</td>\n      <td>0.012019</td>\n      <td>0.004110</td>\n    </tr>\n    <tr>\n      <th>443506242</th>\n      <td>443506242</td>\n      <td>INTC</td>\n      <td>20201002</td>\n      <td>58.0</td>\n      <td>C</td>\n      <td>11</td>\n      <td>0.03</td>\n      <td>0.10</td>\n      <td>0.065</td>\n      <td>0.70</td>\n      <td>0.001303</td>\n      <td>0.387010</td>\n      <td>0.014407</td>\n      <td>0.010748</td>\n      <td>0.004060</td>\n    </tr>\n    <tr>\n      <th>443506239</th>\n      <td>443506239</td>\n      <td>INTC</td>\n      <td>20201002</td>\n      <td>58.5</td>\n      <td>C</td>\n      <td>11</td>\n      <td>NaN</td>\n      <td>0.15</td>\n      <td>0.010</td>\n      <td>NaN</td>\n      <td>0.000200</td>\n      <td>0.385962</td>\n      <td>0.010457</td>\n      <td>0.008122</td>\n      <td>0.002650</td>\n    </tr>\n    <tr>\n      <th>443506253</th>\n      <td>443506253</td>\n      <td>INTC</td>\n      <td>20201002</td>\n      <td>59.0</td>\n      <td>C</td>\n      <td>11</td>\n      <td>NaN</td>\n      <td>0.15</td>\n      <td>NaN</td>\n      <td>NaN</td>\n      <td>NaN</td>\n      <td>0.401168</td>\n      <td>0.009542</td>\n      <td>0.007223</td>\n      <td>0.002661</td>\n    </tr>\n  </tbody>\n</table>\n<p>140 rows × 15 columns</p>\n</div>"
     },
     "metadata": {},
     "execution_count": 138
    }
   ],
   "source": [
    "df"
   ]
  },
  {
   "cell_type": "code",
   "execution_count": null,
   "metadata": {},
   "outputs": [],
   "source": []
  },
  {
   "cell_type": "code",
   "execution_count": null,
   "metadata": {},
   "outputs": [],
   "source": []
  },
  {
   "cell_type": "code",
   "execution_count": null,
   "metadata": {},
   "outputs": [],
   "source": []
  },
  {
   "cell_type": "code",
   "execution_count": null,
   "metadata": {},
   "outputs": [],
   "source": []
  },
  {
   "cell_type": "code",
   "execution_count": null,
   "metadata": {},
   "outputs": [],
   "source": []
  },
  {
   "cell_type": "code",
   "execution_count": null,
   "metadata": {},
   "outputs": [],
   "source": []
  },
  {
   "cell_type": "code",
   "execution_count": null,
   "metadata": {},
   "outputs": [],
   "source": []
  },
  {
   "cell_type": "code",
   "execution_count": null,
   "metadata": {},
   "outputs": [],
   "source": []
  },
  {
   "cell_type": "code",
   "execution_count": null,
   "metadata": {},
   "outputs": [],
   "source": []
  },
  {
   "cell_type": "code",
   "execution_count": null,
   "metadata": {},
   "outputs": [],
   "source": []
  },
  {
   "cell_type": "code",
   "execution_count": null,
   "metadata": {},
   "outputs": [],
   "source": []
  },
  {
   "cell_type": "code",
   "execution_count": null,
   "metadata": {},
   "outputs": [],
   "source": []
  },
  {
   "cell_type": "code",
   "execution_count": null,
   "metadata": {},
   "outputs": [],
   "source": []
  },
  {
   "cell_type": "code",
   "execution_count": null,
   "metadata": {},
   "outputs": [],
   "source": []
  },
  {
   "cell_type": "code",
   "execution_count": null,
   "metadata": {},
   "outputs": [],
   "source": []
  },
  {
   "cell_type": "code",
   "execution_count": null,
   "metadata": {},
   "outputs": [],
   "source": []
  },
  {
   "cell_type": "code",
   "execution_count": null,
   "metadata": {},
   "outputs": [],
   "source": []
  },
  {
   "cell_type": "code",
   "execution_count": null,
   "metadata": {},
   "outputs": [],
   "source": []
  },
  {
   "cell_type": "code",
   "execution_count": null,
   "metadata": {},
   "outputs": [],
   "source": []
  },
  {
   "cell_type": "code",
   "execution_count": null,
   "metadata": {},
   "outputs": [],
   "source": []
  },
  {
   "cell_type": "code",
   "execution_count": null,
   "metadata": {},
   "outputs": [],
   "source": []
  },
  {
   "cell_type": "code",
   "execution_count": null,
   "metadata": {},
   "outputs": [],
   "source": []
  },
  {
   "cell_type": "code",
   "execution_count": 108,
   "metadata": {},
   "outputs": [
    {
     "output_type": "execute_result",
     "data": {
      "text/plain": "               conId symbol lastTradeDateOrContractMonth  strike right  \\\nconId                                                                    \n438474197  438474197   INTC                     20200925    50.5     P   \n439459179  439459179   INTC                     20201002    50.5     P   \n442258010  442258010   INTC                     20201009    50.5     P   \n438474211  438474211   INTC                     20200925    50.0     P   \n439459194  439459194   INTC                     20201002    50.0     P   \n442258022  442258022   INTC                     20201009    50.0     P   \n442257971  442257971   INTC                     20201009    49.5     P   \n439459154  439459154   INTC                     20201002    49.5     P   \n438474166  438474166   INTC                     20200925    49.5     P   \n442257988  442257988   INTC                     20201009    49.0     P   \n439459169  439459169   INTC                     20201002    49.0     P   \n442257940  442257940   INTC                     20201009    48.5     P   \n439459124  439459124   INTC                     20201002    48.5     P   \n438474180  438474180   INTC                     20200925    49.0     P   \n442257960  442257960   INTC                     20201009    48.0     P   \n439459142  439459142   INTC                     20201002    48.0     P   \n438474139  438474139   INTC                     20200925    48.5     P   \n438474152  438474152   INTC                     20200925    48.0     P   \n438473917  438473917   INTC                     20200925    50.5     C   \n439458902  439458902   INTC                     20201002    50.5     C   \n442257556  442257556   INTC                     20201009    50.5     C   \n438473925  438473925   INTC                     20200925    50.0     C   \n439458912  439458912   INTC                     20201002    50.0     C   \n442257570  442257570   INTC                     20201009    50.0     C   \n442257541  442257541   INTC                     20201009    49.5     C   \n439458887  439458887   INTC                     20201002    49.5     C   \n438473906  438473906   INTC                     20200925    49.5     C   \n442257551  442257551   INTC                     20201009    49.0     C   \n439458893  439458893   INTC                     20201002    49.0     C   \n442257520  442257520   INTC                     20201009    48.5     C   \n439458864  439458864   INTC                     20201002    48.5     C   \n438473912  438473912   INTC                     20200925    49.0     C   \n442257530  442257530   INTC                     20201009    48.0     C   \n439458879  439458879   INTC                     20201002    48.0     C   \n438473894  438473894   INTC                     20200925    48.5     C   \n438473900  438473900   INTC                     20200925    48.0     C   \n\n           timeToExpiration   bid   ask  marketPrice    spread  optionYield  \\\nconId                                                                         \n438474197                 4  1.02  1.09        1.055  0.064220     0.021149   \n439459179                11  1.20  1.55        1.375  0.225806     0.027563   \n442258010                18  1.44  1.83        1.635  0.213115     0.032775   \n438474211                 4  0.73  0.83        0.780  0.120482     0.015636   \n439459194                11  0.95  1.26        1.105  0.246032     0.022151   \n442258022                18  1.23  1.52        1.375  0.190789     0.027563   \n442257971                18  0.96  1.28        1.120  0.250000     0.022452   \n439459154                11  0.75  1.04        0.895  0.278846     0.017941   \n438474166                 4  0.51  0.57        0.540  0.105263     0.010825   \n442257988                18  0.78  1.06        0.920  0.264151     0.018442   \n439459169                11  0.57  0.71        0.640  0.197183     0.012830   \n442257940                18  0.63  0.87        0.750  0.275862     0.015035   \n439459124                11  0.41  0.66        0.535  0.378788     0.010725   \n438474180                 4  0.34  0.40        0.370  0.150000     0.007417   \n442257960                18  0.53  0.74        0.635  0.283784     0.012729   \n439459142                11  0.41  0.50        0.455  0.180000     0.009121   \n438474139                 4  0.24  0.27        0.255  0.111111     0.005112   \n438474152                 4  0.17  0.20        0.185  0.150000     0.003709   \n438473917                 4  0.41  0.45        0.430  0.088889     0.008620   \n439458902                11  0.75  0.90        0.825  0.166667     0.016538   \n442257556                18  0.93  1.16        1.045  0.198276     0.020948   \n438473925                 4  0.63  0.70        0.665  0.100000     0.013331   \n439458912                11  1.00  1.14        1.070  0.122807     0.021449   \n442257570                18  1.16  1.37        1.265  0.153285     0.025358   \n442257541                18  1.39  1.83        1.610  0.240437     0.032274   \n439458887                11  1.14  1.42        1.280  0.197183     0.025659   \n438473906                 4  0.91  0.97        0.940  0.061856     0.018843   \n442257551                18  1.70  2.12        1.910  0.198113     0.038288   \n439458893                11  1.52  1.63        1.575  0.067485     0.031573   \n442257520                18  2.05  2.41        2.230  0.149378     0.044703   \n439458864                11  1.65  2.03        1.840  0.187192     0.036885   \n438473912                 4  1.20  1.31        1.255  0.083969     0.025158   \n442257530                18  2.31  2.86        2.585  0.192308     0.051819   \n439458879                11  2.28  2.42        2.350  0.057851     0.047108   \n438473894                 4  1.60  1.68        1.640  0.047619     0.032876   \n438473900                 4  2.03  2.07        2.050  0.019324     0.041095   \n\n           impliedVol     delta     gamma      vega  \nconId                                                \n438474197    0.249446 -0.666680  0.265598  0.019571  \n439459179    0.274542 -0.589784  0.160869  0.033990  \n442258010    0.279028 -0.566831  0.128981  0.044070  \n438474211    0.250107 -0.527490  0.289543  0.021954  \n439459194    0.272178 -0.509138  0.166486  0.035197  \n442258022    0.276514 -0.502535  0.131616  0.043853  \n442257971    0.277094 -0.437190  0.129494  0.043627  \n439459154    0.274200 -0.426726  0.162555  0.035016  \n438474166    0.251843 -0.384897  0.276159  0.020984  \n442257988    0.277691 -0.373247  0.124133  0.041698  \n439459169    0.272851 -0.346088  0.153730  0.033467  \n442257940    0.282206 -0.314173  0.114600  0.038289  \n439459124    0.278929 -0.275475  0.136111  0.030731  \n438474180    0.260735 -0.261796  0.227783  0.017239  \n442257960    0.284586 -0.258736  0.103877  0.035412  \n439459142    0.288978 -0.217839  0.115668  0.027107  \n438474139    0.269849 -0.168347  0.169534  0.014479  \n438474152    0.284028 -0.106104  0.117543  0.010135  \n438473917    0.249446  0.333366  0.265567  0.019571  \n439458902    0.274542  0.410274  0.160845  0.033991  \n442257556    0.279028  0.433239  0.128956  0.044078  \n438473925    0.250107  0.472542  0.289518  0.021954  \n439458912    0.272178  0.490910  0.166464  0.035197  \n442257570    0.276514  0.497523  0.131595  0.043853  \n442257541    0.277094  0.562857  0.129475  0.043627  \n439458887    0.274200  0.573312  0.162537  0.035016  \n438473906    0.251843  0.615123  0.276141  0.020984  \n442257551    0.277691  0.626791  0.124117  0.041698  \n439458893    0.272851  0.653941  0.153714  0.033467  \n442257520    0.282206  0.685856  0.114586  0.038288  \n439458864    0.278929  0.724546  0.136098  0.030730  \n438473912    0.260735  0.738216  0.227770  0.017236  \n442257530    0.284586  0.741286  0.103865  0.035401  \n439458879    0.288978  0.782177  0.115659  0.027107  \n438473894    0.269849  0.831661  0.169526  0.014479  \n438473900    0.284028  0.893900  0.117538  0.010134  ",
      "text/html": "<div>\n<style scoped>\n    .dataframe tbody tr th:only-of-type {\n        vertical-align: middle;\n    }\n\n    .dataframe tbody tr th {\n        vertical-align: top;\n    }\n\n    .dataframe thead th {\n        text-align: right;\n    }\n</style>\n<table border=\"1\" class=\"dataframe\">\n  <thead>\n    <tr style=\"text-align: right;\">\n      <th></th>\n      <th>conId</th>\n      <th>symbol</th>\n      <th>lastTradeDateOrContractMonth</th>\n      <th>strike</th>\n      <th>right</th>\n      <th>timeToExpiration</th>\n      <th>bid</th>\n      <th>ask</th>\n      <th>marketPrice</th>\n      <th>spread</th>\n      <th>optionYield</th>\n      <th>impliedVol</th>\n      <th>delta</th>\n      <th>gamma</th>\n      <th>vega</th>\n    </tr>\n    <tr>\n      <th>conId</th>\n      <th></th>\n      <th></th>\n      <th></th>\n      <th></th>\n      <th></th>\n      <th></th>\n      <th></th>\n      <th></th>\n      <th></th>\n      <th></th>\n      <th></th>\n      <th></th>\n      <th></th>\n      <th></th>\n      <th></th>\n    </tr>\n  </thead>\n  <tbody>\n    <tr>\n      <th>438474197</th>\n      <td>438474197</td>\n      <td>INTC</td>\n      <td>20200925</td>\n      <td>50.5</td>\n      <td>P</td>\n      <td>4</td>\n      <td>1.02</td>\n      <td>1.09</td>\n      <td>1.055</td>\n      <td>0.064220</td>\n      <td>0.021149</td>\n      <td>0.249446</td>\n      <td>-0.666680</td>\n      <td>0.265598</td>\n      <td>0.019571</td>\n    </tr>\n    <tr>\n      <th>439459179</th>\n      <td>439459179</td>\n      <td>INTC</td>\n      <td>20201002</td>\n      <td>50.5</td>\n      <td>P</td>\n      <td>11</td>\n      <td>1.20</td>\n      <td>1.55</td>\n      <td>1.375</td>\n      <td>0.225806</td>\n      <td>0.027563</td>\n      <td>0.274542</td>\n      <td>-0.589784</td>\n      <td>0.160869</td>\n      <td>0.033990</td>\n    </tr>\n    <tr>\n      <th>442258010</th>\n      <td>442258010</td>\n      <td>INTC</td>\n      <td>20201009</td>\n      <td>50.5</td>\n      <td>P</td>\n      <td>18</td>\n      <td>1.44</td>\n      <td>1.83</td>\n      <td>1.635</td>\n      <td>0.213115</td>\n      <td>0.032775</td>\n      <td>0.279028</td>\n      <td>-0.566831</td>\n      <td>0.128981</td>\n      <td>0.044070</td>\n    </tr>\n    <tr>\n      <th>438474211</th>\n      <td>438474211</td>\n      <td>INTC</td>\n      <td>20200925</td>\n      <td>50.0</td>\n      <td>P</td>\n      <td>4</td>\n      <td>0.73</td>\n      <td>0.83</td>\n      <td>0.780</td>\n      <td>0.120482</td>\n      <td>0.015636</td>\n      <td>0.250107</td>\n      <td>-0.527490</td>\n      <td>0.289543</td>\n      <td>0.021954</td>\n    </tr>\n    <tr>\n      <th>439459194</th>\n      <td>439459194</td>\n      <td>INTC</td>\n      <td>20201002</td>\n      <td>50.0</td>\n      <td>P</td>\n      <td>11</td>\n      <td>0.95</td>\n      <td>1.26</td>\n      <td>1.105</td>\n      <td>0.246032</td>\n      <td>0.022151</td>\n      <td>0.272178</td>\n      <td>-0.509138</td>\n      <td>0.166486</td>\n      <td>0.035197</td>\n    </tr>\n    <tr>\n      <th>442258022</th>\n      <td>442258022</td>\n      <td>INTC</td>\n      <td>20201009</td>\n      <td>50.0</td>\n      <td>P</td>\n      <td>18</td>\n      <td>1.23</td>\n      <td>1.52</td>\n      <td>1.375</td>\n      <td>0.190789</td>\n      <td>0.027563</td>\n      <td>0.276514</td>\n      <td>-0.502535</td>\n      <td>0.131616</td>\n      <td>0.043853</td>\n    </tr>\n    <tr>\n      <th>442257971</th>\n      <td>442257971</td>\n      <td>INTC</td>\n      <td>20201009</td>\n      <td>49.5</td>\n      <td>P</td>\n      <td>18</td>\n      <td>0.96</td>\n      <td>1.28</td>\n      <td>1.120</td>\n      <td>0.250000</td>\n      <td>0.022452</td>\n      <td>0.277094</td>\n      <td>-0.437190</td>\n      <td>0.129494</td>\n      <td>0.043627</td>\n    </tr>\n    <tr>\n      <th>439459154</th>\n      <td>439459154</td>\n      <td>INTC</td>\n      <td>20201002</td>\n      <td>49.5</td>\n      <td>P</td>\n      <td>11</td>\n      <td>0.75</td>\n      <td>1.04</td>\n      <td>0.895</td>\n      <td>0.278846</td>\n      <td>0.017941</td>\n      <td>0.274200</td>\n      <td>-0.426726</td>\n      <td>0.162555</td>\n      <td>0.035016</td>\n    </tr>\n    <tr>\n      <th>438474166</th>\n      <td>438474166</td>\n      <td>INTC</td>\n      <td>20200925</td>\n      <td>49.5</td>\n      <td>P</td>\n      <td>4</td>\n      <td>0.51</td>\n      <td>0.57</td>\n      <td>0.540</td>\n      <td>0.105263</td>\n      <td>0.010825</td>\n      <td>0.251843</td>\n      <td>-0.384897</td>\n      <td>0.276159</td>\n      <td>0.020984</td>\n    </tr>\n    <tr>\n      <th>442257988</th>\n      <td>442257988</td>\n      <td>INTC</td>\n      <td>20201009</td>\n      <td>49.0</td>\n      <td>P</td>\n      <td>18</td>\n      <td>0.78</td>\n      <td>1.06</td>\n      <td>0.920</td>\n      <td>0.264151</td>\n      <td>0.018442</td>\n      <td>0.277691</td>\n      <td>-0.373247</td>\n      <td>0.124133</td>\n      <td>0.041698</td>\n    </tr>\n    <tr>\n      <th>439459169</th>\n      <td>439459169</td>\n      <td>INTC</td>\n      <td>20201002</td>\n      <td>49.0</td>\n      <td>P</td>\n      <td>11</td>\n      <td>0.57</td>\n      <td>0.71</td>\n      <td>0.640</td>\n      <td>0.197183</td>\n      <td>0.012830</td>\n      <td>0.272851</td>\n      <td>-0.346088</td>\n      <td>0.153730</td>\n      <td>0.033467</td>\n    </tr>\n    <tr>\n      <th>442257940</th>\n      <td>442257940</td>\n      <td>INTC</td>\n      <td>20201009</td>\n      <td>48.5</td>\n      <td>P</td>\n      <td>18</td>\n      <td>0.63</td>\n      <td>0.87</td>\n      <td>0.750</td>\n      <td>0.275862</td>\n      <td>0.015035</td>\n      <td>0.282206</td>\n      <td>-0.314173</td>\n      <td>0.114600</td>\n      <td>0.038289</td>\n    </tr>\n    <tr>\n      <th>439459124</th>\n      <td>439459124</td>\n      <td>INTC</td>\n      <td>20201002</td>\n      <td>48.5</td>\n      <td>P</td>\n      <td>11</td>\n      <td>0.41</td>\n      <td>0.66</td>\n      <td>0.535</td>\n      <td>0.378788</td>\n      <td>0.010725</td>\n      <td>0.278929</td>\n      <td>-0.275475</td>\n      <td>0.136111</td>\n      <td>0.030731</td>\n    </tr>\n    <tr>\n      <th>438474180</th>\n      <td>438474180</td>\n      <td>INTC</td>\n      <td>20200925</td>\n      <td>49.0</td>\n      <td>P</td>\n      <td>4</td>\n      <td>0.34</td>\n      <td>0.40</td>\n      <td>0.370</td>\n      <td>0.150000</td>\n      <td>0.007417</td>\n      <td>0.260735</td>\n      <td>-0.261796</td>\n      <td>0.227783</td>\n      <td>0.017239</td>\n    </tr>\n    <tr>\n      <th>442257960</th>\n      <td>442257960</td>\n      <td>INTC</td>\n      <td>20201009</td>\n      <td>48.0</td>\n      <td>P</td>\n      <td>18</td>\n      <td>0.53</td>\n      <td>0.74</td>\n      <td>0.635</td>\n      <td>0.283784</td>\n      <td>0.012729</td>\n      <td>0.284586</td>\n      <td>-0.258736</td>\n      <td>0.103877</td>\n      <td>0.035412</td>\n    </tr>\n    <tr>\n      <th>439459142</th>\n      <td>439459142</td>\n      <td>INTC</td>\n      <td>20201002</td>\n      <td>48.0</td>\n      <td>P</td>\n      <td>11</td>\n      <td>0.41</td>\n      <td>0.50</td>\n      <td>0.455</td>\n      <td>0.180000</td>\n      <td>0.009121</td>\n      <td>0.288978</td>\n      <td>-0.217839</td>\n      <td>0.115668</td>\n      <td>0.027107</td>\n    </tr>\n    <tr>\n      <th>438474139</th>\n      <td>438474139</td>\n      <td>INTC</td>\n      <td>20200925</td>\n      <td>48.5</td>\n      <td>P</td>\n      <td>4</td>\n      <td>0.24</td>\n      <td>0.27</td>\n      <td>0.255</td>\n      <td>0.111111</td>\n      <td>0.005112</td>\n      <td>0.269849</td>\n      <td>-0.168347</td>\n      <td>0.169534</td>\n      <td>0.014479</td>\n    </tr>\n    <tr>\n      <th>438474152</th>\n      <td>438474152</td>\n      <td>INTC</td>\n      <td>20200925</td>\n      <td>48.0</td>\n      <td>P</td>\n      <td>4</td>\n      <td>0.17</td>\n      <td>0.20</td>\n      <td>0.185</td>\n      <td>0.150000</td>\n      <td>0.003709</td>\n      <td>0.284028</td>\n      <td>-0.106104</td>\n      <td>0.117543</td>\n      <td>0.010135</td>\n    </tr>\n    <tr>\n      <th>438473917</th>\n      <td>438473917</td>\n      <td>INTC</td>\n      <td>20200925</td>\n      <td>50.5</td>\n      <td>C</td>\n      <td>4</td>\n      <td>0.41</td>\n      <td>0.45</td>\n      <td>0.430</td>\n      <td>0.088889</td>\n      <td>0.008620</td>\n      <td>0.249446</td>\n      <td>0.333366</td>\n      <td>0.265567</td>\n      <td>0.019571</td>\n    </tr>\n    <tr>\n      <th>439458902</th>\n      <td>439458902</td>\n      <td>INTC</td>\n      <td>20201002</td>\n      <td>50.5</td>\n      <td>C</td>\n      <td>11</td>\n      <td>0.75</td>\n      <td>0.90</td>\n      <td>0.825</td>\n      <td>0.166667</td>\n      <td>0.016538</td>\n      <td>0.274542</td>\n      <td>0.410274</td>\n      <td>0.160845</td>\n      <td>0.033991</td>\n    </tr>\n    <tr>\n      <th>442257556</th>\n      <td>442257556</td>\n      <td>INTC</td>\n      <td>20201009</td>\n      <td>50.5</td>\n      <td>C</td>\n      <td>18</td>\n      <td>0.93</td>\n      <td>1.16</td>\n      <td>1.045</td>\n      <td>0.198276</td>\n      <td>0.020948</td>\n      <td>0.279028</td>\n      <td>0.433239</td>\n      <td>0.128956</td>\n      <td>0.044078</td>\n    </tr>\n    <tr>\n      <th>438473925</th>\n      <td>438473925</td>\n      <td>INTC</td>\n      <td>20200925</td>\n      <td>50.0</td>\n      <td>C</td>\n      <td>4</td>\n      <td>0.63</td>\n      <td>0.70</td>\n      <td>0.665</td>\n      <td>0.100000</td>\n      <td>0.013331</td>\n      <td>0.250107</td>\n      <td>0.472542</td>\n      <td>0.289518</td>\n      <td>0.021954</td>\n    </tr>\n    <tr>\n      <th>439458912</th>\n      <td>439458912</td>\n      <td>INTC</td>\n      <td>20201002</td>\n      <td>50.0</td>\n      <td>C</td>\n      <td>11</td>\n      <td>1.00</td>\n      <td>1.14</td>\n      <td>1.070</td>\n      <td>0.122807</td>\n      <td>0.021449</td>\n      <td>0.272178</td>\n      <td>0.490910</td>\n      <td>0.166464</td>\n      <td>0.035197</td>\n    </tr>\n    <tr>\n      <th>442257570</th>\n      <td>442257570</td>\n      <td>INTC</td>\n      <td>20201009</td>\n      <td>50.0</td>\n      <td>C</td>\n      <td>18</td>\n      <td>1.16</td>\n      <td>1.37</td>\n      <td>1.265</td>\n      <td>0.153285</td>\n      <td>0.025358</td>\n      <td>0.276514</td>\n      <td>0.497523</td>\n      <td>0.131595</td>\n      <td>0.043853</td>\n    </tr>\n    <tr>\n      <th>442257541</th>\n      <td>442257541</td>\n      <td>INTC</td>\n      <td>20201009</td>\n      <td>49.5</td>\n      <td>C</td>\n      <td>18</td>\n      <td>1.39</td>\n      <td>1.83</td>\n      <td>1.610</td>\n      <td>0.240437</td>\n      <td>0.032274</td>\n      <td>0.277094</td>\n      <td>0.562857</td>\n      <td>0.129475</td>\n      <td>0.043627</td>\n    </tr>\n    <tr>\n      <th>439458887</th>\n      <td>439458887</td>\n      <td>INTC</td>\n      <td>20201002</td>\n      <td>49.5</td>\n      <td>C</td>\n      <td>11</td>\n      <td>1.14</td>\n      <td>1.42</td>\n      <td>1.280</td>\n      <td>0.197183</td>\n      <td>0.025659</td>\n      <td>0.274200</td>\n      <td>0.573312</td>\n      <td>0.162537</td>\n      <td>0.035016</td>\n    </tr>\n    <tr>\n      <th>438473906</th>\n      <td>438473906</td>\n      <td>INTC</td>\n      <td>20200925</td>\n      <td>49.5</td>\n      <td>C</td>\n      <td>4</td>\n      <td>0.91</td>\n      <td>0.97</td>\n      <td>0.940</td>\n      <td>0.061856</td>\n      <td>0.018843</td>\n      <td>0.251843</td>\n      <td>0.615123</td>\n      <td>0.276141</td>\n      <td>0.020984</td>\n    </tr>\n    <tr>\n      <th>442257551</th>\n      <td>442257551</td>\n      <td>INTC</td>\n      <td>20201009</td>\n      <td>49.0</td>\n      <td>C</td>\n      <td>18</td>\n      <td>1.70</td>\n      <td>2.12</td>\n      <td>1.910</td>\n      <td>0.198113</td>\n      <td>0.038288</td>\n      <td>0.277691</td>\n      <td>0.626791</td>\n      <td>0.124117</td>\n      <td>0.041698</td>\n    </tr>\n    <tr>\n      <th>439458893</th>\n      <td>439458893</td>\n      <td>INTC</td>\n      <td>20201002</td>\n      <td>49.0</td>\n      <td>C</td>\n      <td>11</td>\n      <td>1.52</td>\n      <td>1.63</td>\n      <td>1.575</td>\n      <td>0.067485</td>\n      <td>0.031573</td>\n      <td>0.272851</td>\n      <td>0.653941</td>\n      <td>0.153714</td>\n      <td>0.033467</td>\n    </tr>\n    <tr>\n      <th>442257520</th>\n      <td>442257520</td>\n      <td>INTC</td>\n      <td>20201009</td>\n      <td>48.5</td>\n      <td>C</td>\n      <td>18</td>\n      <td>2.05</td>\n      <td>2.41</td>\n      <td>2.230</td>\n      <td>0.149378</td>\n      <td>0.044703</td>\n      <td>0.282206</td>\n      <td>0.685856</td>\n      <td>0.114586</td>\n      <td>0.038288</td>\n    </tr>\n    <tr>\n      <th>439458864</th>\n      <td>439458864</td>\n      <td>INTC</td>\n      <td>20201002</td>\n      <td>48.5</td>\n      <td>C</td>\n      <td>11</td>\n      <td>1.65</td>\n      <td>2.03</td>\n      <td>1.840</td>\n      <td>0.187192</td>\n      <td>0.036885</td>\n      <td>0.278929</td>\n      <td>0.724546</td>\n      <td>0.136098</td>\n      <td>0.030730</td>\n    </tr>\n    <tr>\n      <th>438473912</th>\n      <td>438473912</td>\n      <td>INTC</td>\n      <td>20200925</td>\n      <td>49.0</td>\n      <td>C</td>\n      <td>4</td>\n      <td>1.20</td>\n      <td>1.31</td>\n      <td>1.255</td>\n      <td>0.083969</td>\n      <td>0.025158</td>\n      <td>0.260735</td>\n      <td>0.738216</td>\n      <td>0.227770</td>\n      <td>0.017236</td>\n    </tr>\n    <tr>\n      <th>442257530</th>\n      <td>442257530</td>\n      <td>INTC</td>\n      <td>20201009</td>\n      <td>48.0</td>\n      <td>C</td>\n      <td>18</td>\n      <td>2.31</td>\n      <td>2.86</td>\n      <td>2.585</td>\n      <td>0.192308</td>\n      <td>0.051819</td>\n      <td>0.284586</td>\n      <td>0.741286</td>\n      <td>0.103865</td>\n      <td>0.035401</td>\n    </tr>\n    <tr>\n      <th>439458879</th>\n      <td>439458879</td>\n      <td>INTC</td>\n      <td>20201002</td>\n      <td>48.0</td>\n      <td>C</td>\n      <td>11</td>\n      <td>2.28</td>\n      <td>2.42</td>\n      <td>2.350</td>\n      <td>0.057851</td>\n      <td>0.047108</td>\n      <td>0.288978</td>\n      <td>0.782177</td>\n      <td>0.115659</td>\n      <td>0.027107</td>\n    </tr>\n    <tr>\n      <th>438473894</th>\n      <td>438473894</td>\n      <td>INTC</td>\n      <td>20200925</td>\n      <td>48.5</td>\n      <td>C</td>\n      <td>4</td>\n      <td>1.60</td>\n      <td>1.68</td>\n      <td>1.640</td>\n      <td>0.047619</td>\n      <td>0.032876</td>\n      <td>0.269849</td>\n      <td>0.831661</td>\n      <td>0.169526</td>\n      <td>0.014479</td>\n    </tr>\n    <tr>\n      <th>438473900</th>\n      <td>438473900</td>\n      <td>INTC</td>\n      <td>20200925</td>\n      <td>48.0</td>\n      <td>C</td>\n      <td>4</td>\n      <td>2.03</td>\n      <td>2.07</td>\n      <td>2.050</td>\n      <td>0.019324</td>\n      <td>0.041095</td>\n      <td>0.284028</td>\n      <td>0.893900</td>\n      <td>0.117538</td>\n      <td>0.010134</td>\n    </tr>\n  </tbody>\n</table>\n</div>"
     },
     "metadata": {},
     "execution_count": 108
    }
   ],
   "source": [
    "df.loc[(df.delta).sort_values().index]"
   ]
  },
  {
   "cell_type": "code",
   "execution_count": null,
   "metadata": {},
   "outputs": [],
   "source": []
  },
  {
   "cell_type": "code",
   "execution_count": null,
   "metadata": {},
   "outputs": [],
   "source": []
  },
  {
   "cell_type": "code",
   "execution_count": null,
   "metadata": {},
   "outputs": [],
   "source": []
  },
  {
   "cell_type": "code",
   "execution_count": null,
   "metadata": {},
   "outputs": [],
   "source": []
  },
  {
   "cell_type": "code",
   "execution_count": null,
   "metadata": {},
   "outputs": [],
   "source": []
  },
  {
   "cell_type": "code",
   "execution_count": null,
   "metadata": {},
   "outputs": [],
   "source": []
  },
  {
   "cell_type": "code",
   "execution_count": null,
   "metadata": {},
   "outputs": [],
   "source": []
  },
  {
   "cell_type": "code",
   "execution_count": null,
   "metadata": {},
   "outputs": [],
   "source": []
  },
  {
   "cell_type": "code",
   "execution_count": null,
   "metadata": {},
   "outputs": [],
   "source": []
  },
  {
   "cell_type": "code",
   "execution_count": null,
   "metadata": {},
   "outputs": [],
   "source": []
  },
  {
   "cell_type": "code",
   "execution_count": null,
   "metadata": {},
   "outputs": [],
   "source": []
  },
  {
   "cell_type": "code",
   "execution_count": null,
   "metadata": {},
   "outputs": [],
   "source": []
  },
  {
   "cell_type": "code",
   "execution_count": null,
   "metadata": {},
   "outputs": [],
   "source": []
  },
  {
   "cell_type": "code",
   "execution_count": null,
   "metadata": {},
   "outputs": [],
   "source": []
  },
  {
   "cell_type": "code",
   "execution_count": null,
   "metadata": {},
   "outputs": [],
   "source": []
  },
  {
   "cell_type": "code",
   "execution_count": null,
   "metadata": {},
   "outputs": [],
   "source": []
  },
  {
   "cell_type": "code",
   "execution_count": null,
   "metadata": {},
   "outputs": [],
   "source": []
  },
  {
   "cell_type": "code",
   "execution_count": null,
   "metadata": {},
   "outputs": [],
   "source": []
  },
  {
   "cell_type": "code",
   "execution_count": null,
   "metadata": {},
   "outputs": [],
   "source": []
  },
  {
   "cell_type": "code",
   "execution_count": null,
   "metadata": {},
   "outputs": [],
   "source": []
  },
  {
   "cell_type": "code",
   "execution_count": 70,
   "metadata": {
    "tags": []
   },
   "outputs": [
    {
     "output_type": "stream",
     "name": "stdout",
     "text": "<class 'pandas.core.frame.DataFrame'>\nRangeIndex: 36 entries, 0 to 35\nData columns (total 14 columns):\n #   Column                        Non-Null Count  Dtype  \n---  ------                        --------------  -----  \n 0   symbol                        36 non-null     object \n 1   lastTradeDateOrContractMonth  36 non-null     object \n 2   strike                        36 non-null     float64\n 3   right                         36 non-null     object \n 4   timeToExpiration              36 non-null     int64  \n 5   bid                           36 non-null     float64\n 6   ask                           36 non-null     float64\n 7   marketPrice                   36 non-null     float64\n 8   spread                        36 non-null     float64\n 9   optionYield                   36 non-null     float64\n 10  impliedVol                    36 non-null     float64\n 11  delta                         36 non-null     float64\n 12  gamma                         36 non-null     float64\n 13  vega                          36 non-null     float64\ndtypes: float64(10), int64(1), object(3)\nmemory usage: 4.1+ KB\n"
    }
   ],
   "source": [
    "df.info()"
   ]
  },
  {
   "cell_type": "code",
   "execution_count": 79,
   "metadata": {},
   "outputs": [
    {
     "output_type": "execute_result",
     "data": {
      "text/plain": "  symbol lastTradeDateOrContractMonth  strike right  timeToExpiration   bid  \\\n0   INTC                     20200925    48.0     P                 4  0.17   \n1   INTC                     20200925    48.5     P                 4  0.24   \n2   INTC                     20200925    49.0     P                 4  0.34   \n3   INTC                     20200925    49.5     P                 4  0.51   \n4   INTC                     20200925    50.0     P                 4  0.73   \n\n    ask  marketPrice    spread  optionYield  impliedVol     delta     gamma  \\\n0  0.20        0.185  0.150000     0.003709    0.284028 -0.106104  0.117543   \n1  0.27        0.255  0.111111     0.005112    0.269849 -0.168347  0.169534   \n2  0.40        0.370  0.150000     0.007417    0.260735 -0.261796  0.227783   \n3  0.57        0.540  0.105263     0.010825    0.251843 -0.384897  0.276159   \n4  0.83        0.780  0.120482     0.015636    0.250107 -0.527490  0.289543   \n\n       vega  \n0  0.010135  \n1  0.014479  \n2  0.017239  \n3  0.020984  \n4  0.021954  ",
      "text/html": "<div>\n<style scoped>\n    .dataframe tbody tr th:only-of-type {\n        vertical-align: middle;\n    }\n\n    .dataframe tbody tr th {\n        vertical-align: top;\n    }\n\n    .dataframe thead th {\n        text-align: right;\n    }\n</style>\n<table border=\"1\" class=\"dataframe\">\n  <thead>\n    <tr style=\"text-align: right;\">\n      <th></th>\n      <th>symbol</th>\n      <th>lastTradeDateOrContractMonth</th>\n      <th>strike</th>\n      <th>right</th>\n      <th>timeToExpiration</th>\n      <th>bid</th>\n      <th>ask</th>\n      <th>marketPrice</th>\n      <th>spread</th>\n      <th>optionYield</th>\n      <th>impliedVol</th>\n      <th>delta</th>\n      <th>gamma</th>\n      <th>vega</th>\n    </tr>\n  </thead>\n  <tbody>\n    <tr>\n      <th>0</th>\n      <td>INTC</td>\n      <td>20200925</td>\n      <td>48.0</td>\n      <td>P</td>\n      <td>4</td>\n      <td>0.17</td>\n      <td>0.20</td>\n      <td>0.185</td>\n      <td>0.150000</td>\n      <td>0.003709</td>\n      <td>0.284028</td>\n      <td>-0.106104</td>\n      <td>0.117543</td>\n      <td>0.010135</td>\n    </tr>\n    <tr>\n      <th>1</th>\n      <td>INTC</td>\n      <td>20200925</td>\n      <td>48.5</td>\n      <td>P</td>\n      <td>4</td>\n      <td>0.24</td>\n      <td>0.27</td>\n      <td>0.255</td>\n      <td>0.111111</td>\n      <td>0.005112</td>\n      <td>0.269849</td>\n      <td>-0.168347</td>\n      <td>0.169534</td>\n      <td>0.014479</td>\n    </tr>\n    <tr>\n      <th>2</th>\n      <td>INTC</td>\n      <td>20200925</td>\n      <td>49.0</td>\n      <td>P</td>\n      <td>4</td>\n      <td>0.34</td>\n      <td>0.40</td>\n      <td>0.370</td>\n      <td>0.150000</td>\n      <td>0.007417</td>\n      <td>0.260735</td>\n      <td>-0.261796</td>\n      <td>0.227783</td>\n      <td>0.017239</td>\n    </tr>\n    <tr>\n      <th>3</th>\n      <td>INTC</td>\n      <td>20200925</td>\n      <td>49.5</td>\n      <td>P</td>\n      <td>4</td>\n      <td>0.51</td>\n      <td>0.57</td>\n      <td>0.540</td>\n      <td>0.105263</td>\n      <td>0.010825</td>\n      <td>0.251843</td>\n      <td>-0.384897</td>\n      <td>0.276159</td>\n      <td>0.020984</td>\n    </tr>\n    <tr>\n      <th>4</th>\n      <td>INTC</td>\n      <td>20200925</td>\n      <td>50.0</td>\n      <td>P</td>\n      <td>4</td>\n      <td>0.73</td>\n      <td>0.83</td>\n      <td>0.780</td>\n      <td>0.120482</td>\n      <td>0.015636</td>\n      <td>0.250107</td>\n      <td>-0.527490</td>\n      <td>0.289543</td>\n      <td>0.021954</td>\n    </tr>\n  </tbody>\n</table>\n</div>"
     },
     "metadata": {},
     "execution_count": 79
    }
   ],
   "source": [
    "df.head()"
   ]
  },
  {
   "cell_type": "code",
   "execution_count": null,
   "metadata": {},
   "outputs": [],
   "source": []
  },
  {
   "cell_type": "code",
   "execution_count": null,
   "metadata": {},
   "outputs": [],
   "source": []
  },
  {
   "cell_type": "code",
   "execution_count": null,
   "metadata": {},
   "outputs": [],
   "source": []
  },
  {
   "cell_type": "code",
   "execution_count": null,
   "metadata": {},
   "outputs": [],
   "source": []
  },
  {
   "cell_type": "code",
   "execution_count": null,
   "metadata": {},
   "outputs": [],
   "source": []
  },
  {
   "cell_type": "code",
   "execution_count": 205,
   "metadata": {},
   "outputs": [],
   "source": [
    "ib.disconnect()"
   ]
  },
  {
   "cell_type": "code",
   "execution_count": null,
   "metadata": {},
   "outputs": [],
   "source": []
  }
 ],
 "metadata": {
  "kernelspec": {
   "display_name": "Python 3",
   "language": "python",
   "name": "python3"
  },
  "language_info": {
   "codemirror_mode": {
    "name": "ipython",
    "version": 3
   },
   "file_extension": ".py",
   "mimetype": "text/x-python",
   "name": "python",
   "nbconvert_exporter": "python",
   "pygments_lexer": "ipython3",
   "version": "3.6.10-final"
  }
 },
 "nbformat": 4,
 "nbformat_minor": 4
}