{
 "cells": [
  {
   "cell_type": "markdown",
   "metadata": {},
   "source": [
    "Option chains\n",
    "======="
   ]
  },
  {
   "cell_type": "code",
   "execution_count": 1,
   "metadata": {
    "scrolled": true
   },
   "outputs": [
    {
     "output_type": "execute_result",
     "data": {
      "text/plain": "<IB connected to 127.0.0.1:7497 clientId=12>"
     },
     "metadata": {},
     "execution_count": 1
    }
   ],
   "source": [
    "from ib_insync import *\n",
    "util.startLoop()\n",
    "\n",
    "ib = IB()\n",
    "ib.connect('127.0.0.1', 7497, clientId=12,readonly=True)"
   ]
  },
  {
   "cell_type": "markdown",
   "metadata": {},
   "source": [
    "Suppose we want to find the options on the SPX, with the following conditions:\n",
    "\n",
    "* Use the next three monthly expiries;\n",
    "* Use strike prices within +- 20 dollar of the current SPX value;\n",
    "* Use strike prices that are a multitude of 5 dollar."
   ]
  },
  {
   "cell_type": "markdown",
   "metadata": {},
   "source": [
    "To get the current market value, first create a contract for the underlyer (the S&P 500 index):"
   ]
  },
  {
   "cell_type": "code",
   "execution_count": 49,
   "metadata": {},
   "outputs": [
    {
     "output_type": "execute_result",
     "data": {
      "text/plain": "[Stock(conId=270639, symbol='INTC', exchange='SMART', primaryExchange='NASDAQ', currency='USD', localSymbol='INTC', tradingClass='NMS')]"
     },
     "metadata": {},
     "execution_count": 49
    }
   ],
   "source": [
    "intc = Stock('INTC', 'SMART', 'USD')\n",
    "ib.qualifyContracts(intc)"
   ]
  },
  {
   "cell_type": "code",
   "execution_count": 50,
   "metadata": {},
   "outputs": [
    {
     "output_type": "execute_result",
     "data": {
      "text/plain": "Stock(conId=270639, symbol='INTC', exchange='SMART', primaryExchange='NASDAQ', currency='USD', localSymbol='INTC', tradingClass='NMS')"
     },
     "metadata": {},
     "execution_count": 50
    }
   ],
   "source": [
    "intc"
   ]
  },
  {
   "cell_type": "code",
   "execution_count": null,
   "metadata": {},
   "outputs": [],
   "source": []
  },
  {
   "cell_type": "markdown",
   "metadata": {},
   "source": [
    "To avoid issues with market data permissions, we'll use delayed data:"
   ]
  },
  {
   "cell_type": "code",
   "execution_count": 4,
   "metadata": {},
   "outputs": [],
   "source": [
    "ib.reqMarketDataType(4)"
   ]
  },
  {
   "cell_type": "markdown",
   "metadata": {},
   "source": [
    "Then get the ticker. Requesting a ticker can take up to 11 seconds."
   ]
  },
  {
   "cell_type": "code",
   "execution_count": 5,
   "metadata": {},
   "outputs": [
    {
     "output_type": "execute_result",
     "data": {
      "text/plain": "Ticker(contract=Stock(conId=270639, symbol='INTC', exchange='SMART', primaryExchange='NASDAQ', currency='USD', localSymbol='INTC', tradingClass='NMS'), time=datetime.datetime(2020, 9, 10, 8, 17, 59, 686828, tzinfo=datetime.timezone.utc), bid=49.38, bidSize=9, ask=49.5, askSize=3, last=49.18, lastSize=1, volume=91, close=49.62, halted=0.0)"
     },
     "metadata": {},
     "execution_count": 5
    }
   ],
   "source": [
    "[ticker] = ib.reqTickers(intc)\n",
    "ticker"
   ]
  },
  {
   "cell_type": "markdown",
   "metadata": {},
   "source": [
    "Take the current market value of the ticker:"
   ]
  },
  {
   "cell_type": "code",
   "execution_count": 6,
   "metadata": {},
   "outputs": [
    {
     "output_type": "execute_result",
     "data": {
      "text/plain": "49.44"
     },
     "metadata": {},
     "execution_count": 6
    }
   ],
   "source": [
    "intcValue = ticker.marketPrice()\n",
    "intcValue"
   ]
  },
  {
   "cell_type": "markdown",
   "metadata": {},
   "source": [
    "The following request fetches a list of option chains:"
   ]
  },
  {
   "cell_type": "code",
   "execution_count": 7,
   "metadata": {},
   "outputs": [
    {
     "output_type": "execute_result",
     "data": {
      "text/plain": "    exchange underlyingConId tradingClass multiplier  \\\n0      SMART          270639         INTC        100   \n1       EDGX          270639         INTC        100   \n2      CBOE2          270639         INTC        100   \n3        ISE          270639         INTC        100   \n4   NASDAQBX          270639         INTC        100   \n5       MIAX          270639         INTC        100   \n6       CBOE          270639         INTC        100   \n7    MERCURY          270639         INTC        100   \n8   NASDAQOM          270639         INTC        100   \n9       BATS          270639         INTC        100   \n10   EMERALD          270639         INTC        100   \n11     PEARL          270639         INTC        100   \n12      PHLX          270639         INTC        100   \n13      AMEX          270639         INTC        100   \n14    GEMINI          270639         INTC        100   \n15       BOX          270639         INTC        100   \n16       PSE          270639         INTC        100   \n\n                                          expirations  \\\n0   [20200911, 20200918, 20200925, 20201002, 20201...   \n1   [20200911, 20200918, 20200925, 20201002, 20201...   \n2   [20200911, 20200918, 20200925, 20201002, 20201...   \n3   [20200911, 20200918, 20200925, 20201002, 20201...   \n4   [20200911, 20200918, 20200925, 20201002, 20201...   \n5   [20200911, 20200918, 20200925, 20201002, 20201...   \n6   [20200911, 20200918, 20200925, 20201002, 20201...   \n7   [20200911, 20200918, 20200925, 20201002, 20201...   \n8   [20200911, 20200918, 20200925, 20201002, 20201...   \n9   [20200911, 20200918, 20200925, 20201002, 20201...   \n10  [20200911, 20200918, 20200925, 20201002, 20201...   \n11  [20200911, 20200918, 20200925, 20201002, 20201...   \n12  [20200911, 20200918, 20200925, 20201002, 20201...   \n13  [20200911, 20200918, 20200925, 20201002, 20201...   \n14  [20200911, 20200918, 20200925, 20201002, 20201...   \n15  [20200911, 20200918, 20200925, 20201002, 20201...   \n16  [20200911, 20200918, 20200925, 20201002, 20201...   \n\n                                              strikes  \n0   [23.0, 25.0, 27.5, 28.0, 30.0, 32.5, 33.0, 35....  \n1   [23.0, 25.0, 27.5, 28.0, 30.0, 32.5, 33.0, 35....  \n2   [23.0, 25.0, 27.5, 28.0, 30.0, 32.5, 33.0, 35....  \n3   [23.0, 25.0, 27.5, 28.0, 30.0, 32.5, 33.0, 35....  \n4   [23.0, 25.0, 27.5, 28.0, 30.0, 32.5, 33.0, 35....  \n5   [23.0, 25.0, 27.5, 28.0, 30.0, 32.5, 33.0, 35....  \n6   [23.0, 25.0, 27.5, 28.0, 30.0, 32.5, 33.0, 35....  \n7   [23.0, 25.0, 27.5, 28.0, 30.0, 32.5, 33.0, 35....  \n8   [23.0, 25.0, 27.5, 28.0, 30.0, 32.5, 33.0, 35....  \n9   [23.0, 25.0, 27.5, 28.0, 30.0, 32.5, 33.0, 35....  \n10  [23.0, 25.0, 27.5, 28.0, 30.0, 32.5, 33.0, 35....  \n11  [23.0, 25.0, 27.5, 28.0, 30.0, 32.5, 33.0, 35....  \n12  [23.0, 25.0, 27.5, 28.0, 30.0, 32.5, 33.0, 35....  \n13  [23.0, 25.0, 27.5, 28.0, 30.0, 32.5, 33.0, 35....  \n14  [23.0, 25.0, 27.5, 28.0, 30.0, 32.5, 33.0, 35....  \n15  [23.0, 25.0, 27.5, 28.0, 30.0, 32.5, 33.0, 35....  \n16  [23.0, 25.0, 27.5, 28.0, 30.0, 32.5, 33.0, 35....  ",
      "text/html": "<div>\n<style scoped>\n    .dataframe tbody tr th:only-of-type {\n        vertical-align: middle;\n    }\n\n    .dataframe tbody tr th {\n        vertical-align: top;\n    }\n\n    .dataframe thead th {\n        text-align: right;\n    }\n</style>\n<table border=\"1\" class=\"dataframe\">\n  <thead>\n    <tr style=\"text-align: right;\">\n      <th></th>\n      <th>exchange</th>\n      <th>underlyingConId</th>\n      <th>tradingClass</th>\n      <th>multiplier</th>\n      <th>expirations</th>\n      <th>strikes</th>\n    </tr>\n  </thead>\n  <tbody>\n    <tr>\n      <th>0</th>\n      <td>SMART</td>\n      <td>270639</td>\n      <td>INTC</td>\n      <td>100</td>\n      <td>[20200911, 20200918, 20200925, 20201002, 20201...</td>\n      <td>[23.0, 25.0, 27.5, 28.0, 30.0, 32.5, 33.0, 35....</td>\n    </tr>\n    <tr>\n      <th>1</th>\n      <td>EDGX</td>\n      <td>270639</td>\n      <td>INTC</td>\n      <td>100</td>\n      <td>[20200911, 20200918, 20200925, 20201002, 20201...</td>\n      <td>[23.0, 25.0, 27.5, 28.0, 30.0, 32.5, 33.0, 35....</td>\n    </tr>\n    <tr>\n      <th>2</th>\n      <td>CBOE2</td>\n      <td>270639</td>\n      <td>INTC</td>\n      <td>100</td>\n      <td>[20200911, 20200918, 20200925, 20201002, 20201...</td>\n      <td>[23.0, 25.0, 27.5, 28.0, 30.0, 32.5, 33.0, 35....</td>\n    </tr>\n    <tr>\n      <th>3</th>\n      <td>ISE</td>\n      <td>270639</td>\n      <td>INTC</td>\n      <td>100</td>\n      <td>[20200911, 20200918, 20200925, 20201002, 20201...</td>\n      <td>[23.0, 25.0, 27.5, 28.0, 30.0, 32.5, 33.0, 35....</td>\n    </tr>\n    <tr>\n      <th>4</th>\n      <td>NASDAQBX</td>\n      <td>270639</td>\n      <td>INTC</td>\n      <td>100</td>\n      <td>[20200911, 20200918, 20200925, 20201002, 20201...</td>\n      <td>[23.0, 25.0, 27.5, 28.0, 30.0, 32.5, 33.0, 35....</td>\n    </tr>\n    <tr>\n      <th>5</th>\n      <td>MIAX</td>\n      <td>270639</td>\n      <td>INTC</td>\n      <td>100</td>\n      <td>[20200911, 20200918, 20200925, 20201002, 20201...</td>\n      <td>[23.0, 25.0, 27.5, 28.0, 30.0, 32.5, 33.0, 35....</td>\n    </tr>\n    <tr>\n      <th>6</th>\n      <td>CBOE</td>\n      <td>270639</td>\n      <td>INTC</td>\n      <td>100</td>\n      <td>[20200911, 20200918, 20200925, 20201002, 20201...</td>\n      <td>[23.0, 25.0, 27.5, 28.0, 30.0, 32.5, 33.0, 35....</td>\n    </tr>\n    <tr>\n      <th>7</th>\n      <td>MERCURY</td>\n      <td>270639</td>\n      <td>INTC</td>\n      <td>100</td>\n      <td>[20200911, 20200918, 20200925, 20201002, 20201...</td>\n      <td>[23.0, 25.0, 27.5, 28.0, 30.0, 32.5, 33.0, 35....</td>\n    </tr>\n    <tr>\n      <th>8</th>\n      <td>NASDAQOM</td>\n      <td>270639</td>\n      <td>INTC</td>\n      <td>100</td>\n      <td>[20200911, 20200918, 20200925, 20201002, 20201...</td>\n      <td>[23.0, 25.0, 27.5, 28.0, 30.0, 32.5, 33.0, 35....</td>\n    </tr>\n    <tr>\n      <th>9</th>\n      <td>BATS</td>\n      <td>270639</td>\n      <td>INTC</td>\n      <td>100</td>\n      <td>[20200911, 20200918, 20200925, 20201002, 20201...</td>\n      <td>[23.0, 25.0, 27.5, 28.0, 30.0, 32.5, 33.0, 35....</td>\n    </tr>\n    <tr>\n      <th>10</th>\n      <td>EMERALD</td>\n      <td>270639</td>\n      <td>INTC</td>\n      <td>100</td>\n      <td>[20200911, 20200918, 20200925, 20201002, 20201...</td>\n      <td>[23.0, 25.0, 27.5, 28.0, 30.0, 32.5, 33.0, 35....</td>\n    </tr>\n    <tr>\n      <th>11</th>\n      <td>PEARL</td>\n      <td>270639</td>\n      <td>INTC</td>\n      <td>100</td>\n      <td>[20200911, 20200918, 20200925, 20201002, 20201...</td>\n      <td>[23.0, 25.0, 27.5, 28.0, 30.0, 32.5, 33.0, 35....</td>\n    </tr>\n    <tr>\n      <th>12</th>\n      <td>PHLX</td>\n      <td>270639</td>\n      <td>INTC</td>\n      <td>100</td>\n      <td>[20200911, 20200918, 20200925, 20201002, 20201...</td>\n      <td>[23.0, 25.0, 27.5, 28.0, 30.0, 32.5, 33.0, 35....</td>\n    </tr>\n    <tr>\n      <th>13</th>\n      <td>AMEX</td>\n      <td>270639</td>\n      <td>INTC</td>\n      <td>100</td>\n      <td>[20200911, 20200918, 20200925, 20201002, 20201...</td>\n      <td>[23.0, 25.0, 27.5, 28.0, 30.0, 32.5, 33.0, 35....</td>\n    </tr>\n    <tr>\n      <th>14</th>\n      <td>GEMINI</td>\n      <td>270639</td>\n      <td>INTC</td>\n      <td>100</td>\n      <td>[20200911, 20200918, 20200925, 20201002, 20201...</td>\n      <td>[23.0, 25.0, 27.5, 28.0, 30.0, 32.5, 33.0, 35....</td>\n    </tr>\n    <tr>\n      <th>15</th>\n      <td>BOX</td>\n      <td>270639</td>\n      <td>INTC</td>\n      <td>100</td>\n      <td>[20200911, 20200918, 20200925, 20201002, 20201...</td>\n      <td>[23.0, 25.0, 27.5, 28.0, 30.0, 32.5, 33.0, 35....</td>\n    </tr>\n    <tr>\n      <th>16</th>\n      <td>PSE</td>\n      <td>270639</td>\n      <td>INTC</td>\n      <td>100</td>\n      <td>[20200911, 20200918, 20200925, 20201002, 20201...</td>\n      <td>[23.0, 25.0, 27.5, 28.0, 30.0, 32.5, 33.0, 35....</td>\n    </tr>\n  </tbody>\n</table>\n</div>"
     },
     "metadata": {},
     "execution_count": 7
    }
   ],
   "source": [
    "chains = ib.reqSecDefOptParams(intc.symbol, '', intc.secType, intc.conId)\n",
    "\n",
    "util.df(chains)"
   ]
  },
  {
   "cell_type": "markdown",
   "metadata": {},
   "source": [
    "These are four option chains that differ in ``exchange`` and ``tradingClass``. The latter is 'SPX' for the monthly and  'SPXW' for the weekly options. Note that the weekly expiries are disjoint from the monthly ones, so when interested in the weekly options the monthly options can be added as well.\n",
    "\n",
    "In this case we're only interested in the montly options trading on SMART:"
   ]
  },
  {
   "cell_type": "code",
   "execution_count": 8,
   "metadata": {},
   "outputs": [
    {
     "output_type": "execute_result",
     "data": {
      "text/plain": "OptionChain(exchange='SMART', underlyingConId='270639', tradingClass='INTC', multiplier='100', expirations=['20200911', '20200918', '20200925', '20201002', '20201009', '20201016', '20201023', '20201030', '20201120', '20201218', '20210115', '20210219', '20210319', '20210416', '20210618', '20220121'], strikes=[23.0, 25.0, 27.5, 28.0, 30.0, 32.5, 33.0, 35.0, 37.5, 38.0, 39.0, 40.0, 41.0, 41.5, 42.0, 42.5, 43.0, 43.5, 44.0, 44.5, 45.0, 45.5, 46.0, 46.5, 47.0, 47.5, 48.0, 48.5, 49.0, 49.5, 50.0, 50.5, 51.0, 51.5, 52.0, 52.5, 53.0, 53.5, 54.0, 54.5, 55.0, 55.5, 56.0, 56.5, 57.0, 57.5, 58.0, 58.5, 59.0, 59.5, 60.0, 61.0, 62.0, 62.5, 63.0, 64.0, 65.0, 67.5, 70.0, 72.5, 75.0, 77.5, 80.0, 85.0, 90.0, 95.0, 100.0])"
     },
     "metadata": {},
     "execution_count": 8
    }
   ],
   "source": [
    "chain = next(c for c in chains if  c.exchange == 'SMART')\n",
    "chain"
   ]
  },
  {
   "cell_type": "code",
   "execution_count": 32,
   "metadata": {},
   "outputs": [
    {
     "output_type": "execute_result",
     "data": {
      "text/plain": "[23.0,\n 25.0,\n 27.5,\n 28.0,\n 30.0,\n 32.5,\n 33.0,\n 35.0,\n 37.5,\n 38.0,\n 39.0,\n 40.0,\n 41.0,\n 41.5,\n 42.0,\n 42.5,\n 43.0,\n 43.5,\n 44.0,\n 44.5,\n 45.0,\n 45.5,\n 46.0,\n 46.5,\n 47.0,\n 47.5,\n 48.0,\n 48.5,\n 49.0,\n 49.5,\n 50.0,\n 50.5,\n 51.0,\n 51.5,\n 52.0,\n 52.5,\n 53.0,\n 53.5,\n 54.0,\n 54.5,\n 55.0,\n 55.5,\n 56.0,\n 56.5,\n 57.0,\n 57.5,\n 58.0,\n 58.5,\n 59.0,\n 59.5,\n 60.0,\n 61.0,\n 62.0,\n 62.5,\n 63.0,\n 64.0,\n 65.0,\n 67.5,\n 70.0,\n 72.5,\n 75.0,\n 77.5,\n 80.0,\n 85.0,\n 90.0,\n 95.0,\n 100.0]"
     },
     "metadata": {},
     "execution_count": 32
    }
   ],
   "source": [
    "chain.strikes"
   ]
  },
  {
   "cell_type": "markdown",
   "metadata": {},
   "source": [
    "What we have here is the full matrix of expirations x strikes. From this we can build all the option contracts that meet our conditions:"
   ]
  },
  {
   "cell_type": "code",
   "execution_count": 46,
   "metadata": {},
   "outputs": [
    {
     "output_type": "execute_result",
     "data": {
      "text/plain": "18"
     },
     "metadata": {},
     "execution_count": 46
    }
   ],
   "source": [
    "strikes = [strike for strike in chain.strikes\n",
    "        if intcValue - 1.5 < strike < intcValue + 1.5]\n",
    "expirations = sorted(exp for exp in chain.expirations)[:3]\n",
    "#rights = ['P', 'C']\n",
    "rights = ['P']\n",
    "\n",
    "contracts = [Option('INTC', expiration, strike, right, 'SMART', tradingClass='INTC')\n",
    "        for right in rights\n",
    "        for expiration in expirations\n",
    "        for strike in strikes]\n",
    "\n",
    "contracts = ib.qualifyContracts(*contracts)\n",
    "len(contracts)"
   ]
  },
  {
   "cell_type": "code",
   "execution_count": 39,
   "metadata": {},
   "outputs": [
    {
     "output_type": "execute_result",
     "data": {
      "text/plain": "[48.0, 48.5, 49.0, 49.5, 50.0, 50.5]"
     },
     "metadata": {},
     "execution_count": 39
    }
   ],
   "source": [
    "strikes = [strike for strike in chain.strikes\n",
    "        if intcValue - 1.5 < strike < intcValue + 1.5]\n",
    "strikes\n"
   ]
  },
  {
   "cell_type": "markdown",
   "metadata": {},
   "source": [
    "Now to get the market data for all options in one go:"
   ]
  },
  {
   "cell_type": "code",
   "execution_count": 47,
   "metadata": {},
   "outputs": [
    {
     "output_type": "execute_result",
     "data": {
      "text/plain": "Ticker(contract=Option(conId=437258106, symbol='INTC', lastTradeDateOrContractMonth='20200911', strike=48.0, right='P', multiplier='100', exchange='SMART', currency='USD', localSymbol='INTC  200911P00048000', tradingClass='INTC'), time=datetime.datetime(2020, 9, 10, 8, 31, 25, 481142, tzinfo=datetime.timezone.utc), bid=-1.0, bidSize=0, ask=-1.0, askSize=0, close=0.08, bidGreeks=OptionComputation(impliedVol=None, delta=None, optPrice=None, pvDividend=0.0, gamma=None, vega=None, theta=None, undPrice=49.41999816894531), askGreeks=OptionComputation(impliedVol=None, delta=None, optPrice=None, pvDividend=0.0, gamma=None, vega=None, theta=None, undPrice=49.41999816894531), lastGreeks=OptionComputation(impliedVol=None, delta=None, optPrice=None, pvDividend=0.0, gamma=None, vega=None, theta=None, undPrice=49.41999816894531), modelGreeks=OptionComputation(impliedVol=0.35879614859202597, delta=-0.09864962435456381, optPrice=0.05333963493983114, pvDividend=0.0, gamma=0.15421188676731404, vega=0.005311501648670655, theta=-0.05333963493983114, undPrice=49.41999816894531))"
     },
     "metadata": {},
     "execution_count": 47
    }
   ],
   "source": [
    "tickers = ib.reqTickers(*contracts)\n",
    "\n",
    "tickers[0]"
   ]
  },
  {
   "cell_type": "code",
   "execution_count": 48,
   "metadata": {},
   "outputs": [
    {
     "output_type": "execute_result",
     "data": {
      "text/plain": "[Ticker(contract=Option(conId=437258106, symbol='INTC', lastTradeDateOrContractMonth='20200911', strike=48.0, right='P', multiplier='100', exchange='SMART', currency='USD', localSymbol='INTC  200911P00048000', tradingClass='INTC'), time=datetime.datetime(2020, 9, 10, 8, 31, 25, 481142, tzinfo=datetime.timezone.utc), bid=-1.0, bidSize=0, ask=-1.0, askSize=0, close=0.08, bidGreeks=OptionComputation(impliedVol=None, delta=None, optPrice=None, pvDividend=0.0, gamma=None, vega=None, theta=None, undPrice=49.41999816894531), askGreeks=OptionComputation(impliedVol=None, delta=None, optPrice=None, pvDividend=0.0, gamma=None, vega=None, theta=None, undPrice=49.41999816894531), lastGreeks=OptionComputation(impliedVol=None, delta=None, optPrice=None, pvDividend=0.0, gamma=None, vega=None, theta=None, undPrice=49.41999816894531), modelGreeks=OptionComputation(impliedVol=0.35879614859202597, delta=-0.09864962435456381, optPrice=0.05333963493983114, pvDividend=0.0, gamma=0.15421188676731404, vega=0.005311501648670655, theta=-0.05333963493983114, undPrice=49.41999816894531)),\n Ticker(contract=Option(conId=437258094, symbol='INTC', lastTradeDateOrContractMonth='20200911', strike=48.5, right='P', multiplier='100', exchange='SMART', currency='USD', localSymbol='INTC  200911P00048500', tradingClass='INTC'), time=datetime.datetime(2020, 9, 10, 8, 31, 25, 481666, tzinfo=datetime.timezone.utc), bid=-1.0, bidSize=0, ask=-1.0, askSize=0, close=0.13, bidGreeks=OptionComputation(impliedVol=None, delta=None, optPrice=None, pvDividend=0.0, gamma=None, vega=None, theta=None, undPrice=49.41999816894531), askGreeks=OptionComputation(impliedVol=None, delta=None, optPrice=None, pvDividend=0.0, gamma=None, vega=None, theta=None, undPrice=49.41999816894531), lastGreeks=OptionComputation(impliedVol=None, delta=None, optPrice=None, pvDividend=0.0, gamma=None, vega=None, theta=None, undPrice=49.41999816894531), modelGreeks=OptionComputation(impliedVol=0.3344155869949864, delta=-0.1857580584963921, optPrice=0.10841535246919534, pvDividend=0.0, gamma=0.2549383802848462, vega=0.008305880575103453, theta=-0.09535824300577907, undPrice=49.41999816894531)),\n Ticker(contract=Option(conId=437258132, symbol='INTC', lastTradeDateOrContractMonth='20200911', strike=49.0, right='P', multiplier='100', exchange='SMART', currency='USD', localSymbol='INTC  200911P00049000', tradingClass='INTC'), time=datetime.datetime(2020, 9, 10, 8, 31, 25, 481666, tzinfo=datetime.timezone.utc), bid=-1.0, bidSize=0, ask=-1.0, askSize=0, close=0.24, bidGreeks=OptionComputation(impliedVol=None, delta=None, optPrice=None, pvDividend=0.0, gamma=None, vega=None, theta=None, undPrice=49.41999816894531), askGreeks=OptionComputation(impliedVol=None, delta=None, optPrice=None, pvDividend=0.0, gamma=None, vega=None, theta=None, undPrice=49.41999816894531), lastGreeks=OptionComputation(impliedVol=None, delta=None, optPrice=None, pvDividend=0.0, gamma=None, vega=None, theta=None, undPrice=49.41999816894531), modelGreeks=OptionComputation(impliedVol=0.31789464833830183, delta=-0.3324886251445946, optPrice=0.22170184578585697, pvDividend=0.0, gamma=0.3652732160421152, vega=0.01105281269516345, theta=-0.12344760726862893, undPrice=49.41999816894531)),\n Ticker(contract=Option(conId=437258117, symbol='INTC', lastTradeDateOrContractMonth='20200911', strike=49.5, right='P', multiplier='100', exchange='SMART', currency='USD', localSymbol='INTC  200911P00049500', tradingClass='INTC'), time=datetime.datetime(2020, 9, 10, 8, 31, 25, 482099, tzinfo=datetime.timezone.utc), bid=-1.0, bidSize=0, ask=-1.0, askSize=0, close=0.44, bidGreeks=OptionComputation(impliedVol=None, delta=None, optPrice=None, pvDividend=0.0, gamma=None, vega=None, theta=None, undPrice=49.41999816894531), askGreeks=OptionComputation(impliedVol=None, delta=None, optPrice=None, pvDividend=0.0, gamma=None, vega=None, theta=None, undPrice=49.41999816894531), lastGreeks=OptionComputation(impliedVol=None, delta=None, optPrice=None, pvDividend=0.0, gamma=None, vega=None, theta=None, undPrice=49.41999816894531), modelGreeks=OptionComputation(impliedVol=0.307913894096456, delta=-0.5288563319460907, optPrice=0.42881313538003185, pvDividend=0.0, gamma=0.41192084021085834, vega=0.01252738122980751, theta=-0.13057998725378359, undPrice=49.41999816894531)),\n Ticker(contract=Option(conId=437258166, symbol='INTC', lastTradeDateOrContractMonth='20200911', strike=50.0, right='P', multiplier='100', exchange='SMART', currency='USD', localSymbol='INTC  200911P00050000', tradingClass='INTC'), time=datetime.datetime(2020, 9, 10, 8, 31, 25, 482099, tzinfo=datetime.timezone.utc), bid=-1.0, bidSize=0, ask=-1.0, askSize=0, close=0.71, bidGreeks=OptionComputation(impliedVol=None, delta=None, optPrice=None, pvDividend=0.0, gamma=None, vega=None, theta=None, undPrice=49.41999816894531), askGreeks=OptionComputation(impliedVol=None, delta=None, optPrice=None, pvDividend=0.0, gamma=None, vega=None, theta=None, undPrice=49.41999816894531), lastGreeks=OptionComputation(impliedVol=None, delta=None, optPrice=None, pvDividend=0.0, gamma=None, vega=None, theta=None, undPrice=49.41999816894531), modelGreeks=OptionComputation(impliedVol=0.31054736009824985, delta=-0.7198483528228293, optPrice=0.7476061208052132, pvDividend=0.0, gamma=0.3468867813600506, vega=0.011166920134136449, theta=-0.11181012559008906, undPrice=49.41999816894531)),\n Ticker(contract=Option(conId=437258151, symbol='INTC', lastTradeDateOrContractMonth='20200911', strike=50.5, right='P', multiplier='100', exchange='SMART', currency='USD', localSymbol='INTC  200911P00050500', tradingClass='INTC'), time=datetime.datetime(2020, 9, 10, 8, 31, 25, 482099, tzinfo=datetime.timezone.utc), bid=-1.0, bidSize=0, ask=-1.0, askSize=0, close=1.06, bidGreeks=OptionComputation(impliedVol=None, delta=None, optPrice=None, pvDividend=0.0, gamma=None, vega=None, theta=None, undPrice=49.41999816894531), askGreeks=OptionComputation(impliedVol=None, delta=None, optPrice=None, pvDividend=0.0, gamma=None, vega=None, theta=None, undPrice=49.41999816894531), lastGreeks=OptionComputation(impliedVol=None, delta=None, optPrice=None, pvDividend=0.0, gamma=None, vega=None, theta=None, undPrice=49.41999816894531), modelGreeks=OptionComputation(impliedVol=0.30819414505100506, delta=-0.8626542230371393, optPrice=1.1471220657553083, pvDividend=0.0, gamma=0.2270107945281659, vega=0.006936923734756517, theta=-0.06712023470062078, undPrice=49.41999816894531)),\n Ticker(contract=Option(conId=441665906, symbol='INTC', lastTradeDateOrContractMonth='20200918', strike=48.0, right='P', multiplier='100', exchange='SMART', currency='USD', localSymbol='INTC  200918P00048000', tradingClass='INTC'), time=datetime.datetime(2020, 9, 10, 8, 31, 25, 482099, tzinfo=datetime.timezone.utc), bid=-1.0, bidSize=0, ask=-1.0, askSize=0, close=0.39, bidGreeks=OptionComputation(impliedVol=None, delta=None, optPrice=None, pvDividend=0.0, gamma=None, vega=None, theta=None, undPrice=49.41999816894531), askGreeks=OptionComputation(impliedVol=None, delta=None, optPrice=None, pvDividend=0.0, gamma=None, vega=None, theta=None, undPrice=49.41999816894531), lastGreeks=OptionComputation(impliedVol=None, delta=None, optPrice=None, pvDividend=0.0, gamma=None, vega=None, theta=None, undPrice=49.41999816894531), modelGreeks=OptionComputation(impliedVol=0.3312403359921161, delta=-0.2726967192023781, optPrice=0.4291159874372338, pvDividend=0.0, gamma=0.13387602302236873, vega=0.026181935356898, theta=-0.049100910286138735, undPrice=49.41999816894531)),\n Ticker(contract=Option(conId=441665897, symbol='INTC', lastTradeDateOrContractMonth='20200918', strike=48.5, right='P', multiplier='100', exchange='SMART', currency='USD', localSymbol='INTC  200918P00048500', tradingClass='INTC'), time=datetime.datetime(2020, 9, 10, 8, 31, 25, 482714, tzinfo=datetime.timezone.utc), bid=-1.0, bidSize=0, ask=-1.0, askSize=0, close=0.52, bidGreeks=OptionComputation(impliedVol=None, delta=None, optPrice=None, pvDividend=0.0, gamma=None, vega=None, theta=None, undPrice=49.41999816894531), askGreeks=OptionComputation(impliedVol=None, delta=None, optPrice=None, pvDividend=0.0, gamma=None, vega=None, theta=None, undPrice=49.41999816894531), lastGreeks=OptionComputation(impliedVol=None, delta=None, optPrice=None, pvDividend=0.0, gamma=None, vega=None, theta=None, undPrice=49.41999816894531), modelGreeks=OptionComputation(impliedVol=0.32386599250587167, delta=-0.3420446043501834, optPrice=0.5718521915310995, pvDividend=0.0, gamma=0.15140162806683152, vega=0.02851428387600463, theta=-0.05307598808640846, undPrice=49.41999816894531)),\n Ticker(contract=Option(conId=441665912, symbol='INTC', lastTradeDateOrContractMonth='20200918', strike=49.0, right='P', multiplier='100', exchange='SMART', currency='USD', localSymbol='INTC  200918P00049000', tradingClass='INTC'), time=datetime.datetime(2020, 9, 10, 8, 31, 25, 482714, tzinfo=datetime.timezone.utc), bid=-1.0, bidSize=0, ask=-1.0, askSize=0, close=0.71, bidGreeks=OptionComputation(impliedVol=None, delta=None, optPrice=None, pvDividend=0.0, gamma=None, vega=None, theta=None, undPrice=49.41999816894531), askGreeks=OptionComputation(impliedVol=None, delta=None, optPrice=None, pvDividend=0.0, gamma=None, vega=None, theta=None, undPrice=49.41999816894531), lastGreeks=OptionComputation(impliedVol=None, delta=None, optPrice=None, pvDividend=0.0, gamma=None, vega=None, theta=None, undPrice=49.41999816894531), modelGreeks=OptionComputation(impliedVol=0.318267951598608, delta=-0.4202930006716133, optPrice=0.7560097014095961, pvDividend=0.0, gamma=0.16397104085493083, vega=0.029834168291793084, theta=-0.05550207606159573, undPrice=49.41999816894531)),\n Ticker(contract=Option(conId=441665911, symbol='INTC', lastTradeDateOrContractMonth='20200918', strike=49.5, right='P', multiplier='100', exchange='SMART', currency='USD', localSymbol='INTC  200918P00049500', tradingClass='INTC'), time=datetime.datetime(2020, 9, 10, 8, 31, 25, 482714, tzinfo=datetime.timezone.utc), bid=-1.0, bidSize=0, ask=-1.0, askSize=0, close=0.91, bidGreeks=OptionComputation(impliedVol=None, delta=None, optPrice=None, pvDividend=0.0, gamma=None, vega=None, theta=None, undPrice=49.41999816894531), askGreeks=OptionComputation(impliedVol=None, delta=None, optPrice=None, pvDividend=0.0, gamma=None, vega=None, theta=None, undPrice=49.41999816894531), lastGreeks=OptionComputation(impliedVol=None, delta=None, optPrice=None, pvDividend=0.0, gamma=None, vega=None, theta=None, undPrice=49.41999816894531), modelGreeks=OptionComputation(impliedVol=0.31281195812599866, delta=-0.5038027155931922, optPrice=0.9808456620505003, pvDividend=0.0, gamma=0.17012769968816843, vega=0.02998958119485018, theta=-0.055614949348092226, undPrice=49.41999816894531)),\n Ticker(contract=Option(conId=356872398, symbol='INTC', lastTradeDateOrContractMonth='20200918', strike=50.0, right='P', multiplier='100', exchange='SMART', currency='USD', localSymbol='INTC  200918P00050000', tradingClass='INTC'), time=datetime.datetime(2020, 9, 10, 8, 31, 25, 482714, tzinfo=datetime.timezone.utc), bid=-1.0, bidSize=0, ask=-1.0, askSize=0, close=1.17, bidGreeks=OptionComputation(impliedVol=None, delta=None, optPrice=None, pvDividend=0.0, gamma=None, vega=None, theta=None, undPrice=49.41999816894531), askGreeks=OptionComputation(impliedVol=None, delta=None, optPrice=None, pvDividend=0.0, gamma=None, vega=None, theta=None, undPrice=49.41999816894531), lastGreeks=OptionComputation(impliedVol=None, delta=None, optPrice=None, pvDividend=0.0, gamma=None, vega=None, theta=None, undPrice=49.41999816894531), modelGreeks=OptionComputation(impliedVol=0.30560970374668345, delta=-0.589678847224867, optPrice=1.242791303902076, pvDividend=0.0, gamma=0.16956856526132244, vega=0.028962346730035726, theta=-0.05289072602416816, undPrice=49.41999816894531)),\n Ticker(contract=Option(conId=441665917, symbol='INTC', lastTradeDateOrContractMonth='20200918', strike=50.5, right='P', multiplier='100', exchange='SMART', currency='USD', localSymbol='INTC  200918P00050500', tradingClass='INTC'), time=datetime.datetime(2020, 9, 10, 8, 31, 25, 482714, tzinfo=datetime.timezone.utc), bid=-1.0, bidSize=0, ask=-1.0, askSize=0, close=1.49, bidGreeks=OptionComputation(impliedVol=None, delta=None, optPrice=None, pvDividend=0.0, gamma=None, vega=None, theta=None, undPrice=49.41999816894531), askGreeks=OptionComputation(impliedVol=None, delta=None, optPrice=None, pvDividend=0.0, gamma=None, vega=None, theta=None, undPrice=49.41999816894531), lastGreeks=OptionComputation(impliedVol=None, delta=None, optPrice=None, pvDividend=0.0, gamma=None, vega=None, theta=None, undPrice=49.41999816894531), modelGreeks=OptionComputation(impliedVol=0.3062213297220841, delta=-0.6697881712240674, optPrice=1.5686597373058564, pvDividend=0.0, gamma=0.15756904172731256, vega=0.026870507798695265, theta=-0.04932484448177119, undPrice=49.41999816894531)),\n Ticker(contract=Option(conId=438474152, symbol='INTC', lastTradeDateOrContractMonth='20200925', strike=48.0, right='P', multiplier='100', exchange='SMART', currency='USD', localSymbol='INTC  200925P00048000', tradingClass='INTC'), time=datetime.datetime(2020, 9, 10, 8, 31, 15, 386654, tzinfo=datetime.timezone.utc), bid=-1.0, bidSize=0, ask=-1.0, askSize=0, close=0.64),\n Ticker(contract=Option(conId=438474139, symbol='INTC', lastTradeDateOrContractMonth='20200925', strike=48.5, right='P', multiplier='100', exchange='SMART', currency='USD', localSymbol='INTC  200925P00048500', tradingClass='INTC'), time=datetime.datetime(2020, 9, 10, 8, 31, 15, 386356, tzinfo=datetime.timezone.utc), bid=-1.0, bidSize=0, ask=-1.0, askSize=0, close=0.77),\n Ticker(contract=Option(conId=438474180, symbol='INTC', lastTradeDateOrContractMonth='20200925', strike=49.0, right='P', multiplier='100', exchange='SMART', currency='USD', localSymbol='INTC  200925P00049000', tradingClass='INTC'), time=datetime.datetime(2020, 9, 10, 8, 31, 15, 386502, tzinfo=datetime.timezone.utc), bid=-1.0, bidSize=0, ask=-1.0, askSize=0, close=0.96),\n Ticker(contract=Option(conId=438474166, symbol='INTC', lastTradeDateOrContractMonth='20200925', strike=49.5, right='P', multiplier='100', exchange='SMART', currency='USD', localSymbol='INTC  200925P00049500', tradingClass='INTC'), time=datetime.datetime(2020, 9, 10, 8, 31, 15, 386192, tzinfo=datetime.timezone.utc), bid=-1.0, bidSize=0, ask=-1.0, askSize=0, close=1.18),\n Ticker(contract=Option(conId=438474211, symbol='INTC', lastTradeDateOrContractMonth='20200925', strike=50.0, right='P', multiplier='100', exchange='SMART', currency='USD', localSymbol='INTC  200925P00050000', tradingClass='INTC'), time=datetime.datetime(2020, 9, 10, 8, 31, 15, 386356, tzinfo=datetime.timezone.utc), bid=-1.0, bidSize=0, ask=-1.0, askSize=0, close=1.46),\n Ticker(contract=Option(conId=438474197, symbol='INTC', lastTradeDateOrContractMonth='20200925', strike=50.5, right='P', multiplier='100', exchange='SMART', currency='USD', localSymbol='INTC  200925P00050500', tradingClass='INTC'), time=datetime.datetime(2020, 9, 10, 8, 31, 15, 386502, tzinfo=datetime.timezone.utc), bid=-1.0, bidSize=0, ask=-1.0, askSize=0, close=1.75)]"
     },
     "metadata": {},
     "execution_count": 48
    }
   ],
   "source": [
    "tickers"
   ]
  },
  {
   "cell_type": "markdown",
   "metadata": {},
   "source": [
    "The option greeks are available from the ``modelGreeks`` attribute, and if there is a bid, ask resp. last price available also from ``bidGreeks``, ``askGreeks`` and ``lastGreeks``. For streaming ticks the greek values will be kept up to date to the current market situation."
   ]
  },
  {
   "cell_type": "code",
   "execution_count": 11,
   "metadata": {},
   "outputs": [],
   "source": [
    "ib.disconnect()"
   ]
  }
 ],
 "metadata": {
  "kernelspec": {
   "display_name": "Python 3",
   "language": "python",
   "name": "python3"
  },
  "language_info": {
   "codemirror_mode": {
    "name": "ipython",
    "version": 3
   },
   "file_extension": ".py",
   "mimetype": "text/x-python",
   "name": "python",
   "nbconvert_exporter": "python",
   "pygments_lexer": "ipython3",
   "version": "3.6.10-final"
  }
 },
 "nbformat": 4,
 "nbformat_minor": 4
}